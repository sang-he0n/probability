{
 "cells": [
  {
   "attachments": {},
   "cell_type": "markdown",
   "metadata": {},
   "source": [
    "# 03.4. **Continuous Random Variables**"
   ]
  },
  {
   "cell_type": "markdown",
   "metadata": {},
   "source": [
    "> ## **연속 확률 변수(Continuous Random Variable)**"
   ]
  },
  {
   "cell_type": "markdown",
   "metadata": {},
   "source": [
    "#### **(1) 정의** : 치역(range)이 불가산 집합인 확률 변수\n",
    "#### $ \\Rightarrow{} X : \\Omega{} \\rightarrow{} \\mathbb{R} \\;\\; \\text{ where } \\; R_{X} \\, \\text{ is uncountable set}. $\n",
    "<img src=\"../../img/03.4. Continuous Random Variables (1).png\" width=\"40%\" height=\"40%\"></img>"
   ]
  },
  {
   "cell_type": "markdown",
   "metadata": {},
   "source": [
    "##### **(⚠️)** 엄밀한 정의는 확률 밀도 함수(PDF)의 존재 여부에 따라 정의되며, 이는 곧 르베그 절대연속성을 만족함을 의미함"
   ]
  },
  {
   "cell_type": "markdown",
   "metadata": {},
   "source": [
    "<b></b>"
   ]
  },
  {
   "cell_type": "markdown",
   "metadata": {},
   "source": [
    "> ## **확률 밀도 함수(Probability Density Function;PDF)**"
   ]
  },
  {
   "cell_type": "markdown",
   "metadata": {},
   "source": [
    "#### **(1) 정의** : 연속 확률 변수를 특정 구간의 확률(확률 밀도)과 대응시킨 함수 \n",
    "#### $ \\Rightarrow{} f_{X}(x) = \\displaystyle{} \\lim_{h\\rightarrow{}0}\\frac{P(x \\leq{} X \\leq{} x+\\Delta{})}{\\Delta{}} = \\lim_{h\\rightarrow{}0}\\frac{F_{X}(x+\\Delta{})-f_{X}(x)}{\\Delta{}} $\n",
    "#### $ \\hspace{1.45cm} = \\frac{\\text{d}}{\\text{d}x} F_{X}(x) = F^{'}_{X}(x) \\;\\; \\text{ s.t. } \\; F_{X}(x) \\, \\text{ is differentiable at } \\, x. $\n",
    "<img src=\"../../img/03.4. Continuous Random Variables (2).png\" width=\"50%\" height=\"50%\"></img>"
   ]
  },
  {
   "cell_type": "markdown",
   "metadata": {},
   "source": [
    "#### **(`PLUS`) 확률 밀도 함수가 구간의 확률로 정의되는 이유** : \n",
    "#### $ \\hspace{0.15cm} $ 확률 밀도 함수의 정의역이 불가산 집합이기 때문에 특정 값의 확률(점 확률)은 $ 0 $이 됨\n",
    "#### $ \\hspace{0.15cm} \\Rightarrow{} P_{X}(x)=0 \\;\\; \\text{ where } \\; R_{X} \\, \\text{ is uncountable set}. $"
   ]
  },
  {
   "cell_type": "markdown",
   "metadata": {},
   "source": [
    "##### **(`PLUS`) 구간 확률의 기하학적 이해** : 넓이(area)\n",
    "##### $ \\hspace{0.15cm} $ <img src=\"../../img/03.4. Continuous Random Variables (3).png\" width=\"40%\" height=\"40%\"></img>"
   ]
  },
  {
   "cell_type": "markdown",
   "metadata": {},
   "source": [
    "#### **(3) 성질** :\n",
    "##### $ \\hspace{0.15cm} $ ① $ 0 \\leq{} f_{X}(x) $\n",
    "##### $ \\hspace{0.15cm} $ ② $ P(X\\in{}A) = \\int_{x\\in{}A}f_{X}(x)\\text{d}x \\;\\; \\text{ where } \\; A \\, \\text{ is set}. $\n",
    "##### $ \\hspace{0.15cm} $ ③ $ P(a \\leq{} X \\leq{} b) = P(a < X < b) = F(X=b) - F(X=a) = \\int^{b}_{a}f_{X}(x)\\text{d}x $\n",
    "##### $ \\hspace{0.15cm} $ ④ $ \\int^{\\infty{}}_{-\\infty{}} f_{X}(x) \\text{d}x = \\int_{R_{X}} f_{X}(x) \\text{d}x = 1 $"
   ]
  },
  {
   "cell_type": "markdown",
   "metadata": {},
   "source": [
    "#### **(3) 예시** : \n",
    "##### $ \\hspace{0.15cm} $ ① 아래와 같이 확률 밀도 함수가 정의될 때 이를 시각화하면\n",
    "##### $ \\hspace{0.45cm} f_{X}(x) = \\begin{cases} \\frac{3}{14}(x^{2}-x) & \\text{if } \\; 1 < x < 3 \\\\ 0 & \\text{otherwise} \\end{cases} $\n",
    "##### $ \\hspace{0.45cm} $ <img src=\"../../img/03.4. Continuous Random Variables (4).png\" width=\"40%\" height=\"40%\"></img>\n",
    "##### $ \\hspace{0.15cm} $ ② **[CONTENTS]**"
   ]
  },
  {
   "cell_type": "markdown",
   "metadata": {},
   "source": [
    "<b></b>"
   ]
  },
  {
   "cell_type": "markdown",
   "metadata": {},
   "source": [
    "> ## **기댓값(Expected Value)**"
   ]
  },
  {
   "cell_type": "markdown",
   "metadata": {},
   "source": [
    "#### **(1) 정의** : 실험이나 과정이 무한히 반복할 때 확률 변수의 **예상되는 값**\n",
    "#### $ = $ 확률을 가중치로한 확률 변수의 가중 평균\n",
    "#### $ \\Rightarrow{} \\text{E}[X] = \\displaystyle{} \\int^{\\infty{}}_{-\\infty{}} \\big({} x \\times{} f_{X}(x) \\big){} \\text{d}x $"
   ]
  },
  {
   "cell_type": "markdown",
   "metadata": {},
   "source": [
    "#### **(2) 성질** (Theorem 3-1) : 확률 변수 $ X, X_{1}, \\cdots{} ,X_{n} $와 상수 $ a, b $가 존재할 때 아래가 성립함\n",
    "##### $ \\hspace{0.15cm} $ ① $ \\text{E}[aX+b] = a\\text{E}[X] + b $\n",
    "##### $ \\hspace{0.15cm} $ ② $ \\text{E}[X_{1}+X_{2}+\\cdots{}+X_{n}] = \\text{E}[X_{1}] + \\text{E}[X_{2}] + \\cdots{} + \\text{E}[X_{n}] \\;\\; $ ($ \\because{} $ Theorem 4-3)"
   ]
  },
  {
   "cell_type": "markdown",
   "metadata": {},
   "source": [
    "<b></b>"
   ]
  },
  {
   "cell_type": "markdown",
   "metadata": {},
   "source": [
    "> ## **분산(Variance)**"
   ]
  },
  {
   "cell_type": "markdown",
   "metadata": {},
   "source": [
    "#### **(1) 정의** : 기댓값으로 부터 벗어난 정도(오차)를 제곱한 값\n",
    "#### $ \\Rightarrow{} \\text{var}[X] = \\text{E}[(X-E[X])^{2}] = \\text{E}[X^{2}] - (E[X])^{2} $"
   ]
  },
  {
   "cell_type": "markdown",
   "metadata": {},
   "source": [
    "##### **(`PLUS`) 표준편차** : 분산에서 제곱 연산에 따른 단위 왜곡이 일어나는 오류를 보정한 값\n",
    "##### $ \\hspace{0.15cm} \\Rightarrow{} \\text{std}(X) = \\sqrt{\\text{var}[X]} $"
   ]
  },
  {
   "cell_type": "markdown",
   "metadata": {},
   "source": [
    "#### **(2) 성질** : 확률 변수 $ X $와 상수 $ a,  b $가 존재할 때 아래가 성립함\n",
    "##### $ \\hspace{0.15cm} $ ① $ \\text{var}[aX+b] = a^{2} \\text{var}[X] $\n",
    "##### $ \\hspace{0.15cm} $ ② $ \\text{var}[X_{1}+X_{2}+\\cdots{}+X_{n}] = \\text{var}[X_{1}] + \\text{var}[X_{2}] + \\cdots{} + \\text{var}[X_{n}] \\;\\; \\text{ if } \\; X_{i} \\, \\text{ is independent}. $ "
   ]
  },
  {
   "cell_type": "markdown",
   "metadata": {},
   "source": [
    "<b></b>"
   ]
  },
  {
   "cell_type": "markdown",
   "metadata": {},
   "source": [
    "> ## **확률 변수의 합성 함수(Composite Function of RV)**"
   ]
  },
  {
   "cell_type": "markdown",
   "metadata": {},
   "source": [
    "#### **(1) 정의** : 어떠한 이산 확률 변수를 다른 실수 공간으로 대응시킨 함수(확률 변수)\n",
    "#### $ \\Rightarrow{} Z = g \\circ{} X = g(X) : \\mathbb{R} \\rightarrow{} \\mathbb{R}^{n} $\n",
    "<img src=\"../../img/03.4. Continuous Random Variables (5).png\" width=\"50%\" height=\"50%\"></img>"
   ]
  },
  {
   "cell_type": "markdown",
   "metadata": {},
   "source": [
    "#### **(2) 기댓값** (Theorem 3-2) :\n",
    "#### $ \\Rightarrow{} \\text{E}[Y] = E[g(X)] = \\int^{\\infty{}}_{-\\infty{}} \\big({} g(x) \\times{} f_{X}(x) \\big){} \\text{d}x $"
   ]
  },
  {
   "cell_type": "markdown",
   "metadata": {},
   "source": [
    "#### **(3) 분산** (Theorem 3-2) :\n",
    "#### $ \\Rightarrow{} \\text{var}[Y] = E[(Y-E[Y])^{2}] = E[Y^{2}] - (E[Y])^{2}  $\n",
    "#### $ \\hspace{1.55cm} = E[(g(X))^{2}] - (E[g(X)])^{2} $"
   ]
  }
 ],
 "metadata": {
  "kernelspec": {
   "display_name": "Python 3",
   "language": "python",
   "name": "python3"
  },
  "language_info": {
   "codemirror_mode": {
    "name": "ipython",
    "version": 3
   },
   "file_extension": ".py",
   "mimetype": "text/x-python",
   "name": "python",
   "nbconvert_exporter": "python",
   "pygments_lexer": "ipython3",
   "version": "3.10.17"
  },
  "orig_nbformat": 4
 },
 "nbformat": 4,
 "nbformat_minor": 2
}
