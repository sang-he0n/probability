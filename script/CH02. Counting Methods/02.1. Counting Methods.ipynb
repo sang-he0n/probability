{
 "cells": [
  {
   "attachments": {},
   "cell_type": "markdown",
   "metadata": {},
   "source": [
    "# CH02.1. **Counting Methods**"
   ]
  },
  {
   "cell_type": "markdown",
   "metadata": {},
   "source": [
    "> ## **가산집합의 확률(Probability of Finite Set)**"
   ]
  },
  {
   "cell_type": "markdown",
   "metadata": {},
   "source": [
    "#### **(1) 동등발생확률일 때** : 표본공간 $ S $ 와 사건 $ A $ 가 존재하고, 개별 사건이 동등발생확률일 때\n",
    "#### $ \\Rightarrow{} P(A) = {{|A|}\\over{|S|}} $ "
   ]
  },
  {
   "cell_type": "markdown",
   "metadata": {},
   "source": [
    "#### **(2) 동등발생확률이 아닐 때** : 표본공간 $ S $ 와 사건 $ A $ 가 존재하고, $ \\, A $ 의 개별 사건 $ A_{i} $ 가 동등발생확률이 아닐 때\n",
    "#### $ \\Rightarrow{} P(A) = \\sum{}_{A_{i}\\in{}A} P(A_{i}) $"
   ]
  },
  {
   "cell_type": "markdown",
   "metadata": {},
   "source": [
    "<b></b>"
   ]
  },
  {
   "cell_type": "markdown",
   "metadata": {},
   "source": [
    "> ## (Theorem 2-1) **곱의 원리(Multiplication principle)**"
   ]
  },
  {
   "cell_type": "markdown",
   "metadata": {},
   "source": [
    "#### $ \\, k $ 개의 실험(시행)이 있을 때 $ \\; m $ 번 째 실험에서 $ \\, n_{m} $ 개의 가능한 결과가 있는 경우 가능한 전체 결과는 아래와 같다.\n",
    "#### $ \\Rightarrow{} |S| = n_{1} \\times{} n_{2} \\times{} \\cdots{} \\times{} n_{k} $\n",
    "<img src=\"../../img/02.1. Counting Methods (1).png\" width=\"50%\" height=\"50%\"></img>"
   ]
  },
  {
   "cell_type": "markdown",
   "metadata": {},
   "source": [
    "<b></b>"
   ]
  },
  {
   "cell_type": "markdown",
   "metadata": {},
   "source": [
    "> ## **표본 추출(Sampling)**"
   ]
  },
  {
   "cell_type": "markdown",
   "metadata": {},
   "source": [
    "#### **(1) 정의** : 특정 집합에서 요소(원소)를 하나 혹은 그 이상 선택하는 행위"
   ]
  },
  {
   "cell_type": "markdown",
   "metadata": {},
   "source": [
    "#### **(2) 추출 방법에 따른 분류** :\n",
    "##### $ \\hspace{0.15cm} $ ① 복원 표본 추출(sampling with replacement) : 동일한 요소 **반복** 추출\n",
    "##### $ \\hspace{0.15cm} $ ② 비복원 표본 추출(sampling without replacement) : 동일한 요소 **비반복** 추출"
   ]
  },
  {
   "cell_type": "markdown",
   "metadata": {},
   "source": [
    "#### **(3) 순서에 따른 분류** : \n",
    "##### $ \\hspace{0.15cm} $ ① 순서 표본 추출(ordered sampling) : 추출 순서를 **고려한** 표본 추출\n",
    "##### $ \\hspace{0.15cm} $ ② 비순서 표본 추출(unordered sampling) : 추출 순서를 **무시한** 표본 추출"
   ]
  },
  {
   "cell_type": "markdown",
   "metadata": {},
   "source": [
    "<b></b>"
   ]
  },
  {
   "cell_type": "markdown",
   "metadata": {},
   "source": [
    "> ## **순열(Ordered sampling without replacement; Permutation)**"
   ]
  },
  {
   "cell_type": "markdown",
   "metadata": {},
   "source": [
    "#### **(1) 정의** : 집합의 요소 $ \\, n $ 개 중 $ \\, k $ 개를 **순서를 고려하며 중복을 허용하지 않고** 추출하는 방법\n",
    "#### $ \\Rightarrow{} P^{n}_{k} = P(n,\\, k) = P_{n, k} = _{n}P_{k} = {{n!}\\over{(n-k)!}} $ "
   ]
  },
  {
   "cell_type": "markdown",
   "metadata": {},
   "source": [
    "##### **(`WHY?`)** \n",
    "##### $ \\hspace{0.15cm} n $ 개의 집합 $ \\, A $ 에서 $ \\, k $ 개의 요소를 **순서를 고려하며 중복을 허용하지 않고** 추출하는 사건 $ \\, B $의 개수를 구하고자 할 경우\n",
    "##### $ \\hspace{0.15cm}A = \\{ a_{1},\\, a_{2},\\, \\cdots{},\\, a_{n} \\},\\, |A| = n $ \n",
    "##### $ \\hspace{0.15cm}B = \\{ (s_{1},\\, s_{2},\\, \\cdots{},\\, s_{k}) \\, | \\, \\, s_{n} \\, $ : $ \\, n $ 번째에서 선택한 요소 $ \\, \\} $\n",
    "##### $ \\hspace{0.15cm}s_{1} \\, $ : $ \\, n \\, \\text{ possible samples } $\n",
    "##### $ \\hspace{0.3cm} $ $ s_{1} \\in \\, \\{ a_{1},\\, a_{2},\\, \\cdots{},\\, a_{n} \\} $\n",
    "##### $ \\hspace{0.15cm}s_{2} \\, $ : $ \\, (n-1) \\, \\text{ possible samples } $\n",
    "##### $ \\hspace{0.3cm} \\text{ if } \\, s_{1} = a_{1}, \\;\\; s_{2} \\in{} \\{ a_{2},\\, a_{3},\\, \\cdots{},\\, a_{n} \\} $\n",
    "##### $ \\hspace{0.3cm} \\text{ if } \\, s_{1} = a_{2}, \\;\\; s_{2} \\in{} \\{ a_{1},\\, a_{3},\\, \\cdots{},\\, a_{n} \\} $\n",
    "##### $ \\hspace{0.3cm} \\cdots{} $\n",
    "##### $ \\hspace{0.15cm} s_{3} \\, $ : $ \\, (n-2) \\, \\text{ possible samples } $\n",
    "##### $ \\hspace{0.3cm} \\text{ if } \\, s_{1} = a_{1} \\, \\text{ and } \\, s_{2} = a_{2}, \\;\\; s_{3} \\in{} \\{ a_{3},\\, \\cdots{},\\, a_{n} \\} $\n",
    "##### $ \\hspace{0.3cm} \\text{ if } \\, s_{1} = a_{1} \\, \\text{ and } \\, s_{3} = a_{3}, \\;\\; s_{3} \\in{} \\{ a_{2},\\, \\cdots{},\\, a_{n} \\} $\n",
    "##### $ \\hspace{0.3cm} \\cdots{} $\n",
    "##### $ \\hspace{0.15cm} s_{k} \\, $ : $ \\, (n-k+1) \\, \\text{ possible samples } $\n",
    "##### $ \\hspace{0.3cm} \\text{ if } \\, s_{1} = a_{1} \\, \\text{ and } \\, \\cdots{} $\n",
    "##### $ \\hspace{0.3cm} \\cdots{} $\n",
    "##### $ \\hspace{0.15cm} \\therefore{} \\, |B| = P^{n}_{k} = n \\times{} (n-1) \\times{} \\cdots{} \\times{} (n-k+1) = {{n \\times{} (n-1) \\times{} \\cdots{} \\times{} (n-k+1) \\times{} (n-k) \\times{}(n-k-1) \\times{} \\cdots{} \\times{} 1}\\over{(n-k) \\times{} (n-k+1) \\times{} \\cdots{} \\times{} 1}} = {{n!}\\over{(n-k)!}}$"
   ]
  },
  {
   "cell_type": "markdown",
   "metadata": {},
   "source": [
    "#### **(2) 특징** :\n",
    "##### $ \\hspace{0.15cm} $ ① $ \\, P^{n}_{n} = n! $\n",
    "##### $ \\hspace{0.15cm} $ ② $ \\, P^{n}_{0} = 1 $ (아무 것도 안 뽑는 뽑는 경우)\n",
    "##### $ \\hspace{0.15cm} $ ③ $ \\, \\text{if } \\, k > n, \\;\\; P_{k}^{n} = 0 $"
   ]
  },
  {
   "cell_type": "markdown",
   "metadata": {},
   "source": [
    "#### **(3) 예시** :\n",
    "##### $ \\hspace{0.15cm} $ ① 어떠한 집단에 인원 $ \\; 10 $ 명 중 모두 생일이 다를 확률을 구하고자 할 때(윤달은 없다고 가정)\n",
    "##### $ \\hspace{0.45cm} S = \\{ (0101, 0101, \\cdots{} ,0101),\\; (0101, 0101, \\cdots{}, 0102)\\; \\cdots{},\\; (1231, 1231, \\cdots{}, 1231) \\}, \\;\\; |S| = 365^{10} $\n",
    "##### $ \\hspace{0.45cm} A = \\{ (a_{1},\\; a_{2},\\; \\cdots{},\\; a_{10}) \\; | \\; a_{n} \\; $ : $ \\; n $ 번째 인원의 생일 $ \\; \\} $ \n",
    "##### $ \\hspace{0.45cm} a_{1} \\; $ : $ \\; 365 \\text{ possible samples} $ \n",
    "##### $ \\hspace{0.45cm} a_{2} \\; $ : $ \\; (365-1) = 364 \\text{ possible samples} $ \n",
    "##### $ \\hspace{0.45cm} \\cdots{} $\n",
    "##### $ \\hspace{0.45cm} a_{10} \\; $ : $ \\; (365-9) = 356 \\text{ possible samples} $ \n",
    "##### $ \\hspace{0.45cm} |A| = P^{365}_{10} = {{365!}\\over{355!}} = 365\\times{}364\\times{}\\cdots{}\\times{}356 $\n",
    "##### $ \\hspace{0.45cm} P(A) = {{P^{365}_{10}}\\over{365^{10}}} \\doteqdot{} 88\\% $\n",
    "##### $ \\hspace{0.15cm} $ ② **[CONTENTS]**"
   ]
  },
  {
   "cell_type": "markdown",
   "metadata": {},
   "source": [
    "<b></b>"
   ]
  },
  {
   "cell_type": "markdown",
   "metadata": {},
   "source": [
    "> ## **중복 순열(Ordered sampling with replacement; Permutation)**"
   ]
  },
  {
   "cell_type": "markdown",
   "metadata": {},
   "source": [
    "#### **(1) 정의** : 집합의 요소 $ \\, n $ 개 중 $ \\, k $ 개를 **순서를 고려하며, 중복을 허용하고** 추출하는 방법\n",
    "#### $ \\Rightarrow{} \\prod{}^{n}_{k} = \\prod{}(n,\\, k) = \\prod{}_{n, k} = _{n}\\prod{}_{k} = n^{k} $ "
   ]
  },
  {
   "cell_type": "markdown",
   "metadata": {},
   "source": [
    "#### **(2) 예시** :\n",
    "##### $ \\hspace{0.15cm} $ ① 집합 $ \\, S = \\{ 1,\\, 2,\\, 3,\\, 4,\\, 5 \\} $ 에서 $ \\, 3 $ 개의 요소를 **순서를 고려하며 중복을 허용하여** 짝수를 뽑을 확률 ?\n",
    "##### $ \\hspace{0.45cm} A = \\{ (a_{1},\\, a_{2},\\, a_{3}) \\, | \\, a_{n} \\, $ : $ \\, n $ 번째 짝수 요소 $ \\, \\} $\n",
    "##### $ \\hspace{0.45cm} s_{1} \\, $ : $ \\, 2 \\, \\text{ possible samples}, \\;\\; s_{1} \\in{} \\{ 2, 4 \\} \\, \\rightarrow{} A_{1} \\, $ : $ \\, 1 $ 번째 요소가 짝수를 뽑을 사건\n",
    "##### $ \\hspace{0.45cm} s_{2} \\, $ : $ \\, 2 \\, \\text{ possible samples}, \\;\\; s_{2} \\in{} \\{ 2, 4 \\} \\,\\, \\rightarrow{} A_{2} $ : $ \\, 2 $ 번째 요소가 짝수를 뽑을 사건\n",
    "##### $ \\hspace{0.45cm} s_{3} \\, $ : $ \\, 2 \\, \\text{ possible samples}, \\;\\; s_{3} \\in{} \\{ 2, 4 \\} \\,\\, \\rightarrow{} A_{3} $ : $ \\, 3 $ 번째 요소가 짝수를 뽑을 사건\n",
    "##### $ \\hspace{0.45cm} |A| = |A_{1}| \\times{} |A_{2}| \\times{} |A_{3}| = 2 \\times{} 2 \\times{} 2 = 2^{3} = 8 $\n",
    "##### $ \\hspace{0.45cm} P(A) = {{2^{3}}\\over{5^{3}}} = {{8}\\over{125}} \\doteqdot{} 6.4\\% $\n",
    "##### $ \\hspace{0.15cm} $ ② **[CONTENTS]**"
   ]
  },
  {
   "cell_type": "markdown",
   "metadata": {},
   "source": [
    "<b></b>"
   ]
  },
  {
   "cell_type": "markdown",
   "metadata": {},
   "source": [
    "> ## **조합(unordered sampling without replacement; Combination)**"
   ]
  },
  {
   "cell_type": "markdown",
   "metadata": {},
   "source": [
    "#### **(1) 정의** : 집합의 요소 $ \\, n $ 개 중 $ \\, k $ 개를 **순서가 상관없고, 중복 없이** 추출하는 방법\n",
    "#### $ \\Rightarrow{} C^{n}_{k} = C(n,\\, k) = C_{n, k} = \\begin{pmatrix} n \\\\ k \\end{pmatrix} = {{P(n,\\, k)}\\over{P(k,\\, k)}} = {{n!}\\over{k!(n-k)!}} $ "
   ]
  },
  {
   "cell_type": "markdown",
   "metadata": {},
   "source": [
    "##### **(`WHY?`)** \n",
    "##### $ \\hspace{0.15cm} n $ 개의 집합 $ \\, A $ 에서 $ \\, k $ 개의 요소를 **순서에 상관없이 중복을 허용하지 않고** 추출하는 사건 $ \\, B $의 크기를 구하고자 할 경우\n",
    "##### $ \\hspace{0.15cm} A = \\{ a_{1},\\, a_{2},\\, \\cdots{},\\, a_{n} \\},\\, |A| = n $ \n",
    "##### $ \\hspace{0.15cm} B = \\{ (s_{1},\\, s_{2},\\, \\cdots{},\\, s_{k}) \\, | \\, \\, s_{n} \\, $ : $ \\, n $ 번째에서 선택한 요소 $ \\, \\} $\n",
    "##### $ \\hspace{0.15cm} P(n,\\, k) = {{n!}\\over{(n-k)!}} $\n",
    "##### $ \\hspace{0.15cm} $ 사건 $ \\, B $ 는 순서를 고려하지 않음, 즉 $ \\, (a_{1},\\, a_{2}, \\cdots{}) $ 이나 $ \\, (a_{2},\\, a_{1}, \\cdots{}) $ 은 동일하게 처리됨\n",
    "##### $ \\hspace{0.15cm} $ 선택한 $ \\, k $ 개 요소 중 순서를 고려하여 $ \\, k $ 개만큼 추출한 개수인 $ P(k,\\, k) = k! $ 만큼 **나누어 처리**함\n",
    "##### $ \\hspace{0.15cm} \\therefore{} \\, |B| = {{P^{n}_{k}}\\over{P^{k}_{k}}} = \\frac{n!}{(n-k)!}\\frac{1}{k!} = C(n,\\, k) $ "
   ]
  },
  {
   "cell_type": "markdown",
   "metadata": {},
   "source": [
    "##### **(`PLUS`)** $ \\, n $ 개 중 $ \\, k $ 개를 조합하나 $ \\, (n-k) $ 개를 조합하는 것이나 경우의 수는 동일함"
   ]
  },
  {
   "cell_type": "markdown",
   "metadata": {},
   "source": [
    "#### **(2) 특징** :\n",
    "##### $ \\hspace{0.15cm} $ ① $ \\, C_{n}^{n} = 1 $\n",
    "##### $ \\hspace{0.15cm} $ ② $ \\, C_{0}^{n} = 1 $\n",
    "##### $ \\hspace{0.15cm} $ ③ $ \\, \\text{if } \\, k > n, \\;\\; C_{k}^{n} = 0 $"
   ]
  },
  {
   "cell_type": "markdown",
   "metadata": {},
   "source": [
    "#### **(3) 조합의 다른 해석** :\n",
    "#### $ n $ 개의 집합에서 $ \\, k $ 개를 조합하는 것은 $ \\, k $ 개를 갖는 그룹과 $ \\, (n-k) $ 개를 갖는 그룹으로 분할하는 총 가지수와 동일함"
   ]
  },
  {
   "cell_type": "markdown",
   "metadata": {},
   "source": [
    "##### **(`PLUS`) $ \\, k $ 개의 부분그룹 별 조합** :\n",
    "##### $ \\hspace{0.15cm} n $ 개의 집합에서 $ \\, k $ 개의 부분집합을 구성하고, 개별 부분집합에는 $ \\, m_{k} $ 개의 요소를 갖는다고 할 때 \n",
    "##### $ \\hspace{0.15cm} \\Rightarrow{} C^{n}_{m_{1}}C^{n-m_{1}}_{m_{2}}C^{n-(m_{1}+m_{2})}_{m_{3}}\\cdots{}C^{n-(m_{1}+m_{2}+\\cdots{}+m_{k})}_{m_{k}} = C^{n}_{m_{1},\\, m_{2},\\, \\cdots{},\\, m_{k}} = \\frac{n!}{m_{1}!m_{2}!\\cdots{}!m_{k}!} $"
   ]
  },
  {
   "cell_type": "markdown",
   "metadata": {},
   "source": [
    "#### **(3) 특이한 연산** :\n",
    "##### $ \\hspace{0.15cm} $ ① 가산 집합 $ \\, A = \\{ a_{1},\\, a_{2},\\, \\cdots{},\\, a_{n} \\} $ 의 부분집합의 개수 : $ \\, 2^{n} $ "
   ]
  },
  {
   "cell_type": "markdown",
   "metadata": {},
   "source": [
    "##### **(`WHY?`)** $ \\, \\displaystyle\\sum^{n}_{i=1} C^{n}_{i} = C^{n}_{0} + C^{n}_{1} + \\cdots{} + C^{n}_{n} = 2^{n} $"
   ]
  },
  {
   "cell_type": "markdown",
   "metadata": {},
   "source": [
    "##### $ \\hspace{0.15cm} $ ② $ \\, n C^{n-1}_{k-1} = k C^{n}_{k} $ "
   ]
  },
  {
   "cell_type": "markdown",
   "metadata": {},
   "source": [
    "##### **(`WHY?`)**\n",
    "##### $ \\hspace{0.15cm} \\cdot{} \\, n C^{n-1}_{k-1} = P^{n}_{1} C^{n-1}_{k-1} = n \\times{} {{(n-1)!}\\over{(k-1)!(n-k)!}} = {{n!}\\over{(k-1)!(n-k)!}} \\;\\; \\cdots{} ㉠ $ \n",
    "##### $ \\hspace{0.15cm} \\cdot{} \\, k C^{n}_{k} = P^{k}_{1} C^{n}_{k} = k \\times{} {{n!}\\over{(k)!(n-k)!}} = {{n!}\\over{(k-1)!(n-k)!}} = n C^{n-1}_{k-1} \\;\\; \\cdots{} ㉡ $ \n",
    "##### $ \\hspace{0.15cm} \\therefore{} ㉠ = ㉡ $"
   ]
  },
  {
   "cell_type": "markdown",
   "metadata": {},
   "source": [
    "#### $ \\hspace{0.15cm} $ ③ $ \\, C^{n+1}_{k+1} = C^{n}_{k+1} + C^{n}_{k} \\;\\; $ ($ \\, 0 \\leq{} k \\leq{} n $ )"
   ]
  },
  {
   "cell_type": "markdown",
   "metadata": {},
   "source": [
    "##### **(`WHY?`)**\n",
    "##### $ \\hspace{0.15cm} \\cdot{} \\, C^{n+1}_{k+1} = {{(n+1)!}\\over{(k+1)!(n-k)!}} \\;\\; \\cdots{} ㉠ $\n",
    "##### $ \\hspace{0.15cm} \\cdot{} \\, C^{n}_{k+1} + C^{n}_{k} = {{n!}\\over{(k+1)!(n-k-1)!}} + {{n!}\\over{k!(n-k)!}} = {{n!}\\over{k!(n-k-1)!}} ({{1}\\over{k+1}} + {{1}\\over{n-k}}) $\n",
    "##### $ \\hspace{2cm} = {{n!}\\over{k!(n-k-1)!}} ({{(n-k)+(k+1)}\\over{(k+1)(n-k)}}) = {{n!}\\over{k!(n-k-1)!}} ({{n+1}\\over{(k+1)(n-k)}}) = {{(n+1)!}\\over{(k+1)!(n-k)!}} = C^{n+1}_{k+1} \\;\\; \\cdots{} ㉡ $\n",
    "##### $ \\hspace{0.15cm} \\therefore{} ㉠ = ㉡ $"
   ]
  },
  {
   "cell_type": "markdown",
   "metadata": {},
   "source": [
    "##### $ \\hspace{0.15cm} $ ④ $ (a+b)^{n} = \\displaystyle\\sum^{k}_{i=0}C^{n}_{k}a^{k}b^{n-k} \\,\\, $ (이항 정리;binomial theorem)"
   ]
  },
  {
   "cell_type": "markdown",
   "metadata": {},
   "source": [
    "##### **(`WHY?`)**\n",
    "##### $ \\hspace{0.15cm} $ **[LATEX]**"
   ]
  },
  {
   "cell_type": "markdown",
   "metadata": {},
   "source": [
    "##### $ \\hspace{0.15cm} $ ⑤ $ \\, C^{m+n}_{k} = \\displaystyle\\sum^{k}_{i=0} C^{m}_{i} C^{n}_{k-i} \\,\\, $ (방데르몽드 항등식;vandermonde's identity)"
   ]
  },
  {
   "cell_type": "markdown",
   "metadata": {},
   "source": [
    "##### **(`WHY?`)**\n",
    "##### $ \\hspace{0.15cm} \\cdot{} \\, C^{m+n}_{k} = {{(m+n)!}\\over{k!(m+n-k)!}} \\;\\; \\cdots{} ㉠ $\n",
    "##### $ \\hspace{0.15cm} \\cdot{} \\, \\displaystyle\\sum^{k}_{i=0} C^{m}_{i} C^{n}_{k-i} = \\displaystyle\\sum^{k}_{i=0} {{m!}\\over{i!(m-i)!}} {{n!}\\over{(k-i)!(n-k+i)!}} $ \n",
    "##### $ \\hspace{2.175cm} = m! n! \\displaystyle\\sum^{k}_{i=0} {{1}\\over{i!(m-i)!}} {{1}\\over{(k-i)!(n-k+i)!}} $\n",
    "##### $ \\hspace{2.175cm} = m! n! ({{1}\\over{m!}} {{1}\\over{k!(n-k)!}} + {{1}\\over{(m-1)!}} {{1}\\over{(k-1)!(n-k+1)!}} + \\cdots{} + {{1}\\over{(k-1)!(m-k+1)!}} {{1}\\over{(n-1)!}} + {{1}\\over{k!(m-k)!}} {{1}\\over{n!}}) $\n",
    "##### $ \\hspace{2.175cm} = m! n! ({{1}\\over{m!}} {{n\\cdot{}(n-1)\\cdots{}(n-k+1)}\\over{k!n!}} + {{m}\\over{m!}} {{k\\cdot{}n(n-1)\\cdots{}(n-k+2)}\\over{k!n!}} + \\cdots{} + {{m\\cdot{}(m-1)\\cdots{}(m-k+1)}\\over{k!m!}} {{1}\\over{n!}}) $\n",
    "##### $ \\hspace{2.175cm} = $ **[LATEX]** $ \\;\\; \\cdots{} ㉡ $\n",
    "##### $ \\hspace{0.15cm} \\therefore{} ㉠ = ㉡ $"
   ]
  },
  {
   "cell_type": "markdown",
   "metadata": {},
   "source": [
    "#### **(4) 예시** :\n",
    "##### $ \\hspace{0.15cm} $ ① 모자를 쓴 $ \\, n $ 명에 대해 모자를 전부 수거하여 무작위적으로 배분할 때, 적어도 $ \\, 1 $ 명 이상이 본인 모자를 받을 확률은?\n",
    "##### $ \\hspace{0.6cm} \\cdot{} S = \\{ h_{1},\\, h_{2},\\, \\cdots{},\\, h_{n} \\},\\,h_{1} $ : **[CONTENTS]** $ ,\\;\\; |S| = N! $ \n",
    "##### $ \\hspace{0.6cm} $ **[LATEX]**\n",
    "##### $ \\hspace{0.15cm} $ ② **[CONTENTS]**"
   ]
  },
  {
   "cell_type": "markdown",
   "metadata": {},
   "source": [
    "<b></b>"
   ]
  },
  {
   "cell_type": "markdown",
   "metadata": {},
   "source": [
    "> ## **중복조합(unordered sampling with replacement; Combination)**"
   ]
  },
  {
   "cell_type": "markdown",
   "metadata": {},
   "source": [
    "#### **(1) 정의** : 집합의 요소 $ \\, n $ 개 중 $ \\, k $ 개를 순서에 상관없이, 중복을 허용하고 추출하는 방법\n",
    "#### $ \\Rightarrow{} H^{n}_{k} = H(n,\\, k) = H_{n, k} = _{n}H_{k} = H(n+k-1,\\, k) = {{(n+k-1)!}\\over{k!(n+1)!}} $ "
   ]
  },
  {
   "cell_type": "markdown",
   "metadata": {},
   "source": [
    "#### **(2) 예시** :\n",
    "##### $ \\hspace{0.15cm} $ ① **[CONTENTS]**\n",
    "##### $ \\hspace{0.15cm} $ ② **[CONTENTS]**"
   ]
  }
 ],
 "metadata": {
  "kernelspec": {
   "display_name": "Python 3",
   "language": "python",
   "name": "python3"
  },
  "language_info": {
   "codemirror_mode": {
    "name": "ipython",
    "version": 3
   },
   "file_extension": ".py",
   "mimetype": "text/x-python",
   "name": "python",
   "nbconvert_exporter": "python",
   "pygments_lexer": "ipython3",
   "version": "3.8.18"
  },
  "orig_nbformat": 4
 },
 "nbformat": 4,
 "nbformat_minor": 2
}
