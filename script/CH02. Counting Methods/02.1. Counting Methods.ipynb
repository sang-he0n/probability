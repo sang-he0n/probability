{
 "cells": [
  {
   "attachments": {},
   "cell_type": "markdown",
   "metadata": {},
   "source": [
    "# CH02.1. **Counting Methods**"
   ]
  },
  {
   "cell_type": "markdown",
   "metadata": {},
   "source": [
    "> ## (Theorem 2-1) **곱의 원리(Multiplication principle)**"
   ]
  },
  {
   "cell_type": "markdown",
   "metadata": {},
   "source": [
    "#### 어떠한 실험에서 $ k $번 시행할 때 $ m $번 째 시행에서 $ n_{m} $개의 가능한 결과가 있는 경우 가능한 전체 표본 공간은 아래와 같다.\n",
    "#### $ \\Rightarrow{} |\\Omega{}| = n_{1} \\times{} n_{2} \\times{} \\cdots{} \\times{} n_{k} $\n",
    "<img src=\"../../img/02.1. Counting Methods (1).png\" width=\"50%\" height=\"50%\"></img>"
   ]
  },
  {
   "cell_type": "markdown",
   "metadata": {},
   "source": [
    "<b></b>"
   ]
  },
  {
   "cell_type": "markdown",
   "metadata": {},
   "source": [
    "> ## **표본 추출(Sampling)**"
   ]
  },
  {
   "cell_type": "markdown",
   "metadata": {},
   "source": [
    "#### **(1) 정의** : 어떠한 유한 집합에서 원소를 하나 이상 선택하는 행위"
   ]
  },
  {
   "cell_type": "markdown",
   "metadata": {},
   "source": [
    "#### **(2) 추출 방식에 따른 분류** :\n",
    "##### $ \\hspace{0.15cm} $ ① 복원 표본 추출(Sampling with Replacement) : 추출한 원소를 반복 추출(중복 추출 발생 가능)\n",
    "##### $ \\hspace{0.15cm} $ ② 비복원 표본 추출(Sampling without Replacement) : 추출한 원소를 비반복 추출(중복 추출 발생 불가)"
   ]
  },
  {
   "cell_type": "markdown",
   "metadata": {},
   "source": [
    "#### **(3) 순서에 따른 분류** : \n",
    "##### $ \\hspace{0.15cm} $ ① 순서 표본 추출(Ordered Sampling) : 추출한 원소들의 순서를 고려하여\n",
    "##### $ \\hspace{0.15cm} $ ② 비순서 표본 추출(Unordered Sampling) : 추출한 원소들의 순서를 무시"
   ]
  },
  {
   "cell_type": "markdown",
   "metadata": {},
   "source": [
    "<b></b>"
   ]
  },
  {
   "cell_type": "markdown",
   "metadata": {},
   "source": [
    "> ## **순열(Ordered sampling without replacement; Permutation)**"
   ]
  },
  {
   "cell_type": "markdown",
   "metadata": {},
   "source": [
    "#### **(1) 정의** : 집합의 원소 $ n $개 중 $ k $개를 **순서를 고려하며 중복을 허용하지 않고** 추출하는 방법\n",
    "#### $ \\Rightarrow{} P^{n}_{k} = \\frac{n!}{(n-k)!} $"
   ]
  },
  {
   "cell_type": "markdown",
   "metadata": {},
   "source": [
    "##### **(`WHY?`)** \n",
    "##### $ \\hspace{0.15cm} n $개의 원소를 갖는 집합 $ A $에서 순서를 고려하며 중복을 허용하지 않고 $ k $개의 원소를 추출하는 사건 $ B $의 크기를 구하고자 할 경우\n",
    "##### $ \\hspace{0.15cm} A = \\{ a_{1}, a_{2}, \\cdots{}, a_{n} \\}, \\;\\; |A| = n $\n",
    "##### $ \\hspace{0.15cm} B = \\{ (s_{1}, s_{2}, \\cdots{}, s_{k}) \\; | \\; s_{i} \\in{} A, \\;\\; s_{i} \\neq{} s_{k}, \\;\\; i \\neq{} k \\} $ : 집합 $ A $에서 순서를 고려하며 중복을 허용하지 않고 $ k $개의 원소를 뽑는 사건\n",
    "##### $ \\hspace{0.15cm} s_{1} : n \\, \\text{ possible samples } $\n",
    "##### $ \\hspace{0.3cm} s_{1} \\in \\, \\{ a_{1}, a_{2}, \\cdots{}, a_{n} \\} $\n",
    "##### $ \\hspace{0.15cm} s_{2} : (n-1) \\, \\text{ possible samples } $\n",
    "##### $ \\hspace{0.3cm} \\text{ if } \\; s_{1} = a_{1}, \\;\\; s_{2} \\in{} \\{ a_{2}, a_{3}, \\cdots{}, a_{n} \\} $\n",
    "##### $ \\hspace{0.3cm} \\text{ if } \\; s_{1} = a_{2}, \\;\\; s_{2} \\in{} \\{ a_{1}, a_{3}, \\cdots{}, a_{n} \\} $\n",
    "##### $ \\hspace{0.45cm} \\vdots{} $\n",
    "##### $ \\hspace{0.15cm} s_{3} : (n-2) \\, \\text{ possible samples } $\n",
    "##### $ \\hspace{0.3cm} \\text{ if } \\; s_{1} = a_{1} \\; \\text{ and } \\; s_{2} = a_{2}, \\;\\; s_{3} \\in{} \\{ a_{3}, \\cdots{}, a_{n} \\} $\n",
    "##### $ \\hspace{0.3cm} \\text{ if } \\; s_{1} = a_{1} \\; \\text{ and } \\; s_{3} = a_{3}, \\;\\; s_{3} \\in{} \\{ a_{2}, \\cdots{}, a_{n} \\} $\n",
    "##### $ \\hspace{0.45cm} \\vdots{} $\n",
    "##### $ \\hspace{0.15cm} s_{k} : (n-k+1) \\, \\text{ possible samples } $\n",
    "##### $ \\hspace{0.3cm} \\text{ if } \\; s_{1} = a_{1} \\; \\text{ and } \\; \\cdots{} $\n",
    "##### $ \\hspace{0.45cm} \\vdots{} $\n",
    "##### $ \\hspace{0.15cm} \\Rightarrow{} |B| = n \\times{} (n-1) \\times{} \\cdots{} \\times{} (n-k+1) = \\frac{n \\times{} (n-1) \\times{} \\cdots{} \\times{} (n-k+1) \\times{} (n-k) \\times{}(n-k-1) \\times{} \\cdots{} \\times{} 1}{(n-k) \\times{} (n-k+1) \\times{} \\cdots{} \\times{} 1} = \\frac{n!}{(n-k)!} $\n",
    "##### $ \\hspace{0.15cm} \\therefore{} P^{n}_{k} = \\frac{n!}{(n-k)!} $"
   ]
  },
  {
   "cell_type": "markdown",
   "metadata": {},
   "source": [
    "#### **(2) 특징** :\n",
    "##### $ \\hspace{0.15cm} $ ① $ P^{n}_{n} = n! $\n",
    "##### $ \\hspace{0.15cm} $ ② $ P^{n}_{0} = 1 $\n",
    "##### $ \\hspace{0.15cm} $ ③ $ P_{k}^{n} = 0 \\;\\; \\text{ if } \\; k > n $"
   ]
  },
  {
   "cell_type": "markdown",
   "metadata": {},
   "source": [
    "#### **(3) 예시** :\n",
    "##### $ \\hspace{0.15cm} $ ① 어떠한 집단의 인원 $ 10 $명 중 모두 생일이 다를 확률을 구하고자 할 때 (윤달은 없다고 가정)\n",
    "##### $ \\hspace{0.45cm} \\Omega{}_{i} = \\{ \\text{0101}, \\text{0102}, \\cdots{}, \\text{0131}, \\cdots{}, \\text{1231} \\} $ : $ i $번 째 인원의 생일\n",
    "##### $ \\hspace{0.45cm} \\Omega{} = \\Omega{}_{1} \\times{} \\Omega{}_{2} \\times{} \\cdots{} \\times{} \\Omega{}_{10}, \\;\\; |\\Omega{}| = 365 \\times{} 365 \\times{} \\cdots{} \\times{} 365 = 365^{10} $\n",
    "##### $ \\hspace{0.45cm} A = \\{ (a_{1}, a_{2}, \\cdots{}, a_{10}) \\; | \\; a_{i} \\in{} S, \\;\\; a_{i} \\neq{} a_{k}, \\;\\; i \\neq{} k \\} $ : 인원 $ 10 $명 모두 생일이 다른 사건\n",
    "##### $ \\hspace{0.45cm} a_{1} : 365 \\, \\text{ possible samples} $\n",
    "##### $ \\hspace{0.45cm} a_{2} : 364 \\, \\text{ possible samples} $\n",
    "##### $ \\hspace{0.6cm} \\vdots{} $\n",
    "##### $ \\hspace{0.45cm} a_{10} : (365-9) = 356 \\, \\text{ possible samples} $\n",
    "##### $ \\hspace{0.45cm} |A| = P^{365}_{10} = \\frac{365!}{355!} = 365\\times{}364\\times{}\\cdots{}\\times{}356 $\n",
    "##### $ \\hspace{0.45cm} P(A) = \\frac{|A|}{|\\Omega{}|} =\\frac{P^{365}_{10}}{365^{10}} \\approx{} 88\\% $\n",
    "##### $ \\hspace{0.15cm} $ ② **[CONTENTS]**"
   ]
  },
  {
   "cell_type": "markdown",
   "metadata": {},
   "source": [
    "<b></b>"
   ]
  },
  {
   "cell_type": "markdown",
   "metadata": {},
   "source": [
    "> ## **중복 순열(Ordered sampling with replacement; Permutation)**"
   ]
  },
  {
   "cell_type": "markdown",
   "metadata": {},
   "source": [
    "#### **(1) 정의** : 집합의 원소 $ n $개 중 $ k $개를 **순서를 고려하며, 중복을 허용하고** 추출하는 방법\n",
    "#### $ \\Rightarrow{} \\prod{}^{n}_{k} = n^{k} $"
   ]
  },
  {
   "cell_type": "markdown",
   "metadata": {},
   "source": [
    "#### **(2) 예시** :\n",
    "##### $ \\hspace{0.15cm} $ ① 어떠한 집합 $ S $에서 $ 3 $개의 원소를 **순서를 고려하며 중복을 허용하여** 짝수를 뽑을 확률을 구하고자 할 때\n",
    "##### $ \\hspace{0.45cm} S_{i} = \\{ 1, 2, 3, 4, 5 \\} $ : $ i $번 째 추출에서 가능한 모든 원소\n",
    "##### $ \\hspace{0.45cm} S = S_{1} \\times{} S_{1} \\times{} S_{3} $\n",
    "##### $ \\hspace{0.45cm} A_{i} = \\{ a_{i} \\, | \\, a_{i} \\in{} S, \\;\\; \\frac{a_{i}}{2} = 0 \\} $ : 집합 $ S $에서 $ i $번 째 짝수 원소를 뽑는 사건\n",
    "##### $ \\hspace{0.45cm} A = A_{1} \\times{} A_{2} \\times{} A_{3} $ : 집합 $ S $에서 $ 3 $개의 짝수를 뽑는 사건\n",
    "##### $ \\hspace{0.45cm} a_{1} : 2 \\, \\text{ possible samples}, \\;\\; a_{1} \\in{} \\{ 2, 4 \\} $\n",
    "##### $ \\hspace{0.45cm} a_{2} : 2 \\, \\text{ possible samples}, \\;\\; a_{2} \\in{} \\{ 2, 4 \\} $\n",
    "##### $ \\hspace{0.45cm} a_{3} : 2 \\, \\text{ possible samples}, \\;\\; a_{3} \\in{} \\{ 2, 4 \\} $\n",
    "##### $ \\hspace{0.45cm} |A| = |A_{1}| \\times{} |A_{2}| \\times{} |A_{3}| = 2 \\times{} 2 \\times{} 2 = 2^{3} = 8 $\n",
    "##### $ \\hspace{0.45cm} \\therefore{} P(A) = \\frac{|A|}{|S|} = \\frac{2^{3}}{5^{3}} = \\frac{8}{125} \\approx{} 6.4\\% $\n",
    "##### $ \\hspace{0.15cm} $ ② **[CONTENTS]**"
   ]
  },
  {
   "cell_type": "markdown",
   "metadata": {},
   "source": [
    "<b></b>"
   ]
  },
  {
   "cell_type": "markdown",
   "metadata": {},
   "source": [
    "> ## **조합(unordered sampling without replacement; Combination)**"
   ]
  },
  {
   "cell_type": "markdown",
   "metadata": {},
   "source": [
    "#### **(1) 정의** : 집합의 원소 $ n $개 중 $ k $개를 **순서가 상관 없고, 중복 없이** 추출하는 방법\n",
    "#### $ \\Rightarrow{} C^{n}_{k} = \\frac{n!}{k!(n-k)!} $"
   ]
  },
  {
   "cell_type": "markdown",
   "metadata": {},
   "source": [
    "##### **(`WHY?`)** \n",
    "##### $ \\hspace{0.15cm} n $개의 원소를 갖는 집합 $ A $에서 $ k $개의 원소를 순서에 상관없이 중복을 허용하지 않고 추출하는 사건 $ B $의 크기를 구하고자 할 경우\n",
    "##### $ \\hspace{0.15cm} A = \\{ a_{1}, a_{2}, \\cdots{}, a_{n} \\}, \\;\\; |A| = n $\n",
    "##### $ \\hspace{0.15cm} B = \\{ \\{s_{1}, s_{2}, \\cdots{}, s_{k}\\} \\; | \\; s_{i} \\in{} A, \\;\\; s_{i} \\neq{} s_{k}, \\;\\; i \\neq{} k \\} $ : 집합 $ A $에서 순서가 상관없고 중복 없이 $ k $개의 원소를 뽑는 사건\n",
    "##### $ \\hspace{0.15cm} $ 사건 $ B $는 순서를 고려하지 않므로 $ n $개의 원소 중 $ k $개를 순열로 추출하고, 동일한 조합에 대응되는 **$ k $개의 순열을 나누어 중복을 제거**함\n",
    "##### $ \\hspace{0.15cm} \\Rightarrow{} |B| = \\frac{P^{n}_{k}}{P^{k}_{k}} = \\frac{n!}{(n-k)!} \\times{} \\frac{1}{k!} = \\frac{n!}{k!(n-k)!} $\n",
    "##### $ \\hspace{0.15cm} \\therefore{} C^{k}_{n} = \\frac{n!}{k!(n-k)!} $"
   ]
  },
  {
   "cell_type": "markdown",
   "metadata": {},
   "source": [
    "#### **(2) 특징** :\n",
    "##### $ \\hspace{0.15cm} $ ① $ C_{n}^{n} = 1 $\n",
    "##### $ \\hspace{0.15cm} $ ② $ C_{0}^{n} = 1 $\n",
    "##### $ \\hspace{0.15cm} $ ③ $ C_{k}^{n} = 0 \\;\\; \\text{ if } \\; k > n $\n",
    "##### $ \\hspace{0.15cm} $ ④ $ C^{n}_{k} = C^{n}_{n-k} $"
   ]
  },
  {
   "cell_type": "markdown",
   "metadata": {},
   "source": [
    "#### **(3) 예시** :\n",
    "##### $ \\hspace{0.15cm} $ ① **[CONTENTS]**\n",
    "##### $ \\hspace{0.15cm} $ ② **[CONTENTS]**"
   ]
  },
  {
   "cell_type": "markdown",
   "metadata": {},
   "source": [
    "<b></b>"
   ]
  },
  {
   "cell_type": "markdown",
   "metadata": {},
   "source": [
    "> ## (Theorem 2-1) **Combinatorial Techniques**"
   ]
  },
  {
   "cell_type": "markdown",
   "metadata": {},
   "source": [
    "#### **(1)** $ n $개의 원소를 $ k $개의 부분집합으로 나누고, 각 부분집합에 $ m_{1}, m_{2}, \\cdots{}, m_{k} $개의 원소가 들어갈 때 그 경우의 수는 아래와 같다.\n",
    "#### $ \\hspace{0.15cm} \\Rightarrow{} C^{n}_{m_{1}}C^{n-m_{1}}_{m_{2}}C^{n-(m_{1}+m_{2})}_{m_{3}}\\cdots{}C^{n-(m_{1}+m_{2}+\\cdots{}+m_{k})}_{m_{k}} = C^{n}_{m_{1}, m_{2}, \\cdots{}, m_{k}} = \\frac{n!}{m_{1}!m_{2}!\\cdots{}!m_{k}!} $"
   ]
  },
  {
   "cell_type": "markdown",
   "metadata": {},
   "source": [
    "#### **(2)** 어떠한 가산 집합의 크기가 $ n $일 때 조합할 수 있는 모든 부분집합(멱집합;power set)의 개수는 $ 2^{n} $개이다.\n",
    "#### $ \\Rightarrow{} |\\mathcal{P}(A)| = 2^{n} \\;\\; \\text{ if } \\; |A| = n $"
   ]
  },
  {
   "cell_type": "markdown",
   "metadata": {},
   "source": [
    "#### **(3)** **[CONTENTS]**\n",
    "#### $ \\Rightarrow{} n C^{n-1}_{k-1} = k C^{n}_{k} $"
   ]
  },
  {
   "cell_type": "markdown",
   "metadata": {},
   "source": [
    "#### **(4)** **[CONTENTS]**\n",
    "#### $ \\Rightarrow{} C^{n+1}_{k+1} = C^{n}_{k+1} + C^{n}_{k} \\;\\; \\text{ where } \\; 0 \\leq{} k \\leq{} n $"
   ]
  },
  {
   "cell_type": "markdown",
   "metadata": {},
   "source": [
    "#### **(5)** **[CONTENTS]**\n",
    "#### $ \\Rightarrow{} (a+b)^{n} = \\sum^{k}_{i=0}C^{n}_{k}a^{k}b^{n-k} $ "
   ]
  },
  {
   "cell_type": "markdown",
   "metadata": {},
   "source": [
    "#### **(6)** **[CONTENTS]** \n",
    "#### $ \\Rightarrow{} C^{m+n}_{k} = \\sum^{k}_{i=0} C^{m}_{i} C^{n}_{k-i} $ "
   ]
  },
  {
   "cell_type": "markdown",
   "metadata": {},
   "source": [
    "<b></b>"
   ]
  },
  {
   "cell_type": "markdown",
   "metadata": {},
   "source": [
    "> ## **중복조합(unordered sampling with replacement; Combination)**"
   ]
  },
  {
   "cell_type": "markdown",
   "metadata": {},
   "source": [
    "#### **(1) 정의** : 집합의 원소 $ n $개 중 $ k $개를 **순서에 상관 없으며, 중복을 허용하고** 추출하는 방법\n",
    "#### $ \\Rightarrow{} H^{n}_{k} = \\frac{(n+k-1)!}{k!(n+1)!} $"
   ]
  },
  {
   "cell_type": "markdown",
   "metadata": {},
   "source": [
    "#### **(2) 예시** :\n",
    "##### $ \\hspace{0.15cm} $ ① **[CONTENTS]**\n",
    "##### $ \\hspace{0.15cm} $ ② **[CONTENTS]**"
   ]
  }
 ],
 "metadata": {
  "kernelspec": {
   "display_name": "Python 3",
   "language": "python",
   "name": "python3"
  },
  "language_info": {
   "codemirror_mode": {
    "name": "ipython",
    "version": 3
   },
   "file_extension": ".py",
   "mimetype": "text/x-python",
   "name": "python",
   "nbconvert_exporter": "python",
   "pygments_lexer": "ipython3",
   "version": "3.8.18"
  },
  "orig_nbformat": 4
 },
 "nbformat": 4,
 "nbformat_minor": 2
}
