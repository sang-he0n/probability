{
 "cells": [
  {
   "attachments": {},
   "cell_type": "markdown",
   "metadata": {},
   "source": [
    "# CH01.4. **Conditional Probability**"
   ]
  },
  {
   "cell_type": "markdown",
   "metadata": {},
   "source": [
    "> ## **조건부 확률(Conditional Probability)**"
   ]
  },
  {
   "cell_type": "markdown",
   "metadata": {},
   "source": [
    "#### **(1) 정의** : 어떠한 사건이 **이미 발생했을 때** 다른 사건이 일어날 확률 \n",
    "#### $ \\Rightarrow{} P(A|B) = \\frac{P(A\\cap{}B)}{P(B)} $"
   ]
  },
  {
   "cell_type": "markdown",
   "metadata": {},
   "source": [
    "##### **(`PLUS`)** 조건부 확률은 표본 공간이 $ B $로 축소됐다고 이해할 수 있음"
   ]
  },
  {
   "cell_type": "markdown",
   "metadata": {},
   "source": [
    "#### **(2) 예시** :\n",
    "##### $ \\hspace{0.15cm} $ ① 공평한 주사위를 $ 1 $회 던졌을 때 $ 3 $ 이하 눈을 뽑았고 그 중 홀수를 뽑을 확률을 구하고자할 경우\n",
    "##### $ \\hspace{0.45cm} \\Omega{} = \\{ 1, 2, 3, 4, 5, 6 \\} $\n",
    "##### $ \\hspace{0.45cm} A = \\{ 1, 3, 5 \\} $ : 홀수를 뽑을 사건\n",
    "##### $ \\hspace{0.45cm} B = \\{ 1, 2, 3 \\} $ : $ 3 $ 이하를 뽑을 사건\n",
    "##### $ \\hspace{0.45cm} A \\cap{} B = \\{ 1, 3, 5 \\} \\cap{} \\{ 1, 2, 3 \\} = \\{ 1 \\} $ : 홀수 및 $ \\, 3 $ 이하를 뽑을 사건\n",
    "##### $ \\hspace{0.45cm} \\therefore{} P(A|B) = \\frac{P(A\\cap{}B)}{P(B)} = \\frac{|A\\cap{}B|}{|B|} = \\frac{|\\{ 1 \\}|}{|\\{ 1, 2, 3 \\}|} = \\frac{1}{3} \\;\\; $ ($ \\because{} $ 동등 발생 결과) \n",
    "##### $ \\hspace{0.15cm} $ ② **[CONTENTS]**"
   ]
  },
  {
   "cell_type": "markdown",
   "metadata": {},
   "source": [
    "<b></b>"
   ]
  },
  {
   "cell_type": "markdown",
   "metadata": {},
   "source": [
    "> ## (Theorem 1-6) **Chain rule of Conditional Probability**"
   ]
  },
  {
   "cell_type": "markdown",
   "metadata": {},
   "source": [
    "#### 서로소가 아닌 사건 $ A_{1}, A_{2}, \\cdots{}, A_{n} $의 교집합 확률은 아래와 같다.\n",
    "#### $ \\Rightarrow{} P(\\cap{}^{n}_{i=1}A_{i}) = P(A_{1})P(A_{2}|A_{1})P(A_{3}|A_{1}\\cap{}A_{2})\\cdots{}P(A_{n}|A_{1}\\cap{}A_{2}\\cap{}A_{3}\\cap{}\\cdots{}\\cap{}A_{n-1}) $"
   ]
  },
  {
   "cell_type": "markdown",
   "metadata": {},
   "source": [
    "##### **(`WHY?`)** \n",
    "##### $ \\hspace{0.15cm} \\text{if } \\; B_{1} = ( A_{2}\\cap{}A_{3}\\cap{}\\cdots{}\\cap{}A_{n} ) $\n",
    "##### $ \\hspace{0.3cm} P(A_{1}\\cap{}A_{2}\\cap{}\\cdots{}\\cap{}A_{n}) = P(A_{1}\\cap{}B_{1}) = P(A_{1}|B_{1})P(B_{1}) $\n",
    "##### $ \\hspace{0.15cm} \\text{if } \\; B_{2} = ( A_{3}\\cap{}A_{4}\\cap{}\\cdots{}\\cap{}A_{n} ), \\;\\; B_{1} = A_{2}\\cap{}B_{2} $\n",
    "##### $ \\hspace{0.3cm} P(B_{1}) = P(A_{2}\\cap{}B_{2}) = P(A_{2}|B_{2})P(B_{2}) $\n",
    "##### $ \\hspace{0.2cm} \\vdots{} $ \n",
    "##### $ \\hspace{0.15cm} \\text{if } \\; B_{n-1} = A_{n}, \\;\\; B_{n-1} = A_{n-1}\\cap{}B_{n-1} $\n",
    "##### $ \\hspace{0.3cm} P(B_{n-1}) = P(A_{n}\\cap{}B_{n}) = P(A_{n}|B_{n})P(B_{n}) $\n",
    "##### $ \\hspace{0.3cm} P(A_{1}\\cap{}A_{2}\\cap{}\\cdots{}\\cap{}A_{n}) = P(A_{1}|B_{1})P(A_{2}|B_{2})\\cdots{}P(A_{n}|B_{n-1}) $\n",
    "##### $ \\hspace{0.15cm} \\therefore{} \\; P(A_{1}\\cap{}A_{2}\\cap{}\\cdots{}\\cap{}A_{n}) = P(A_{1})P(A_{2}|A_{1})P(A_{3}|A_{1}\\cap{}A_{2})\\cdots{}P(A_{n}|A_{1}\\cap{}A_{2}\\cap{}A_{3}\\cap{}\\cdots{}\\cap{}A_{n-1}) $"
   ]
  },
  {
   "cell_type": "markdown",
   "metadata": {},
   "source": [
    "<b></b>"
   ]
  },
  {
   "cell_type": "markdown",
   "metadata": {},
   "source": [
    "> ## **사건의 독립(Independence of Event)**"
   ]
  },
  {
   "cell_type": "markdown",
   "metadata": {},
   "source": [
    "#### **(1) 정의** : 어떠한 사건의 확률이 다른 사건의 확률에 영향을 미치지 않는 관계\n",
    "#### $ \\Rightarrow{} P(A\\cap{}B) = P(A)P(B) $"
   ]
  },
  {
   "cell_type": "markdown",
   "metadata": {},
   "source": [
    "##### **(`PLUS`) $ 2 $개 이상의 사건에 대한 독립 관계 정의** : \n",
    "##### $ \\Rightarrow{} P(A_{1}\\cap{}A_{2}\\cap{}\\cdots{}\\cap{}A_{n}) = P(A_{1})P(A_{2})\\cdots{}P(A_{n}) \\;\\; \\text{ where } \\; P(A_{i}\\cap{}A_{k}) = P(A_{i})P(A_{k}), \\;\\; i \\neq{} k $"
   ]
  },
  {
   "cell_type": "markdown",
   "metadata": {},
   "source": [
    "#### **(2) 예시** :\n",
    "##### $ \\hspace{0.15cm} $ ① 공평한 주사위 $ 1 $회 던졌을 때 눈이 짝수인 사건 $ A $와 $ 3 $ 이하인 사건 $ B $가 있을 때 두 사건의 관계를 파악하려 하는 경우   \n",
    "##### $ \\hspace{0.45cm} S = \\{ 1, 2, 3, 4, 5, 6 \\}, \\;\\; A = \\{ 2, 4 \\}, \\;\\; B = \\{ 1, 2, 3 \\}, \\;\\; A \\cap{} B = \\{ 2 \\} $\n",
    "##### $ \\hspace{0.45cm} P(A\\cap{}B) = \\frac{|A\\cap{}B|}{|\\Omega{}|} = \\frac{1}{6} $\n",
    "##### $ \\hspace{0.45cm} P(A)P(B) = \\frac{|A|}{|\\Omega{}|} \\times{} \\frac{|B|}{|\\Omega{}|} = \\frac{2}{6}\\times{} \\frac{3}{6} = \\frac{1}{6} = P(A\\cap{}B) $\n",
    "##### $ \\hspace{0.45cm} \\therefore{}  A, \\, B \\, \\text{ is independent (event)}. $\n",
    "##### $ \\hspace{0.15cm} $ ② **[CONTENTS]**"
   ]
  },
  {
   "cell_type": "markdown",
   "metadata": {},
   "source": [
    "<b></b>"
   ]
  },
  {
   "cell_type": "markdown",
   "metadata": {},
   "source": [
    "> ## (Theorem 1-7) **Union of Independent Event**"
   ]
  },
  {
   "cell_type": "markdown",
   "metadata": {},
   "source": [
    "#### 어떠한 사건 $ A_{1}, A_{2}, \\cdots{}, A_{n} $이 서로 독립 관계일 때 그 사건들의 합집합 확률은 아래와 같다. \n",
    "#### $ \\Rightarrow{} P(A_{1}\\cup{}A_{2}\\cup{}\\cdots{}\\cup{}A_{n}) = P((A_{1}^{c}\\cap{}A_{2}^{c}\\cap{}\\cdots{}\\cup{}A_{n}^{c})^{c}) \\;\\; $ ( $ \\because{} $ Theorem 1-1)\n",
    "#### $ \\hspace{4.05cm} = 1 - P(A_{1}^{c}\\cap{}A_{2}^{c}\\cap{}\\cdots{}\\cup{}A_{n}^{c}) $ \n",
    "#### $ \\hspace{4.05cm} = 1 - P(A_{1}^{c})P(A_{2}^{c})\\cdots{}P(A_{n}^{c}) $ "
   ]
  },
  {
   "cell_type": "markdown",
   "metadata": {},
   "source": [
    "<b></b>"
   ]
  },
  {
   "cell_type": "markdown",
   "metadata": {},
   "source": [
    "> ## **사건의 배반(Event of Mutual Exclusivity Relationship)**"
   ]
  },
  {
   "cell_type": "markdown",
   "metadata": {},
   "source": [
    "#### **(1) 정의** : 두 사건이 동시에 일어날 수 없는 관계\n",
    "#### $ \\Rightarrow{} P(A \\cap{} B) = 0 \\;\\; \\text{ where } \\; P(A) \\neq{} 0, \\;\\; P(B) \\neq{} 0 $"
   ]
  },
  {
   "cell_type": "markdown",
   "metadata": {},
   "source": [
    "<b></b>"
   ]
  },
  {
   "cell_type": "markdown",
   "metadata": {},
   "source": [
    "> ## (Theorem 1-9) **Law of Total Probability**"
   ]
  },
  {
   "cell_type": "markdown",
   "metadata": {},
   "source": [
    "#### 표본 공간을 분할하는 사건 $ B_{1}, B_{2}, \\cdots{} $가 존재할 때 사건 $ A $의 확률은 아래와 같다.\n",
    "#### $ \\Rightarrow{} P(A) = \\sum{}_{i=1}P(A\\cap{}B_{i}) \\;\\; \\text{ where } \\; B_{i}\\cap{}B_{j} = \\empty{}, \\;\\; \\cup{}_{i=1}B_{i} = \\Omega{} $\n",
    "#### $ \\hspace{1.375cm} = \\sum{}_{i=1} P(A|B_{i})P(B_{i}) $\n",
    "<img src=\"../../img/01.4. Conditional Probability (1).png\" align=\"center\" width=\"30%\" height=\"30%\"></img>"
   ]
  },
  {
   "cell_type": "markdown",
   "metadata": {},
   "source": [
    "<b></b>"
   ]
  },
  {
   "cell_type": "markdown",
   "metadata": {},
   "source": [
    "> ## **베이즈 정리(Bayes Theorem)**"
   ]
  },
  {
   "cell_type": "markdown",
   "metadata": {},
   "source": [
    "#### **(1) 정의** : **[CONTENTS]**\n",
    "#### $ \\Rightarrow{} P(A|B) = \\frac{P(A\\cap{}B)}{P(B)} = \\frac{P(B|A)P(A)}{P(B)} $"
   ]
  },
  {
   "cell_type": "markdown",
   "metadata": {},
   "source": [
    "#### **(2) 해석** : **[CONTENTS]**"
   ]
  },
  {
   "cell_type": "markdown",
   "metadata": {},
   "source": [
    "#### **(3) 예시** :\n",
    "##### $ \\hspace{0.15cm} $ ① **[CONTENTS]**\n",
    "##### $ \\hspace{0.15cm} $ ② **[CONTENTS]**"
   ]
  },
  {
   "cell_type": "markdown",
   "metadata": {},
   "source": [
    "<b></b>"
   ]
  },
  {
   "cell_type": "markdown",
   "metadata": {},
   "source": [
    "> ## **조건부 독립(Conditional Independence)**"
   ]
  },
  {
   "cell_type": "markdown",
   "metadata": {},
   "source": [
    "#### **(1) 정의** : **[CONTENTS]**\n",
    "#### $ \\Rightarrow{} P(A\\cap{}B|C) = P(A|C)P(B|C) $"
   ]
  }
 ],
 "metadata": {
  "kernelspec": {
   "display_name": "Python 3",
   "language": "python",
   "name": "python3"
  },
  "language_info": {
   "codemirror_mode": {
    "name": "ipython",
    "version": 3
   },
   "file_extension": ".py",
   "mimetype": "text/x-python",
   "name": "python",
   "nbconvert_exporter": "python",
   "pygments_lexer": "ipython3",
   "version": "3.8.12"
  },
  "orig_nbformat": 4
 },
 "nbformat": 4,
 "nbformat_minor": 2
}
