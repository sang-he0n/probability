{
 "cells": [
  {
   "attachments": {},
   "cell_type": "markdown",
   "metadata": {},
   "source": [
    "# CH01.4. **Conditional Probability**"
   ]
  },
  {
   "cell_type": "markdown",
   "metadata": {},
   "source": [
    "> ## **조건부확률(Conditional Probability)**"
   ]
  },
  {
   "cell_type": "markdown",
   "metadata": {},
   "source": [
    "#### **(1) 정의** : 사건 $ \\, B $ 가 **이미 발생했을 때** 사건 $ \\, A $ 의 확률 \n",
    "#### $ \\Rightarrow{} P(A|B) = {{P(A\\cap{}B)}\\over{P(B)}} $"
   ]
  },
  {
   "cell_type": "markdown",
   "metadata": {},
   "source": [
    "##### **(`PLUS`)** 조건부확률은 표본 공간이 $ \\, B $ 로 축약됐다고 이해할 수 있음"
   ]
  },
  {
   "cell_type": "markdown",
   "metadata": {},
   "source": [
    "#### **(2) 예시** :\n",
    "##### $ \\hspace{0.15cm} $ ① 성심당 빵을 먹을 확률 : $ \\, P(B) $, \n",
    "##### $ \\hspace{0.45cm} \\cdot{} $ 대전에 갈 확률 : $ \\, P(D) $, \n",
    "##### $ \\hspace{0.45cm} \\cdot{} $ 대전에 갔을 때 성심당 빵을 먹을 확률 : $ \\, P(B|D) $\n",
    "##### $ \\hspace{0.15cm} $ ② 주사위를 던졌을 때 소수(odd number)를 뽑을 확률 : $ \\, P(A) = {{\\{ 1,\\, 3,\\, 5 \\}}\\over{\\{1,\\, 2,\\, 3,\\, 4,\\, 5,\\, 6\\}}} = {{3}\\over{6}} = {{1}\\over{2}} $, \n",
    "##### $ \\hspace{0.45cm} \\cdot{} $ 주사위를 던졌을 때 $ \\, 3 \\, $ 이하를 뽑을 확률 : $ \\, P(B) = {{\\{ 1,\\, 2,\\, 3 \\}}\\over{\\{1,\\, 2,\\, 3,\\, 4,\\, 5,\\, 6\\}}} = {{3}\\over{6}} = {{1}\\over{2}} $,\n",
    "##### $ \\hspace{0.45cm} \\cdot{} $ 주사위를 던졌을 때 $ \\, 3 \\, $ 이하를 뽑았고 소수를 뽑을 확률 : $ \\, P(A|B) = {{P(A\\cap{}B)}\\over{P(B)}} = {{|A\\cap{}B|}\\over{|B|}} = {{\\{ 1 \\}}\\over{\\{ 1,\\, 2,\\, 3 \\}}} = {{1}\\over{3}} $ "
   ]
  },
  {
   "cell_type": "markdown",
   "metadata": {},
   "source": [
    "<b></b>"
   ]
  },
  {
   "cell_type": "markdown",
   "metadata": {},
   "source": [
    "> ## (Theorem 1-6) **조건부확률의 연쇄법칙(Chain rule of Conditional Probability)**"
   ]
  },
  {
   "cell_type": "markdown",
   "metadata": {},
   "source": [
    "#### $ n $ 개 사건의 조건부확률은 아래와 같다.\n",
    "#### $ \\Rightarrow{} P(A_{1}\\cap{}A_{2}\\cap{}\\cdots{}\\cap{}A_{n}) = P(A_{1})P(A_{2}|A_{1})P(A_{3}|A_{1}\\cap{}A_{2})\\cdots{}P(A_{n}|A_{1}\\cap{}A_{2}\\cap{}A_{3}\\cap{}\\cdots{}\\cap{}A_{n-1}) $\n",
    "#### $ \\hspace{4cm} = P(A_{1})P(A_{3}|A_{1})P(A_{2}|A_{1}\\cap{}A_{3})\\cdots{}P(A_{n}|A_{1}\\cap{}A_{2}\\cap{}A_{3}\\cap{}\\cdots{}\\cap{}A_{n-1}) $\n",
    "#### $ \\hspace{4cm} \\cdots{} $\n",
    "#### $ \\hspace{4cm} = P(A_{2})P(A_{1}|A_{2})P(A_{3}|A_{1}\\cap{}A_{2})\\cdots{}P(A_{n}|A_{1}\\cap{}A_{2}\\cap{}A_{3}\\cap{}\\cdots{}\\cap{}A_{n-1}) $\n",
    "#### $ \\hspace{4cm} \\cdots{} $\n",
    "#### $ \\hspace{4cm} = P(A_{n})P(A_{n-1}|A_{n})P(A_{n-2}|A_{n-1}\\cap{}A_{n})\\cdots{}P(A_1|A_{2}\\cap{}A_{3}\\cap{}A_{3}\\cap{}\\cdots{}\\cap{}A_{n}) $"
   ]
  },
  {
   "cell_type": "markdown",
   "metadata": {},
   "source": [
    "##### **(`WHY?`)** \n",
    "##### $ \\hspace{0.15cm} \\text{if } \\; B_{1} = ( A_{2}\\cap{}A_{3}\\cap{}\\cdots{}\\cap{}A_{n} ), $\n",
    "##### $ \\hspace{0.3cm} P(A_{1}\\cap{}A_{2}\\cap{}\\cdots{}\\cap{}A_{n}) = P(A_{1}\\cap{}B_{1}) = P(A_{1}|B_{1})P(B_{1}) $\n",
    "##### $ \\hspace{0.15cm} \\text{if } \\; B_{2} = ( A_{3}\\cap{}A_{4}\\cap{}\\cdots{}\\cap{}A_{n} ), \\;\\; B_{1} = A_{2}\\cap{}B_{2} $\n",
    "##### $ \\hspace{0.3cm} P(B_{1}) = P(A_{2}\\cap{}B_{2}) = P(A_{2}|B_{2})P(B_{2}) $\n",
    "##### $ \\hspace{0.15cm} \\cdots{} $ \n",
    "##### $ \\hspace{0.15cm} \\text{if } \\; B_{n-1} = A_{n}, \\;\\; B_{n-1} = A_{n-1}\\cap{}B_{n-1} $\n",
    "##### $ \\hspace{0.3cm} P(B_{n-1}) = P(A_{n}\\cap{}B_{n}) = P(A_{n}|B_{n})P(B_{n}) $\n",
    "##### $ \\hspace{0.3cm} P(A_{1}\\cap{}A_{2}\\cap{}\\cdots{}\\cap{}A_{n}) = P(A_{1}|B_{1})P(A_{2}|B_{2})\\cdots{}P(A_{n}|B_{n-1}) $\n",
    "##### $ \\hspace{0.15cm} \\therefore{} \\; P(A_{1}\\cap{}A_{2}\\cap{}\\cdots{}\\cap{}A_{n}) = P(A_{1})P(A_{2}|A_{1})P(A_{3}|A_{1}\\cap{}A_{2})\\cdots{}P(A_{n}|A_{1}\\cap{}A_{2}\\cap{}A_{3}\\cap{}\\cdots{}\\cap{}A_{n-1}) $"
   ]
  },
  {
   "cell_type": "markdown",
   "metadata": {},
   "source": [
    "##### **(`PLUS`)** 해당 등식의 개수는 $ \\, n! = n\\times{}(n-1)\\times{}\\cdots{}\\times{}1 $ 개임"
   ]
  },
  {
   "cell_type": "markdown",
   "metadata": {},
   "source": [
    "<b></b>"
   ]
  },
  {
   "cell_type": "markdown",
   "metadata": {},
   "source": [
    "> ## **사건의 독립(Independence of Event)**"
   ]
  },
  {
   "cell_type": "markdown",
   "metadata": {},
   "source": [
    "#### **(1) 정의** : 한 사건이 일어날 확률이 다른 사건이 일어날 확률에 영향을 미치지 않는 관계\n",
    "#### $ \\Rightarrow{} P(A\\cap{}B) = P(A)P(B) $\n",
    "#### $ \\Rightarrow{} P(A|B) = {{P(A\\cap{}B)}\\over{P(B)}} = P(A) $\n",
    "#### $ \\Leftrightarrow{} P(B|A) = {{P(A\\cap{}B)}\\over{P(A)}} = P(B) $"
   ]
  },
  {
   "cell_type": "markdown",
   "metadata": {},
   "source": [
    "#### **(2) 예시** :\n",
    "##### $ \\hspace{0.15cm} $ ① 주사위 $ \\, 1 $ 회 던져 짝수를 갖는 사건 $ \\, A $ 와 $ \\, 3 $ 이하를 갖는 사건 $ \\, B $ 이 있을 때  \n",
    "##### $ \\hspace{0.45cm} \\cdot{} \\, S = \\{ 1,\\, 2,\\, 3,\\, 4,\\, 45,\\, 6 \\},\\, A = \\{ 2,\\, 4 \\},\\, B = \\{ 1,\\, 2,\\, 3 \\},\\, A\\cap{}B = \\{ 2 \\} $\n",
    "##### $ \\hspace{0.45cm} \\cdot{} \\, P(A\\cap{}B) = {{1}\\over{6}} = P(A)P(B) = {{2}\\over{6}}\\times{}{{3}\\over{6}} = {{1}\\over{6}} $\n",
    "##### $ \\hspace{0.45cm} \\therefore{}  A, \\, B \\, \\text{ is independent event}. $\n",
    "##### $ \\hspace{0.15cm} $ ② **[CONTENTS]**"
   ]
  },
  {
   "cell_type": "markdown",
   "metadata": {},
   "source": [
    "##### **(`PLUS`)** 사건의 독립은 벤다이어그램으로는 파악하기 힘듬"
   ]
  },
  {
   "cell_type": "markdown",
   "metadata": {},
   "source": [
    "#### **(3) 독립에 따른 집합 관계** : 두 사건 $ \\, A,\\, B $ 가 독립 관계일 때 \n",
    "##### $ \\hspace{0.15cm} $ ① $ \\, A $ 와 $ \\, B^{c} $ 은 독립 관계임 $ \\, \\rightarrow{} P(A\\cap{}B^{c}) = P(A)P(B^{c}) $\n",
    "##### $ \\hspace{0.15cm} $ ② $ \\, A^{c} $ 와 $ \\, B $ 은 독립 관계임 $ \\, \\rightarrow{} P(A^{c}\\cap{}B) = P(A^{c})P(B) $\n",
    "##### $ \\hspace{0.15cm} $ ③ $ \\, A^{c} $ 와 $ \\, B^{c} $ 은 독립 관계임 $ \\, \\rightarrow{} P(A^{c}\\cap{}B^{c}) = P(A^{c})P(B^{c}) $"
   ]
  },
  {
   "cell_type": "markdown",
   "metadata": {},
   "source": [
    "#### **(4) $ \\, n $ 개 이상의 사건에 대한 독립 관계일 때 정의** :\n",
    "#### $ \\Rightarrow{} P(A_{1}\\cap{}A_{2}\\cap{}\\cdots{}\\cap{}A_{n}) = P(A_{1})P(A_{2})\\cdots{}P(A_{n}) $"
   ]
  },
  {
   "cell_type": "markdown",
   "metadata": {},
   "source": [
    "##### **(`PLUS`)** $ \\, n $ 개 사건이 독립 관계이려면, **모든 두 사건의 쌍들이 독립** 관계여야함"
   ]
  },
  {
   "cell_type": "markdown",
   "metadata": {},
   "source": [
    "<b></b>"
   ]
  },
  {
   "cell_type": "markdown",
   "metadata": {},
   "source": [
    "> ## (Theorem 1-7) **독립 사건의 합집합(Union of Independent Event)**"
   ]
  },
  {
   "cell_type": "markdown",
   "metadata": {},
   "source": [
    "#### $ \\, n $ 개의 사건이 독립관계일 때 확률의 합집합은 아래와 같다.\n",
    "#### $ \\Rightarrow{} P(A_{1}\\cup{}A_{2}\\cup{}\\cdots{}\\cup{}A_{n}) = P((A_{1}^{c}\\cap{}A_{2}^{c}\\cap{}\\cdots{}\\cup{}A_{n}^{c})^{c}) \\;\\; $ ( $ \\because{} \\, $ Theorem 1-1)\n",
    "#### $ \\hspace{4.025cm} = 1 - P(A_{1}^{c}\\cap{}A_{2}^{c}\\cap{}\\cdots{}\\cup{}A_{n}^{c}) $ \n",
    "#### $ \\hspace{4.025cm} = 1 - P(A_{1}^{c})P(A_{2}^{c})\\cdots{}P(A_{n}^{c}) $ "
   ]
  },
  {
   "cell_type": "markdown",
   "metadata": {},
   "source": [
    "<b></b>"
   ]
  },
  {
   "cell_type": "markdown",
   "metadata": {},
   "source": [
    "> ## (Theorem 1-8) **독립과 배반(서로소 집합)의 관계**"
   ]
  },
  {
   "cell_type": "markdown",
   "metadata": {},
   "source": [
    "#### 두 사건 $ A,\\; B $ 의 확률 $ \\; P(A) \\neq{} 0,\\; P(B) \\neq{} 0 $ 이고 두 사건이 배반 관계라면, 사건 $ A,\\; B $ 는 **독립 관계가 아니다**."
   ]
  },
  {
   "cell_type": "markdown",
   "metadata": {},
   "source": [
    "##### **(`PLUS`) 독립 관계(사건)와 배반 관계의 의미** :\n",
    "##### $ \\hspace{0.15cm} $ 만약 두 사건 $ \\, A,\\, B $ 가 독립 관계인 것은 $ \\, A $ 는 $ \\, B $ 에 대한 어떠한 정보를 전달하지 않는다는 의미이고\n",
    "##### $ \\hspace{0.15cm} $ 만약 $ \\, A,\\, B $ 가 배반 관계(disjoint set)인 것은 $ \\, A $ 와 $ B $ 가 동시에 일어날 수 없다는 의미임\n",
    "##### $ \\hspace{0.15cm} $ (물리적으로 독립상황인 것과는 다른 의미임)"
   ]
  },
  {
   "cell_type": "markdown",
   "metadata": {},
   "source": [
    "##### **(`WHY?`)** \n",
    "##### $ \\hspace{0.15cm} $ 주사위를 $ \\, 1 $ 회 던져 $ \\, 3 \\, $ 이하의 눈을 갖는 사건 $ \\, A $ 와 $ \\, 3 \\, $ 초과의 눈을 갖는 사건 $ \\, B $ 가 있을 때\n",
    "##### $ \\hspace{0.15cm} \\cdot{} \\, S = \\{ 1,\\, 2,\\, 3,\\, 4,\\, 5,\\, 6 \\},\\, A = \\{ 1,\\, 2,\\, 3 \\},\\, B = \\{ 4,\\, 5,\\, 6 \\},\\, A\\cap{}B = \\empty{} $\n",
    "##### $ \\hspace{0.15cm} \\cdot{} \\, P(A) = {{1}\\over{3}},\\, P(B) = {{1}\\over{3}}, \\,P(A\\cap{}B) = 0,\\, P(A|B) = P(B|A) = 0 $\n",
    "##### $ \\hspace{0.15cm} \\cdot{} \\, P(A)P(B) \\neq{} P(A|B) \\, \\text{ or } \\, P(A)P(B) \\neq{} P(B|A) $\n",
    "##### $ \\hspace{0.15cm} \\therefore{} A,\\, B \\text{ is not independt event, but disjoint event}. $"
   ]
  },
  {
   "cell_type": "markdown",
   "metadata": {},
   "source": [
    "<b></b>"
   ]
  },
  {
   "cell_type": "markdown",
   "metadata": {},
   "source": [
    "> ## (Theorem 1-9) **사건의 전체 확률의 법칙(Law of Total Probability)**"
   ]
  },
  {
   "cell_type": "markdown",
   "metadata": {},
   "source": [
    "#### 만약 사건 $ \\, B_{1},\\, B_{2},\\, \\cdots{} $ 가 표본 공간의 분할(partition)이고 사건 $ \\, B_{i} $ 의 합집합이 표본공간일 때, 사건 $ \\, A $ 의 확률은 아래와 같음\n",
    "#### $ \\Rightarrow{} P(A) = \\sum{}_{i=1}P(A\\cap{}B_{i}) = \\sum{}_{i=1} P(A|B_{i})P(B_{i}) \\;\\; \\text{ where } \\, B_{i}\\cap{}B_{j} = \\empty{}, \\;\\; \\cup{}_{i=1}B_{i} = S $\n",
    "<img src=\"../../img/01.4. Conditional Probability (1).png\" align=\"center\" width=\"30%\" height=\"30%\"></img>"
   ]
  },
  {
   "cell_type": "markdown",
   "metadata": {},
   "source": [
    "<b></b>"
   ]
  },
  {
   "cell_type": "markdown",
   "metadata": {},
   "source": [
    "> ## **베이즈 정리(Bayes Theorem)**"
   ]
  },
  {
   "cell_type": "markdown",
   "metadata": {},
   "source": [
    "#### **(1) 정의** : 조건부확률에서 어떠한 사건의 사전 확률 $ \\, P(A) $ 를 이용하여 새로운 사건 $ \\, B $ 를 고려해 사후 확률 $ \\, P(A|B) $ 를 갱신하는 정리\n",
    "#### $ \\Rightarrow{} P(A|B) = {{P(A\\cap{}B)}\\over{P(B)}} = {{P(B|A)P(A)}\\over{P(B)}} $"
   ]
  },
  {
   "cell_type": "markdown",
   "metadata": {},
   "source": [
    "##### **(`PLUS`)** 일반적으로 베이즈 정리는 **시간 종속적인 사건의 전후 확률**에 대하여 구하고자할 때 활용"
   ]
  },
  {
   "cell_type": "markdown",
   "metadata": {},
   "source": [
    "#### **(2) 정리의 확장** : \n",
    "#### 사건 $ \\, B_{1},\\, B_{2},\\, \\cdots{} $ 가 서로 분활 관계이고, 개별 사건 $ \\, B_{i} $ 의 합집합이 표본공간일 때 \n",
    "#### $ \\Rightarrow{} P(B_{i}|A) = {{P(A|B_{i})P(B_{i})}\\over{P(A)}} = {{P(A|B_{i})P(B_{i})}\\over{\\sum{}_{k=1}P(A|B_{k})P(B_{k})}} $"
   ]
  },
  {
   "cell_type": "markdown",
   "metadata": {},
   "source": [
    "##### **(`PLUS`) 확률의 동시발생(and) 조건과 조건부확률의 해석** :\n",
    "##### $ \\hspace{0.15cm} $ 한달 중 비가 오는 날을 사건 $ \\, A $, 한달 중 우산을 챙긴 날을 사건 $ \\, B $ 라고 할 때\n",
    "##### $ \\hspace{0.15cm} \\cdot{} \\, P(A) \\, $ : 한달 중 비가 오는 날의 확률\n",
    "##### $ \\hspace{0.15cm} \\cdot{} \\, P(B|A) \\, $ : 한달 중 비가 올 때 우산을 챙길 확률\n",
    "##### $ \\hspace{0.15cm} \\cdot{} \\, P(B|A)P(A) = P(A\\cap{}B) \\, $ : 비가 오는 날 우산을 들고 가는 날의 확률\n",
    "##### $ \\hspace{0.15cm} \\therefore{} P(A\\cap{}B) = P(A|B)P(B) = P(B|A)P(A) $"
   ]
  },
  {
   "cell_type": "markdown",
   "metadata": {},
   "source": [
    "#### **(3) 예시** :\n",
    "##### $ \\hspace{0.15cm} $ ① **[CONTENTS]**\n",
    "##### $ \\hspace{0.15cm} $ ② **[CONTENTS]**"
   ]
  },
  {
   "cell_type": "markdown",
   "metadata": {},
   "source": [
    "<b></b>"
   ]
  },
  {
   "cell_type": "markdown",
   "metadata": {},
   "source": [
    "> ## **조건부 독립(Conditional Independence)**"
   ]
  },
  {
   "cell_type": "markdown",
   "metadata": {},
   "source": [
    "#### **(1) 정의** : 두 독립 사건 $ \\, A,\\, B $ 에서 특정 사건 $ \\, C $ 이 두 사건에 발생했을 때의 관계\n",
    "#### $ \\Rightarrow{} P(A\\cap{}B|C) = P(A|C)P(B|C) $"
   ]
  }
 ],
 "metadata": {
  "kernelspec": {
   "display_name": "Python 3",
   "language": "python",
   "name": "python3"
  },
  "language_info": {
   "codemirror_mode": {
    "name": "ipython",
    "version": 3
   },
   "file_extension": ".py",
   "mimetype": "text/x-python",
   "name": "python",
   "nbconvert_exporter": "python",
   "pygments_lexer": "ipython3",
   "version": "3.8.12"
  },
  "orig_nbformat": 4
 },
 "nbformat": 4,
 "nbformat_minor": 2
}
