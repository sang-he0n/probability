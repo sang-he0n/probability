{
 "cells": [
  {
   "attachments": {},
   "cell_type": "markdown",
   "metadata": {},
   "source": [
    "# CH01.1. **Introduction**"
   ]
  },
  {
   "attachments": {},
   "cell_type": "markdown",
   "metadata": {},
   "source": [
    "> ## **무작위적 현상(Random Phenomena)**"
   ]
  },
  {
   "cell_type": "markdown",
   "metadata": {},
   "source": [
    "#### **(1) 정의** : 어떤 결과를 확실히 알 수 없는 실험 혹은 사건"
   ]
  },
  {
   "attachments": {},
   "cell_type": "markdown",
   "metadata": {},
   "source": [
    "#### **(2) 예시** :\n",
    "##### $ \\hspace{0.15cm} $ ① 동전 앞면 혹은 뒷면 맞추기\n",
    "##### $ \\hspace{0.15cm} $ ② 주사위 숫자 맞추기\n",
    "##### $ \\hspace{0.15cm} $ ③ 패킷 신호의 물리적 손실(packet loss) 예측하기\n",
    "##### $ \\hspace{0.15cm} $ ④ 주가 예측하기\n",
    "##### $ \\hspace{0.3cm} \\vdots{} $"
   ]
  },
  {
   "cell_type": "markdown",
   "metadata": {},
   "source": [
    "<b></b>"
   ]
  },
  {
   "cell_type": "markdown",
   "metadata": {},
   "source": [
    "> ## **확률의 해석(Interpretation of Probability)**"
   ]
  },
  {
   "cell_type": "markdown",
   "metadata": {},
   "source": [
    "#### **(1) 해석 방식** :\n",
    "##### $ \\hspace{0.15cm} $ ① 빈도 기반(빈도주의) : 동일한 상황에서 사건의 장기적 발생 빈도를 기반으로 확률을 해석 \n",
    "##### $ \\hspace{0.45cm} = $ 무작위 실험의 **극한값**으로 확률을 해석\n",
    "##### $ \\hspace{0.15cm} $ ② 믿음 기반(베이지안주의) : 특정 명제가 참일 **믿음 혹은 확신**으로 확률을 해석"
   ]
  },
  {
   "cell_type": "markdown",
   "metadata": {},
   "source": [
    "##### **(`PLUS`)** 베이지안 해석은 기존 빈도주의 기반 해석이 곤란한 사건(반복 시행할 수 없는 사건)에도 확률을 적용하기 위해 등장함"
   ]
  },
  {
   "cell_type": "markdown",
   "metadata": {},
   "source": [
    "#### **(2) 예시** :\n",
    "##### $ \\hspace{0.15cm} $ ① 동전의 앞면이 발생할 확률이 $ P(H) = 0.5 \\, \\rightarrow{} $ 빈도주의\n",
    "##### $ \\hspace{0.15cm} $ ② 오늘 커피를 먹고 싶을 확률은 $ P(C) = 0.65 \\, \\rightarrow{} $ 먹고 싶을 확률이 안 먹고 싶을 확률보다 **높다** $ \\rightarrow{} $ 베이지안주의"
   ]
  },
  {
   "cell_type": "markdown",
   "metadata": {},
   "source": [
    "##### **(`PLUS`)** 확률론은 확률의 해석 방식에 상관없이 동일한 수학적 도구(이론)를 제공함"
   ]
  },
  {
   "cell_type": "markdown",
   "metadata": {},
   "source": [
    "<b></b>"
   ]
  },
  {
   "cell_type": "markdown",
   "metadata": {},
   "source": [
    "> ## **확률론(Probability Theory)**"
   ]
  },
  {
   "cell_type": "markdown",
   "metadata": {},
   "source": [
    "#### **(1) 정의** : 무작위적 현상을 분석하고 묘사하는 수학적 체제"
   ]
  },
  {
   "cell_type": "markdown",
   "metadata": {},
   "source": [
    "#### **(2) 활용 분야** :\n",
    "##### $ \\hspace{0.15cm} $ ① 경제학 : 금융시장 주가\n",
    "##### $ \\hspace{0.15cm} $ ② 물리학 : 신호패킷신호\n",
    "##### $ \\hspace{0.15cm} $ ③ 의학 : 임상진단키트\n",
    "##### $ \\hspace{0.3cm} \\vdots{} $"
   ]
  },
  {
   "cell_type": "markdown",
   "metadata": {},
   "source": [
    "##### **(`PLUS`) 통계학에서 확률론이 필요한 이유** :\n",
    "##### $ \\hspace{0.15cm} $ 통계학은 데이터를 수집하여 유용한 정보를 얻고 설명하는 학문인데 데이터는 전부 수집할 수 없고 불확실하며,\n",
    "##### $ \\hspace{0.15cm} $ 이러한 불확실성을 확률론에 기반하여 수량화하고 관리하여 정당성을 얻는데 사용됨"
   ]
  }
 ],
 "metadata": {
  "kernelspec": {
   "display_name": "PYTCH",
   "language": "python",
   "name": "python3"
  },
  "language_info": {
   "codemirror_mode": {
    "name": "ipython",
    "version": 3
   },
   "file_extension": ".py",
   "mimetype": "text/x-python",
   "name": "python",
   "nbconvert_exporter": "python",
   "pygments_lexer": "ipython3",
   "version": "3.10.16"
  },
  "orig_nbformat": 4
 },
 "nbformat": 4,
 "nbformat_minor": 2
}
