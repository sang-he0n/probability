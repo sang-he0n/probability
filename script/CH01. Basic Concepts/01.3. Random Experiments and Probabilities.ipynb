{
 "cells": [
  {
   "attachments": {},
   "cell_type": "markdown",
   "metadata": {},
   "source": [
    "# CH01.3. **Random Experiments and Probabilities**"
   ]
  },
  {
   "attachments": {},
   "cell_type": "markdown",
   "metadata": {},
   "source": [
    "> ## **무작위 실험(Random Expreriments)**"
   ]
  },
  {
   "cell_type": "markdown",
   "metadata": {},
   "source": [
    "#### **(1) 정의** : 결과를 확실하게 예측할 수 없는 실험"
   ]
  },
  {
   "cell_type": "markdown",
   "metadata": {},
   "source": [
    "##### **(`PLUS`)** 이 때 확률적 결과를 가져오는 실험의 단위를 시행(시도; trial)이라고 정의함"
   ]
  },
  {
   "cell_type": "markdown",
   "metadata": {},
   "source": [
    "#### **(2) 예시** : \n",
    "##### $ \\hspace{0.15cm} $ ① (공평한) 동전 $2 $ 회 던지기 실험 결과 $ \\Rightarrow{} $ head-head(H, H), head-tail(H, T), tail-head(T, H), tail-tail(T, T)\n",
    "##### $ \\hspace{0.15cm} $ ② (공평한) 주사위 $1 $ 회 던지기 실험 결과 $ \\Rightarrow{} $ ⚀(1), ⚁(2), ⚂(3), ⚃(4), ⚄(5), ⚅(6)"
   ]
  },
  {
   "cell_type": "markdown",
   "metadata": {},
   "source": [
    "<b></b>"
   ]
  },
  {
   "cell_type": "markdown",
   "metadata": {},
   "source": [
    "> ## **표본 공간(Sample Space)**"
   ]
  },
  {
   "cell_type": "markdown",
   "metadata": {},
   "source": [
    "#### **(1) 정의** : 무작위 실험으로 부터 나올 수 있는 모든 결과를 모은 집합\n",
    "#### $ \\Rightarrow{} S \\Leftrightarrow{} \\Omega{} $"
   ]
  },
  {
   "cell_type": "markdown",
   "metadata": {},
   "source": [
    "#### **(2) 예시** :\n",
    "##### $ \\hspace{0.15cm} $ ① 동전을 $ 2 $회 연속 던질 경우의 표본 공간 $ S $ 을 구하고자 할 때\n",
    "##### $ \\hspace{0.45cm} \\cdot{} $ 실험 결과 : head-head(H, H), head-tail(H, T), tail-head(T, H), tail-tail(T, T)\n",
    "##### $ \\hspace{0.45cm} \\cdot{} $ 표본 공간 : $ S = \\{ (\\text{H}, \\text{H}), (\\text{H}, \\text{T}), (\\text{T}, \\text{H}), (\\text{T}, \\text{T}) \\} $\n",
    "##### $ \\hspace{0.15cm} $ ② 주사위 $ 1 $ 회 던질 경우의 표본 공간 $ S $ 을 구하고자 할 때\n",
    "##### $ \\hspace{0.45cm} \\cdot{} $ 실험 결과 : ⚀(1), ⚁(2), ⚂(3), ⚃(4), ⚄(5), ⚅(6)\n",
    "##### $ \\hspace{0.45cm} \\cdot{} $ 표본 공간 : $ S = \\{ 1, 2, 3, 4, 5, 6 \\} $"
   ]
  },
  {
   "cell_type": "markdown",
   "metadata": {},
   "source": [
    "<b></b>"
   ]
  },
  {
   "cell_type": "markdown",
   "metadata": {},
   "source": [
    "> ## **사건(Event)**"
   ]
  },
  {
   "cell_type": "markdown",
   "metadata": {},
   "source": [
    "#### **(1) 정의** : 표본 공간의 부분 집합"
   ]
  },
  {
   "cell_type": "markdown",
   "metadata": {},
   "source": [
    "#### **(2) 예시** : \n",
    "##### $ \\hspace{0.15cm} $ ① 동전을 $ 2 $ 회 연속 던질 때 앞면이 최소 $ 1 $ 개 나온 사건 $ A $ 가 있을 때\n",
    "##### $ \\hspace{0.45cm} \\cdot{} $ 실험 결과 : head-head(H, H), head-tail(H, T), tail-head(T, H), tail-tail(T, T)\n",
    "##### $ \\hspace{0.45cm} \\cdot{} $ 표본 공간 : $ S = \\{ (\\text{H}, \\text{H}), (\\text{H}, \\text{T}), (\\text{T}, \\text{H}), (\\text{T}, \\text{T}) \\} $\n",
    "##### $ \\hspace{0.45cm} \\cdot{} $ 사건 : $ A = \\{ (\\text{H}, \\text{H}), (\\text{H}, \\text{T}), (\\text{T}, \\text{H}) \\} $"
   ]
  },
  {
   "cell_type": "markdown",
   "metadata": {},
   "source": [
    "##### **(`PLUS`) 개별 시행 관점에서의 표본공간**\n",
    "##### $ \\hspace{0.45cm} \\cdot{} \\, 1 $ 번째 시도에서의 표본공간 : $ S_{1} = \\{ H, T \\} $ \n",
    "##### $ \\hspace{0.45cm} \\cdot{} \\, 2 $ 번째 시도에서의 표본공간 : $ S_{2} = \\{ H, T \\} $ \n",
    "##### $ \\hspace{0.45cm} \\cdot{} $ 표본 공간 : $ S = S_{1} \\times{} S_{2} = \\{ (\\text{H}, \\text{H}), (\\text{H}, \\text{T}), (\\text{T}, \\text{H}), (\\text{T}, \\text{T}) \\} $"
   ]
  },
  {
   "cell_type": "markdown",
   "metadata": {},
   "source": [
    "##### $ \\hspace{0.15cm} $ ② 주사위 $ 1 $ 회 던질 때 주사위 눈이 짝수 인 사건 $ B $ 가 있을 때 \n",
    "##### $ \\hspace{0.45cm} \\cdot{} $ 실험 결과 : ⚀(1), ⚁(2), ⚂(3), ⚃(4), ⚄(5), ⚅(6)\n",
    "##### $ \\hspace{0.45cm} \\cdot{} $ 표본 공간 : $ S = \\{ 1, 2, 3, 4, 5, 6 \\} $\n",
    "##### $ \\hspace{0.45cm} \\cdot{} $ 사건 : $ B = \\{ 2, 4, 6 \\} $"
   ]
  },
  {
   "cell_type": "markdown",
   "metadata": {},
   "source": [
    "<b></b>"
   ]
  },
  {
   "cell_type": "markdown",
   "metadata": {},
   "source": [
    "> ## **확률(Probability)**"
   ]
  },
  {
   "cell_type": "markdown",
   "metadata": {},
   "source": [
    "#### **(1) 정의** : 어떠한 사건이 발생할 수 있는 가능성을 정량화한 척도\n",
    "#### $ \\Rightarrow{} P(A) $"
   ]
  },
  {
   "cell_type": "markdown",
   "metadata": {},
   "source": [
    "#### **(2) 공리** :\n",
    "##### $ \\hspace{0.15cm} $ ① 어떠한 사건에 대하여 확률은 $ 0 $ 보다 큼 $ \\rightarrow{} \\, 0 \\leq{} P(A) $\n",
    "##### $ \\hspace{0.15cm} $ ② 표본 공간의 확률은 $ 1 $임 $ \\rightarrow{} \\, P(S) = 1 $\n",
    "##### $ \\hspace{0.15cm} $ ③ 개별 사건 $ A_{1}, A_{2}, \\cdots{}, A_{n} $ 가 서로소(disjoint) 관계의 사건이라면 그 합집합은 개별 확률의 합임  \n",
    "##### $ \\hspace{0.6cm} P(\\cup{}^{n}_{i=1}A_{i}) = P(S) = P(A_{1}) + P(A_{2}) + \\cdots{} + P(A_{n}) $"
   ]
  },
  {
   "cell_type": "markdown",
   "metadata": {},
   "source": [
    "#### **(3) 연산** :\n",
    "##### $ \\hspace{0.15cm} $ ① $ P(A^{c}) = 1 - P(A) $\n",
    "##### $ \\hspace{0.15cm} $ ② $ P(\\empty{}) = 0 $ \n",
    "##### $ \\hspace{0.15cm} $ ③ $ P(A-B) = P(A\\cap{}B^{c}) = P(A) - P(A\\cap{}B) $\n",
    "##### $ \\hspace{0.15cm} $ ④ $ P(A\\cup{}B) = P(A) + P(B) - P(A\\cap{}B) \\;\\; $ ( $ \\because{} $ Theorem 1-5)"
   ]
  },
  {
   "cell_type": "markdown",
   "metadata": {},
   "source": [
    "##### **(`PLUS`) AND, OR 논리 표기법** :\n",
    "##### $ \\hspace{0.15cm} \\cdot{} \\, P(A\\cup{}B) = P(A \\, \\text{ or } \\, B) $\n",
    "##### $ \\hspace{0.15cm} \\cdot{} \\, P(A\\cap{}B) = P(A \\, \\text{ and } \\, B) = P(A , B) $"
   ]
  },
  {
   "cell_type": "markdown",
   "metadata": {},
   "source": [
    "##### **(`PLUS`) 동등발생결과(Equally-Likely Outcome)** :\n",
    "##### $ \\hspace{0.15cm} $ 개별사건(원소사건)의 확률이 모두 동일할 때 동등발생결과라고 정의함"
   ]
  }
 ],
 "metadata": {
  "kernelspec": {
   "display_name": "Python 3",
   "language": "python",
   "name": "python3"
  },
  "language_info": {
   "codemirror_mode": {
    "name": "ipython",
    "version": 3
   },
   "file_extension": ".py",
   "mimetype": "text/x-python",
   "name": "python",
   "nbconvert_exporter": "python",
   "pygments_lexer": "ipython3",
   "version": "3.8.12"
  },
  "orig_nbformat": 4
 },
 "nbformat": 4,
 "nbformat_minor": 2
}
