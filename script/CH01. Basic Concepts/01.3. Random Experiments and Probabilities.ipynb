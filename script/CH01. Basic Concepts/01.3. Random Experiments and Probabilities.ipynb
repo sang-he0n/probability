{
 "cells": [
  {
   "attachments": {},
   "cell_type": "markdown",
   "metadata": {},
   "source": [
    "# CH01.3. **Random Experiments and Probabilities**"
   ]
  },
  {
   "attachments": {},
   "cell_type": "markdown",
   "metadata": {},
   "source": [
    "> ## **무작위 실험(Random Expreriment)**"
   ]
  },
  {
   "cell_type": "markdown",
   "metadata": {},
   "source": [
    "#### **(1) 정의** : 결과를 확실하게 예측할 수 없는 실험"
   ]
  },
  {
   "cell_type": "markdown",
   "metadata": {},
   "source": [
    "##### **(`PLUS`)** 무작위 실험의 단위를 시행(trial)이라고 정의함"
   ]
  },
  {
   "cell_type": "markdown",
   "metadata": {},
   "source": [
    "<b></b>"
   ]
  },
  {
   "cell_type": "markdown",
   "metadata": {},
   "source": [
    "> ## **표본 공간(Sample Space)**"
   ]
  },
  {
   "cell_type": "markdown",
   "metadata": {},
   "source": [
    "#### **(1) 정의** : 무작위 실험으로 부터 나올 수 있는 모든 결과를 모은 집합\n",
    "#### $ \\Rightarrow{} \\Omega{} = \\{ s_{1}, s_{2}, \\cdots{} \\} $"
   ]
  },
  {
   "cell_type": "markdown",
   "metadata": {},
   "source": [
    "#### **(2) 예시** :\n",
    "##### $ \\hspace{0.15cm} $ ① (공평한) 동전을 $ 1 $회 연속 던질 경우 그 표본 공간 $ \\Omega{}_{i} $을 구하고자 할 때\n",
    "##### $ \\hspace{0.45cm} \\therefore{} \\Omega{}_{i} = \\{ \\text{H}, \\text{T} \\} $\n",
    "##### $ \\hspace{0.15cm} $ ② 동전을 $ 2 $회 던질 경우 그 표본 공간 $ \\Omega{} $을 구하고자 할 때\n",
    "##### $ \\hspace{0.45cm} \\therefore{} \\Omega{} = \\Omega{}_{1} \\times{} \\Omega{}_{2} = \\{ (\\text{H, H}), (\\text{H, T}), (\\text{T, H}), (\\text{T, T}) \\} $"
   ]
  },
  {
   "cell_type": "markdown",
   "metadata": {},
   "source": [
    "<b></b>"
   ]
  },
  {
   "cell_type": "markdown",
   "metadata": {},
   "source": [
    "> ## **사건(Event)**"
   ]
  },
  {
   "cell_type": "markdown",
   "metadata": {},
   "source": [
    "#### **(1) 정의** : 표본 공간의 부분집합"
   ]
  },
  {
   "cell_type": "markdown",
   "metadata": {},
   "source": [
    "##### **(`PLUS`)** 사건의 크기가 $ 1 $인 경우 이 사건을 근원사건(elementary event)이라고 정의함"
   ]
  },
  {
   "cell_type": "markdown",
   "metadata": {},
   "source": [
    "#### **(2) 예시** : \n",
    "##### $ \\hspace{0.15cm} $ ① 동전을 $ 2 $회 연속 던질 때 앞면이 최소 $ 1 $개 나온 사건 $ A $를 구하고자 할 때\n",
    "##### $ \\hspace{0.45cm} \\Omega{} = \\{ (\\text{H}, \\text{H}), (\\text{H}, \\text{T}), (\\text{T}, \\text{H}), (\\text{T}, \\text{T}) \\} $\n",
    "##### $ \\hspace{0.45cm} \\therefore{} A = \\{ (\\text{H}, \\text{H}), (\\text{H}, \\text{T}), (\\text{T}, \\text{H}) \\} $\n",
    "##### $ \\hspace{0.15cm} $ ② 주사위 $ 1 $회 던질 때 주사위 눈이 짝수인 사건 $ B $를 구하고자 할 때 \n",
    "##### $ \\hspace{0.45cm} \\Omega{} = \\{ 1, 2, 3, 4, 5, 6 \\} $\n",
    "##### $ \\hspace{0.45cm} \\therefore{} B = \\{ 2, 4, 6 \\} $"
   ]
  },
  {
   "cell_type": "markdown",
   "metadata": {},
   "source": [
    "<b></b>"
   ]
  },
  {
   "cell_type": "markdown",
   "metadata": {},
   "source": [
    "> ## **확률(Probability)**"
   ]
  },
  {
   "cell_type": "markdown",
   "metadata": {},
   "source": [
    "#### **(1) 정의** : 표본 공간에서 어떠한 사건이 발생할 수 있는 정도를 정량화한 척도\n",
    "#### $ \\Rightarrow{} P(A) $ "
   ]
  },
  {
   "cell_type": "markdown",
   "metadata": {},
   "source": [
    "#### **(2) 공리** :\n",
    "##### $ \\hspace{0.15cm} $ ① 표본 공간의 확률은 $ 1 $임 \n",
    "##### $ \\hspace{0.45cm} \\Rightarrow{} P(\\Omega{}) = 1 $\n",
    "##### $ \\hspace{0.15cm} $ ② 모든 확률은 $ 0 $보다 크고 $ 1 $보다 작음 \n",
    "##### $ \\hspace{0.45cm} \\Rightarrow{} 0 \\leq{} P(A) \\leq{} 1 $\n",
    "##### $ \\hspace{0.15cm} $ ③ 사건 $ A_{1}, A_{2}, \\cdots{}, A_{n} $가 서로소(disjoint) 관계라면 그 합집합은 개별 확률의 합임  \n",
    "##### $ \\hspace{0.45cm} \\Rightarrow{} P(\\cup{}^{n}_{i=1}A_{i}) = P(A_{1}) + P(A_{2}) + \\cdots{} + P(A_{n}) \\;\\; \\text{ if } \\; P(A_{i}) \\cap{} P(A_{k}) = \\empty{}, \\;\\; i \\neq{} k $"
   ]
  },
  {
   "cell_type": "markdown",
   "metadata": {},
   "source": [
    "#### **(3) 연산** :\n",
    "##### $ \\hspace{0.15cm} $ ① $ P(A^{c}) = 1 - P(A) $\n",
    "##### $ \\hspace{0.15cm} $ ② $ P(\\empty{}) = 0 $ \n",
    "##### $ \\hspace{0.15cm} $ ③ $ P(A-B) = P(A\\cap{}B^{c}) = P(A) - P(A\\cap{}B) $\n",
    "##### $ \\hspace{0.15cm} $ ④ $ P(A\\cup{}B) = P(A) + P(B) - P(A\\cap{}B) \\;\\; $ ($ \\because{} $ Theorem 1-5)"
   ]
  },
  {
   "cell_type": "markdown",
   "metadata": {},
   "source": [
    "##### **(`PLUS`) 합집합과 교집합 표기법** :\n",
    "##### $ \\hspace{0.15cm} \\cdot{} \\, P(A\\cup{}B) = P(A \\, \\text{ or } \\, B) $\n",
    "##### $ \\hspace{0.15cm} \\cdot{} \\, P(A\\cap{}B) = P(A \\, \\text{ and } \\, B) = P(A , B) $"
   ]
  },
  {
   "cell_type": "markdown",
   "metadata": {},
   "source": [
    "<b></b>"
   ]
  },
  {
   "cell_type": "markdown",
   "metadata": {},
   "source": [
    "> ## **동등 발생 결과(Equally-Likely Outcome)**"
   ]
  },
  {
   "cell_type": "markdown",
   "metadata": {},
   "source": [
    "##### **(1) 정의** : 근원 사건의 확률이 모두 동일할 때 그 결과(근원 사건)\n",
    "##### $ \\hspace{0.15cm} \\Rightarrow{} P(\\omega{}_{i}) = \\frac{1}{n} \\;\\; \\text{ where } \\; \\Omega{} = \\{ \\omega{}_{1}, \\omega{}_{2}, \\cdots{}, \\omega{}_{n} \\} $"
   ]
  },
  {
   "cell_type": "markdown",
   "metadata": {},
   "source": [
    "##### **(`PLUS`)** 표본 공간 $ S $의 근원 사건이 동등 발생 결과일 경우, 어떠한 사건의 확률은 다음과 같이 정의됨\n",
    "##### $ \\Rightarrow{} P(A) = \\frac{|A|}{|S|} $"
   ]
  }
 ],
 "metadata": {
  "kernelspec": {
   "display_name": "Python 3",
   "language": "python",
   "name": "python3"
  },
  "language_info": {
   "codemirror_mode": {
    "name": "ipython",
    "version": 3
   },
   "file_extension": ".py",
   "mimetype": "text/x-python",
   "name": "python",
   "nbconvert_exporter": "python",
   "pygments_lexer": "ipython3",
   "version": "3.8.12"
  },
  "orig_nbformat": 4
 },
 "nbformat": 4,
 "nbformat_minor": 2
}
