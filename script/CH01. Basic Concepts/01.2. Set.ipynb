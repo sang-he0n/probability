{
 "cells": [
  {
   "attachments": {},
   "cell_type": "markdown",
   "metadata": {},
   "source": [
    "# CH01.2. **Set**"
   ]
  },
  {
   "attachments": {},
   "cell_type": "markdown",
   "metadata": {},
   "source": [
    "> ## **집합(Set)**"
   ]
  },
  {
   "cell_type": "markdown",
   "metadata": {},
   "source": [
    "#### **(1) 정의** : 어떤 아이템, 객체 혹은 요소들의 **유일하고, 순서를 고려하지 않는** 모음\n",
    "#### $ \\Rightarrow{} \\{ \\cdots{} \\} $"
   ]
  },
  {
   "attachments": {},
   "cell_type": "markdown",
   "metadata": {},
   "source": [
    "#### **(2) 예시** :\n",
    "##### $ \\hspace{0.15cm} $ ① $ \\{ 😀, 😡 \\} $\n",
    "##### $ \\hspace{0.15cm} $ ② $ \\{ 1, 2, 3, 4 \\} $\n",
    "##### $ \\hspace{0.15cm} $ ③ $ \\{ $가$ , $나$ , $다$ \\} $"
   ]
  },
  {
   "cell_type": "markdown",
   "metadata": {},
   "source": [
    "##### **(`PLUS`)** 집합은 요소 간 순서(order)가 존재하지 않음 \n",
    "##### $ \\Rightarrow{} \\{ 😀, 😡 \\} = \\{ 😡, 😀 \\} $"
   ]
  },
  {
   "cell_type": "markdown",
   "metadata": {},
   "source": [
    "#### **(3) 포함 관계** : 집합 $ A = \\{ 😀, 😡 \\} $가 존재할 때 아래가 성립함\n",
    "##### $ \\hspace{0.15cm} $ ① 요소 😀가 집합 $ A $ 에 속함 $ \\; \\Rightarrow{} 😀 \\in{} A $\n",
    "##### $ \\hspace{0.15cm} $ ② 요소 😭가 집합 $ A $ 에 속하지 않음 $ \\; \\Rightarrow{} 😭 \\notin{} A $"
   ]
  },
  {
   "cell_type": "markdown",
   "metadata": {},
   "source": [
    "#### **(4) 수의 체계 표현** :\n",
    "##### $ \\hspace{0.15cm} $ ① 자연수(Natural Number) : $ \\mathbb{N} = \\{ 1, 2, 3, \\cdots{} \\} $\n",
    "##### $ \\hspace{0.15cm} $ ② 정수(Integer) : $ \\mathbb{Z} = \\{ \\cdots{}, -1, 0, 1, 2, 3, \\cdots{} \\} $\n",
    "##### $ \\hspace{0.15cm} $ ③ 유리수(Rational Number) : $ \\mathbb{Q} = \\{ \\frac{p}{q} \\; | \\; p \\in{} \\mathbb{Z}, q \\in{} \\mathbb{N} \\} = \\{ \\cdots{} , -{\\frac{2}{6}}, \\cdots{}, 0, \\cdots{}, {\\frac{2}{5}}, \\cdots{} \\}$\n",
    "##### $ \\hspace{0.15cm} $ ④ 실수(Real Number) : $ \\mathbb{R} = \\{ \\cdots{}, -1, -0.001, -0.1, 0, 1, \\cdots{}, \\pi{}, \\cdots{} \\} $"
   ]
  },
  {
   "cell_type": "markdown",
   "metadata": {},
   "source": [
    "#### **(5) 수의 범위 표현** : \n",
    "##### $ \\hspace{0.15cm} $ ① 열린 구간(Open Interval) : $ a < x < b = (a, b) = \\{ x \\; | \\; a < x < b \\}  $\n",
    "##### $ \\hspace{0.15cm} $ ② 닫힌 구간(Closed Interval) : $ a \\leq{} x \\leq{} b = [a, b] = \\{ x \\; | \\; a \\leq{} x \\leq{} b \\}  $"
   ]
  },
  {
   "cell_type": "markdown",
   "metadata": {},
   "source": [
    "<b></b>"
   ]
  },
  {
   "cell_type": "markdown",
   "metadata": {},
   "source": [
    "> ## **부분집합(Subset)**"
   ]
  },
  {
   "cell_type": "markdown",
   "metadata": {},
   "source": [
    "#### **(1) 정의** : 어떠한 집합 $ A $의 모든 요소가 다른 집합 $ B $에도 존재할 때의 그 집합 $ A $\n",
    "#### $ \\Rightarrow{} A \\subset{} B $"
   ]
  },
  {
   "cell_type": "markdown",
   "metadata": {},
   "source": [
    "#### **(2) 포함 관계** : 집합 $ A = \\{ 😀, 😡 \\} $와 집합 $ B = \\{ 😀, 😡, 🥹 \\} $가 존재할 때 아래가 성립함\n",
    "##### $ \\hspace{0.15cm} $ ① $ A $는 $ B $의 부분집합임 $ \\; \\Rightarrow{} A \\subset{} B $ \n",
    "##### $ \\hspace{0.15cm} $ ② $ B $는 $ A $의 부분집합이 아님 $ \\; \\Rightarrow{} B \\not\\subset{} A $ "
   ]
  },
  {
   "cell_type": "markdown",
   "metadata": {},
   "source": [
    "##### **(`PLUS`)** 이 때 집합 $ B $를 집합 $ A $의 초집합(superset)이라고 정의함"
   ]
  },
  {
   "cell_type": "markdown",
   "metadata": {},
   "source": [
    "<b></b>"
   ]
  },
  {
   "cell_type": "markdown",
   "metadata": {},
   "source": [
    "> ## **공집합(Empty set; Null set)**"
   ]
  },
  {
   "cell_type": "markdown",
   "metadata": {},
   "source": [
    "#### **(1) 정의** : 요소를 하나도 갖지 않는 집합\n",
    "#### $ \\Rightarrow{} \\emptyset{} = \\{ \\} $"
   ]
  },
  {
   "cell_type": "markdown",
   "metadata": {},
   "source": [
    "<b></b>"
   ]
  },
  {
   "cell_type": "markdown",
   "metadata": {},
   "source": [
    "> ## **벤 다이어그램(Venn Diagram)**"
   ]
  },
  {
   "cell_type": "markdown",
   "metadata": {},
   "source": [
    "#### **(1) 정의** : 두 개 이상 집합 간의 논리적 관계를 표현하는 시각적 도구"
   ]
  },
  {
   "cell_type": "markdown",
   "metadata": {},
   "source": [
    "#### **(2) 예시** :\n",
    "##### $ \\hspace{0.15cm} $ ① $ A = \\{ 1 \\} \\subset{} S = \\{ 1, 2, 3 \\} $ \n",
    "##### $ \\hspace{0.45cm} $ <img src=\"../../img/01.2. Sets (1).png\" width=\"30%\" height=\"30%\"></img>\n",
    "##### $ \\hspace{0.15cm} $ ② $ A \\subset{} B \\subset{} S $ \n",
    "##### $ \\hspace{0.45cm} $ <img src=\"../../img/01.2. Sets (2).png\" width=\"30%\" height=\"30%\"></img>"
   ]
  },
  {
   "cell_type": "markdown",
   "metadata": {},
   "source": [
    "<b></b>"
   ]
  },
  {
   "cell_type": "markdown",
   "metadata": {},
   "source": [
    "> ## **집합 연산(Set Opearation)**"
   ]
  },
  {
   "cell_type": "markdown",
   "metadata": {},
   "source": [
    "#### **(1) 정의** : "
   ]
  },
  {
   "cell_type": "markdown",
   "metadata": {},
   "source": [
    "#### **(2) 종류** : \n",
    "#### $ \\hspace{0.15cm} $ ① 합집합(Union) : 두 집합의 모든 원소를 포함하는 집합 \n",
    "#### $ \\hspace{0.45cm} \\Rightarrow{} A \\cup{} B $ \n",
    "#### $ \\hspace{0.15cm} $ ② 교집합(Intersection) : 두 집합의 공통 요소를 포함하는 집합 \n",
    "#### $ \\hspace{0.45cm} \\Rightarrow{} A \\cap{} B $\n",
    "#### $ \\hspace{0.15cm} $ ③ 여집합(Complement) : 전체 집합 중 특정 집합의 요소를 제외한 집합 \n",
    "#### $ \\hspace{0.45cm} \\Rightarrow{} A^{c} $\n",
    "#### $ \\hspace{0.15cm} $ ④ 차집합(Subtraction ; Difference) : 한 집합에서 다른 집합의 요소를 제외한 집합 \n",
    "#### $ \\hspace{0.45cm} \\Rightarrow{} A - B = A \\cap{} B^{c} $\n",
    "#### $ \\hspace{0.15cm} $ ⑤ 서로소 집합(Disjoint) : 두 집합이 공통된 요소를 갖지 않을 때의 집합 \n",
    "#### $ \\hspace{0.45cm} \\Rightarrow{} A \\cap{} B = \\empty{} $"
   ]
  },
  {
   "cell_type": "markdown",
   "metadata": {},
   "source": [
    "##### **(`PLUS`)** $ A_{1} \\cup{} A_{2} \\cup{} A_{3} \\cup{} A_{4} \\cdots{} \\cup A_{n} = \\cup{}_{i=1}^{n} A_{i} $"
   ]
  },
  {
   "cell_type": "markdown",
   "metadata": {},
   "source": [
    "##### **(`PLUS`)** $ A_{1} \\cap{} A_{2} \\cap{} A_{3} \\cap{} A_{4} \\cdots{} \\cap A_{n} = \\cap{}_{i=1}^{n} A_{i} $"
   ]
  },
  {
   "cell_type": "markdown",
   "metadata": {},
   "source": [
    "#### **(6) 예시** : \n",
    "#### $ \\hspace{0.15cm} $ ① $ \\{ 1, 2, 3 \\} \\cup{} \\{ 1, 4, 5 \\} = \\{ 1, 2, 3, 4, 5 \\} $\n",
    "#### $ \\hspace{0.45cm} $ <img src=\"../../img/01.2. Sets (3).png\" width=\"30%\" height=\"30%\"></img>\n",
    "#### $ \\hspace{0.15cm} $ ② $ \\{ 1, 2, 3 \\} \\cap{} \\{ 1, 4, 5 \\} = \\{ 1 \\} $\n",
    "#### $ \\hspace{0.45cm} $ <img src=\"../../img/01.2. Sets (4).png\" width=\"30%\" height=\"30%\"></img>\n",
    "#### $ \\hspace{0.15cm} $ ③ $ A^{c} = \\{ 4, 5 \\} \\;\\; \\text{ where } \\; S = \\{ 1, 2, 3, 4, 5 \\} \\supset{} A = \\{ 1, 2, 3 \\} $\n",
    "#### $ \\hspace{0.45cm} $ <img src=\"../../img/01.2. Sets (5).png\" width=\"30%\" height=\"30%\"></img>\n",
    "#### $ \\hspace{0.15cm} $ ④ $ \\{ 1, 2, 3 \\} \\cap{} \\{ 1, 4, 5 \\} = \\{ 2, 3 \\} $\n",
    "#### $ \\hspace{0.45cm} $ <img src=\"../../img/01.2. Sets (6).png\" width=\"30%\" height=\"30%\"></img>\n",
    "#### $ \\hspace{0.15cm} $ ⑤ $ \\{ 1, 2, 3 \\} \\cap{} \\{ 6, 8 \\}= \\empty{} $\n",
    "#### $ \\hspace{0.45cm} $ <img src=\"../../img/01.2. Sets (7).png\" width=\"30%\" height=\"30%\"></img>"
   ]
  },
  {
   "cell_type": "markdown",
   "metadata": {},
   "source": [
    "<b></b>"
   ]
  },
  {
   "cell_type": "markdown",
   "metadata": {},
   "source": [
    "> ## **분할(Partition)**"
   ]
  },
  {
   "cell_type": "markdown",
   "metadata": {},
   "source": [
    "#### **(1) 정의** : 공집합이 아니면서 **여러 개의 집합의 합을 통해 특정 집합이 되는** 부분 집합\n",
    "#### $ \\Rightarrow{} A = \\cup{}^{n}_{i=1}A_{i} $\n",
    "<img src=\"../../img/01.2. Sets (8).png\" width=\"30%\" height=\"30%\"></img>"
   ]
  },
  {
   "cell_type": "markdown",
   "metadata": {},
   "source": [
    "#### **(2) 예시** :\n",
    "##### $ \\hspace{0.15cm} $ ① $ A = \\{ 1,\\; 2,\\; 3,\\; 4,\\; 5 \\}, \\;\\; A_{1} = \\{ 1 \\}, \\;\\; A_{2} = \\{ 2,\\; 4 \\}, \\;\\; A_{3} = \\{ 3,\\; 5 \\} $ \n",
    "##### $ \\hspace{0.45cm} \\therefore{} A_{1} \\cup{} A_{2} \\cup{} A_{3} = \\cup{}^{3}_{i=1}A_{i} = A = \\{ 1,\\; 2,\\; 3,\\; 4,\\; 5 \\} $\n",
    "##### $ \\hspace{0.15cm} $ ② **[CONTENTS]**"
   ]
  },
  {
   "cell_type": "markdown",
   "metadata": {},
   "source": [
    "<b></b>"
   ]
  },
  {
   "cell_type": "markdown",
   "metadata": {},
   "source": [
    "> ## (Theorem 1-1) **De Morgan's Law**"
   ]
  },
  {
   "cell_type": "markdown",
   "metadata": {},
   "source": [
    "#### 논리 연산에서 논리합(OR)은 논리곱(AND)과 부정기호(NOT)로, 논리곱은 논리합과 부정기호로 표현할 수 있다.\n",
    "#### **(1)** $ ( \\cup{}_{i=1}^{n} A_{i} )^{c} = \\cap{}_{i=1}^{n} A_{i}^{c} $\n",
    "<p align=\"center\">  \n",
    "    <img src=\"../../img/01.2. Sets (9).png\" align=\"center\" width=\"25%\" height=\"25%\"></img>  \n",
    "    <img src=\"../../img/01.2. Sets (10).png\" align=\"center\" width=\"25%\" height=\"25%\"></img>  \n",
    "    <img src=\"../../img/01.2. Sets (11).png\" align=\"center\" width=\"25%\" height=\"25%\"></img>  \n",
    "</p>"
   ]
  },
  {
   "cell_type": "markdown",
   "metadata": {},
   "source": [
    "#### **(2)** $ ( \\cap{}_{i=1}^{n} A_{i} )^{c} = \\cup{}_{i=1}^{n} A_{i}^{c} $\n",
    "<p align=\"center\">  \n",
    "    <img src=\"../../img/01.2. Sets (9).png\" align=\"center\" width=\"25%\" height=\"25%\"></img>\n",
    "    <img src=\"../../img/01.2. Sets (10).png\" align=\"center\" width=\"25%\" height=\"25%\"></img>  \n",
    "    <img src=\"../../img/01.2. Sets (12).png\" align=\"center\" width=\"25%\" height=\"25%\"></img>  \n",
    "</p>"
   ]
  },
  {
   "cell_type": "markdown",
   "metadata": {},
   "source": [
    "<b></b>"
   ]
  },
  {
   "cell_type": "markdown",
   "metadata": {},
   "source": [
    "> ## (Theorem 1-2) **Distributive Law of set**"
   ]
  },
  {
   "cell_type": "markdown",
   "metadata": {},
   "source": [
    "#### 집합 $ A, B, C $ 가 존재할 때 아래의 식이 성립한다.\n",
    "#### **(1)** $ A \\cap{} ( B \\cup{} C ) = ( A \\cap{} B ) \\cup{} ( A \\cap{} C ) $"
   ]
  },
  {
   "cell_type": "markdown",
   "metadata": {},
   "source": [
    "#### **(2)** $ A \\cup{} ( B \\cap{} C ) = ( A \\cup{} B ) \\cap{} ( A \\cup{} C ) $"
   ]
  },
  {
   "cell_type": "markdown",
   "metadata": {},
   "source": [
    "<b></b>"
   ]
  },
  {
   "cell_type": "markdown",
   "metadata": {},
   "source": [
    "> ## **곱집합(Product Set;Cartesian Product)**"
   ]
  },
  {
   "cell_type": "markdown",
   "metadata": {},
   "source": [
    "#### **(1) 정의** : 두 개 이상의 집합에서 요소를 하나씩 뽑아 만든 모든 **순서쌍**의 집합"
   ]
  },
  {
   "cell_type": "markdown",
   "metadata": {},
   "source": [
    "#### **(2) 예시 :**\n",
    "##### $ \\hspace{0.15cm} $ ① 집합 $ A = \\{ 1,\\; 2 \\},\\; B = \\{ a,\\; b,\\; c \\} $ 가 존재할 때\n",
    "##### $ \\hspace{0.45cm} A \\times{} B = \\{ (1,a),\\; (1,b),\\; (1,c),\\; (2,a),\\; (2,b),\\; (2,c) \\} $\n",
    "##### $ \\hspace{0.45cm} B \\times{} A = \\{ (a,1),\\; (a,2),\\; (b,1),\\; (b,2),\\; (c,1),\\; (c,2) \\} $"
   ]
  },
  {
   "cell_type": "markdown",
   "metadata": {},
   "source": [
    "##### **(`PLUS`)** 곱집합은 원소의 순서를 고려하기 때문에 $ (1,a) \\neq{} (a,1) $ 이고, $ A \\times{} B \\neq{} B \\times{} A $"
   ]
  },
  {
   "cell_type": "markdown",
   "metadata": {},
   "source": [
    "##### $ \\hspace{0.15cm} $ ② $ \\mathbb{R} \\times{} \\mathbb{R} = \\{ (x,\\; y) \\; | \\; x \\in \\mathbb{R},\\; y \\in \\mathbb{R} \\} = \\mathbb{R}^{2} $ (space)"
   ]
  },
  {
   "cell_type": "markdown",
   "metadata": {},
   "source": [
    "<b></b>"
   ]
  },
  {
   "cell_type": "markdown",
   "metadata": {},
   "source": [
    "> ## **가산 집합(Countable set)**"
   ]
  },
  {
   "cell_type": "markdown",
   "metadata": {},
   "source": [
    "#### **(1) 정의** : 집합의 요소들을 자연수와 일대일 대응(one-to-one correspondence)할 수 있는 집합"
   ]
  },
  {
   "cell_type": "markdown",
   "metadata": {},
   "source": [
    "##### **(`PLUS`)** 집합의 요소들을 자연수와 일대일 대응할 수 없는 경우, 불가산 집합(uncountable set)이라고 정의함"
   ]
  },
  {
   "cell_type": "markdown",
   "metadata": {},
   "source": [
    "#### **(3) 예시** :\n",
    "##### $ \\hspace{0.15cm} $ ① 유한 집합(finite set) : $ A = \\{ 1,\\; 2 \\},\\; B = \\{ a,\\; b,\\; c \\},\\; \\cdots{} $ \n",
    "##### $ \\hspace{0.15cm} $ ② 무한 집합(inifinite)이고 가산할 수 있는(countable) 집합 : $ \\; \\mathbb{N} $ (자연수), $ \\; \\mathbb{Z} $ (정수), $ \\; \\mathbb{Q} $ (유리수)\n",
    "##### $ \\hspace{0.15cm} $ ③ 무한 집합(inifinite)이고 가산할 수 없는(uncountable) 집합 : $ \\; \\mathbb{R} $ (실수)"
   ]
  },
  {
   "cell_type": "markdown",
   "metadata": {},
   "source": [
    "##### **(`WHY?`)** 유리수 집합이 가산 집합인 이유 : **[[ℹ]](http://www.math.cmu.edu/~wgunther/127m12/notes/CSB.pdf)**"
   ]
  },
  {
   "cell_type": "markdown",
   "metadata": {},
   "source": [
    "<b></b>"
   ]
  },
  {
   "cell_type": "markdown",
   "metadata": {},
   "source": [
    "> ## (Theorem 1-3) **가산 집합과 부분 집합의 관계**"
   ]
  },
  {
   "cell_type": "markdown",
   "metadata": {},
   "source": [
    "#### **(1)** 가산 집합의 부분 집합은 가산 집합이다."
   ]
  },
  {
   "cell_type": "markdown",
   "metadata": {},
   "source": [
    "#### **(2)** 불가산 집합의 구간(부분 집합)은 불가산 집합이다."
   ]
  },
  {
   "cell_type": "markdown",
   "metadata": {},
   "source": [
    "#### **(3)** 불가산 집합의 초집합은 불가산 집합이다."
   ]
  },
  {
   "cell_type": "markdown",
   "metadata": {},
   "source": [
    "<b></b>"
   ]
  },
  {
   "cell_type": "markdown",
   "metadata": {},
   "source": [
    "> ## (Theorem 1-4) **가산 집합과 집합 연산의 관계**"
   ]
  },
  {
   "cell_type": "markdown",
   "metadata": {},
   "source": [
    "#### **(1)** 집합 $ A_{1}, \\; A_{2}, \\; \\cdots{} $ 가 가산 집합이면, 이 집합들의 합집합도 가산 집합이다."
   ]
  },
  {
   "cell_type": "markdown",
   "metadata": {},
   "source": [
    "#### **(2)** 두 집합이 가산 집합이면, 두 집합의 곱집합도 가산 집합이다."
   ]
  },
  {
   "cell_type": "markdown",
   "metadata": {},
   "source": [
    "<b></b>"
   ]
  },
  {
   "cell_type": "markdown",
   "metadata": {},
   "source": [
    "> ## **집합의 크기(Cardinality)**"
   ]
  },
  {
   "cell_type": "markdown",
   "metadata": {},
   "source": [
    "#### **(1) 정의** : 집합의 요소의 개수(사이즈)\n",
    "#### $ \\Rightarrow{} \\; | \\{ a_{1},\\; a_{2},\\; \\cdots{},\\; a_{n} \\} | = n $"
   ]
  },
  {
   "cell_type": "markdown",
   "metadata": {},
   "source": [
    "#### **(2) 예시** :\n",
    "##### $ \\hspace{0.15cm} $ ① 유한 집합(finite set)\n",
    "##### $ \\hspace{0.45cm} |\\{ 1,\\; 2 \\}| = 2,\\; |\\{ a,\\; b,\\; c \\}| = 3,\\; \\cdots{} $ \n",
    "##### $ \\hspace{0.15cm} $ ② 무한 집합(inifinite)이고 가산할 수 있는(countable) 집합\n",
    "##### $ \\hspace{0.45cm} |\\mathbb{N}| = |\\mathbb{Z}| = |\\mathbb{Q}| = \\aleph{},\\; \\cdots{} $\n",
    "##### $ \\hspace{0.15cm} $ ③ 무한 집합(inifinite)이고 가산할 수 없는(uncountable) 집합\n",
    "##### $ \\hspace{0.45cm} |\\mathbb{R}| = 2^{\\aleph{}},\\; \\cdots{} $"
   ]
  },
  {
   "cell_type": "markdown",
   "metadata": {},
   "source": [
    "##### **(`PLUS`)** 집합론에서 $ \\aleph{} $ (aleph null)는 가장 작은 무한수를 의미함"
   ]
  },
  {
   "cell_type": "markdown",
   "metadata": {},
   "source": [
    "<b></b>"
   ]
  },
  {
   "cell_type": "markdown",
   "metadata": {},
   "source": [
    "> ## (Theorem 1-5) **포함배제의 원리(Inclusion-exclusion principle)**"
   ]
  },
  {
   "cell_type": "markdown",
   "metadata": {},
   "source": [
    "#### **유한 집합**에서 여러 개의 합집합의 크기를 구할 때 아래와 같다.\n",
    "#### $ \\Rightarrow{} | \\cup{}_{i=1}^{n} A_{i} | = \\sum{}_{i=1}^{n}|A_{i}| - \\sum{}_{i<j}^{n}|A_{i}\\cap{}A_{j}| + \\sum_{i<j<k}^{n}|A_{i}\\cap{}A_{j}\\cap{}A_{k}| - \\cdots{} + (-1)^{n+1}|\\cap{}_{i=1}^{n}A_{i}| $"
   ]
  }
 ],
 "metadata": {
  "kernelspec": {
   "display_name": "PYTCH",
   "language": "python",
   "name": "python3"
  },
  "language_info": {
   "codemirror_mode": {
    "name": "ipython",
    "version": 3
   },
   "file_extension": ".py",
   "mimetype": "text/x-python",
   "name": "python",
   "nbconvert_exporter": "python",
   "pygments_lexer": "ipython3",
   "version": "3.10.16"
  },
  "orig_nbformat": 4
 },
 "nbformat": 4,
 "nbformat_minor": 2
}
