{
 "cells": [
  {
   "attachments": {},
   "cell_type": "markdown",
   "metadata": {},
   "source": [
    "# CH07.3. **Interval Estimation**"
   ]
  },
  {
   "cell_type": "markdown",
   "metadata": {},
   "source": [
    "> ## **구간 추정량(Interval Estimatior)**"
   ]
  },
  {
   "cell_type": "markdown",
   "metadata": {},
   "source": [
    "#### **(1) 정의** : \n",
    "#### 무작위 표본 확률 변수 $X_{1}, X_{2}, \\cdots{}, X_{n} $가 모수 $\\theta{} $를 갖는 분포에서 추출됐을 때, 모수 $\\theta{} $를 구간으로 추정하는 통계적 방법  \n",
    "#### $= $추정량 $[\\hat{\\Theta{}}_{l}, \\hat{\\Theta{}}_{u}] $의 구간 안에 모수 $\\theta{} $존재할 확률, 즉 신뢰수준(confidence level)이 $(1 - \\alpha{}) $인 통계적 추정 방법\n",
    "#### $ \\Rightarrow{} P(\\hat{\\Theta}_{l} \\leq{} \\theta{} \\leq{} \\hat{\\Theta}_{u}) \\geq{} 1 - \\alpha{} \\;\\; \\text{ for every possible value of } \\, \\theta{} $\n",
    "#### $ \\hspace{4.4cm} \\text{ where } \\; \\hat{\\Theta{}}_{lower} = h_{1}(X_{1}, X_{2}, \\cdots{}, X_{n}), \\hat{\\Theta{}}_{upper} = h_{2}(X_{1}, X_{2}, \\cdots{}, X_{n}) $"
   ]
  },
  {
   "cell_type": "markdown",
   "metadata": {},
   "source": [
    "##### **(`PLUS`)** 추정량 $[\\hat{\\Theta{}}_{l}, \\hat{\\Theta{}}_{u}] $의 구간은 신뢰구간(confidence interval)이라고 정의함"
   ]
  },
  {
   "cell_type": "markdown",
   "metadata": {},
   "source": [
    "##### **(`PLUS`)** 점추정은 추정의 정확도나 불확실성에 대한 정보를 제공하지 않기 때문에, 이를 보완하여 신뢰수준라는 값을 이용함"
   ]
  },
  {
   "cell_type": "markdown",
   "metadata": {},
   "source": [
    "#### **(2) 신뢰 구간의 해석** : \n",
    "#### **[GRAPH]**\n",
    "#### $ \\Rightarrow{} $신뢰구간은 확률 변수이기 때문에 다양한 표본에서 **반복해서 구간을 계산**할 경우, 그 중 약 $(1 - \\alpha{}) \\times{} 100 \\% $는 실제 모수 $\\theta{} $를 포함할 것임"
   ]
  },
  {
   "cell_type": "markdown",
   "metadata": {},
   "source": [
    "##### **(`PLUS`) 잘못된 해석** :\n",
    "##### $P(\\hat{\\theta{}}_{l}=61.1 \\leq{} \\theta{} \\leq{} \\hat{\\theta{}}_{u} = 80.3 ) = 1 - \\alpha{} \\Rightarrow{} $모수가 $61.1 $및 $80.3 $안에 있을 확률이 $(1-\\alpha) $임 (❌)"
   ]
  },
  {
   "cell_type": "markdown",
   "metadata": {},
   "source": [
    "##### **(`WHY?`)** 이미 **추정치로써 그 구간이 계산**된 후이기 때문에, 신뢰 구간의 개념이 적용되지 않음"
   ]
  },
  {
   "cell_type": "markdown",
   "metadata": {},
   "source": [
    "#### **(3) 계산 방법** :\n",
    "#### **[GRAPH]**\n",
    "#### $P(x_{l} \\leq{} X \\leq{} x_{h}) = 1 - \\alpha{} \\Leftrightarrow{} P(x_{l} \\geq{} X \\;\\; \\text{or} \\;\\; X \\leq{} x_{h}) = \\alpha{} $\n",
    "#### $P(x_{l} \\geq{} X ) = \\frac{\\alpha{}}{2}, \\;\\;  P(X \\leq{} x_{h}) = \\frac{\\alpha{}}{2} \\;\\; $(**편의상 등분하여 정의**)\n",
    "#### $F_{X}(x_{l}) = \\frac{\\alpha{}}{2}, \\;\\;  F_{X}(x_{h}) = 1 - \\frac{\\alpha{}}{2} $\n",
    "#### $F_{X}^{-1}(\\frac{\\alpha{}}{2}) = x_{l}, \\;\\;  F_{X}^{-1}(1 - \\frac{\\alpha{}}{2}) = x_{h} $\n",
    "#### $[F_{X}^{-1}(\\frac{\\alpha{}}{2}), F_{X}^{-1}(1 - \\frac{\\alpha{}}{2})] \\, : \\, \\text{confidence interval for } \\, X $\n",
    "#### $\\therefore{} P(F_{X}^{-1}(\\frac{\\alpha{}}{2})\\leq{}X\\leq{}F_{X}^{-1}(1 - \\frac{\\alpha{}}{2})) = 1 - \\alpha{} $"
   ]
  },
  {
   "cell_type": "markdown",
   "metadata": {},
   "source": [
    "##### **(`PLUS`) Percent Point Function($F_{X}^{-1} $)의 정의** : 주어진 확률에 해당하는 확률 변수가 따르는 분포의 위치를 찾는 함수"
   ]
  },
  {
   "cell_type": "markdown",
   "metadata": {},
   "source": [
    "#### **(4) 예시** : \n",
    "##### $ \\hspace{0.15cm} $ ① 표준정규분포를 따르는 확률 변수 $Z $에 대하여 신뢰구간 $95 \\% $인 신뢰구간을 구하고자 할 때 \n",
    "##### $ \\hspace{0.55cm} = $$Z $가 $95 \\% $확률로 실제값(이론적으로 정확한 값)이 위치할 확률을 구하고자 할 때 \n",
    "##### $ \\hspace{0.45cm} \\cdot{} P(\\varPhi{}^{-1}(\\frac{\\alpha{}}{2})\\leq{}Z\\leq{}\\varPhi{}^{-1}(1-\\frac{\\alpha{}}{2})) = 1 - \\alpha{} = 0.95 $\n",
    "##### $ \\hspace{0.45cm} \\therefore{} P(-1.96\\leq{}Z\\leq{}1.96) = 0.95 $"
   ]
  },
  {
   "cell_type": "markdown",
   "metadata": {},
   "source": [
    "##### **(`PLUS`)** 일반적으로 $\\varPhi{}^{-1}(\\frac{\\alpha{}}{2}) = -z_{\\frac{\\alpha{}}{2}} $으로 표기하며, z critical value라고 정의함 "
   ]
  },
  {
   "cell_type": "markdown",
   "metadata": {},
   "source": [
    "##### $ \\hspace{0.15cm} $ ② **[CONTENTS]**"
   ]
  },
  {
   "cell_type": "markdown",
   "metadata": {},
   "source": [
    "<b></b>"
   ]
  },
  {
   "cell_type": "markdown",
   "metadata": {},
   "source": [
    "> ## **대표본일 때 모평균 구간 추정(Mean Confidence Interval in Large sample)**"
   ]
  },
  {
   "cell_type": "markdown",
   "metadata": {},
   "source": [
    "#### **(1) 모분산을 알고있는 경우** : \n",
    "#### 표본 확률 변수 $X_{1}, X_{2}, \\cdots{} ,X_{n} $가 정규분포를 따르지 않는 경우, 중심극한정리(CLT)를 이용하여 **근사**함\n",
    "#### $\\bar{X} = \\frac{X_{1} + X_{2} + \\cdots{} + X_{n}}{n}, \\, Z = \\frac{\\bar{X} - \\mu{}}{\\sigma{}/\\sqrt{n}} \\sim{} N(0, 1) $\n",
    "#### $ \\Rightarrow{} P(-z_{\\frac{\\alpha{}}{2}} \\leq{} Z \\leq{} z_{\\frac{\\alpha{}}{2}}) = P(-z_{\\frac{\\alpha{}}{2}} \\leq{} \\frac{\\bar{X} - \\mu{}}{\\sigma{}/\\sqrt{n}} \\leq{} z_{\\frac{\\alpha{}}{2}}) = P(\\bar{X} - z_{\\frac{\\alpha{}}{2}} \\cdot{} \\frac{\\sigma{}}{\\sqrt{n}} \\leq{} \\mu{} \\leq{} \\bar{X} + z_{\\frac{\\alpha{}}{2}} \\cdot{} \\frac{\\sigma{}}{\\sqrt{n}}) = 1 - \\alpha{} $"
   ]
  },
  {
   "cell_type": "markdown",
   "metadata": {},
   "source": [
    "##### **(`PLUS`) 특정 신뢰 수준하에서 적절한 표본크기** :\n",
    "##### **[GRAPH]**\n",
    "##### $ \\hspace{0.15cm} \\cdot{} $interval width : $w = 2 \\cdot{} z_{\\frac{\\alpha{}}{2}} \\cdot{} \\frac{\\sigma{}}{\\sqrt{n}} $\n",
    "##### $ \\hspace{0.15cm} \\cdot{} $margin of error : $m = \\frac{w}{2} = z_{\\frac{\\alpha{}}{2}} \\cdot{} \\frac{\\sigma{}}{\\sqrt{n}} $\n",
    "##### $ \\hspace{0.15cm} \\Rightarrow{} $sample size : $n = (2 \\cdot{} z_{\\frac{\\alpha{}}{2}} \\cdot{} \\frac{\\sigma{}}{w})^{2} $"
   ]
  },
  {
   "cell_type": "markdown",
   "metadata": {},
   "source": [
    "#### **(2) 모분산을 모르는 경우** : \n",
    "#### 표본 확률 변수가 정규분포를 따르지 않는 경우, CLT를 이용하고 모분산($\\sigma{}^{2} $)을 **추정하여 근사**함\n",
    "#### $ \\hspace{0.15cm} $ ① (가능한 경우) 모분산의 상한($\\sigma{}^{2} \\leq{} \\sigma{}_{\\text{max}}^{2} $)을 이용하는 방법 (보수적인 방법)\n",
    "#### $ \\hspace{0.6cm} \\cdot{} f(\\theta{}) = \\text{var}(X_{i}), \\;\\; \\text{ where } \\; X_{i} \\sim{} \\text{distribution}(\\theta{}) $\n",
    "#### $ \\hspace{0.6cm} \\cdot{} \\sigma{}^{2} = \\sigma{}_{\\text{max}}^{2} = f(\\widetilde{\\theta{}}) \\;\\; \\text{ where } \\; \\frac{\\text{d}}{\\text{d}\\theta{}} f(\\widetilde{\\theta{}}) = 0, \\;\\; \\frac{\\text{d}^{2}}{\\text{d}\\theta{}^{2}} f(\\widetilde{\\theta{}}) < 0 $ \n",
    "#### $ \\hspace{0.6cm} \\Rightarrow{} P(\\bar{X} - z_{\\frac{\\alpha{}}{2}} \\cdot{} \\frac{\\sigma{}_{\\text{max}}^{2}}{\\sqrt{n}} \\leq{} \\mu{} \\leq{} \\bar{X} + z_{\\frac{\\alpha{}}{2}} \\cdot{} \\frac{\\sigma{}_{\\text{max}}^{2}}{\\sqrt{n}}) = 1 - \\alpha{} $\n",
    "#### $ \\hspace{0.15cm} $ ② 점 추정량 표본 분산($S^{2} $)을 이용하는 방법 (일반적인 방법) \n",
    "#### $ \\hspace{0.6cm} \\cdot{} \\sigma{}^{2} \\approx{} S^{2} = \\frac{1}{n-1} [\\sum^{n}_{i=1}X_{i}^{2} - n \\cdot{} \\bar{X}^{2}] $\n",
    "#### $ \\hspace{0.6cm} \\Rightarrow{} P(\\bar{X} - z_{\\frac{\\alpha{}}{2}} \\cdot{} \\frac{S}{\\sqrt{n}} \\leq{} \\mu{} \\leq{} \\bar{X} + z_{\\frac{\\alpha{}}{2}} \\cdot{} \\frac{S}{\\sqrt{n}}) = 1 - \\alpha{} $"
   ]
  },
  {
   "cell_type": "markdown",
   "metadata": {},
   "source": [
    "#### **(3) 예시** :\n",
    "##### $ \\hspace{0.15cm} $ ① **[CONTENTS]**\n",
    "##### $ \\hspace{0.15cm} $ ② **[CONTENTS]**"
   ]
  },
  {
   "cell_type": "markdown",
   "metadata": {},
   "source": [
    "<b></b>"
   ]
  },
  {
   "cell_type": "markdown",
   "metadata": {},
   "source": [
    "> ## **카이제곱 분포(Chi-squared Distribution)**"
   ]
  },
  {
   "cell_type": "markdown",
   "metadata": {},
   "source": [
    "#### **(1) 정의** : 무작위 표본 확률 변수 $Z_{1}, Z_{2}, \\cdots{}, Z_{n} $가 독립적인 표준정규분포를 따를 때, 이들의 합으로 정의된 확률 변수가 따르는 분포\n",
    "#### $ \\Rightarrow{} f(Y=y) = \\begin{cases} \\frac{y^{\\frac{n}{2}-1}e^{-\\frac{y}{2}}}{2^{\\frac{n}{2}}\\Gamma{}(\\alpha{})}, \\;\\; y > 0 \\\\ 0, \\;\\;\\;\\;\\;\\;\\;\\;\\;\\;\\;\\, y \\leq{} 0 \\end{cases} \\;\\; \\text{ where } \\; Y = Z_{1} + \\cdots{} + Z_{n} $\n",
    "#### **[GRAPH]**"
   ]
  },
  {
   "cell_type": "markdown",
   "metadata": {},
   "source": [
    "##### **(`PLUS`) 확률 변수의 정의** :\n",
    "##### 확률 변수 $Y $는 자유도가 $n $인 카이제곱 분포를 따름\n",
    "##### ※ 자유도(degree of freedom) :  데이터 내에서 독립적으로 값을 취할 수 있는 관측치의 수\n",
    "##### $ \\Rightarrow{} Z_{1} + \\cdots{} + Z_{n} = Y \\sim{} \\chi{}^{2}(n) \\;\\; \\text{ where } \\; Z_{i} \\sim{} \\text{i.i.d.} \\;  N(0, 1) $"
   ]
  },
  {
   "cell_type": "markdown",
   "metadata": {},
   "source": [
    "#### **(2) 누적 분포 함수** :\n",
    "#### $ \\Rightarrow{} F(Y=y) = $**[LATEX]**"
   ]
  },
  {
   "cell_type": "markdown",
   "metadata": {},
   "source": [
    "##### **(`PLUS`) 카이제곱 분포와 감마 분포의 관계** :\n",
    "##### 자유도 $n $인 카이제곱 분포를 따른다는 의미는 $$**[CONTENTS]** 인 감마분포를 따른다는 것과 같음\n",
    "##### $ \\Rightarrow{} Y \\sim{} \\chi{}^{2}(n) = \\text{Gamma}(\\alpha{}=\\frac{n}{2}, \\lambda{}=\\frac{1}{2}) $"
   ]
  },
  {
   "cell_type": "markdown",
   "metadata": {},
   "source": [
    "#### **(3) 기댓값** : $E(Y) = n $"
   ]
  },
  {
   "cell_type": "markdown",
   "metadata": {},
   "source": [
    "#### **(4) 분산** : $\\text{var}(X) = 2n $"
   ]
  },
  {
   "cell_type": "markdown",
   "metadata": {},
   "source": [
    "##### **(`PLUS`)** 일반적으로 $P(Y>\\chi{}^{2}_{p,n}) = p $일 때, $\\chi{}^{2}_{p,n} $을 chi-sequared critical value라고 정의함 "
   ]
  },
  {
   "cell_type": "markdown",
   "metadata": {},
   "source": [
    "<b></b>"
   ]
  },
  {
   "cell_type": "markdown",
   "metadata": {},
   "source": [
    "> ## (Theorem 7-1) **표본 분산의 카이제곱 분포(Chi-Squared Distribution of $S^{2} $)**"
   ]
  },
  {
   "cell_type": "markdown",
   "metadata": {},
   "source": [
    "#### 무작위 표본 확률 변수 $X_{1}, X_{2}, \\cdots{}, X_{n} $가 독립적인 정규분포를 따를 때, 이들의 표본 평균과 모분산으로 이루어진 확률 변수는 \n",
    "#### 자유도가 $n - 1 $인 카이제곱 분포를 따른다.\n",
    "#### $ \\Rightarrow{} \\frac{(n-1)S^{2}}{\\sigma{}^{2}} = \\frac{1}{\\sigma{}^{2}} \\sum^{n}_{i=1}(X_{i}-\\bar{X})^{2} = Y \\sim{} \\chi{}^{2}(n-1) = \\text{Gamma}(\\alpha{}=\\frac{n-1}{2}, \\lambda{}=\\frac{1}{2}) \\;\\; \\text{ where } \\; X_{i} \\sim{} \\text{i.i.d.} \\;  N(\\mu{}, \\sigma{}^{2}) $"
   ]
  },
  {
   "cell_type": "markdown",
   "metadata": {},
   "source": [
    "##### **(`PLUS`)** 이 때 정규분포의 표본 평균 $\\bar{X} $와 표본 분산 $S^{2} $은 독립 관계임"
   ]
  },
  {
   "cell_type": "markdown",
   "metadata": {
    "vscode": {
     "languageId": "plaintext"
    }
   },
   "source": [
    "<b></b>"
   ]
  },
  {
   "cell_type": "markdown",
   "metadata": {},
   "source": [
    "> ## **t 분포(t Distribution)**"
   ]
  },
  {
   "cell_type": "markdown",
   "metadata": {},
   "source": [
    "#### **(1) 정의** : 확률 변수 $Z $는 표준정규분포를 따르고, $Y $는 카이제곱분포를 따르며 두 확률 변수가 독립 관계일 때, 이들의 조합 $T $가 따르는 분포 \n",
    "#### $ \\Rightarrow{} f(T=t) = \\frac{\\Gamma{}(\\frac{n+1}{2})}{\\sqrt{n\\pi{}}\\cdot{}\\Gamma{}(\\frac{n}{2})} (1+\\frac{t^{2}}{n})^{-\\frac{n+1}{2}} \\;\\; \\text{ where } \\; T = \\frac{Z}{\\sqrt{Y/n}} $"
   ]
  },
  {
   "cell_type": "markdown",
   "metadata": {},
   "source": [
    "##### **(`PLUS`) 확률 변수의 정의** :\n",
    "##### 확률 변수 $T $는 자유도가 $n $인 t 분포를 따름\n",
    "##### $ \\Rightarrow{} \\frac{Z}{\\sqrt{Y/n}} = T \\sim{} t(n) \\;\\; \\text{ where } \\; Z \\sim{} N(0, 1), \\;\\; Y \\sim{} \\chi{}^{2}(n) $"
   ]
  },
  {
   "cell_type": "markdown",
   "metadata": {},
   "source": [
    "#### **(2) 누적 분포 함수** :\n",
    "#### $ \\Rightarrow{} F(T=t) = $**[LATEX]**"
   ]
  },
  {
   "cell_type": "markdown",
   "metadata": {},
   "source": [
    "#### **(3) 기댓값** : $E(T) = 0 \\;\\; $for $n > 1 \\;\\; $(**undefined** for $n = 1 $)"
   ]
  },
  {
   "cell_type": "markdown",
   "metadata": {},
   "source": [
    "#### **(4) 분산** : $\\text{var}(X) = \\frac{n}{n-2} \\;\\; $for $n > 2 \\;\\; $(**undefined** for $n = 1, \\; 2 $)"
   ]
  },
  {
   "cell_type": "markdown",
   "metadata": {},
   "source": [
    "#### **(5) 성질** :\n",
    "##### $ \\hspace{0.15cm} $ ① 대칭성\n",
    "##### $ \\hspace{0.15cm} $ ② 정규성 수렴 : $n $이 무한히 커진다면, t 분포는 표준정규분포에 수렴함\n",
    "##### $ \\hspace{2.1cm} t(n) \\xrightarrow{\\text{d}} N(0, 1) $"
   ]
  },
  {
   "cell_type": "markdown",
   "metadata": {},
   "source": [
    "##### **(`PLUS`)** 일반적으로 $P(T>t_{p,n}) = p $일 때, $t_{p,n} $을 t critical value라고 정의함 "
   ]
  },
  {
   "cell_type": "markdown",
   "metadata": {},
   "source": [
    "<b></b>"
   ]
  },
  {
   "cell_type": "markdown",
   "metadata": {},
   "source": [
    "> ## (Theorem 7-2) **정규화를 통한 t분포(Normalization t-Distribution)**"
   ]
  },
  {
   "cell_type": "markdown",
   "metadata": {},
   "source": [
    "#### 무작위 표본 확률 변수 $X_{1}, X_{2}, \\cdots{}, X_{n} $가 독립적인 정규분포를 따를 때, 이들의 표본 평균과 표본 표준편차로 정규화한 확률 변수 $T $는 \n",
    "#### 자유도가 $n - 1 $인 t 분포를 따른다.\n",
    "#### $ \\Rightarrow{} \\frac{\\bar{X}-\\mu{}}{S/\\sqrt{n}} = T \\sim{} t(n-1) \\;\\; \\text{ where } \\; X_{i} \\sim{} \\text{i.i.d} \\; N(\\mu{}, \\sigma{}^{2}) $"
   ]
  },
  {
   "cell_type": "markdown",
   "metadata": {},
   "source": [
    "##### **(`WHY?`)**\n",
    "##### $ \\hspace{0.15cm} $**[CONTENTS]**"
   ]
  },
  {
   "cell_type": "markdown",
   "metadata": {},
   "source": [
    "<b></b>"
   ]
  },
  {
   "cell_type": "markdown",
   "metadata": {},
   "source": [
    "> ## **소표본일 때 모평균 구간 추정(Mean Confidence Interval in Small sample)**"
   ]
  },
  {
   "cell_type": "markdown",
   "metadata": {},
   "source": [
    "#### **(`PLUS`) 소표본의 모평균 추정** : \n",
    "#### 소표본의 경우 중심극한정리를 사용할 수 없음, 이 때 표본 확률 변수의 분포를 알 수 있으면 자체 신뢰구간을 개발할 수 있지만\n",
    "#### 모른다면 비모수 방법(non-parametic methods)을 사용해야함. \n",
    "#### 해당 장에서는 **모집단(=표본 확률 변수)이 정규분포를 따르는 경우**에만을 소개함"
   ]
  },
  {
   "cell_type": "markdown",
   "metadata": {},
   "source": [
    "#### **(1) 모분산을 알고있는 경우** : \n",
    "#### 표본 확률 변수 $X_{1}, X_{2}, \\cdots{} ,X_{n} $가 **정규분포를 따를 경우**, 정규분포를 이용하여 **추정**함\n",
    "#### $\\bar{X} = \\frac{X_{1} + X_{2} + \\cdots{} + X_{n}}{n}, \\, Z = \\frac{\\bar{X} - \\mu{}}{\\sigma{}/\\sqrt{n}} \\sim{} N(0, 1) $\n",
    "#### $ \\Rightarrow{} P(-z_{\\frac{\\alpha{}}{2}} \\leq{} Z \\leq{} z_{\\frac{\\alpha{}}{2}}) = P(-z_{\\frac{\\alpha{}}{2}} \\leq{} \\frac{\\bar{X} - \\mu{}}{\\sigma{}/\\sqrt{n}} \\leq{} z_{\\frac{\\alpha{}}{2}}) = P(\\bar{X} - z_{\\frac{\\alpha{}}{2}} \\cdot{} \\frac{\\sigma{}}{\\sqrt{n}} \\leq{} \\mu{} \\leq{} \\bar{X} + z_{\\frac{\\alpha{}}{2}} \\cdot{} \\frac{\\sigma{}}{\\sqrt{n}}) = 1 - \\alpha{} $"
   ]
  },
  {
   "cell_type": "markdown",
   "metadata": {},
   "source": [
    "#### **(2) 모분산을 모르는 경우** : \n",
    "#### 표본 확률 변수 $X_{1}, X_{2}, \\cdots{} ,X_{n} $가 **정규분포를 따를 경우**, 정규화를 통한 t 분포를 이용하여 **추정**함\n",
    "#### $\\bar{X} = \\frac{X_{1} + X_{2} + \\cdots{} + X_{n}}{n}, \\, T = \\frac{\\bar{X} - \\mu{}}{S/\\sqrt{n}} \\sim{} T(n-1) $\n",
    "#### $ \\Rightarrow{} P(-t_{\\frac{\\alpha{}}{2},n-1} \\leq{} T \\leq{} t_{\\frac{\\alpha{}}{2},n-1}) = P(-t_{\\frac{\\alpha{}}{2},n-1} \\leq{} \\frac{\\bar{X} - \\mu{}}{S/\\sqrt{n}} \\leq{} t_{\\frac{\\alpha{}}{2},n-1}) $\n",
    "#### $ \\hspace{4.2875cm} = P(\\bar{X} - t_{\\frac{\\alpha{}}{2},n-1} \\cdot{} \\frac{S}{\\sqrt{n}} \\leq{} \\mu{} \\leq{} \\bar{X} + t_{\\frac{\\alpha{}}{2},n-1} \\cdot{} \\frac{S}{\\sqrt{n}}) = 1 - \\alpha{} $"
   ]
  },
  {
   "cell_type": "markdown",
   "metadata": {},
   "source": [
    "#### **(3) 예시** :\n",
    "#### $ \\hspace{0.15cm} $ ① **[CONTENTS]**\n",
    "#### $ \\hspace{0.15cm} $ ② **[CONTENTS]**"
   ]
  }
 ],
 "metadata": {
  "kernelspec": {
   "display_name": "Python 3",
   "language": "python",
   "name": "python3"
  },
  "language_info": {
   "codemirror_mode": {
    "name": "ipython",
    "version": 3
   },
   "file_extension": ".py",
   "mimetype": "text/x-python",
   "name": "python",
   "nbconvert_exporter": "python",
   "pygments_lexer": "ipython3",
   "version": "3.8.12"
  },
  "orig_nbformat": 4
 },
 "nbformat": 4,
 "nbformat_minor": 2
}
