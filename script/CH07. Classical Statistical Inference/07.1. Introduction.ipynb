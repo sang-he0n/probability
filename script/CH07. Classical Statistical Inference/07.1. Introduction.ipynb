{
 "cells": [
  {
   "attachments": {},
   "cell_type": "markdown",
   "metadata": {},
   "source": [
    "# CH07.1. **Introduction**"
   ]
  },
  {
   "cell_type": "markdown",
   "metadata": {},
   "source": [
    "> ## **통계적 추론(Statistical Inference)**"
   ]
  },
  {
   "cell_type": "markdown",
   "metadata": {},
   "source": [
    "#### **(1) 정의** : 데이터의 무작위적 변동성으로부터 신뢰성있는 결론을 도출하는 방법론의 집합"
   ]
  },
  {
   "cell_type": "markdown",
   "metadata": {},
   "source": [
    "#### **(2) 종류** :\n",
    "##### $\\hspace{0.15cm} $① 빈도주의적 추정 : \n",
    "##### $\\hspace{0.45cm} \\cdot{} $모집단에서 반복적으로 샘플링을 수행했을 때 관측될 수 있는 장기적 빈도를 기반으로 추정\n",
    "##### $\\hspace{0.45cm} \\cdot{} $모수는 고정된 상수(non-random quantity)로써 점추정, 구간추정을 통해 모델링함\n",
    "##### $\\hspace{0.15cm} $② 베이지안 추정 : \n",
    "##### $\\hspace{0.45cm} \\cdot{} $사전 지식과 새로운 데이터를 결합하여 추정\n",
    "##### $\\hspace{0.45cm} \\cdot{} $모수는 확률변수로써 불확실성을 확률로 모델링함"
   ]
  },
  {
   "cell_type": "markdown",
   "metadata": {},
   "source": [
    "<b></b>"
   ]
  },
  {
   "cell_type": "markdown",
   "metadata": {},
   "source": [
    "> ## **모집단과 표본(Population and Sample)**"
   ]
  },
  {
   "cell_type": "markdown",
   "metadata": {},
   "source": [
    "#### **(1) 모집단의 정의** : 관심 있는 정보를 얻고자 하는 요소들의 **전체 집합**"
   ]
  },
  {
   "cell_type": "markdown",
   "metadata": {},
   "source": [
    "#### **(2) 표본의 정의** : 모집단의 부분집합(subset)"
   ]
  },
  {
   "cell_type": "markdown",
   "metadata": {},
   "source": [
    "##### **(`PLUS`)** 통계적 추론은 모집단으로부터 얻고자하는 정보를 표본으로부터 추정하는 것을 의미함"
   ]
  },
  {
   "cell_type": "markdown",
   "metadata": {},
   "source": [
    "<b></b>"
   ]
  },
  {
   "cell_type": "markdown",
   "metadata": {},
   "source": [
    "> ## **무작위 표본추출(Random Sample)**"
   ]
  },
  {
   "cell_type": "markdown",
   "metadata": {},
   "source": [
    "#### **(1) 정의** : 모집단의 각 요소들이 동등발생결과로(동일한 확률로) 선택한 부분집합\n",
    "#### $= $모집단 $Y $의 분포를 따르며 독립항등분포인 확률변수 $X_{1}, X_{2}, \\cdots{}, X_{n} $의 부분집합\n",
    "#### $\\Rightarrow{} F_{X_{1}}(x) = F_{X_{2}}(x) = \\cdots{} = F_{X_{n}}(x) = F_{Y}(x) \\;\\; \\text{ where } \\, X_{i} \\sim{} \\text{i.i.d} $"
   ]
  },
  {
   "cell_type": "markdown",
   "metadata": {},
   "source": [
    "#### **(2) 가정** :\n",
    "##### $\\hspace{0.15cm} $① 모집단과 같은 분포\n",
    "##### $\\hspace{0.15cm} $② 독립적 추출\n",
    "##### $\\hspace{0.45cm} \\cdot{} $중복을 허용한 표본추출(sampling with replacement)\n",
    "##### $\\hspace{0.45cm} \\cdot{} $동등발생결과(equally-likely outcome) : 추출된 모든 표본이 선택될 확률이 동일함"
   ]
  },
  {
   "cell_type": "markdown",
   "metadata": {},
   "source": [
    "##### **(`PLUS`)** 위 두 가정을 만족하면 단순 무작위 추출(simple random sampling)이라고 정의함"
   ]
  },
  {
   "cell_type": "markdown",
   "metadata": {},
   "source": [
    "<b></b>"
   ]
  },
  {
   "cell_type": "markdown",
   "metadata": {},
   "source": [
    "> ## **통계적 추정(Statistical Estimation)**"
   ]
  },
  {
   "cell_type": "markdown",
   "metadata": {},
   "source": [
    "#### **(1) 정의** : 표본을 통해 모집단의 분포를 특징짓는 수치인 모수(parameter)를 추정하는 방법"
   ]
  },
  {
   "cell_type": "markdown",
   "metadata": {},
   "source": [
    "#### **(2) 종류** :\n",
    "##### $\\hspace{0.15cm} $① 점 추정 \n",
    "##### $\\hspace{0.15cm} $② 구간 추정 "
   ]
  },
  {
   "cell_type": "markdown",
   "metadata": {},
   "source": [
    "<b></b>"
   ]
  },
  {
   "cell_type": "markdown",
   "metadata": {},
   "source": [
    "> ## **추정량과 추정치(Estimator and Estimation)**"
   ]
  },
  {
   "cell_type": "markdown",
   "metadata": {},
   "source": [
    "#### **(1) 추정량** : 모집단의 모수(parameter)를 추정하기 위해 사용되는 통계적 방법(함수) "
   ]
  },
  {
   "cell_type": "markdown",
   "metadata": {},
   "source": [
    "#### **(2) 추정치** : 추정량에 기반해 실제 측정된(realized) 값"
   ]
  },
  {
   "cell_type": "markdown",
   "metadata": {},
   "source": [
    "#### **(3) 예시** :\n",
    "##### $\\hspace{0.15cm} $① 총 $A, B, C $의 후보자 중 $A $의 지지율를 통계적 추론을 통해 도출하고자하는 경우\n",
    "##### $\\hspace{0.45cm} \\cdot{} \\, \\theta{} $: 모든 유권자 중 어떤 후보자의 지지율\n",
    "##### $\\hspace{0.45cm} \\cdot{} \\, S = \\{ 0, 1, 2, \\cdots{} \\} $: 가능한 후보자 $A $를 지지한 유권자의 수\n",
    "##### $\\hspace{0.45cm} \\cdot{} \\, n $: (무작위) 표본 추출 수 \n",
    "##### $\\hspace{0.45cm} \\cdot{} \\, X_{n} $: 표본 추출된 유권자 중 후보자 $A $를 지지한 사람 수\n",
    "##### $\\hspace{0.45cm} \\therefore{} \\frac{1}{n} \\cdot{} X_{n} \\xrightarrow{\\text{계산}} \\hat{\\theta{}} \\xrightarrow{\\text{추정}} \\theta{} \\;\\; $(점추정)\n",
    "##### $\\hspace{0.15cm} $② 한국인의 평균 키(cm)를 통계적 추론을 통해 도출하고자하는 경우\n",
    "##### $\\hspace{0.45cm} \\cdot{} \\, \\mu{} $: 모든 한국인의 키의 평균\n",
    "##### $\\hspace{0.45cm} \\cdot{} \\, S_{i} = \\{ 0, 0.1, \\cdots{}, 1, \\cdots{}, 170, \\cdots{} \\} $: 표본이 가능한 키의 범위 \n",
    "##### $\\hspace{0.45cm} \\cdot{} \\, n $: 표본 추출 수 \n",
    "##### $\\hspace{0.45cm} \\cdot{} \\, X_{i} $: $i $번째 한국인의 키\n",
    "##### $\\hspace{0.45cm} \\therefore{} \\frac{1}{n} \\cdot{} \\sum^{n}_{i=1}X_{i} = \\bar{X_{n}} \\xrightarrow{\\text{계산}} \\hat{\\mu{}} \\xrightarrow{\\text{추정}} \\mu{} \\;\\; $(점추정)\n",
    "##### $\\hspace{0.15cm} $③ **[CONTENTS]**"
   ]
  }
 ],
 "metadata": {
  "kernelspec": {
   "display_name": "Python 3",
   "language": "python",
   "name": "python3"
  },
  "language_info": {
   "codemirror_mode": {
    "name": "ipython",
    "version": 3
   },
   "file_extension": ".py",
   "mimetype": "text/x-python",
   "name": "python",
   "nbconvert_exporter": "python",
   "pygments_lexer": "ipython3",
   "version": "3.8.12"
  },
  "orig_nbformat": 4
 },
 "nbformat": 4,
 "nbformat_minor": 2
}
