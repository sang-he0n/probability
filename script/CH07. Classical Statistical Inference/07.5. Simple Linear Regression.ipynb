{
 "cells": [
  {
   "attachments": {},
   "cell_type": "markdown",
   "metadata": {},
   "source": [
    "# CH07.5. **Linear Regression**"
   ]
  },
  {
   "cell_type": "markdown",
   "metadata": {},
   "source": [
    "> ## **단순 선형 회귀 모형(Simple Linear Regression Model)**"
   ]
  },
  {
   "cell_type": "markdown",
   "metadata": {},
   "source": [
    "#### **(1) 정의** : $2 $개의 변수들간 선형적 관계 및 연관성을 추정하는 통계적으로 정의된 모형\n",
    "#### ※ 모형(model) : 어떠한 현실의 현상이나 데이터를 수학적으로 정리된 관계\n",
    "#### $ \\Rightarrow{} Y_{i} = \\beta{}_{0} + \\beta{}_{1} x_{i} + \\epsilon{} \\;\\; \\text{ where } \\; Y_{i} \\sim{} \\text{i.i.d}, \\;\\; i \\, \\text{ is sample index} $\n",
    "#### **[GRAPH]**"
   ]
  },
  {
   "cell_type": "markdown",
   "metadata": {},
   "source": [
    "#### **(2) 구성** : \n",
    "##### $ \\hspace{0.15cm} $ ① 종속변수(dependent variable; $Y_{i} $) : $i $번째 관측치에서 선형모형이 예측하고자 하는 **확률 변수**\n",
    "##### $ \\hspace{0.15cm} $ ② 독립변수(independent variable; $x_{i} $) : 종속변수의 값을 예측하기 위해 입력되는 $i $번째 **관측값** (확률 변수의 실현)\n",
    "##### $ \\hspace{0.15cm} $ ③ 회귀계수(regression coefficient; $ \\beta{}_{1} $) : 독립변수의 영향력을 정의하는 **모수(parameter)**\n",
    "##### $ \\hspace{0.15cm} $ ④ 오차항(error term; $ \\epsilon{} $) : 독립변수만으로 설명할 수 없는 종속변수의 변동성을 정의하는 **확률 변수**"
   ]
  },
  {
   "cell_type": "markdown",
   "metadata": {},
   "source": [
    "##### **(`PLUS`)** 오차항은 평균이 0, 분산이 $ \\sigma{}^{2} $인 정규분포를 따름 $ \\Rightarrow{} \\epsilon{} \\sim{} N(0,\\sigma{}^{2}) $"
   ]
  },
  {
   "cell_type": "markdown",
   "metadata": {},
   "source": [
    "#### **(3) 종속변수 $Y_{i} $의 기대값** :\n",
    "#### $ \\Rightarrow{} E(Y_{i}) = E(\\beta{}_{0} + \\beta{}_{1} x_{i} + \\epsilon{}) $\n",
    "#### $ \\hspace{1.4cm} = E(\\beta{}_{0}) + E(\\beta{}_{1} x_{i}) + E(\\epsilon{}) $\n",
    "#### $ \\hspace{1.4cm} = E(\\beta{}_{0}) + E(\\beta{}_{1} x_{i}) $"
   ]
  },
  {
   "cell_type": "markdown",
   "metadata": {},
   "source": [
    "#### **(4) 종속변수 $Y_{i} $의 분산** :\n",
    "#### $ \\Rightarrow{} \\text{var}(Y_{i}) = \\text{var}(\\beta{}_{0} + \\beta{}_{1} x_{i} + \\epsilon{}) $\n",
    "#### $ \\hspace{1.625cm} = \\text{var}(\\epsilon) \\;\\; $($ \\because{} \\beta{}_{j} $is constant)\n",
    "#### $ \\hspace{1.625cm} = \\sigma{}^{2} $"
   ]
  },
  {
   "cell_type": "markdown",
   "metadata": {},
   "source": [
    "##### **(`PLUS`) 종속변수 $Y_{i} $의 분포** :\n",
    "##### $ \\hspace{0.15cm} \\Rightarrow{} \\; Y_{i} \\sim{} N(\\beta{}_{0} + \\beta{}_{1} x_{i}, \\sigma{}^{2}) $"
   ]
  },
  {
   "cell_type": "markdown",
   "metadata": {},
   "source": [
    "##### **(`PLUS`) 모분산 $ \\sigma{}^{2} $불편추정량(unbiased estimator)** : \n",
    "##### $ \\hspace{0.15cm} \\Rightarrow{} S^{2} = \\frac{\\sum{}^{n}_{i=1}(Y_{i}-\\hat{Y})}{n-2} = \\frac{\\sum{}^{n}_{i=1}(Y_{i}-(\\hat{\\beta{}}_{0}+\\hat{\\beta{}}_{1}x_{i}))^{2}}{n-2} $"
   ]
  },
  {
   "cell_type": "markdown",
   "metadata": {},
   "source": [
    "##### **(`PLUS`) 선형회귀모형의 종류** : \n",
    "##### $ \\hspace{0.15cm} $ ① 변수의 규모에 따른 구분 \n",
    "##### $ \\hspace{0.45cm} \\cdot{} $단순 회귀 모형 : 하나의 독립 변수를 사용한 모형\n",
    "##### $ \\hspace{0.45cm} \\cdot{} $다중 회귀 모형 : 여러 독립 변수를 사용한 모형 \n",
    "##### $ \\hspace{0.65cm} \\Rightarrow{} Y_{i} = \\beta{}_{0} + \\beta{}_{1} x_{i, 1} + \\beta{}_{2} x_{i, 2} + \\cdots{} + \\beta{}_{k} x_{i, k} + \\epsilon{} $\n",
    "##### $ \\hspace{0.15cm} $ ② 선형 관계에 따른 구분\n",
    "##### $ \\hspace{0.45cm} \\cdot{} $선형 회귀 모형 \n",
    "##### $ \\hspace{0.45cm} \\cdot{} $회귀 스플라인 모형\n",
    "##### $ \\hspace{0.45cm} \\cdot{} $로지스틱 회귀 모형\n",
    "##### $ \\hspace{0.25cm} \\cdots{} $"
   ]
  },
  {
   "cell_type": "markdown",
   "metadata": {},
   "source": [
    "<b></b>"
   ]
  },
  {
   "cell_type": "markdown",
   "metadata": {},
   "source": [
    "> ## **최소제곱법(Methods of Least Squared)**"
   ]
  },
  {
   "cell_type": "markdown",
   "metadata": {},
   "source": [
    "#### **(1) 정의** : 선형회귀모형에서 **종속변수가 실현된 관측값과 모델 예측값의 차이인 잔차($e_{i} $)의 제곱합을 최소화**하여 회귀계수를 **추정**하는 방법\n",
    "#### $ \\Rightarrow{} \\min_{\\hat{\\beta{}}_{0}, \\hat{\\beta{}}_{1}} \\sum^{n}_{i=1} (e_{i})^{2} = \\min_{\\hat{\\beta{}}_{0}, \\hat{\\beta{}}_{1}} \\sum^{n}_{i=1} (y_{i} - \\hat{y}_{i}){2} = \\min_{\\hat{\\beta{}}_{0}, \\hat{\\beta{}}_{1}} \\sum^{n}_{i=1} (y_{i} - (\\hat{\\beta{}}_{0} + \\hat{\\beta{}}_{1} x_{1,i}))^{2} $"
   ]
  },
  {
   "cell_type": "markdown",
   "metadata": {},
   "source": [
    "#### **(2) 추정량** : \n",
    "##### $ \\hspace{0.15cm} $ ① 절편 : $ \\hat{\\beta{}}_{0} = \\bar{Y} - \\hat{\\beta{}}_{1} \\bar{x} \\;\\; $(**random variable**)\n",
    "##### $ \\hspace{0.15cm} $ ② 기울기 : $ \\hat{\\beta{}}_{1} = \\frac{\\sum{}^{n}_{i=1}(x_{i}-\\bar{x})(Y_{i}-\\bar{Y})}{\\sum{}^{n}_{i=1}(x_{i}-\\bar{x})^{2}} \\;\\; $(**random variable**)"
   ]
  },
  {
   "cell_type": "markdown",
   "metadata": {},
   "source": [
    "##### **(`PLUS`)** $ \\bar{Y} $는 확률 변수임"
   ]
  },
  {
   "cell_type": "markdown",
   "metadata": {},
   "source": [
    "#### **(3) 추정량의 기대값** :\n",
    "##### $ \\hspace{0.15cm} $ ① 절편 : $E(\\hat{\\beta{}}_{0}) = \\beta{}_{0} $\n",
    "##### $ \\hspace{0.15cm} $ ② 기울기 : $E(\\hat{\\beta{}}_{1}) = \\beta{}_{1} $"
   ]
  },
  {
   "cell_type": "markdown",
   "metadata": {},
   "source": [
    "#### **(3) 추정량의 분산** :\n",
    "##### $ \\hspace{0.15cm} $ ① 절편 : $ \\text{var}(\\hat{\\beta{}}_{0}) = \\frac{\\sigma{}^{2}\\cdot{}\\sum{}^{n}_{i=1}x_{i}^{2}}{n\\cdot{}\\sum^{n}_{i=1}(x_{i}-\\bar{x}_{1})^{2}} \\xrightarrow{\\text{추정}} \\frac{S^{2}\\cdot{}\\sum{}^{n}_{i=1}x_{i}^{2}}{n\\cdot{}\\sum^{n}_{i=1}(x_{i}-\\bar{x}_{1})^{2}} $\n",
    "##### $ \\hspace{0.15cm} $ ② 기울기 : $ \\text{var}(\\hat{\\beta{}}_{1}) = \\frac{\\sigma{}^{2}}{\\sum{}^{n}_{i=1}(x_{i}-\\bar{x})^{2}} \\xrightarrow{\\text{추정}} \\frac{S^{2}}{\\sum{}^{n}_{i=1}(x_{i}-\\bar{x})^{2}} $"
   ]
  },
  {
   "cell_type": "markdown",
   "metadata": {},
   "source": [
    "##### **(`PLUS`) 회귀계수 추정량 $ \\hat{\\beta{}}_{i} $의 분포** :\n",
    "##### $ \\hspace{0.15cm} \\cdot{} \\hat{\\beta}_{0} \\sim{} N(\\beta{}_{0}, \\frac{\\sigma{}^{2}\\cdot{}\\sum{}^{n}_{i=1}x_{i}^{2}}{n\\cdot{}\\sum^{n}_{i=1}(x_{i}-\\bar{x}_{1})^{2}}) $\n",
    "##### $ \\hspace{0.15cm} \\cdot{} \\hat{\\beta}_{1} \\sim{} N(\\beta{}_{1}, \\frac{\\sigma{}^{2}}{\\sum{}^{n}_{i=1}(x_{i}-\\bar{x})^{2}}) $"
   ]
  },
  {
   "cell_type": "markdown",
   "metadata": {},
   "source": [
    "#### **(4) 추정치** : \n",
    "##### $ \\hspace{0.15cm} $ ① 절편 : $ \\underline{\\hat{\\beta{}}_{0}} = \\bar{y} - \\hat{\\beta{}}_{1} \\bar{x} \\;\\; $(**constant**)\n",
    "##### $ \\hspace{0.15cm} $ ② 기울기 : $ \\underline{\\hat{\\beta{}}_{1}} = \\frac{\\sum{}^{n}_{i=1}(x_{i}-\\bar{x})(y_{i}-\\bar{y})}{\\sum{}^{n}_{i=1}(x_{i}-\\bar{x})^{2}} \\;\\; $(**constant**)"
   ]
  },
  {
   "cell_type": "markdown",
   "metadata": {},
   "source": [
    "##### **(`PLUS`)** $ \\bar{y} $는 관측값(실현된 확률 변수)"
   ]
  },
  {
   "cell_type": "markdown",
   "metadata": {},
   "source": [
    "<b></b>"
   ]
  },
  {
   "cell_type": "markdown",
   "metadata": {},
   "source": [
    "> ## **절편 모수($ \\beta{}_{0} \\, $) 추론(Inferences about the Intercept)**"
   ]
  },
  {
   "cell_type": "markdown",
   "metadata": {},
   "source": [
    "#### **(1) 정의** : 스튜던트화된 추정량 $ \\hat{\\beta{}}_{0} $을 이용하여 모수 $ \\ \\beta{}_{0} $을 추정하는 방법\n",
    "#### $ \\Rightarrow{} \\frac{\\hat{\\beta{}}_{0} - \\beta{}_{0}}{\\sqrt{S^{2} \\cdot{} \\sum{}^{n}_{i}x_{i}^{2}\\;/\\;n\\cdot{}S_{xx}}} \\sim{} t(n-2) \\xrightarrow{\\text{추정}} \\beta{}_{0} $"
   ]
  },
  {
   "cell_type": "markdown",
   "metadata": {},
   "source": [
    "##### **(`WHY?`) 스튜던트화(studentization)의 정의** :\n",
    "##### $ \\hspace{0.15cm} \\cdot{} \\frac{\\hat{\\beta{}}_{0} - \\beta{}_{0}}{\\sqrt{\\sigma{}^{2} \\cdot{} \\sum{}^{n}_{i=1} x_{i}^{2} \\; / \\; n \\cdot{} S_{xx} }} \\, \\cdots{} $ⓐ $ \\;\\; \\text{ where } \\; S_{xx} = \\sum{}^{n}_{i=1}(x_{i}-\\bar{x})^{2} $\n",
    "##### $ \\hspace{0.15cm} \\cdot{} \\frac{(n-2)S^{2}}{\\sigma{}^{2}} \\sim{} \\chi{}^{2}(n-2) \\, \\cdots{} $ⓑ\n",
    "##### $ \\hspace{0.15cm} \\Rightarrow{} \\frac{ⓐ}{\\sqrt{ⓑ}} = \\frac{\\hat{\\beta{}}_{0} - \\beta{}_{0}}{\\sqrt{S^{2} \\cdot{} \\sum{}^{n}_{i}x_{i}^{2}\\;/\\;n\\cdot{}S_{xx}}} \\sim{} t(n-2) $"
   ]
  },
  {
   "cell_type": "markdown",
   "metadata": {},
   "source": [
    "##### **(`PLUS`)** 확률 변수 $ⓐ, ⓑ $는 서로 독립관계임"
   ]
  },
  {
   "cell_type": "markdown",
   "metadata": {},
   "source": [
    "#### **(2) 신뢰구간** :  모수 $ \\beta{}_{0} $를 $(1 - \\alpha{}) $신뢰수준으로 추정 \n",
    "#### $ \\Rightarrow{} P(\\hat{\\beta{}} - t_{\\frac{\\alpha{}}{2},n-2} \\cdot{} \\sqrt{\\frac{S^{2} \\cdot{} \\sum{}^{n}_{i}x_{i}^{2}}{n\\cdot{}S_{xx}}} \\leq{} \\beta{}_{0} \\leq{} \\hat{\\beta{}}_{0} + t_{\\frac{\\alpha{}}{2},n-2} \\cdot{} \\sqrt{\\frac{S^{2} \\cdot{} \\sum{}^{n}_{i}x_{i}^{2}}{n\\cdot{}S_{xx}}}) = 1 - \\alpha{} $"
   ]
  },
  {
   "cell_type": "markdown",
   "metadata": {},
   "source": [
    "#### **(3) 가설검정** :\n",
    "##### $ \\hspace{0.15cm} \\cdot{} H_{0} $: $ \\beta{}_{0} = \\beta{}_{0}^{*} $\n",
    "##### $ \\hspace{0.15cm} \\cdot{} H_{0} $: $ \\beta{}_{0} \\neq{} \\beta{}_{0}^{*} $\n",
    "##### $ \\Rightarrow{} $accpet $H_{0} $if $| \\frac{\\hat{\\beta{}}_{0} - \\beta{}_{0}^{*}}{\\sqrt{S^{2} \\cdot{} \\sum{}^{n}_{i}x_{i}^{2}\\;/\\;n\\cdot{}S_{xx}}} | \\leq{} t_{\\frac{\\alpha{}}{2},n-2} $"
   ]
  },
  {
   "cell_type": "markdown",
   "metadata": {},
   "source": [
    "<b></b>"
   ]
  },
  {
   "cell_type": "markdown",
   "metadata": {},
   "source": [
    "> ## **기울기 모수($ \\beta{}_{1} $) 추론(Inferences about the Slope)**"
   ]
  },
  {
   "cell_type": "markdown",
   "metadata": {},
   "source": [
    "#### **(1) 정의** : 스튜던트화된 추정량 $ \\hat{\\beta{}}_{1} $을 이용하여 모수 $ \\ \\beta{}_{1} $을 추정하는 방법\n",
    "#### $= $**[CONTENTS]**\n",
    "#### $ \\Rightarrow{} \\frac{\\hat{\\beta{}}_{1} - \\beta{}_{1}}{\\sqrt{S/S_{xx}}} \\sim{} t(n-2) \\xrightarrow{\\text{추정}} \\beta{}_{1} $"
   ]
  },
  {
   "cell_type": "markdown",
   "metadata": {},
   "source": [
    "##### **(`WHY?`) 스튜던트화(studentization)의 정의** :\n",
    "##### $ \\hspace{0.15cm} \\cdot{} \\frac{\\hat{\\beta{}}_{1} - \\beta{}}{\\sqrt{\\sigma{}\\;/\\;S_{xx}}} \\sim{} N(0, 1) \\, \\cdots{} $ⓐ\n",
    "##### $ \\hspace{0.15cm} \\cdot{} \\frac{(n-2)S^{2}}{\\sigma{}^{2}} = \\frac{1}{\\sigma{}^{2}} \\sum^{n}_{i=1}(Y_{i}-(\\Beta{}_{0}+\\Beta{}_{1}x_{i}))^{2} \\sim{} \\chi{}^{2}(n-2) \\, \\cdots{} $ⓑ\n",
    "##### $ \\hspace{0.15cm} \\Rightarrow{} \\frac{ⓐ}{\\sqrt{ⓑ}} = \\frac{\\hat{\\beta{}}_{1} - \\beta{}_{1}}{\\sqrt{S\\;/\\;S_{xx}}} \\sim{} t(n-2) $"
   ]
  },
  {
   "cell_type": "markdown",
   "metadata": {},
   "source": [
    "##### **(`PLUS`)** 확률 변수 $ⓐ, ⓑ $는 서로 독립관계임"
   ]
  },
  {
   "cell_type": "markdown",
   "metadata": {},
   "source": [
    "#### **(2) 신뢰구간** : \n",
    "#### 모수 $ \\beta{}_{1} $를 $(1 - \\alpha{}) $신뢰수준으로 추정 \n",
    "#### $ \\Rightarrow{} P(\\hat{\\beta{}}_{1} - t_{\\frac{\\alpha{}}{2},n-2} \\cdot{} \\frac{S}{\\sqrt{S_{xx}}} \\leq{} \\beta{}_{1} \\leq{} \\hat{\\beta{}}_{1} + t_{\\frac{\\alpha{}}{2},n-2} \\cdot{} \\frac{S}{\\sqrt{S_{xx}}}) = 1 - \\alpha{} $"
   ]
  },
  {
   "cell_type": "markdown",
   "metadata": {},
   "source": [
    "#### **(3) 가설검정** :\n",
    "##### $ \\hspace{0.15cm} \\cdot{} H_{0} $: $ \\beta{}_{1} = \\beta{}_{1}^{*} $\n",
    "##### $ \\hspace{0.15cm} \\cdot{} H_{0} $: $ \\beta{}_{1} \\neq{} \\beta{}_{1}^{*} $\n",
    "##### $ \\Rightarrow{} $accpet $H_{0} $if $| \\frac{\\hat{\\beta{}}_{1}-\\beta{}_{1}^{*}}{S \\; / \\; \\sqrt{S_{xx}}} | \\leq{} t_{\\frac{\\alpha{}}{2},n-2} $"
   ]
  },
  {
   "cell_type": "markdown",
   "metadata": {},
   "source": [
    "<b></b>"
   ]
  },
  {
   "cell_type": "markdown",
   "metadata": {},
   "source": [
    "> ## **종속변수의 조건부 기대값 추론(Inference about $E(Y_{i}|x^{*}) $)**"
   ]
  },
  {
   "cell_type": "markdown",
   "metadata": {},
   "source": [
    "#### **(1) 정의** : **특정한** 관측치 $x^{*} $에서 스튜던트화된 $ \\hat{Y}_{i} $을 이용하여 $E(Y_{i}|X_{i}=x^{*}) = \\mu{}_{Y|x^{*}}$을 추정하는 방법 \n",
    "#### $= $종속변수 $Y_{i} $의 조건부 기대값을 추정하는 방법\n",
    "#### $= $주어진 데이터 하에서 해당 선형회귀모형이 얼마나 잘 추정하는지 확인하기 위한 방법\n",
    "#### $ \\Rightarrow{} \\frac{\\hat{Y}_{i} - E(Y_{i}|x^{*})}{\\sqrt{S^{2}(\\frac{1}{n}+\\frac{(x^{*}-\\bar{x})^{2}}{S_{xx}})}} \\sim{} t(n-2) \\xrightarrow{\\text{추정}} E(Y_{i}|x^{*}) \\;\\; \\text{ where } \\; \\hat{Y}_{i} = \\hat{\\beta{}}_{0} + \\hat{\\beta{}}_{1} x^{*}, \\;\\; E(Y_{i}|x^{*}) = \\beta{}_{0} + \\beta{}_{1} x^{*} $"
   ]
  },
  {
   "cell_type": "markdown",
   "metadata": {},
   "source": [
    "##### **(`PLUS`)** $ \\hat{Y}_{i} \\sim{} N(E(Y_{i}|x^{*})=\\beta{}_{0}+\\beta{}_{1}x^{*}, \\sigma{}^{2}[\\frac{1}{n}+\\frac{(\\bar{x}-x^{*})^{2}}{S_{xx}}]) $"
   ]
  },
  {
   "cell_type": "markdown",
   "metadata": {},
   "source": [
    "##### **(`WHY?`) 스튜던트화(studentization)의 정의** :\n",
    "##### $ \\hspace{0.15cm} \\cdot{} \\frac{\\hat{Y}_{i} - E(Y_{i}|x^{*})}{\\sqrt{\\sigma{}^{2}[\\frac{1}{n}+\\frac{(\\bar{x}-x^{*})^{2}}{S_{xx}}]}} \\sim{} N(0, 1) \\, \\cdots{} $ⓐ\n",
    "##### $ \\hspace{0.15cm} \\cdot{} \\frac{(n-2)S^{2}}{\\sigma{}^{2}} \\sim{} \\chi{}^{2}(n-2) \\, \\cdots{} $ⓑ\n",
    "##### $ \\hspace{0.15cm} \\Rightarrow{} \\frac{ⓐ}{\\sqrt{ⓑ}} = \\frac{\\hat{Y}_{i} - E(Y_{i}|x^{*})}{\\sqrt{S^{2}(\\frac{1}{n}+\\frac{(x^{*}-\\bar{x})^{2}}{S_{xx}})}} \\sim{} t(n-2) $"
   ]
  },
  {
   "cell_type": "markdown",
   "metadata": {},
   "source": [
    "##### **(`PLUS`)** 확률 변수 $ⓐ, ⓑ $는 서로 독립관계임"
   ]
  },
  {
   "cell_type": "markdown",
   "metadata": {},
   "source": [
    "#### **(2) 신뢰구간** : \n",
    "#### 관측치 $x^{*} $에서 추정량 $ \\hat{Y}_{i} $의 신뢰구간은  종속변수 $Y_{i} $의 조건부 평균을 $(1 - \\alpha{}) $신뢰수준으로 추정\n",
    "#### $ \\Rightarrow{} P(\\hat{Y}_{i} - t_{\\frac{\\alpha{}}{2},n-2} \\cdot{} \\sqrt{S^{2}\\cdot{}(\\frac{1}{n}+\\frac{(x^{*}-\\bar{x})^{2}}{S_{xx}})} \\leq{} E(Y_{i}|x^{*}) \\leq{} \\hat{Y}_{i} + t_{\\frac{\\alpha{}}{2},n-2} \\cdot{} \\sqrt{S^{2}\\cdot{}(\\frac{1}{n}+\\frac{(x^{*}-\\bar{x})^{2}}{S_{xx}})}) = 1 - \\alpha{} $"
   ]
  },
  {
   "cell_type": "markdown",
   "metadata": {},
   "source": [
    "#### **(3) 가설검정** : \n",
    "##### $ \\hspace{0.15cm} \\cdot{} H_{0} $: **[LATEX]**\n",
    "##### $ \\hspace{0.15cm} \\cdot{} H_{0} $: **[LATEX]**\n",
    "##### $ \\Rightarrow{} \\text{accpet } \\, H_{0} \\;\\; \\text{ if } \\, | \\textbf{[LATEX]} | \\leq{} t_{\\frac{\\alpha{}}{2},n-2} $"
   ]
  },
  {
   "cell_type": "markdown",
   "metadata": {},
   "source": [
    "<b></b>"
   ]
  },
  {
   "cell_type": "markdown",
   "metadata": {},
   "source": [
    "> ## **종속 변수의 예측치 추론(Inference about predict of $Y_{i} $)**"
   ]
  },
  {
   "cell_type": "markdown",
   "metadata": {},
   "source": [
    "#### **(1) 정의** : **새로운** 관측치 $x^{*} $에서 스튜던트화된 모형의 예측값 $ \\hat{Y}_{i} $를 이용하여 미래 관측값 $Y_{i} $을 추정하는 방법\n",
    "#### $= $새로운 데이터 하에서 모델의 예측값이 실제값과 얼마나 잘 일치하는지를 평가하는 방법\n",
    "#### $ \\Rightarrow{} \\frac{\\hat{Y}_{i} - Y_{i}}{\\sqrt{S^{2}(1+\\frac{1}{n}+\\frac{(\\bar{x}-x^{*})^{2}}{S_{xx}})}} \\sim{} t(n-2) \\xrightarrow{\\text{추정}} Y_{i} $"
   ]
  },
  {
   "cell_type": "markdown",
   "metadata": {},
   "source": [
    "##### **(`PLUS`)** $ \\hat{Y}_{i} - Y_{i} \\sim{} N(0, \\, \\sigma{}^{2}[1+\\frac{1}{n}+\\frac{(\\bar{x}-x^{*})^{2}}{S_{xx}}]) $"
   ]
  },
  {
   "cell_type": "markdown",
   "metadata": {},
   "source": [
    "##### **(`WHY?`) 스튜던트화(studentization)의 정의** :\n",
    "##### $ \\hspace{0.15cm} \\cdot{} \\frac{\\hat{Y}_{i} - Y_{i} - 0}{\\sqrt{\\sigma{}^{2}[1+\\frac{1}{n}+\\frac{(\\bar{x}-x^{*})^{2}}{S_{xx}}]}} \\sim{} N(0, 1) \\, \\cdots{} $ⓐ\n",
    "##### $ \\hspace{0.15cm} \\cdot{} \\frac{(n-2)S^{2}}{\\sigma{}^{2}} \\sim{} \\chi{}^{2}(n-2) \\, \\cdots{} $ⓑ\n",
    "##### $ \\hspace{0.15cm} \\Rightarrow{} \\frac{ⓐ}{\\sqrt{ⓑ}} = \\frac{\\hat{Y}_{i} - Y_{i}}{\\sqrt{S^{2}(1+\\frac{1}{n}+\\frac{(\\bar{x}-x^{*})^{2}}{S_{xx}})}} \\sim{} t(n-2) $"
   ]
  },
  {
   "cell_type": "markdown",
   "metadata": {},
   "source": [
    "##### **(`PLUS`)** 확률 변수 $ⓐ, ⓑ $는 서로 독립관계임"
   ]
  },
  {
   "cell_type": "markdown",
   "metadata": {},
   "source": [
    "#### **(2) 신뢰구간** : \n",
    "#### 새로운 관측치 $x_{i}^{*} $에서 미래 관측값 ${Y}_{i} $의 신뢰구간은 $(1 - \\alpha{}) $신뢰수준으로 추정\n",
    "#### $ \\Rightarrow{} P(\\hat{Y}_{i} - t_{\\frac{\\alpha{}}{2},n-2} \\cdot{} \\sqrt{S^{2}\\cdot{}(1+\\frac{1}{n}+\\frac{(x^{*}-\\bar{x})^{2}}{S_{xx}})} \\leq{} Y_{i} \\leq{} \\hat{Y}_{i} + t_{\\frac{\\alpha{}}{2},n-2} \\cdot{} \\sqrt{S^{2}\\cdot{}(1+\\frac{1}{n}+\\frac{(x^{*}-\\bar{x})^{2}}{S_{xx}})}) = 1 - \\alpha{} $"
   ]
  },
  {
   "cell_type": "markdown",
   "metadata": {},
   "source": [
    "#### **(3) 가설검정** : \n",
    "##### $ \\hspace{0.15cm} \\cdot{} H_{0} $: **[LATEX]**\n",
    "##### $ \\hspace{0.15cm} \\cdot{} H_{0} $: **[LATEX]**\n",
    "##### $ \\Rightarrow{} \\text{accpet } \\, H_{0} \\;\\; \\text{ if } \\, | \\textbf{[LATEX]} | \\leq{} t_{\\frac{\\alpha{}}{2},n-2} $"
   ]
  }
 ],
 "metadata": {
  "kernelspec": {
   "display_name": "Python 3",
   "language": "python",
   "name": "python3"
  },
  "language_info": {
   "codemirror_mode": {
    "name": "ipython",
    "version": 3
   },
   "file_extension": ".py",
   "mimetype": "text/x-python",
   "name": "python",
   "nbconvert_exporter": "python",
   "pygments_lexer": "ipython3",
   "version": "3.8.12"
  },
  "orig_nbformat": 4
 },
 "nbformat": 4,
 "nbformat_minor": 2
}
