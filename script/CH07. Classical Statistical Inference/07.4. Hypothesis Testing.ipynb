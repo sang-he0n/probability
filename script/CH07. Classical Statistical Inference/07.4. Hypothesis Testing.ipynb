{
 "cells": [
  {
   "attachments": {},
   "cell_type": "markdown",
   "metadata": {},
   "source": [
    "# CH07.4. **Hypothesis Testing**"
   ]
  },
  {
   "cell_type": "markdown",
   "metadata": {},
   "source": [
    "> ## **가설(Hypothesis)**"
   ]
  },
  {
   "cell_type": "markdown",
   "metadata": {},
   "source": [
    "#### **(1) 정의** : 관찰된 데이터를 통해 검증하고자 하는 주장"
   ]
  },
  {
   "cell_type": "markdown",
   "metadata": {},
   "source": [
    "#### **(2) 종류** :\n",
    "##### $ \\hspace{0.15cm} $ ① 귀무가설(null hypothesis;$ H_{0} $) : 실험 또는 연구에서 아무런 변화나 차이, 효과가 없다는 가설\n",
    "##### $ \\hspace{0.15cm} $ ② 대립가설(alternative hypothesis;$H_{1} $) : 연구자가 실제로 증명하고자 하는 가설"
   ]
  },
  {
   "cell_type": "markdown",
   "metadata": {},
   "source": [
    "<b></b>"
   ]
  },
  {
   "cell_type": "markdown",
   "metadata": {},
   "source": [
    "> ## **가설 검정(Hypothesis Testing)**"
   ]
  },
  {
   "cell_type": "markdown",
   "metadata": {},
   "source": [
    "#### **(1) 정의** : 관찰된 데이터를 통해 귀무가설($ H_{0} $)가 타당한지 여부를 통계적으로 평가하는 과정\n",
    "#### $ = $ 귀무가설이 참임을 가정하에 관측된 데이터가 귀무가설을 지지하는지에 대하여 검정"
   ]
  },
  {
   "cell_type": "markdown",
   "metadata": {},
   "source": [
    "#### **(2) 검정 오류의 종류** : \n",
    "##### $ \\hspace{0.15cm} $ ① 1종오류(type 1 error) : 귀무가설이 **실제로 참일 때 잘못 기각**하는 오류\n",
    "##### $ \\hspace{0.55cm} \\Rightarrow{} P(\\text{type 1 error}) = P(\\text{reject } \\, H_{0} \\; \\text{when } \\, H_{0} \\; \\text{is True}) = \\alpha{} $\n",
    "##### $ \\hspace{0.15cm} $ ② 2종오류(type 2 error) : 귀무가설이 **실제로 거짓일 때 잘못 채택**하는 오류\n",
    "##### $ \\hspace{0.55cm} \\Rightarrow{} P(\\text{type 2 error}) = P(\\text{accept } \\, H_{0} \\; \\text{when } \\, H_{0} \\; \\text{is False}) = \\beta{} $"
   ]
  },
  {
   "cell_type": "markdown",
   "metadata": {},
   "source": [
    "##### **(`PLUS`)** 1종오류와 2종오류는 교환(trade-off) 관계임"
   ]
  },
  {
   "cell_type": "markdown",
   "metadata": {},
   "source": [
    "#### **(3) 종류** : \n",
    "##### $ \\hspace{0.15cm} $ ① 양측검정(two-sided test)\n",
    "##### $ \\hspace{0.15cm} $ ② 단측검정(one-sided test)"
   ]
  },
  {
   "cell_type": "markdown",
   "metadata": {},
   "source": [
    "#### **(4) 검정 프로세스** : \n",
    "##### $ \\hspace{0.15cm} $ ① 귀무 가설을 기각하는 결정을 내릴 때 허용하는 최대 오류 확률, 유의수준(significance level) 설정\n",
    "##### $ \\hspace{0.15cm} $ ② **귀무가설이 참이라는 가정하에 계산**된 검정통계량(test statistic) 계산\n",
    "##### $ \\hspace{0.15cm} $ ③ **귀무가설이 거짓이라는 통계량의 상한**, 임계값(critical value) 계산\n",
    "##### $ \\hspace{0.15cm} $ ④ 검정통계량과 임계값을 비교하여 가설 채택"
   ]
  },
  {
   "cell_type": "markdown",
   "metadata": {},
   "source": [
    "#### **(5) 예시** : \n",
    "##### $ \\hspace{0.15cm} $ ① 한국인의 평균 키(cm)가 $ 173 $ cm 가 아님을 검정하고자하는 경우\n",
    "##### $ \\hspace{0.45cm} \\cdot{} H_{0} \\, : \\mu{} = 173 $\n",
    "##### $ \\hspace{0.45cm} \\cdot{} H_{1} \\, : \\mu \\neq{} 173 $\n",
    "##### $ \\hspace{0.15cm} $ ② **[CONTENTS]**"
   ]
  },
  {
   "cell_type": "markdown",
   "metadata": {},
   "source": [
    "<b></b>"
   ]
  },
  {
   "cell_type": "markdown",
   "metadata": {},
   "source": [
    "> ## **평균 양측 검정(Two-sided test for Mean)**"
   ]
  },
  {
   "cell_type": "markdown",
   "metadata": {},
   "source": [
    "#### **(1) 정의** : **[CONTENTS]**"
   ]
  },
  {
   "cell_type": "markdown",
   "metadata": {},
   "source": [
    "<b></b>"
   ]
  },
  {
   "cell_type": "markdown",
   "metadata": {},
   "source": [
    "> ## **평균 단측 검정(One-sided test for Mean)**"
   ]
  },
  {
   "cell_type": "markdown",
   "metadata": {},
   "source": [
    "#### **(1) 정의** : **[CONTENTS]**"
   ]
  },
  {
   "cell_type": "markdown",
   "metadata": {},
   "source": [
    "<b></b>"
   ]
  },
  {
   "cell_type": "markdown",
   "metadata": {},
   "source": [
    "> ## **P-값(P-value)**"
   ]
  },
  {
   "cell_type": "markdown",
   "metadata": {},
   "source": [
    "#### **(1) 정의** :  귀무 가설이 참이라는 전제 하에 관측된 결과 이상의 극단적(모수보다 멀리 떨어져 있는) 결과를 얻을 확률\n",
    "#### $ = $ 귀무가설을 기각하는데 필요한 최소한의 유의수준\n",
    "#### $ \\Rightarrow{} \\text{p-value} = \\begin{cases} 1 - F(W=w_{\\text{obs}}), \\;\\;\\;\\;\\;\\;\\;\\;\\;\\;\\;\\;\\, H_{1} : \\theta{} > \\theta{}_{0} \\\\ F(W=w_{\\text{obs}}), \\;\\;\\;\\;\\;\\;\\;\\;\\;\\;\\;\\;\\;\\;\\;\\;\\;\\;\\; H_{1} : \\theta{} < \\theta{}_{0} \\\\ 2 \\times{} (1 - F(W=|w_{\\text{obs}}|)), \\;\\; H_{1} : \\theta{} \\neq{} \\theta{}_{0} \\end{cases} $ \n",
    "#### $ \\hspace{0.45cm} \\text{where } \\, w_{\\text{obs}} $: 관측된 검정통계량 "
   ]
  },
  {
   "cell_type": "markdown",
   "metadata": {},
   "source": [
    "#### **(2) 검정 프로세스** : \n",
    "##### $ \\hspace{0.15cm} $ ① 귀무 가설을 기각하는 결정을 내릴 때 허용하는 최대 오류 확률, 유의수준(significance level) 설정\n",
    "##### $ \\hspace{0.15cm} $ ② **귀무가설이 참이라는 가정하에 계산**된 검정통계량(test statistic)의 p-값 계산\n",
    "##### $ \\hspace{0.15cm} $ ③ p-값과 유의수준을 비교하여 가설 채택\n",
    "##### $ \\hspace{0.45cm} \\cdot{} $ p-값 $ > $유의수준 : 귀무가설 채택 \n",
    "##### $ \\hspace{0.45cm} \\cdot{} $ p-값 $ < $유의수준 : 귀무가설 기각"
   ]
  }
 ],
 "metadata": {
  "kernelspec": {
   "display_name": "Python 3",
   "language": "python",
   "name": "python3"
  },
  "language_info": {
   "codemirror_mode": {
    "name": "ipython",
    "version": 3
   },
   "file_extension": ".py",
   "mimetype": "text/x-python",
   "name": "python",
   "nbconvert_exporter": "python",
   "pygments_lexer": "ipython3",
   "version": "3.8.12"
  },
  "orig_nbformat": 4
 },
 "nbformat": 4,
 "nbformat_minor": 2
}
