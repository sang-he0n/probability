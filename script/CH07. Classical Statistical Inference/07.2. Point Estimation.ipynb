{
 "cells": [
  {
   "attachments": {},
   "cell_type": "markdown",
   "metadata": {},
   "source": [
    "# CH07.2. **Point Estimation**"
   ]
  },
  {
   "cell_type": "markdown",
   "metadata": {},
   "source": [
    "> ## **점 추정량(Point Estimatior)**"
   ]
  },
  {
   "cell_type": "markdown",
   "metadata": {},
   "source": [
    "#### **(1) 정의** : 표본을 통해 모수를 **단일 값으로 추정**하기 위한 통계적 방법(함수)\n",
    "#### $ \\Rightarrow{} \\hat{\\theta{}}_{n} = h(X_{1}, X_{2}, \\cdots{}, X_{n})$"
   ]
  },
  {
   "cell_type": "markdown",
   "metadata": {},
   "source": [
    "##### **(`PLUS`)** 모평균을 계산할 때는 $ \\bar{X}_{n} = \\frac{X_{1}+X_{2}+\\cdots{}+X_{n}}{n} \\; \\text{ or } \\; \\frac{\\text{MIN}(X_{i})+\\text{MAX}(X_{i})}{2} \\; $등 다양한 추정량 존재 가능"
   ]
  },
  {
   "cell_type": "markdown",
   "metadata": {},
   "source": [
    "#### **(2) 예시** :\n",
    "##### $ \\hspace{0.15cm} $ ① 한국인의 평균 키(cm)를 점 추정으로 도출하고자하는 경우\n",
    "##### $ \\hspace{0.45cm} \\mu{} $ : 모든 한국인의 키의 평균\n",
    "##### $ \\hspace{0.45cm} S_{i} = (0, \\infty{} ] $ : 가능한 키의 범위 \n",
    "##### $ \\hspace{0.45cm} X_{i} $ : $i $번째 한국인의 키\n",
    "##### $ \\hspace{0.45cm} \\{x_{1}, x_{2}, \\cdots{}, x_{20} \\} = \\{159.1, 152.1, 164.4, 166.6, \\cdots{}, 190.2 \\} $ : 실제 수집한 데이터\n",
    "##### $ \\hspace{0.45cm} \\hat{\\mu} = \\begin{cases} 167.3 & \\hat{\\theta{}}_{n} = \\frac{\\sum^{n}_{i=1}x_{i}}{20}= \\bar{x}_{n} \\\\ 174.6 & \\hat{\\theta{}}_{n} = \\frac{\\text{MIN}(x_{i})+\\text{MAX}(x_{i})}{2} \\\\ \\cdots{} \\end{cases} $\n",
    "##### $ \\hspace{0.45cm} \\therefore{} \\text{ we do not know which estimator to choose. } $\n",
    "##### $ \\hspace{0.15cm} $ ② **[CONTENTS]**"
   ]
  },
  {
   "cell_type": "markdown",
   "metadata": {},
   "source": [
    "<b></b>"
   ]
  },
  {
   "cell_type": "markdown",
   "metadata": {},
   "source": [
    "> ## **점 추정량 평가(Point Evaluating Estimators)**"
   ]
  },
  {
   "cell_type": "markdown",
   "metadata": {},
   "source": [
    "#### **(1) 정의** :  점 추정량이 얼마나 좋은지를 결정하는 과정"
   ]
  },
  {
   "cell_type": "markdown",
   "metadata": {},
   "source": [
    "#### **(2) 측정 지표** : \n",
    "##### $ \\hspace{0.15cm} $ ① 편향(Bias) : 추정량의 기대값이 모수와 동일한지를 측정하는 지표\n",
    "##### $ \\hspace{0.45cm} \\Rightarrow{} \\text{Bias}(\\hat{\\theta{}}) = E[\\hat{\\theta{}}] - \\theta{} = E[\\hat{\\theta{}} - \\theta{}] $\n",
    "##### $ \\hspace{0.15cm} $ ② 평균제곱오차(Mean Squared Error) : 추정량과 모수 간 차이를 제곱 평균함으로써 추정량의 변동성과 편향을 모두 고려한 지표\n",
    "##### $ \\hspace{0.45cm} \\Rightarrow{} \\text{MSE}(\\hat{\\theta{}}) = E[(\\hat{\\theta{}} - \\theta{})^{2}] $\n",
    "##### $ \\hspace{2.225cm} = \\text{var}[\\hat{\\theta{}}-\\theta{}] + E[\\hat{\\theta{}}-\\theta{}]^{2} \\;\\; $ ($ \\because{} \\text{var}[X] = E[X^{2}] - E[X] $)\n",
    "##### $ \\hspace{2.225cm} = \\text{var}[\\hat{\\theta{}}] + E[\\hat{\\theta{}}-\\theta{}]^{2} \\;\\; $ ($ \\because{} \\text{var}[aX+b] = a^{2} \\cdot{} \\text{var}[X] $)\n",
    "##### $ \\hspace{2.225cm} = \\text{var}[\\hat{\\theta{}}] + \\text{Bias}(\\hat{\\theta{}})^{2} $"
   ]
  },
  {
   "cell_type": "markdown",
   "metadata": {},
   "source": [
    "#### **(3) 평가 지표** : 하기 평가 지표를 모두 만족하며, MSE가 작은 추정량일수록 **상대적으로** 좋은 추정량이라고 정의\n",
    "##### $ \\hspace{0.15cm} $ ① 불편성(Unbiasedness) : 편향이 $ 0 $일 때, 즉 추정량의 기대값과 모수가 동일할 때의 성질\n",
    "##### $ \\hspace{0.45cm} \\Rightarrow{} E[\\hat{\\theta{}}] = \\theta{} $\n",
    "##### $ \\hspace{0.15cm} $ ② 일치성(Consistency) : 표본 크기가 증가함에 따라 추정량이 모수와 점점 더 가까워지는 성질\n",
    "##### $ \\hspace{0.45cm} \\Rightarrow{} \\displaystyle{}\\lim_{n\\rightarrow{}\\infty{}} P(|\\hat{\\theta{}}_{n}-\\theta{}|\\geq{}\\epsilon) = 0 \\;\\; \\text{ s.t. } \\; \\epsilon{} > 0 $\n",
    "##### $ \\hspace{0.15cm} $ ③ 효율성(efficiency) : 동일한 표본 크기에 대해, 여러 추정량 중 가장 작은 분산을 가지는 성질\n",
    "##### $ \\hspace{0.45cm} \\Rightarrow{} \\text{var}[\\hat{\\theta{}}_{1}] > \\text{var}[\\hat{\\theta{}}_{i}] \\;\\; \\text{ for } \\; 2 \\leq{} i \\leq{} n $\n",
    "##### $ \\hspace{0.15cm} $ ④ 충분성(sufficiency) : 추정량이 표본 데이터로부터 모수에 대해 가능한 모든 정보를 포착한다는 성질"
   ]
  },
  {
   "cell_type": "markdown",
   "metadata": {},
   "source": [
    "##### **(`PLUS`) 일치성과 MSE의 관계** : $ \\displaystyle{} \\lim_{n\\rightarrow{}\\infty{}} \\, \\text{MSE}(\\hat{\\theta{}}_{n}) = 0 $일 때 그 추정량은 일치성을 가짐, 단 역은 성립하지 않음"
   ]
  },
  {
   "cell_type": "markdown",
   "metadata": {},
   "source": [
    "<b></b>"
   ]
  },
  {
   "cell_type": "markdown",
   "metadata": {},
   "source": [
    "> ## **표본 평균(Sample Mean)**"
   ]
  },
  {
   "cell_type": "markdown",
   "metadata": {},
   "source": [
    "#### **(1) 정의** : 점 추정량 평가 지표(불편성, 일치성, 효율성)를 모두 만족하는 평균 추정량\n",
    "#### $ \\Rightarrow{} \\bar{X}_{n} = \\frac{X_{1}+X_{2}+\\cdots{}+X_{n}}{n} = \\frac{1}{n} \\sum^{n}_{i=1}X_{i} \\;\\; \\text{ where } \\; X_{i} \\sim{} \\text{i.i.d} $"
   ]
  },
  {
   "cell_type": "markdown",
   "metadata": {},
   "source": [
    "#### **(`PLUS`)** 표본 평균의 분포가 정규분포인 경우 충분 추정량이나, 그렇지 않을 경우 일반적으로 충분 추정량이 아님"
   ]
  },
  {
   "cell_type": "markdown",
   "metadata": {},
   "source": [
    "<b></b>"
   ]
  },
  {
   "cell_type": "markdown",
   "metadata": {},
   "source": [
    "> ## **표본 분산(Sample Variance;Good Point Estimators for Variance)**"
   ]
  },
  {
   "cell_type": "markdown",
   "metadata": {
    "vscode": {
     "languageId": "plaintext"
    }
   },
   "source": [
    "#### **(1) 정의** : 점 추정량 평가지표(불편성, 일치성)를 만족하는 분산 추정량\n",
    "#### $ \\Rightarrow{} S^{2} = \\frac{1}{n-1} \\sum^{n}_{i=1}(X_{i}-\\bar{X})^{2} $\n",
    "#### $ \\hspace{0.925cm} = \\frac{1}{n-1} (\\sum^{n}_{i=1}X_{i}^{2} - 2 \\bar{X} \\sum^{n}_{i=1} X_{i} + \\sum^{n}_{i=1} \\bar{X}^{2}) $\n",
    "#### $ \\hspace{0.925cm} = \\frac{1}{n-1} (\\sum^{n}_{i=1}X_{i}^{2} - 2 \\bar{X} \\sum^{n}_{i=1} X_{i} + n \\cdot{} \\bar{X}^{2}) $\n",
    "#### $ \\hspace{0.925cm} = \\frac{1}{n-1} (\\sum^{n}_{i=1}X_{i}^{2} - 2 n \\bar{X} + n \\cdot{} \\bar{X}^{2}) \\;\\; $ ($ \\because{} \\sum^{n}_{i=1} X_{i} = n \\cdot{} \\bar{X} $) \n",
    "#### $ \\hspace{0.925cm} = \\frac{1}{n-1} [\\sum^{n}_{i=1}X_{i}^{2} - n \\cdot{} \\bar{X}^{2}] $"
   ]
  },
  {
   "cell_type": "markdown",
   "metadata": {},
   "source": [
    "##### **(`PLUS`)** 표본 분산의 정의에서 분모가 $ n-1 $인 이유\n",
    "##### $ \\hspace{0.15cm} \\text{if } \\; \\bar{S_{n}}^{2} = \\frac{1}{n} (\\sum^{n}_{i=1}X_{i}^{2} - n \\cdot{} \\bar{X}^{2}) $\n",
    "##### $ \\hspace{0.15cm} E[\\bar{S_{n}}^{2}] = E[\\frac{1}{n} (\\sum^{n}_{i=1}X_{i}^{2} - n \\cdot{} \\bar{X})] $\n",
    "##### $ \\hspace{1.3cm} = \\frac{1}{n} ( E[\\sum^{n}_{i=1}X_{i}^{2} - n \\cdot{} \\bar{X}] ) $\n",
    "##### $ \\hspace{1.3cm} = \\frac{1}{n} ( E[\\sum^{n}_{i=1}X_{i}^{2}] -n \\cdot{} E[\\bar{X}] ) $\n",
    "##### $ \\hspace{1.3cm} = \\frac{1}{n} ( E[\\sum^{n}_{i=1}X_{i}^{2}] -n \\cdot{} E[\\bar{X}] ) $ \n",
    "##### $ \\hspace{1.3cm} = \\frac{1}{n} ( n \\cdot{} E[X_{i}^{2}] -n \\cdot{} E[\\bar{X}] ) $\n",
    "##### $ \\hspace{1.3cm} = \\frac{1}{n} ( n \\cdot{} (\\sigma{}^{2} + \\mu{}^{2}) -n \\cdot{} E[\\bar{X}] ) \\;\\; $ ($ \\because{} E[X_{i}^{2}] = \\text{var}[X_{i}] + E[X_{i}]^{2} = \\sigma{}^{2} + \\mu{}^{2} $)\n",
    "##### $ \\hspace{1.3cm} = \\frac{1}{n} ( n \\cdot{} (\\sigma{}^{2} + \\mu{}^{2}) -n \\cdot{} (\\frac{\\sigma{}^{2}}{n} + \\mu{}^{2}) ) \\;\\; $ ($ \\because{} E[\\bar{X}] = \\text{var}[X_{i}] + E[X_{i}]^{2} = \\frac{\\sigma{}^{2}}{n} + \\mu{}^{2} $)\n",
    "##### $ \\hspace{1.3cm} = \\frac{n-1}{n} \\cdot{} \\sigma{}^{2} $"
   ]
  },
  {
   "cell_type": "markdown",
   "metadata": {},
   "source": [
    "<b></b>"
   ]
  },
  {
   "cell_type": "markdown",
   "metadata": {},
   "source": [
    "> ## **우도 함수(Likelihood Function)**"
   ]
  },
  {
   "cell_type": "markdown",
   "metadata": {},
   "source": [
    "#### **(1) 정의** : 모수 $ \\theta{} $가 표본 $ X_{1}, X_{2}, \\cdots{}, X_{n} $에 대하여 $ x_{1}, x_{2}, \\cdots{}, x_{n} $으로 관측됐을 때 그 가능성(likelihood)에 대한 함수\n",
    "#### $ \\Rightarrow{} L(\\theta{} \\; | \\; \\cdot{}) = L(\\theta{} \\; | \\; x_{1},x_{2},\\cdots{},x_{n}) = P(X_{1}=x_{1}, \\cdots{}, X_{n}=x_{n} \\; | \\; \\theta{}) \\;\\; \\text{ where } \\; X_{i} \\, \\text{ is discrete RV} $\n",
    "#### $ \\Leftrightarrow{} L(\\theta{} \\; | \\; \\cdot{}) = L(\\theta{} \\; | \\; x_{1},x_{2},\\cdots{},x_{n}) = f(X_{1}=x_{1}, \\cdots{}, X_{n}=x_{n} \\; | \\; \\theta{}) \\;\\; \\text{ where } \\; X_{i} \\, \\text{ is continuous RV} $"
   ]
  },
  {
   "cell_type": "markdown",
   "metadata": {},
   "source": [
    "#### **(2) 예시** :\n",
    "##### $ \\hspace{0.15cm} $ ① 빨간색, 파란색 공 $5 $개가 들어있는 주머니 안에 빨간색 공의 비율에 대한 우도함수를 구하고자 할 때\n",
    "##### $ \\hspace{0.45cm} 0 \\leq{} \\theta{} \\leq{} 5 $ : 빨간색 공의 **개수** $ \\Rightarrow{} $현재 모름\n",
    "##### $ \\hspace{0.45cm} S_{i} = \\{ 1, 0 \\} $ : 개별 확률 변수가 빨간색을 뽑거나($1 $), 파란색을 뽑을($0 $) 범위\n",
    "##### $ \\hspace{0.45cm} n = 7 $ : (무작위) 표본 추출 수\n",
    "##### $ \\hspace{0.45cm} X_{i} $ : $i $번째 공을 뽑을 횟수\n",
    "##### $ \\hspace{0.45cm} P_{X}(x) = \\begin{cases} \\frac{\\theta{}}{5} & x = 1 \\\\ 1 - \\frac{\\theta{}}{5} & x = 0 \\end{cases} $ : $ i $번째에 어떠한 공을 뽑을지에 대한 확률\n",
    "##### $ \\hspace{0.45cm} \\{x_{1}, x_{2}, \\cdots{}, x_{7} \\} = \\{1, 0, 0, 0, 1, 0, 1 \\} $ : 실제 수집한 데이터\n",
    "##### $ \\hspace{0.45cm} \\therefore{} L(\\theta{} \\; | \\; \\cdot{}) = P(X_{1}=1, X_{2}=0,\\cdots{}, X_{7}=1 \\; | \\; \\theta{}) = (\\frac{\\theta{}}{5})^{3}(1-\\frac{\\theta{}}{5})^{4} $\n",
    "##### $ \\hspace{0.15cm} $ ② **[CONTENTS]**"
   ]
  },
  {
   "cell_type": "markdown",
   "metadata": {
    "vscode": {
     "languageId": "plaintext"
    }
   },
   "source": [
    "<b></b>"
   ]
  },
  {
   "cell_type": "markdown",
   "metadata": {},
   "source": [
    "> ## **최대 우도 추정법(Maximum Likelihood Estimation;MLE)**"
   ]
  },
  {
   "cell_type": "markdown",
   "metadata": {},
   "source": [
    "#### **(1) 정의** : 어떠한 우도함수 $L(\\theta{} \\; | \\; \\cdot{}) $에 대하여 주어진 데이터에 대해 가장 가능성이 높은 모수 $ \\theta{}_{\\text{ML}} $를 선택하는 방법\n",
    "#### $ \\Rightarrow{} L(\\theta{}_{\\text{ML}} \\; | \\; \\cdot{}) \\geq{} L(\\theta{} \\; | \\; \\cdot{}) \\;\\; \\forall{} \\; \\theta{} $"
   ]
  },
  {
   "cell_type": "markdown",
   "metadata": {},
   "source": [
    "##### **(`PLUS`)** MLE를 적용하기 위해선 수집된 표본이 따르는 확률 변수의 분포를 알아야함"
   ]
  },
  {
   "cell_type": "markdown",
   "metadata": {},
   "source": [
    "#### **(2) 예시** :\n",
    "##### $ \\hspace{0.15cm} $ ① 우도 함수가 아래와 같을 때, 최대 우도를 추정하면\n",
    "##### $ \\hspace{0.45cm} L(\\theta{} \\; | \\; \\cdot{}) = P(X_{1}=1, X_{2}=0,\\cdots{}, X_{7}=1 \\; | \\; \\theta{}) = (\\frac{\\theta{}}{5})^{3}(1-\\frac{\\theta{}}{5})^{4} $\n",
    "##### $ \\hspace{0.45cm} \\log{}L(\\theta{} \\; | \\; \\cdot{}) = 3 \\log{} (\\frac{\\theta{}}{5}) + 4 \\log{} (1-\\frac{\\theta{}}{5}) $\n",
    "##### $ \\hspace{2.35cm} = 3 (\\log{} \\theta{} - \\log{} 5 ) + 4 (\\log{}(5-\\theta{}) - \\log{} 5 ) $\n",
    "##### $ \\hspace{0.45cm} \\frac{\\partial{}}{\\partial{}\\theta{}}\\log{}L(\\theta{} \\; | \\; \\cdot{}) = \\frac{3}{\\theta{}} - \\frac{4}{5-\\theta{}} = \\frac{3(5-\\theta{})-4\\theta{}}{\\theta{}(5-\\theta{})} = \\frac{15-7\\theta{}}{\\theta{}(5-\\theta{})} = 0 $\n",
    "##### $ \\hspace{0.45cm} \\frac{\\partial{}^{2}}{\\partial{}^{2}\\theta{}}\\log{}L(\\theta{} \\; | \\; \\cdot{}) = - \\frac{3}{(\\theta{})^{2}} - \\frac{4}{(5-\\theta{})^{2}} < 0 $\n",
    "##### $ \\hspace{0.45cm} \\therefore{} \\theta{}_{\\text{MLE}} = \\frac{15}{7} $ \n",
    "##### $ \\hspace{0.15cm} $ ② **[CONTENTS]**"
   ]
  }
 ],
 "metadata": {
  "kernelspec": {
   "display_name": "Python 3",
   "language": "python",
   "name": "python3"
  },
  "language_info": {
   "codemirror_mode": {
    "name": "ipython",
    "version": 3
   },
   "file_extension": ".py",
   "mimetype": "text/x-python",
   "name": "python",
   "nbconvert_exporter": "python",
   "pygments_lexer": "ipython3",
   "version": "3.8.12"
  },
  "orig_nbformat": 4
 },
 "nbformat": 4,
 "nbformat_minor": 2
}
