{
 "cells": [
  {
   "attachments": {},
   "cell_type": "markdown",
   "metadata": {},
   "source": [
    "# CH07.2. **Point Estimation**"
   ]
  },
  {
   "cell_type": "markdown",
   "metadata": {},
   "source": [
    "> ## **점 추정량(Point Estimatior)**"
   ]
  },
  {
   "cell_type": "markdown",
   "metadata": {},
   "source": [
    "#### **(1) 정의** : 표본을 통해 모수를 **단일 값으로 추정**하기 위한 통계적 방법(함수)\n",
    "#### $ \\Rightarrow{} \\hat{\\Theta{}_{n}} = h(X_{1}, X_{2}, \\cdots{}, X_{n})$"
   ]
  },
  {
   "cell_type": "markdown",
   "metadata": {},
   "source": [
    "##### **(`PLUS`)** 모평균을 계산할 때는 $ \\bar{X_{n}} = \\frac{X_{1}+X_{2}+\\cdots{}+X_{n}}{n} \\; \\text{ or } \\, \\frac{\\text{MIN}(X_{i})+\\text{MAX}(X_{i})}{2} \\; $등 다양한 추정량 존재 가능"
   ]
  },
  {
   "cell_type": "markdown",
   "metadata": {},
   "source": [
    "#### **(2) 예시** :\n",
    "##### $ \\hspace{0.15cm} $ ① 한국인의 평균 키(cm)를 점 추정으로 도출하고자하는 경우\n",
    "##### $ \\hspace{0.45cm} \\cdot{} \\, \\mu{} $: 모든 한국인의 키의 평균\n",
    "##### $ \\hspace{0.45cm} \\cdot{} \\, S_{i} = \\{ 0, 0.1, \\cdots{}, 1, \\cdots{}, 170, \\cdots{} \\} $: 표본이 가능한 키의 범위 \n",
    "##### $ \\hspace{0.45cm} \\cdot{} \\, n $: 표본 추출 수 \n",
    "##### $ \\hspace{0.45cm} \\cdot{} \\, X_{i} $: $i $번째 한국인의 키\n",
    "##### $ \\hspace{0.45cm} \\cdot{} \\, \\{x_{1}, x_{2}, \\cdots{}, x_{20} \\} = \\{159.1, 152.1, 164.4, 166.6, \\cdots{}, 190.2 \\} $: 실제 수집한 데이터\n",
    "##### $ \\hspace{0.45cm} \\cdot{} \\hat{\\mu} = \\begin{cases} 167.3, \\;\\; \\hat{\\Theta{}_{n}} = \\frac{\\sum^{n}_{i=1}x_{i}}{20}= \\bar{x_{n}} \\\\ 174.6, \\;\\; \\hat{\\Theta{}_{n}} = \\frac{\\text{MIN}(x_{i})+\\text{MAX}(x_{i})}{2} \\\\ \\cdots{} \\end{cases} $\n",
    "##### $ \\hspace{0.45cm} \\therefore{} $어떤 추정량을 선택해야하는 지 모름 \n",
    "##### $ \\hspace{0.15cm} $ ② **[CONTENTS]**"
   ]
  },
  {
   "cell_type": "markdown",
   "metadata": {},
   "source": [
    "<b></b>"
   ]
  },
  {
   "cell_type": "markdown",
   "metadata": {},
   "source": [
    "> ## **추정량 평가(Evaluating Estimators)**"
   ]
  },
  {
   "cell_type": "markdown",
   "metadata": {},
   "source": [
    "#### **(1) 정의** :  점 추정량이 얼마나 좋은지를 결정하는 과정"
   ]
  },
  {
   "cell_type": "markdown",
   "metadata": {},
   "source": [
    "#### **(2) 측정 지표와 방식** : \n",
    "##### $ \\hspace{0.15cm} $ ① 편향(Bias) : 추정량의 기대값이 모수와 동일한지를 측정하는 지표\n",
    "##### $ \\hspace{0.45cm} \\cdot{} \\, B(\\hat{\\Theta{}}) = E(\\hat{\\Theta{}}) - \\theta{} = E(\\hat{\\Theta{}} - \\theta{}) $\n",
    "##### $ \\hspace{0.15cm} $ ② 평균제곱오차(Mean Squared Error) : 추정량과 모수 간 차이를 제곱 평균함으로써 추정량의 변동성과 편향을 모두 고려한 지표\n",
    "##### $ \\hspace{0.45cm} \\cdot{} \\, \\text{MSE}(\\hat{\\Theta{}}) = E[(\\hat{\\Theta{}} - \\theta{})^{2}] $\n",
    "##### $ \\hspace{2cm} = \\text{var}(\\hat{\\Theta{}}-\\theta{}) + E(\\hat{\\Theta{}}-\\theta{})^{2} \\;\\; $($ \\because{} \\text{var}[X] = E[X^{2}] - E[X] $)\n",
    "##### $ \\hspace{2cm} = \\text{var}(\\hat{\\Theta{}}) + E(\\hat{\\Theta{}}-\\theta{})^{2} \\;\\; $($ \\because{} \\text{var}(aX+b) = a^{2} \\cdot{} \\text{var}[X] $)\n",
    "##### $ \\hspace{2cm} = \\text{var}(\\hat{\\Theta{}}) + B(\\hat{\\Theta{}})^{2} $"
   ]
  },
  {
   "cell_type": "markdown",
   "metadata": {},
   "source": [
    "#### **(3) 평가 지표** :\n",
    "##### $ \\hspace{0.15cm} $ ① 불편성(Unbiasedness) : 편향이 $0 $일 때, 즉 추정량의 기대값과 모수가 동일할 때의 성질\n",
    "##### $ \\hspace{0.15cm} $ ② 일치성(Consistency) : 표본 크기가 증가함에 따라 추정량이 모수와 점점 더 가까워지는 성질\n",
    "##### $ \\hspace{3.25cm} \\Rightarrow{} \\lim_{n\\rightarrow{}\\infty{}} P(|\\hat{\\Theta{}_{n}}-\\theta{}|\\geq{}\\epsilon) = 0 \\;\\; \\text{ where } \\; \\epsilon{} > 0 \\; \\text{ and } \\; n \\, \\text{ is sample size} $"
   ]
  },
  {
   "cell_type": "markdown",
   "metadata": {},
   "source": [
    "##### **(`PLUS`) 일치성과 MSE의 관계** : $ \\lim_{n\\rightarrow{}\\infty{}} \\, \\text{MSE}(\\hat{\\Theta{}}_{n}) = 0 $일 때 그 추정량은 일치성을 가짐, 단 역은 성립하지 않음"
   ]
  },
  {
   "cell_type": "markdown",
   "metadata": {},
   "source": [
    "##### $ \\hspace{0.15cm} $ ③ 효율성(efficiency) : 동일한 표본 크기에 대해, 여러 추정량 중 가장 작은 분산을 가지는 성질\n",
    "##### $ \\hspace{0.15cm} $ ④ 충분성(sufficiency) : 추정량이 표본 데이터로부터 모수에 대해 가능한 모든 정보를 포착한다는 성질"
   ]
  },
  {
   "cell_type": "markdown",
   "metadata": {},
   "source": [
    "##### **(`PLUS`)** 상기 평가 지표를 모두 만족하며, MSE가 작은 추정량일수록 **상대적으로** 좋은 추정량이라고 할 수 있음"
   ]
  },
  {
   "cell_type": "markdown",
   "metadata": {},
   "source": [
    "<b></b>"
   ]
  },
  {
   "cell_type": "markdown",
   "metadata": {},
   "source": [
    "> ## **표본 평균(Sample Mean; Good Point Estimators for Mean)**"
   ]
  },
  {
   "cell_type": "markdown",
   "metadata": {},
   "source": [
    "#### **(1) 정의** : 점 추정량 평가지표를 모두 만족하는 평균 추정량\n",
    "#### $ \\Rightarrow{} \\hat{\\Theta}_{n} = \\bar{X}_{n} = \\frac{X_{1}+X_{2}+\\cdots{}+X_{n}}{n} = \\frac{1}{n} \\sum^{n}_{i=1}X_{i} \\;\\; \\text{ where } \\; X_{i} \\sim{} \\text{i.i.d} $"
   ]
  },
  {
   "cell_type": "markdown",
   "metadata": {},
   "source": [
    "#### **(2) 증명** :\n",
    "##### $ \\hspace{0.15cm} $ ① 불편성\n",
    "##### $ \\hspace{0.45cm} \\cdot{} E(\\hat{\\Theta{}}_{n}) = E(\\bar{X_{n}})= E(\\frac{X_{1}+X_{2}+\\cdots{}+X_{n}}{n}) = \\frac{n \\cdot{} \\theta{}}{n} = \\theta{} \\;\\; $($ \\because{} E(X_{i}) = \\theta{} $)\n",
    "##### $ \\hspace{0.45cm} \\Rightarrow{}{} B(\\bar{X_{n}}) = \\theta{} - \\theta{} = 0 $"
   ]
  },
  {
   "cell_type": "markdown",
   "metadata": {},
   "source": [
    "##### **(`PLUS`)** 만약 표본 중 하나만 골라서 모평균을 추정하고자 할 때도 불편성은 만족함\n",
    "##### $ \\hspace{0.3cm} \\cdot{} E(\\hat{\\odot{}}_{n}) = E(X_{i}) = \\theta{}, \\;\\; B(\\hat{\\odot{}_{n}}) = \\theta{} - \\theta{} = 0 $"
   ]
  },
  {
   "cell_type": "markdown",
   "metadata": {},
   "source": [
    "##### $ \\hspace{0.15cm} $ ② 일치성\n",
    "##### $ \\hspace{0.45cm} \\cdot{} \\text{MSE}(\\hat{\\Theta{}}_{n}) = \\text{MSE}(\\bar{X_{n}}) =  \\text{var}(\\bar{X_{n}}) + B(\\bar{X_{n}})^{2} = \\text{var}(\\bar{X_{n}}) = \\text{var}(\\frac{X_{1}+X_{2}+\\cdots{}+X_{n}}{n}) = \\frac{n^{2} \\cdot{} \\sigma{}}{n} = \\frac{\\sigma{}}{n} \\;\\; $($ \\because{} X_{i} \\sim{} \\text{i.i.d} $)\n",
    "##### $ \\hspace{0.45cm} \\Rightarrow{} \\lim_{n\\rightarrow{}\\infty{}} \\, \\text{MSE}(\\bar{X_{n}}) = 0 $\n",
    "##### $ \\hspace{0.15cm} $ ③ 효율성\n",
    "##### $ \\hspace{0.45cm} \\text{var}(\\bar{X_{n}}) = \\frac{\\sigma{}}{n}, \\;\\; \\text{var}(\\hat{\\odot{}}_{n}) = \\text{var}(X_{i}) = \\sigma{} $\n",
    "##### $ \\hspace{0.45cm} \\Rightarrow{}{} \\text{var}(\\bar{X_{n}}) < \\text{var}(\\hat{\\odot{}}_{n}) $\n",
    "##### $ \\therefore{} \\hat{\\Theta{}_{n}} = \\bar{X_{n}} \\, \\text{ is good estimator than } \\, \\hat{\\odot{}}_{n} = X_{i} $"
   ]
  },
  {
   "cell_type": "markdown",
   "metadata": {},
   "source": [
    "<b></b>"
   ]
  },
  {
   "cell_type": "markdown",
   "metadata": {},
   "source": [
    "> ## **표본 분산(Sample Variance;Good Point Estimators for Variance)**"
   ]
  },
  {
   "cell_type": "markdown",
   "metadata": {
    "vscode": {
     "languageId": "plaintext"
    }
   },
   "source": [
    "#### **(1) 정의** : 점 추정량 평가지표를 모두 만족하는 분산 추정량\n",
    "#### $ \\Rightarrow{} S^{2} = \\frac{1}{n-1} \\sum^{n}_{i=1}(X_{i}-\\bar{X})^{2} = \\frac{1}{n-1} (\\sum^{n}_{i=1}X_{i}^{2} - 2 \\bar{X} \\sum^{n}_{i=1} X_{i} + \\sum^{n}_{i=1} \\bar{X}^{2}) $\n",
    "#### $ \\hspace{0.875cm} = \\frac{1}{n-1} (\\sum^{n}_{i=1}X_{i}^{2} - 2 \\bar{X} \\sum^{n}_{i=1} X_{i} + n \\cdot{} \\bar{X}^{2}) = \\frac{1}{n-1} (\\sum^{n}_{i=1}X_{i}^{2} - 2 n \\bar{X} + n \\cdot{} \\bar{X}^{2}) \\;\\; $($ \\because{} \\sum^{n}_{i=1} X_{i} = n \\cdot{} \\bar{X} $) \n",
    "#### $ \\hspace{0.875cm} = \\frac{1}{n-1} [\\sum^{n}_{i=1}X_{i}^{2} - n \\cdot{} \\bar{X}^{2}] $"
   ]
  },
  {
   "cell_type": "markdown",
   "metadata": {},
   "source": [
    "#### **(2) 증명** :\n",
    "##### $ \\hspace{0.15cm} $ ① 불편성\n",
    "##### $ \\hspace{0.45cm} \\cdot{} E(\\hat{\\Theta{}}_{n}) = E(S_{n}^{2})= E(\\frac{1}{n-1} [\\sum^{n}_{i=1}X_{i}^{2} - n \\cdot{} \\bar{X}^{2}]) = \\cdots{} = \\sigma{}^{2} $\n",
    "##### $ \\hspace{0.45cm} \\Rightarrow{}{} B(\\hat{\\Theta{}_{n}}) = \\sigma{}^{2} - \\sigma{}^{2} = 0 $"
   ]
  },
  {
   "cell_type": "markdown",
   "metadata": {},
   "source": [
    "##### **(`PLUS`)** 표본 분산의 정의에서 분모가 $n-1 $인 이유\n",
    "##### $ \\hspace{0.15cm} \\bar{S_{n}}^{2} = \\frac{1}{n} [\\sum^{n}_{i=1}X_{i}^{2} - n \\cdot{} \\bar{X}^{2}] $\n",
    "##### $ \\hspace{0.15cm} E(\\bar{S_{n}}^{2}) = E(\\frac{1}{n} (\\sum^{n}_{i=1}X_{i}^{2} - n \\cdot{} \\bar{X})) = \\frac{1}{n} [ E(\\sum^{n}_{i=1}X_{i}^{2} - n \\cdot{} \\bar{X}) ] = \\frac{1}{n} [ E(\\sum^{n}_{i=1}X_{i}^{2}) -n \\cdot{} E(\\bar{X}) ] $\n",
    "##### $ \\hspace{1.3cm} = \\frac{1}{n} [ E(\\sum^{n}_{i=1}X_{i}^{2}) -n \\cdot{} E(\\bar{X}) ] = \\frac{1}{n} [ n \\cdot{} E(X_{i}^{2}) -n \\cdot{} E(\\bar{X}) ] $\n",
    "##### $ \\hspace{1.3cm} = \\frac{1}{n} [ n \\cdot{} (\\sigma{}^{2} + \\mu{}^{2}) -n \\cdot{} E(\\bar{X}) ] \\;\\; $($ \\because{} E(X_{i}^{2}) = \\text{var}(X_{i}) + E(X_{i})^{2} = \\sigma{}^{2} + \\mu{}^{2} $)\n",
    "##### $ \\hspace{1.3cm} = \\frac{1}{n} [ n \\cdot{} (\\sigma{}^{2} + \\mu{}^{2}) -n \\cdot{} (\\frac{\\sigma{}^{2}}{n} + \\mu{}^{2}) ] \\;\\; $($ \\because{} E(\\bar{X}) = \\text{var}(X_{i}) + E(X_{i})^{2} = \\frac{\\sigma{}^{2}}{n} + \\mu{}^{2} $)\n",
    "##### $ \\hspace{1.3cm} = \\frac{n-1}{n} \\cdot{} \\sigma{}^{2} $"
   ]
  },
  {
   "cell_type": "markdown",
   "metadata": {},
   "source": [
    "##### **(`PLUS`)** 만약 $ \\bar{x} $대신 $ \\mu{} $로 대입한다면, 위 추정량은 불편추정량이됨"
   ]
  },
  {
   "cell_type": "markdown",
   "metadata": {},
   "source": [
    "##### $ \\hspace{0.45cm} \\cdot{} S^{2} = \\frac{1}{n-1} [\\sum^{n}_{i=1}X_{i}^{2} - n \\cdot{} \\bar{X}^{2}] = \\frac{n}{n-1} [ \\frac{1}{n} \\sum^{n}_{i=1}X_{i}^{2} - \\bar{X}^{2}] $\n",
    "##### $ \\hspace{1cm} = \\frac{Y_{1}+Y_{2}+\\cdots{}+Y_{n}}{n} = \\bar{Y} \\;\\; \\text{ where } \\; Y_{i} = \\frac{n}{n-1} [X_{i}^{2} - \\bar{X}^{2}] \\sim{} \\text{i.i.d} $\n",
    "##### $ \\hspace{0.45cm} \\cdot{} \\lim_{n\\rightarrow{}\\infty{}} P(|\\hat{\\Theta{}_{n}}-\\theta{}|\\geq{}\\epsilon) = \\lim_{n\\rightarrow{}\\infty{}} P(|Y_{i} - E(\\bar{Y})|\\geq{}\\epsilon) = 0 \\;\\; $($ \\because{} $WLLN)\n",
    "##### $ \\hspace{0.45cm} \\Rightarrow{} \\lim_{n\\rightarrow{}\\infty{}} P(|S^{2}-\\sigma{}^{2}|\\geq{}\\epsilon) = 0 \\;\\; $($ \\because{} E(\\bar{Y}) = E(S^{2}) = \\sigma{}^{2} $)"
   ]
  },
  {
   "cell_type": "markdown",
   "metadata": {},
   "source": [
    "##### **(`PLUS`) MLE 일치성 증명** :\n",
    "##### $ \\hspace{0.45cm} \\cdot{} \\text{MSE}(\\hat{\\Theta{}}_{n}) = \\text{MSE}(S^{2}) = \\text{var}(S^{2}) + B(S^{2})^{2} = \\text{var}(S^{2}) = \\text{var}(\\frac{1}{n-1} [\\sum^{n}_{i=1}X_{i}^{2} - n \\cdot{} \\bar{X}^{2}]) = $**[LATEX]**\n",
    "##### $ \\hspace{0.45cm} \\Rightarrow{} \\lim_{n\\rightarrow{}\\infty{}} \\, \\text{MSE}(S^{2}) = 0 $"
   ]
  },
  {
   "cell_type": "markdown",
   "metadata": {},
   "source": [
    "##### **(`PLUS`)** 표본 표준편차는 **비편향 추정량**임 ($ \\because{} \\approx{} $Cachy-Schwarz Inequality)"
   ]
  },
  {
   "cell_type": "markdown",
   "metadata": {},
   "source": [
    "<b></b>"
   ]
  },
  {
   "cell_type": "markdown",
   "metadata": {},
   "source": [
    "> ## **우도 함수(Likelihood Function)**"
   ]
  },
  {
   "cell_type": "markdown",
   "metadata": {},
   "source": [
    "#### **(1) 정의** : 모수 $ \\theta{} $가 표본 $X_{1}, X_{2}, \\cdots{}, X_{n} $이 $x_{1}, x_{2}, \\cdots{}, x_{n} $으로 관측됐을 가능성(likelihood)에 대한 함수\n",
    "#### $ \\Rightarrow{} L(\\theta{} \\; | \\; \\cdot{}) = L(\\theta{} \\; | \\; x_{1},x_{2},\\cdots{},x_{n}) = P(X_{1}=x_{1}, \\cdots{}, X_{n}=x_{n} \\; | \\; \\theta{}) \\;\\; \\text{ where } \\; X_{i} \\, \\text{ is discrete RV} $\n",
    "#### $ \\Rightarrow{} L(\\theta{} \\; | \\; \\cdot{}) = L(\\theta{} \\; | \\; x_{1},x_{2},\\cdots{},x_{n}) = f(X_{1}=x_{1}, \\cdots{}, X_{n}=x_{n} \\; | \\; \\theta{}) \\;\\; \\text{ where } \\; X_{i} \\, \\text{ is continuous RV} $"
   ]
  },
  {
   "cell_type": "markdown",
   "metadata": {},
   "source": [
    "#### **(2) 예시** :\n",
    "##### $ \\hspace{0.15cm} $ ① 빨간색, 파란색 공 $5 $개가 들어있는 주머니 안에 빨간색 공의 비율에 대한 우도함수를 구하고자 할 때\n",
    "##### $ \\hspace{0.45cm} \\cdot{} \\, 0 \\leq{} \\theta{} \\leq{} 5 $: 빨간색 공의 **개수** $ \\Rightarrow{} $현재 모름\n",
    "##### $ \\hspace{0.45cm} \\cdot{} \\, S_{i} = \\{ 1, 0 \\} $: 개별 확률 변수가 빨간색을 뽑거나($1 $), 파란색을 뽑을($0 $) 범위\n",
    "##### $ \\hspace{0.45cm} \\cdot{} \\, n = 7 $: (무작위) 표본 추출 수\n",
    "##### $ \\hspace{0.45cm} \\cdot{} \\, X_{i} $: $i $번째 공을 뽑을 횟수\n",
    "##### $ \\hspace{0.45cm} \\cdot{} \\, P(X_{i}=x) = \\begin{cases} \\frac{\\theta{}}{5}, \\;\\;\\;\\;\\;\\;\\;\\;x = 1 \\\\ 1 - \\frac{\\theta{}}{5}, \\;\\; x = 0 \\end{cases} $: $i $번째에 어떠한 공을 뽑을지에 대한 확률\n",
    "##### $ \\hspace{0.45cm} \\cdot{} \\, \\{x_{1}, x_{2}, \\cdots{}, x_{7} \\} = \\{1, 0, 0, 0, 1, 0, 1 \\} $: 실제 수집한 데이터\n",
    "##### $ \\hspace{0.45cm} \\therefore{} L(\\theta{} \\; | \\; \\cdot{}) = P(X_{1}=1, X_{2}=0,\\cdots{}, X_{n}=1 \\; | \\; \\theta{}) = (\\frac{\\theta{}}{5})^{3}(1-\\frac{\\theta{}}{5})^{4} $\n",
    "##### $ \\hspace{0.15cm} $ ② **[CONTENTS]**"
   ]
  },
  {
   "cell_type": "markdown",
   "metadata": {
    "vscode": {
     "languageId": "plaintext"
    }
   },
   "source": [
    "<b></b>"
   ]
  },
  {
   "cell_type": "markdown",
   "metadata": {},
   "source": [
    "> ## **최대 우도 추정법(Maximum Likelihood Estimation;MLE)**"
   ]
  },
  {
   "cell_type": "markdown",
   "metadata": {},
   "source": [
    "#### **(1) 정의** : 어떠한 우도함수 $L(\\theta{} \\; | \\; \\cdot{}) $에 대하여 주어진 데이터에 대해 가장 가능성이 높은 모수 $ \\theta{}_{\\text{ML}} $를 선택하는 방법\n",
    "#### $ \\Rightarrow{} L(\\theta{}_{\\text{ML}} \\; | \\; \\cdot{}) \\geq{} L(\\theta{} \\; | \\; \\cdot{}) \\;\\; \\forall{} \\; \\theta{} $"
   ]
  },
  {
   "cell_type": "markdown",
   "metadata": {},
   "source": [
    "##### **(`PLUS`)** MLE를 적용하기 위해선 수집된 표본이 따르는 확률 변수의 분포를 알아야함"
   ]
  },
  {
   "cell_type": "markdown",
   "metadata": {},
   "source": [
    "#### **(2) 탐색 방법** :\n",
    "##### $ \\hspace{0.15cm} $ ① 이산 모수(discrete parameter) : **[TEXT]**\n",
    "##### **[GRAPH]**\n",
    "##### $ \\hspace{0.15cm} $ ② 연속 모수(continuous parameter) : 우도 함수의 미분을 통하여 최대값을 구함\n",
    "##### **[GRAPH]**\n",
    "##### $ \\hspace{0.5cm} \\cdot{} \\, \\frac{\\text{d}}{\\text{d}\\theta{}} L(\\theta{} \\; | \\; \\cdot{}) = 0, \\;\\; \\frac{\\text{d}^{2}}{\\text{d}\\theta{}^{2}} L(\\theta{} \\; | \\; \\cdot{}) < 0 $: 지역 최댓값(local maxima)\n",
    "##### $ \\hspace{0.5cm} \\Rightarrow{} $여러 지역 최댓값 중 전역 최댓값을 찾음"
   ]
  },
  {
   "cell_type": "markdown",
   "metadata": {},
   "source": [
    "##### **(`PLUS`)** 전역 최대값을 고려할 때는 경계점(boundary point)도 고려해야함 "
   ]
  },
  {
   "cell_type": "markdown",
   "metadata": {},
   "source": [
    "##### **(`PLUS`) 특정 지점(point) $a $에서 미분 가능 조건** :\n",
    "##### $ \\hspace{0.15cm} \\cdot{} \\, x = a $에서 연속(극한값과 함수값이 동일)\n",
    "##### $ \\hspace{0.3cm} \\lim_{x\\rightarrow{}a-} f(x) = \\lim_{x\\rightarrow{}a+} f(x) = f(a) $\n",
    "##### $ \\hspace{0.15cm} \\cdot{} \\, x = a $에서 좌우극한의 일치(좌미분값, 우미분값이 동일 )\n",
    "##### $ \\hspace{0.3cm} \\lim_{h\\rightarrow{}0-} \\frac{f(a+h)-f(a)}{h} = \\lim_{h\\rightarrow{}0+} \\frac{f(a+h)-f(a)}{h} \\;\\; $"
   ]
  },
  {
   "cell_type": "markdown",
   "metadata": {},
   "source": [
    "#### **(3) 예시** :\n",
    "##### $ \\hspace{0.15cm} $ ① **[LATEX]**\n",
    "##### $ \\hspace{0.15cm} $ ② **[LATEX]**"
   ]
  }
 ],
 "metadata": {
  "kernelspec": {
   "display_name": "Python 3",
   "language": "python",
   "name": "python3"
  },
  "language_info": {
   "codemirror_mode": {
    "name": "ipython",
    "version": 3
   },
   "file_extension": ".py",
   "mimetype": "text/x-python",
   "name": "python",
   "nbconvert_exporter": "python",
   "pygments_lexer": "ipython3",
   "version": "3.8.12"
  },
  "orig_nbformat": 4
 },
 "nbformat": 4,
 "nbformat_minor": 2
}
