{
 "cells": [
  {
   "attachments": {},
   "cell_type": "markdown",
   "metadata": {},
   "source": [
    "# CH03.1. **Random Variables**"
   ]
  },
  {
   "cell_type": "markdown",
   "metadata": {},
   "source": [
    "> ## **함수(Funtion)**"
   ]
  },
  {
   "cell_type": "markdown",
   "metadata": {},
   "source": [
    "#### **(1) 정의** : 특정 집합에서 다른 집합으로의 대응(매핑) 관계를 나타내는 규칙\n",
    "#### $ \\Rightarrow{} f : A \\rightarrow{} B $"
   ]
  },
  {
   "cell_type": "markdown",
   "metadata": {},
   "source": [
    "#### **(2) 형식** : \n",
    "##### $ \\hspace{0.15cm} $ <img src=\"../../img/03.1. Random Variables (1).png\" width=\"40%\" height=\"40%\"></img>\n",
    "##### $ \\hspace{0.15cm} $ ① 정의역(domain) : 함수에 입력할 수 있는 모든 원소(input)들의 집합 $ = A $\n",
    "##### $ \\hspace{0.15cm} $ ② 공역(codomain) : 함수값이 속할 수 있는 가능한 출력값들의 집합 $ = B $ \n",
    "##### $ \\hspace{0.15cm} $ ③ 치역(range;image) : 입력값이 함수를 통해 대응되는 출력값들의 집합 $ = f(A) $"
   ]
  },
  {
   "cell_type": "markdown",
   "metadata": {},
   "source": [
    "<b></b>"
   ]
  },
  {
   "cell_type": "markdown",
   "metadata": {},
   "source": [
    "> ## **확률 변수(Random Variable;RV)**"
   ]
  },
  {
   "cell_type": "markdown",
   "metadata": {},
   "source": [
    "#### **(1) 정의** : 표본 공간의 근원 사건(원소)을 어떠한 규칙에 의해 실수로 대응시키는 함수\n",
    "#### $ \\Rightarrow{} X : \\Omega{} \\rightarrow{} \\mathbb{R} $"
   ]
  },
  {
   "cell_type": "markdown",
   "metadata": {},
   "source": [
    "##### **(`PLUS`) 확률 변수의 치역(range)** : 어떠한 확률 변수가 가질 수 있는 모든 값으로 이루어진 집합\n",
    "##### $ \\hspace{0.15cm} \\Rightarrow{} X(\\Omega{}) = R_{X} $ "
   ]
  },
  {
   "cell_type": "markdown",
   "metadata": {},
   "source": [
    "#### **(2) 종류** : \n",
    "##### $ \\hspace{0.15cm} $ ① 이산 확률 변수(Discrete Random Variable)\n",
    "##### $ \\hspace{0.15cm} $ ② 연속 확률 변수(Continuous Random Variable)"
   ]
  },
  {
   "cell_type": "markdown",
   "metadata": {},
   "source": [
    "#### **(3) 예시** : \n",
    "##### $ \\hspace{0.15cm} $ ① 주사위를 $ 2 $번 던지고 확률 변수 $ X $를 두 주사위 눈의 합으로 정의할 때 그 치역을 구하고자 하는 경우\n",
    "##### $ \\hspace{0.45cm} \\Omega{} = \\{ (\\omega{}_{1}, \\omega{}_{2}) \\; | \\; 1 \\leq{} i, j \\leq{} 6 \\} = \\{ (1,1), (1,2), (1,3), \\cdots{}, (6,6) \\} $\n",
    "##### $ \\hspace{0.45cm} X(\\omega{}_{1},\\omega{}_{2}) = \\omega{}_{1} + \\omega{}_{2} \\;\\; \\text{ where } \\; \\omega{} \\in{} \\Omega{} $ \n",
    "##### $ \\hspace{0.45cm} \\therefore{} X(\\Omega{}) = \\{ 2, 3, \\cdots{}, 12 \\} $\n",
    "##### $ \\hspace{0.15cm} $ ② 동전을 앞면이 나올때까지 던지고 확률 변수 $ Y $를 $ \\, i $번째에서 앞면이 나올 경우라고 할 때 그 치역을 구하고자 하는 경우\n",
    "##### $ \\hspace{0.45cm} \\Omega{} = \\{ H, (T,H), (T,T,H), \\cdots{} \\} $\n",
    "##### $ \\hspace{0.45cm} Y(\\omega{}) = \\text{length}(\\omega{}) $\n",
    "##### $ \\hspace{0.45cm} \\therefore{} Y(\\Omega{}) = \\{ 1, 2, 3, 4, 5, \\cdots{} \\} $\n",
    "##### $ \\hspace{0.15cm} $ ③ 현재 시점부터 운석이 지구에 충돌까지 걸리는 시간(초)을 확률 변수 $ T $라고 할 때 그 치역을 구하고자 하는 경우\n",
    "##### $ \\hspace{0.45cm} \\Omega{} = [ 0 , \\infty{}) \\approx{} \\{ 0, 0.1, 0.001, \\cdots{} \\} $\n",
    "##### $ \\hspace{0.45cm} T(\\omega{}) = \\omega{}, \\;\\; \\omega{} \\in{}{} \\Omega{} $\n",
    "##### $ \\hspace{0.45cm} \\therefore{} T(\\Omega{}) = [ 0, \\in{}f{} ) $"
   ]
  },
  {
   "cell_type": "markdown",
   "metadata": {},
   "source": [
    "<b></b>"
   ]
  },
  {
   "cell_type": "markdown",
   "metadata": {},
   "source": [
    "> ## **확률 분포(Probability Distribution)**"
   ]
  },
  {
   "cell_type": "markdown",
   "metadata": {},
   "source": [
    "#### **(1) 정의** : 확률 변수의 값 또는 구간에 대응되는 확률을 정의하는 함수"
   ]
  },
  {
   "cell_type": "markdown",
   "metadata": {},
   "source": [
    "##### **(`PLUS`) 모수(Parameter)** : 확률 분포의 위치, 폭, 기울기 등의 형태를 결정하는 상수"
   ]
  },
  {
   "cell_type": "markdown",
   "metadata": {},
   "source": [
    "#### **(2) 종류** : \n",
    "##### $ \\hspace{0.15cm} $ ① 확률 질량 함수(Probability Mass Function)\n",
    "##### $ \\hspace{0.15cm} $ ② 확률 밀도 함수(Probability Density Function)\n",
    "##### $ \\hspace{0.15cm} $ ③ 누적 분포 함수(Cumulative Distribution Function)"
   ]
  }
 ],
 "metadata": {
  "kernelspec": {
   "display_name": "Python 3",
   "language": "python",
   "name": "python3"
  },
  "language_info": {
   "codemirror_mode": {
    "name": "ipython",
    "version": 3
   },
   "file_extension": ".py",
   "mimetype": "text/x-python",
   "name": "python",
   "nbconvert_exporter": "python",
   "pygments_lexer": "ipython3",
   "version": "3.8.18"
  },
  "orig_nbformat": 4
 },
 "nbformat": 4,
 "nbformat_minor": 2
}
