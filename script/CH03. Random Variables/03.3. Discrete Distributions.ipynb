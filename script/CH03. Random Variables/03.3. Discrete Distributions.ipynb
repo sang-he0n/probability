{
 "cells": [
  {
   "attachments": {},
   "cell_type": "markdown",
   "metadata": {},
   "source": [
    "# CH03.3. **Discrete Distributions**"
   ]
  },
  {
   "cell_type": "markdown",
   "metadata": {},
   "source": [
    "> ## **베르누이 분포(Bernoulli Distribution)**"
   ]
  },
  {
   "cell_type": "markdown",
   "metadata": {},
   "source": [
    "#### **(1) 정의** : $ \\, 1 $ 회 시행하는 실험이 이진 결과(성공/실패)만을 발생할 때 특정 결과가 나올 확률이 $ \\, p $ 인 확률변수가 따르는 분포\n",
    "#### $ \\Rightarrow{} P(X=x) = \\begin{cases} p, \\;\\;\\;\\;\\;\\;\\;\\; x = 1 \\\\ 1-p, \\;\\; x = 0 \\\\ 0, \\;\\;\\;\\;\\;\\;\\;\\; x \\not\\in{} \\{0,\\; 1\\} \\end{cases} $\n",
    "<img src=\"../../img/03.3. Discrete Distributions (1).png\" width=\"35%\" height=\"35%\"></img>"
   ]
  },
  {
   "cell_type": "markdown",
   "metadata": {},
   "source": [
    "##### **(`PLUS`) 확률변수의 정의** :\n",
    "##### $ \\hspace{0.15cm} $ 확률변수 $ \\, X $ 는 **이진 결과 중 하나**로 정의되며, 특정 결과의 확률 $ \\, p $ 를 모수로 하는 베르누이 분포를 따름\n",
    "##### $ \\hspace{0.15cm} \\Rightarrow{} X \\sim{} \\text{Bernoulli}(p) $"
   ]
  },
  {
   "cell_type": "markdown",
   "metadata": {},
   "source": [
    "#### **(2) 기댓값** : \n",
    "#### $ \\Rightarrow{} E(X) = \\displaystyle\\sum^{1}_{x=0} x \\cdot{} P(X=x) = 0 \\cdot{} P(X=0) + 1 \\cdot{} P(X=1) = p $"
   ]
  },
  {
   "cell_type": "markdown",
   "metadata": {},
   "source": [
    "#### **(3) 분산** :\n",
    "#### $ \\Rightarrow{} \\text{var}(X) = \\underbrace{E(X^{2})}_{\\text{㉠}} - E(X)^{2} = p - p^{2} = p (1-p) $ \n",
    "#### $ \\because{} \\, ㉠ = 0^{2}\\cdot{}P(X=0)+1^{2}\\cdot{}P(X=1) = p $"
   ]
  },
  {
   "cell_type": "markdown",
   "metadata": {},
   "source": [
    "#### **(4) 성질** :\n",
    "##### $ \\hspace{0.15cm} $ ① 결과의 이진성\n",
    "##### $ \\hspace{0.15cm} $ ② 단일 실험"
   ]
  },
  {
   "cell_type": "markdown",
   "metadata": {},
   "source": [
    "#### **(5) 예시** : \n",
    "##### $ \\hspace{0.15cm} $ ① 불공평한 동전 $ \\, 1 $ 회 던졌을 때, 확률변수 $ \\, X $ 는 앞면이 나온 경우를 $ \\, 1 $ 이라고 정의하면 \n",
    "##### $ \\hspace{0.55cm} $ (단, 앞면이 확률을 $ \\, 30\\% $ 라고 정의함)\n",
    "##### $ \\hspace{0.45cm} \\cdot{} \\, S = \\{ \\text{H},\\, \\text{T} \\} $\n",
    "##### $ \\hspace{0.45cm} \\cdot{} \\, X = \\{ 1,\\, 0 \\} \\sim{} \\text{Bernoulli}(p=0.3), \\;\\; E(X) = 0.3, \\;\\; \\text{var}(X) = 0.3 \\times{} 0.7 = 0.21 $\n",
    "##### $ \\hspace{0.45cm} \\therefore{} \\, P(X=x) = \\begin{cases} 0.3, \\;\\; x = 1 = X(\\{ H \\}) \\\\ 0.7, \\;\\; x = 0 = X(\\{ T \\}) \\\\ 0, \\;\\;\\;\\;\\, x \\not\\in{} \\{0,\\, 1\\} = X(\\{ H,\\, T \\}) \\end{cases} $\n",
    "##### $ \\hspace{0.15cm} $ ② 불공평한 주사위 $ \\, 1 $ 회 던졌을 때, 확률변수 $ \\, Y $ 는 $ \\, 3 $ 이하의 눈이 나온 경우를 $ \\, 1 $이라고 정의하면\n",
    "##### $ \\hspace{0.55cm} $ (단, $ \\, 3 $ 이하의 눈이 나올 확률을 $ \\, 60\\% $ 라고 정의함)\n",
    "##### $ \\hspace{0.45cm} \\cdot{} \\, S = \\{ \\text{1},\\, \\text{2},\\, \\text{3},\\, \\text{4},\\, \\text{5},\\, \\text{6} \\} $\n",
    "##### $ \\hspace{0.45cm} \\cdot{} \\, Y = \\{ 1,\\, 1,\\, 1,\\, 0,\\, 0,\\, 0 \\} = \\{ 1,\\, 0 \\} \\sim{} \\text{Bernoulli}(p=0.6), \\;\\; E(X) = 0.6, \\;\\; \\text{var}(X) = 0.24 $\n",
    "##### $ \\hspace{0.45cm} \\therefore{} \\, P(Y=y) = \\begin{cases} 0.6, \\;\\; y = 1 = Y(\\{ 1,\\, 2,\\, 3 \\}) \\\\ 0.4, \\;\\; y = 0 = Y(\\{ 4,\\, 5,\\, 6 \\}) \\\\ 0, \\;\\;\\;\\;\\, y \\not\\in{} \\{ 0,\\, 1 \\} = Y(\\{ 1,\\, 2,\\, 3,\\, 4,\\, 5,\\, 6\\}) \\end{cases} $"
   ]
  },
  {
   "cell_type": "markdown",
   "metadata": {},
   "source": [
    "<b></b>"
   ]
  },
  {
   "cell_type": "markdown",
   "metadata": {},
   "source": [
    "> ## **카테고리컬 분포(Categorical Distribution)**"
   ]
  },
  {
   "cell_type": "markdown",
   "metadata": {},
   "source": [
    "#### **(1) 정의** : **[CONTENTS]**"
   ]
  },
  {
   "cell_type": "markdown",
   "metadata": {},
   "source": [
    "#### **(2) 기대값** : **[CONTENTS]**"
   ]
  },
  {
   "cell_type": "markdown",
   "metadata": {},
   "source": [
    "#### **(3) 분산** : **[CONTENTS]**"
   ]
  },
  {
   "cell_type": "markdown",
   "metadata": {},
   "source": [
    "#### **(4) 성질** : **[CONTENTS]**"
   ]
  },
  {
   "cell_type": "markdown",
   "metadata": {},
   "source": [
    "#### **(5) 예시** : **[CONTENTS]**"
   ]
  },
  {
   "cell_type": "markdown",
   "metadata": {},
   "source": [
    "<b></b>"
   ]
  },
  {
   "cell_type": "markdown",
   "metadata": {},
   "source": [
    "> ## **이항 분포(Binomial Distribution)**"
   ]
  },
  {
   "cell_type": "markdown",
   "metadata": {},
   "source": [
    "#### **(1) 정의** : $ \\, n $ 회 시행하는 실험이 이진 결과만을 발생할 때 특정 결과가 나올 확률이 $ \\, p $ 인 확률변수가 따르는 분포\n",
    "#### $ \\Rightarrow{} P(X=x) = \\begin{cases} C^{n}_{x} p^{x} (1-p)^{n-x}, \\;\\; x \\in{} \\{0,\\; 1,\\; \\cdots{},\\; n \\} \\\\ 0, \\;\\;\\;\\;\\;\\;\\;\\;\\;\\;\\;\\;\\;\\;\\;\\;\\;\\;\\;\\;\\;\\;\\;\\; x \\not\\in{} \\{0,\\; 1,\\; \\cdots{},\\; n \\} \\end{cases} $\n",
    "<img src=\"../../img/03.3. Discrete Distributions (2).png\" width=\"40%\" height=\"40%\"></img>"
   ]
  },
  {
   "cell_type": "markdown",
   "metadata": {},
   "source": [
    "##### **(`PLUS`) 확률변수의 정의** :\n",
    "##### $ \\hspace{0.15cm} $ 확률변수 $ \\, X $ 는 $ \\, \\bf{n} $ **회 이진 시행 중 특정 결과가 관측된 횟수**로 정의되며 시행 횟수 $ \\, n $ 과 특정 결과의 확률 $ \\, p $ 를 모수로 하는 이항 분포를 따름\n",
    "##### $ \\hspace{0.15cm} \\Rightarrow{} X \\sim{} \\text{Binomial}(n,\\, p) $"
   ]
  },
  {
   "cell_type": "markdown",
   "metadata": {},
   "source": [
    "#### **(2) 기댓값** : \n",
    "#### $ \\Rightarrow{} E(X) = \\displaystyle\\sum^{n}_{x=0} xP(X=x) = \\displaystyle\\sum^{n}_{x=0} xC^{n}_{x} p^{x} q^{n-x} \\;\\; \\text{ where } \\; q = 1 - p $\n",
    "#### $ \\hspace{1.4cm} = 0 + \\displaystyle\\sum^{n}_{x=1} xC^{n}_{x} p^{x} q^{n-x} $ \n",
    "#### $ \\hspace{1.4cm} = \\displaystyle\\sum^{n}_{x=1} x {{n!}\\over{(n-x)!x!}} p^{x} q^{n-x} = \\displaystyle\\sum^{n}_{x=1} {{n!}\\over{(n-x)!(x-1)!}} p^{x} q^{n-x} $\n",
    "#### $ \\hspace{1.4cm} = \\displaystyle\\sum^{n}_{x=1} {{n\\cdot{}(n-1)!}\\over{(n-x)!(x-1)!}} p^{x} q^{n-x} = n \\displaystyle\\sum^{n}_{x=1} {{(n-1)!}\\over{(n-x)!(x-1)!}} p^{x} q^{n-x} $ \n",
    "#### $ \\hspace{1.4cm} = n \\displaystyle\\sum^{n-1}_{y=0} {{(n-1)!}\\over{(n-1-y)!y!}} p^{y+1} q^{n-(y+1)} \\;\\; \\text{ where } \\; y = x - 1, \\;\\; Y \\sim{} \\text{Binomial}(n-1,\\, p) $ \n",
    "#### $ \\hspace{1.4cm} = n \\displaystyle\\sum^{n-1}_{y=0} {{(n-1)!}\\over{(n-1-y)!y!}} (p)(p)^{y} q^{n-y-1} = n p \\displaystyle\\sum^{n-1}_{y=0} {{(n-1)!}\\over{(n-1-y)!y!}} p^{y} q^{(n-1)-y} $\n",
    "#### $ \\hspace{1.4cm} = n p \\displaystyle\\sum^{n-1}_{y=0} C^{n-1}_{y} p^{y} q^{(n-1)-y} $\n",
    "#### $ \\hspace{1.4cm} = n p (p+q)^{n-1} \\;\\; $ ($ \\because{} \\, $ 이항정리)\n",
    "#### $ \\hspace{1.4cm} = n p \\;\\; $ ($ \\because{} \\; p + q = 1 $)"
   ]
  },
  {
   "cell_type": "markdown",
   "metadata": {},
   "source": [
    "#### **(3) 분산** :\n",
    "#### $ \\Rightarrow{} \\text{var}(X) = \\underbrace{E(X^{2})}_{\\text{㉠}} - E(X)^{2} = n(n-1) p^{2} + np - (np)^{2} = np(1-p) $ \n",
    "#### $ \\because{} \\, ㉠ = E(X(X-1)) + E(X) $\n",
    "#### $ \\hspace{0.8cm} = \\displaystyle\\sum^{n}_{x=0} x(x-1)C^{n}_{x} p^{x} q^{n-x} + np, \\;\\; \\text{ where } \\, q = 1 - p $\n",
    "#### $ \\hspace{0.8cm} = \\displaystyle\\sum^{n}_{x=0} x(x-1)C^{n}_{x} p^{x} q^{n-x} + np = \\displaystyle\\sum^{n}_{x=0} x(x-1){{n!}\\over{(n-x)!x!}} p^{x} q^{n-x} + np $\n",
    "#### $ \\hspace{0.8cm} = \\displaystyle\\sum^{n}_{x=0} {{n!}\\over{(n-x)!(x-2)!}} p^{x} q^{n-x} + np = \\displaystyle\\sum^{n}_{x=0} n(n-1){{(n-2)!}\\over{(n-x)!(x-2)!}} p^{x} q^{n-x} + np $\n",
    "#### $ \\hspace{0.8cm} = n(n-1) \\displaystyle\\sum^{n}_{x=0} C^{n-2}_{x-2} p^{x} q^{n-x} + np $\n",
    "#### $ \\hspace{0.8cm} = n(n-1) \\displaystyle\\sum^{n-2}_{y=0} C^{n-2}_{y} p^{y+2} q^{n-y-2} + np, \\;\\; \\text{ where } \\, y = x-2, \\;\\; Y \\sim{} \\text{Binomial}(n-2, p)  $\n",
    "#### $ \\hspace{0.8cm} = n(n-1) \\displaystyle\\sum^{n-2}_{y=0} C^{n-2}_{y} p^{y} \\cdot{} p^{2} q^{n-y-2} + np = n(n-1) p^{2} \\displaystyle\\sum^{n-2}_{y=0} C^{n-2}_{y} p^{y} q^{n-y-2} + np $\n",
    "#### $ \\hspace{0.8cm} = n(n-1) p^{2} + np \\;\\; $ ($ \\because{} \\; $ 이항정리)"
   ]
  },
  {
   "cell_type": "markdown",
   "metadata": {},
   "source": [
    "##### **(`PLUS`) 이항 분포와 베르누이 분포의 관계** :\n",
    "##### $ \\hspace{0.15cm} $ 확률 변수 $ \\, X_{1},\\, X_{2},\\, \\cdots{},\\, X_{n} $ 이 특정 결과의 확률 $ \\, p $ 를 모수로 삼는 **독립적인** 베르누이 확률변수라면, \n",
    "##### $ \\hspace{0.15cm} $ 확률 변수 $ \\, X = X_{1} + X_{2} + \\cdots{} + X_{n} $ 은 시행 횟수 $ \\, n $ 과 특정 결과의 확률 $ \\, p $ 를 모수로 삼는 이항 분포를 따름\n",
    "##### $ \\hspace{0.15cm} \\Rightarrow{}  X_{i} \\sim{} \\text{Bernoulli}(p) \\, \\rightarrow{} (\\textbf{independent}) \\,\\, X_{1} + X_{2} + \\cdots{} + X_{n} = X \\sim{} \\text{Binomial}(n,\\, p) $ "
   ]
  },
  {
   "cell_type": "markdown",
   "metadata": {},
   "source": [
    "##### **(`PLUS`) 위 관계를 이용한 기대값과 분산** :\n",
    "##### $ \\hspace{0.15cm} \\cdot{} \\, E(X) = E(X_{1}) + E(X_{2}) + \\cdots{} E(X_{n}) = np $\n",
    "##### $ \\hspace{0.15cm} \\cdot{} \\, \\text{var}(X) = \\text{var}(X_{1}) + \\text{var}(X_{2}) + \\cdots{} + \\text{var}(X_{n}) = np(1-p) $"
   ]
  },
  {
   "cell_type": "markdown",
   "metadata": {},
   "source": [
    "#### **(4) 성질** :\n",
    "##### $ \\hspace{0.15cm} $ ① 결과의 이진성\n",
    "##### $ \\hspace{0.15cm} $ ② 다중 실험\n",
    "##### $ \\hspace{0.15cm} $ ③ 대칭성 : $ p = 0.5 $ 일 때 분포가 대칭적임\n",
    "##### $ \\hspace{0.15cm} $ ④ 정규분포 근사 : $ n $ 이 무수히 크고, $ \\, p $ 가 $ \\, 0 \\, $ 혹은 $ \\, 1 \\, $ 에 가깝지 않으면 정규분포에 근사함\n",
    "##### $ \\hspace{0.15cm} $ ⑤ 합성 가능성 : 독립적인 두 확률 변수가 같은 이항 분포를 따른다면, 시행횟수를 합친 이항분포로 정의됨 "
   ]
  },
  {
   "cell_type": "markdown",
   "metadata": {},
   "source": [
    "##### **(`PLUS`) 합성 가능성의 예** :\n",
    "##### $ \\hspace{0.15cm} $ 확률 변수 $ \\, X \\sim{} \\text{Binomial}(n,\\, p) $ 이고, $ \\, Y \\sim{} \\text{Binomial}(m,\\, p) $ 일 때 확률 변수 $ \\, Z = X + Y $ 의 확률밀도함수는\n",
    "##### $ \\hspace{0.15cm} X = \\displaystyle\\sum^{n}_{i=1} x_{i}, \\;\\; x_{i} \\sim{} \\text{Bernoulli}(p), \\;\\; Y = \\displaystyle\\sum^{m}_{k=1} y_{k}, \\;\\; y_{k} \\sim{} \\text{Bernoulli}(p) $\n",
    "##### $ \\hspace{0.15cm} X + Y = \\displaystyle\\sum^{n}_{i=1} x_{i} + \\displaystyle\\sum^{m}_{k=1} y_{k} = Z \\sim{} \\text{Binomial}(m+n,\\; p) $ \n",
    "##### $ \\therefore{} P(Z=z) = \\begin{cases} C^{m+n}_{z} (p)^{z}(1-p)^{m+n-z}, \\;\\; z \\in{} \\{ 0,\\; 1,\\; \\cdots{},\\; m+n \\} \\\\ 0, \\;\\;\\;\\;\\;\\;\\;\\;\\;\\;\\;\\;\\;\\;\\;\\;\\;\\;\\;\\;\\;\\;\\;\\;\\;\\;\\;\\;\\;\\;\\;\\;\\;\\;\\; z \\not\\in{} \\{ 0,\\; 1,\\; \\cdots{},\\; m+n \\} \\end{cases} $"
   ]
  },
  {
   "cell_type": "markdown",
   "metadata": {},
   "source": [
    "#### **(5) 예시** : \n",
    "##### $ \\hspace{0.15cm} $ ① $ \\, 4 $지선다 객관식 $ \\, 5 $ 개의 문항이 있는 시험에서 문제를 찍는다고 가정할 때, 확률변수 $ \\, X $ 를 찍어서 맞춘 횟수라고 하면\n",
    "##### $ \\hspace{0.45cm} $ (단, 찍는다는 행위는 무작위적이고 독립적임)\n",
    "##### $ \\hspace{0.45cm} \\cdot{} \\, S = \\{ \\text{TTTTT},\\, \\text{TTTTF},\\, \\cdots{},\\, \\text{FFFFF} \\} \\;\\; $ (※ $ \\, T $ : 맞춤, $ \\, F $ : 틀림)\n",
    "##### $ \\hspace{0.45cm} \\cdot{} \\, X = \\{ 5,\\, 4,\\, \\cdots{},\\, 0 \\} = \\{ 0,\\, 1,\\, 2,\\, 3,\\, 4,\\, 5 \\} \\sim{} \\text{Binomial}(n=5,\\, p={{1}\\over{4}}), \\;\\; E(X) = 1.25, \\;\\; \\text{var}(X) \\approx{} 0.93 $\n",
    "##### $ \\hspace{0.45cm} \\therefore{} \\, P(X=x) = \\begin{cases} C^{10}_{x} ({{1}\\over{4}})^{x}({{3}\\over{4}})^{10-x}, \\;\\; x \\in \\{ 0,\\; 1,\\; 2,\\; 3,\\; 4,\\; 5 \\} \\\\ 0, \\;\\;\\;\\;\\;\\;\\;\\;\\;\\;\\;\\;\\;\\;\\;\\;\\;\\;\\;\\;\\;\\;\\; x \\not\\in{} \\{ 0,\\; 1,\\; 2,\\; 3,\\; 4,\\; 5 \\} \\end{cases} $\n",
    "##### $ \\hspace{0.15cm} $ ② 공평한 주사위를 $ \\, 4 $ 번 던졌을 때, 확률 변수 $ \\, Y $ 를 주사위 눈 $ \\, 6 $ 이 나온 횟수라고 하면\n",
    "##### $ \\hspace{0.45cm} \\cdot{} \\, S = \\{ (1,1,1,1),\\, (1,1,1,2),\\, \\cdots{},\\, (6,6,6,6) \\} \\;\\; $\n",
    "##### $ \\hspace{0.45cm} \\cdot{} \\, Y = \\{ 0,\\, 0,\\, \\cdots{},\\, 4 \\} = \\{ 0,\\, 1,\\, 2,\\, 3,\\, 4 \\} \\sim{} \\text{Binomial}(n=4,\\, p={{1}\\over{6}}), \\;\\; E(X) \\approx{} 0.456, \\;\\; \\text{var}(X) \\approx{} 0.56 $\n",
    "##### $ \\hspace{0.45cm} \\therefore{} \\, P(Y=y) = \\begin{cases} C^{4}_{y} ({{1}\\over{6}})^{y}({{5}\\over{6}})^{4-y}, \\;\\; y \\in \\{ 0,\\; 1,\\; 2,\\; 3,\\; 4 \\} \\\\ 0, \\;\\;\\;\\;\\;\\;\\;\\;\\;\\;\\;\\;\\;\\;\\;\\;\\;\\;\\;\\;\\; y \\not\\in{} \\{ 0,\\; 1,\\; 2,\\; 3,\\; 4 \\} \\end{cases} $"
   ]
  },
  {
   "cell_type": "markdown",
   "metadata": {},
   "source": [
    "<b></b>"
   ]
  },
  {
   "cell_type": "markdown",
   "metadata": {},
   "source": [
    "> ## **다항 분포(Multinomial Distribution)**"
   ]
  },
  {
   "cell_type": "markdown",
   "metadata": {},
   "source": [
    "#### **(1) 정의** : **[CONTENTS]**"
   ]
  },
  {
   "cell_type": "markdown",
   "metadata": {},
   "source": [
    "#### **(2) 기대값** : **[CONTENTS]**"
   ]
  },
  {
   "cell_type": "markdown",
   "metadata": {},
   "source": [
    "#### **(3) 분산** : **[CONTENTS]**"
   ]
  },
  {
   "cell_type": "markdown",
   "metadata": {},
   "source": [
    "#### **(4) 성질** : **[CONTENTS]**"
   ]
  },
  {
   "cell_type": "markdown",
   "metadata": {},
   "source": [
    "#### **(5) 예시** : **[CONTENTS]**"
   ]
  },
  {
   "cell_type": "markdown",
   "metadata": {},
   "source": [
    "<b></b>"
   ]
  },
  {
   "cell_type": "markdown",
   "metadata": {},
   "source": [
    "> ## **기하 분포(Geometric Distribution)**"
   ]
  },
  {
   "cell_type": "markdown",
   "metadata": {},
   "source": [
    "#### **(1) 정의** : 이진 실험에서 특정 결과의 확률이 $ \\, p $ 인 베르누이 시행에서 특정 결과가 $ \\, 1 $ 회 나올 때까지 시행할 때, 그 확률 변수가 따르는 분포\n",
    "#### $ \\Rightarrow{} P(X=x) = \\begin{cases} (1-p)^{x-1}p, \\;\\; x = \\{ 1,\\; 2,\\; \\cdots{} \\} \\\\ 0, \\;\\;\\;\\;\\;\\;\\;\\;\\;\\;\\;\\;\\;\\;\\;\\;\\;\\; x \\not\\in{} \\{ 1,\\; 2,\\; \\cdots{} \\} \\end{cases} $\n",
    "<img src=\"../../img/03.3. Discrete Distributions (3).png\" width=\"40%\" height=\"40%\"></img>"
   ]
  },
  {
   "cell_type": "markdown",
   "metadata": {},
   "source": [
    "##### **(`PLUS`) 확률변수의 정의** :\n",
    "##### $ \\hspace{0.15cm} $ 확률변수 $ \\, X $ 는 **특정 결과가 $ \\, 1 $ 회 나올 때까지 시행하는 횟수**로 정의되며, 특정 결과의 확률 $ \\, p $ 를 모수로 하는 기하 분포를 따름\n",
    "##### $ \\hspace{0.15cm} \\Rightarrow{} X \\sim{} \\text{Geometric}(p) $"
   ]
  },
  {
   "cell_type": "markdown",
   "metadata": {},
   "source": [
    "#### **(2) 평균** : \n",
    "#### $ \\Rightarrow{} E(X) = \\displaystyle\\sum^{\\infty{}}_{x=0} P(X=x) = \\displaystyle\\sum^{\\infty{}}_{x=1} x p q^{x-1}, \\;\\; \\text{ where } \\, q = 1 - p $\n",
    "#### $ \\hspace{1.35cm} = p \\displaystyle\\sum^{\\infty{}}_{x=1} x q^{x-1} = p \\displaystyle\\sum^{\\infty{}}_{x=1} {{\\text{d}}\\over{\\text{d}q}} q^{x} \\;\\; $ ($ \\because{} \\, \\frac{\\text{d}}{\\text{dq}}q^{x} = x q^{x-1} $)\n",
    "#### $ \\hspace{1.35cm} = p {{\\text{d}}\\over{\\text{d}q}} (\\displaystyle\\sum^{\\infty{}}_{x=1}{q^{x}}) = p {{\\text{d}}\\over{\\text{d}q}} ({{1}\\over{1-q}}) \\;\\; $ ($ \\because{} \\, $ 공비가 $ \\, 1 \\, $ 이하인 무한등비수열의 합)\n",
    "#### $ \\hspace{1.35cm} = p {{1}\\over{(1-q)^{2}}} = p {{1}\\over{(p)^{2}}} = {{1}\\over{p}} $"
   ]
  },
  {
   "cell_type": "markdown",
   "metadata": {},
   "source": [
    "#### **(3) 분산** :\n",
    "#### $ \\Rightarrow{} \\text{var}(X) = \\underbrace{E(X^{2})}_{\\text{㉠}} - E(X)^{2} = {{2}\\over{p^{2}}} - {{1}\\over{p}} - {{1}\\over{p^{2}}} = {{1-p}\\over{p^{2}}} $ \n",
    "#### $ \\because{} \\; ㉠ = E(X(X-1)) + E(X) $\n",
    "#### $ \\hspace{0.825cm} = \\displaystyle\\sum^{\\infty{}}_{x=1}x(x+1)pq^{x-1} - \\displaystyle\\sum^{\\infty{}}_{x=1}xpq^{x-1} \\;\\; \\text{ where } \\; q = 1 - p $\n",
    "#### $ \\hspace{0.825cm} = \\displaystyle\\sum^{\\infty{}}_{x=1} x(x+1)pq^{x-1} - E(X) = p \\displaystyle\\sum^{\\infty{}}_{x=1}x(x+1)q^{x-1} - E(X) $\n",
    "#### $ \\hspace{0.825cm} = p \\displaystyle\\sum^{\\infty{}}_{x=1}{{\\text{d}}\\over{\\text{d}q}}[(x+1)q^{x}] - E(X) = p {{\\text{d}}\\over{\\text{d}q}}[\\underbrace{\\displaystyle\\sum^{\\infty{}}_{x=1}(x+1)q^{x}}_{\\text{ⓐ}}] - E(X) $\n",
    "#### $ \\hspace{0.825cm} = p {{\\text{d}}\\over{\\text{d}q}}[{{1}\\over{(1-q)^{2}}}-1] - E(X) $\n",
    "#### $ \\hspace{0.825cm} = p {{2}\\over{(1-q)^{3}}} - E(X) = {{2}\\over{p^{2}}} - {{1}\\over{p}} $"
   ]
  },
  {
   "cell_type": "markdown",
   "metadata": {},
   "source": [
    "##### **(`PLUS`) ⓐ 유도** :\n",
    "##### $ \\hspace{0.15cm} ⓐ = 2q + 3q^{2} + \\cdots{} $\n",
    "##### $ \\hspace{0.15cm} ⓐ\\times{}(1-q) = ⓑ = 2q + q^{2} + \\cdots{} = q + q + q^{2} + \\cdots{} = q + {{q}\\over{1-q}}, \\;\\; $ ($ \\because{} \\, $ 공비가 $ \\, 1 \\, $ 이하인 무한등비수열의 합) \n",
    "##### $ \\hspace{0.15cm} $ **[LATEX]**\n",
    "##### $ \\hspace{0.15cm} \\therefore{} \\, ⓐ = {{q}\\over{(1-q)}} + {{q}\\over{(1-q)^{2}}} = {{1}\\over{(1-q)^{2}}} - 1 $ "
   ]
  },
  {
   "cell_type": "markdown",
   "metadata": {},
   "source": [
    "#### **(4) 성질** :\n",
    "##### $ \\hspace{0.15cm} $ ① 무기억성질(memoryless) : 이전 구간의 확률이 다음 구간의 확률에 영향을 미치지 않음\n",
    "##### $ \\hspace{0.45cm} \\Rightarrow{} P(X > s+t | X > t ) = P(X > s) $\n",
    "##### $ \\hspace{0.15cm} $ ② **[CONTENTS]**"
   ]
  },
  {
   "cell_type": "markdown",
   "metadata": {},
   "source": [
    "#### **(5) 예시** : \n",
    "##### $ \\hspace{0.15cm} $ ① 공평한 주사위를 던져 $ \\, 6 $ 이 나오면 이기는 게임을 할 때, 확률 변수 $ \\, Y $ 는 이길 때 까지 계속 던진 횟수라면\n",
    "##### $ \\hspace{0.45cm} \\cdot{} \\, S = \\{ \\text{1},\\, \\text{2},\\, \\cdots{},\\, \\text{6},\\, \\text{(1,1)},\\, \\text{(1,2)},\\, \\cdots{} \\} $\n",
    "##### $ \\hspace{0.45cm} \\cdot{} \\, X = \\{ 1,\\, 2, \\cdots{} \\} \\sim{} \\text{Geometric}(p={{1}\\over{6}}), \\;\\; E(X) = 6, \\;\\; \\text{var}(X) = 30 $\n",
    "##### $ \\hspace{0.45cm} \\therefore{} \\, P(X=x) = \\begin{cases} ({{5}\\over{6}})^{x-1}({{1}\\over{6}}), \\;\\; x \\in{} \\{ 1,\\; 2,\\; \\cdots{} \\} \\\\ 0, \\;\\;\\;\\;\\;\\;\\;\\;\\;\\;\\;\\;\\;\\;\\; x \\not\\in{} \\{ 1,\\; 2,\\; \\cdots{} \\} \\end{cases} $"
   ]
  },
  {
   "cell_type": "markdown",
   "metadata": {},
   "source": [
    "##### **(`PLUS`)** 이 때 $ \\, 3 $ 번 던져 이길 확률은? \n",
    "##### $ \\hspace{0.15cm} \\therefore{} \\, P(Y \\leq{} 3) = P(Y=1) + P(Y=2) + P(Y=3) = ({{1}\\over{6}}) + ({{5}\\over{6}})({{1}\\over{6}}) + ({{1}\\over{6}})^{2}({{1}\\over{6}}) \\approx{} 42 \\% $"
   ]
  },
  {
   "cell_type": "markdown",
   "metadata": {},
   "source": [
    "##### $ \\hspace{0.15cm} $ ② **[CONTENTS]**"
   ]
  },
  {
   "cell_type": "markdown",
   "metadata": {},
   "source": [
    "<b></b>"
   ]
  },
  {
   "cell_type": "markdown",
   "metadata": {},
   "source": [
    "> ## **파스칼 분포(Pascal Distribution; Negative Binomial Distribution)**"
   ]
  },
  {
   "cell_type": "markdown",
   "metadata": {},
   "source": [
    "#### **(1) 정의** : 실험에서 특정 결과의 확률이 $ \\, p $ 인 베르누이 시행에서 특정 결과가 $ \\, n $ 회 나올 때까지 시행할 때, 그 확률 변수가 따르는 분포\n",
    "#### $ \\Rightarrow{} P(X=x) = \\begin{cases} C^{x-1}_{n-1}(1-p)^{x-n}(p)^{n}, \\;\\; x = \\{ n,\\; n+1,\\; \\cdots{} \\} \\\\ 0, \\;\\;\\;\\;\\;\\;\\;\\;\\;\\;\\;\\;\\;\\;\\;\\;\\;\\;\\;\\;\\;\\;\\;\\;\\;\\;\\;\\;\\;\\; x \\not\\in{} \\{ n,\\; n+1,\\; \\cdots{} \\} \\end{cases} $\n",
    "<img src=\"../../img/03.3. Discrete Distributions (4).png\" width=\"40%\" height=\"40%\"></img>"
   ]
  },
  {
   "cell_type": "markdown",
   "metadata": {},
   "source": [
    "##### **(`WHY?`)**  \n",
    "##### $ \\hspace{0.15cm} $불공평한 동전을 던져 $ \\, n $ 개의 앞면이 나올 때까지 시행할 경우, 확률 변수 $ \\, X $를 시행한 횟수라고 한다면, (단, $ \\, P(H) = p $)\n",
    "##### $ \\hspace{0.15cm} S = \\{ (H_{1}H_{2}\\cdots{}H_{n-1}H_{n}),\\, (T_{1}H_{1}H_{2}\\cdots{}H_{n-1}H_{n}),\\, (H_{1}T_{1}H_{2}\\cdots{}H_{n-1}H_{n}),\\,  \\cdots{} \\} $\n",
    "##### $ \\hspace{0.15cm} X = \\{ n,\\, n+1,\\, n+1,\\, \\cdots{} \\} = \\{ n,\\, n+1,\\, n+2,\\, \\cdots{} \\} $\n",
    "##### $ \\hspace{0.15cm} \\text{if } \\, X = n $ \n",
    "##### $ \\hspace{0.3cm} (H_{1}H_{2}\\cdots{}H_{n-1}H_{n}) = (H_{1}H_{2}\\cdots{}H_{n-1})(H_{n}) = (㉠) \\times{} (㉡) $\n",
    "##### $ \\hspace{0.3cm} ㉠ \\, $ : $ \\, n-1 $ 개 시행 중 앞면이 $ \\, n-1 $ 개 나올 경우의 수 $ = C^{n-1}_{n-1} $ \n",
    "##### $ \\hspace{0.3cm} ㉡ \\, $ : $ \\, 1 $ 개 시행 중 앞면이 $ \\, 1 $ 개 나올 경우의 수 $ = 1 $ \n",
    "##### $ \\hspace{0.15cm} \\text{if } \\, X = n+1 $ \n",
    "##### $ \\hspace{0.3cm} \\begin{rcases} (T_{1}H_{1}H_{2}\\cdots{}H_{n-1}H_{n}) = (T_{1}H_{1}H_{2}\\cdots{}H_{n-1})(H_{n}) \\,\\, \\\\ (H_{1}T_{1}H_{2}\\cdots{}H_{n-1}H_{n}) = (H_{1}T_{1}H_{2}\\cdots{}H_{n-1})(H_{n}) \\,\\, \\\\ \\cdots{} \\,\\, \\\\ (H_{1}H_{2}\\cdots{}H_{n-1}T_{1}H_{n}) = (H_{1}H_{2}\\cdots{}H_{n-1}T_{1})(H_{n}) \\,\\, \\end{rcases} = (㉠) \\times{} (㉡) $\n",
    "##### $ \\hspace{0.3cm} ㉠ \\, $ : $ \\, n $ 개 시행 중 앞면이 $ \\, n-1 $ 개 나올 경우의 수 $ = C^{n-1}_{n} $ \n",
    "##### $ \\hspace{0.3cm} ㉡ \\, $ : $ \\, 1 $ 개 시행 중 앞면이 $ \\, 1 $ 개 나올 경우의 수 $ = 1 $ \n",
    "##### $ \\hspace{0.15cm} \\cdots{} $\n",
    "##### $ \\hspace{0.15cm} \\text{if } \\, X = x $\n",
    "##### $ \\hspace{0.15cm} P(㉠) = C^{x-1}_{n-1}(1-p)^{x-n}(p)^{n-1} \\,\\, $ ($ \\because{} \\, $ Binomial Formula)\n",
    "##### $ \\hspace{0.15cm} P(㉡) = 1 \\times{} p $  \n",
    "##### $ \\hspace{0.15cm} \\therefore{} P(X=x) = P(㉠)P(㉡) = C^{x-1}_{n-1}(1-p)^{x-n}(p)^{n-1} \\times{} (p) = C^{x-1}_{n-1}(1-p)^{x-n}(p)^{n} $"
   ]
  },
  {
   "cell_type": "markdown",
   "metadata": {},
   "source": [
    "##### **(`PLUS`) 확률변수의 정의** :\n",
    "##### $ \\hspace{0.15cm} $ 확률 변수 $ \\, X $ 는 **특정 결과가 $ \\, n $ 회 나올 때까지 시행하는 횟수**로 정의되며, \n",
    "##### $ \\hspace{0.15cm} $ 특정 결과가 나오는 횟수 $ \\, n $ 과 특정 결과의 확률 $ \\, p $ 를 모수로 하는 파스칼 분포를 따름\n",
    "##### $ \\hspace{0.15cm} \\Rightarrow{} X \\sim{} \\text{Pascal}(n,\\, p) $"
   ]
  },
  {
   "cell_type": "markdown",
   "metadata": {},
   "source": [
    "#### **(2) 기댓값** :\n",
    "#### $ \\Rightarrow{} E(X) = \\displaystyle\\sum^{\\infty{}}_{x=0} P(X=x) = \\displaystyle\\sum^{\\infty{}}_{x=n} x C^{x-1}_{n-1}q^{x-n}p^{n}, \\;\\; \\text{ where } \\; q = 1 - p $\n",
    "#### $ \\hspace{1.4cm} = \\displaystyle\\sum^{\\infty{}}_{y=0}(y+n)C^{y+n-1}_{n-1}q^{y}p^{n}, \\;\\; \\text{ where } \\; y = x-n, \\;\\; Y \\sim{} \\text{Pascal}(n,\\; p) $ \n",
    "#### $ \\hspace{1.4cm} = \\displaystyle\\sum^{\\infty{}}_{y=0}yC^{y+n-1}_{n-1}q^{y}p^{n} + \\displaystyle\\sum^{\\infty{}}_{y=0} n C^{y+n-1}_{n-1}q^{y}p^{n} $\n",
    "#### $ \\hspace{1.4cm} = \\displaystyle\\sum^{\\infty{}}_{y=0}yC^{y+n-1}_{n-1}q^{y}p^{n} + n \\displaystyle\\sum^{\\infty{}}_{y=0} C^{y+n-1}_{n-1}q^{y}p^{n} $\n",
    "#### $ \\hspace{1.4cm} = \\underbrace{\\displaystyle\\sum^{\\infty{}}_{y=0}yC^{y+n-1}_{n-1}q^{y}p^{n}}_{\\text{ⓐ}} + n \\;\\; $ ($ \\because{} \\; $ 파스칼 분포의 합은 $ \\; 1, \\;\\; \\displaystyle\\sum^{\\infty{}}_{y=0} C^{y+n-1}_{n-1}q^{y} = {{1}\\over{p^{n}}} $)\n",
    "#### $ \\hspace{1.4cm} = {{n(1-p)}\\over{p}} + n = {{n}\\over{p}} $"
   ]
  },
  {
   "cell_type": "markdown",
   "metadata": {},
   "source": [
    "##### **(`PLUS`) ⓐ 유도** :\n",
    "##### $ \\hspace{0.15cm} ⓐ = \\displaystyle\\sum^{\\infty{}}_{y=0}y{{(y+n-1)!}\\over{(n-1)y!}}q^{y}p^{n} = \\displaystyle\\sum^{\\infty{}}_{y=0}{{(y+n-1)!}\\over{(n-1)!(y-1)!}}q^{y}p^{n} $\n",
    "##### $ \\hspace{0.6cm} = \\displaystyle\\sum^{\\infty{}}_{z=0}{{(z+n)!}\\over{(n-1)!z!}}q^{z+1}p^{n} \\;\\; \\text{ where } \\; z = y - 1 = x - n - 1 $ \n",
    "##### $ \\hspace{0.6cm} = \\displaystyle\\sum^{\\infty{}}_{z=0}{{(z+n)!}\\over{(n-1)!z!}}q^{z}\\cdot{}q\\cdot{}p^{n} = q \\displaystyle\\sum^{\\infty{}}_{z=0}{{(z+n)!}\\over{(n-1)!z!}}q^{z}p^{n} $\n",
    "##### $ \\hspace{0.6cm} = q \\displaystyle\\sum^{\\infty{}}_{z=0}{{(z+n)(z+n-1)!}\\over{(n-1)!z!}}q^{z}p^{n} $\n",
    "##### $ \\hspace{0.6cm} = q [\\displaystyle\\sum^{\\infty{}}_{z=0}z{{(z+n-1)!}\\over{(n-1)!z!}}q^{z}p^{n} + \\displaystyle\\sum^{\\infty{}}_{z=0}n{{(z+n-1)!}\\over{(n-1)!z!}}q^{z}p^{n}] $\n",
    "##### $ \\hspace{0.6cm} = q [\\displaystyle\\sum^{\\infty{}}_{z=0}z{{(z+n-1)!}\\over{(n-1)!z!}}q^{z}p^{n} + n] $\n",
    "##### $ \\hspace{0.6cm} = q [\\displaystyle\\sum^{\\infty{}}_{z=0}{{(z+n-1)!}\\over{(n-1)!(z-1)!}}q^{z}p^{n} + n] = q [\\displaystyle\\sum^{\\infty{}}_{z=0}n{{(z+n-1)!}\\over{n!(z-1)!}}q^{z}p^{n} + n] $\n",
    "##### $ \\hspace{0.6cm} = q [\\displaystyle\\sum^{\\infty{}}_{z=0}n{{(z+n-1)!}\\over{n!(z-1)!}}q^{z-1}\\cdot{}q\\cdot{}p^{n+1}\\cdot{}p^{-1} + n] $\n",
    "##### $ \\hspace{0.6cm} = q [{{nq}\\over{p}}\\displaystyle\\sum^{\\infty{}}_{z=0}{{(z+n-1)!}\\over{n!(z-1)!}}q^{z-1}p^{n+1} + n] $\n",
    "##### $ \\hspace{0.6cm} = q ({{nq}\\over{p}} + n) \\;\\; $ ($ \\because{} \\; $ 이항정리 확장)\n",
    "##### $ \\hspace{0.6cm} = q ({{n(p+q)}\\over{p}}) = {{n(1-p)}\\over{p}} $"
   ]
  },
  {
   "cell_type": "markdown",
   "metadata": {},
   "source": [
    "#### **(3) 분산** :\n",
    "#### $ \\Rightarrow{} \\text{var}(X) = \\underbrace{E(X^{2})}_{\\text{㉠}} - E(X)^{2} = np(1-p) $ \n",
    "#### $ \\because{} \\, ㉠ = $ **[LATEX]**"
   ]
  },
  {
   "cell_type": "markdown",
   "metadata": {},
   "source": [
    "##### **(`PLUS`) 기하 분포와 파스칼 분포의 관계** :\n",
    "##### $ \\hspace{0.15cm}$ 확률 변수 $ \\, X_{1},\\, X_{2},\\, \\cdots{},\\, X_{n} $ 이 특정 결과의 확률 $ \\, p $ 를 모수로 삼는 **독립적인** 기하 확률변수라면, \n",
    "##### $ \\hspace{0.15cm} $ 확률 변수 $ \\, X = X_{1} + X_{2} + \\cdots{} + X_{n} $ 은 시행 횟수 $ \\, n $, 특정 결과의 확률 $ \\, p $ 를 모수로 삼는 파스칼 분포를 따름\n",
    "##### $ \\hspace{0.15cm} \\Rightarrow{}  X_{i} \\sim{} \\text{Geometric}(p) \\, \\rightarrow{} (\\textbf{independent}) \\,\\, X_{1} + X_{2} + \\cdots{} + X_{n} = X \\sim{} \\text{Pascal}(n,\\, p) $ "
   ]
  },
  {
   "cell_type": "markdown",
   "metadata": {},
   "source": [
    "##### **(`PLUS`) 관계를 이용한 기대값과 분산** :\n",
    "##### $ \\hspace{0.15cm} \\cdot{} \\, E(X) = E(X_{1}) + E(X_{2}) + \\cdots{} E(X_{n}) = {{n}\\over{p}} $\n",
    "##### $ \\hspace{0.15cm} \\cdot{} \\, \\text{var}(X) = \\text{var}(X_{1}) + \\text{var}(X_{2}) + \\cdots{} + \\text{var}(X_{n}) = {{n(1-p)}\\over{p^{2}}} \\;\\; \\text{ where } \\; X_{i} \\sim{} \\text{Geometric}(p) $"
   ]
  },
  {
   "cell_type": "markdown",
   "metadata": {},
   "source": [
    "#### **(4) 성질** :\n",
    "##### $ \\hspace{0.15cm} $ ① 무기억성질(memoryless) : 이전 구간의 확률이 다음 구간의 확률에 영향을 미치지 않음\n",
    "##### $ \\hspace{0.45cm} \\Rightarrow{} P(X > s+t | X > t ) = P(X > s) $\n",
    "##### $ \\hspace{0.15cm} $ ② 합성 가능성 : 독립적인 두 확률 변수가 같은 기하 분포를 따른다면, 성공횟수를 합친 이항분포로 정의됨 "
   ]
  },
  {
   "cell_type": "markdown",
   "metadata": {},
   "source": [
    "#### **(5) 예시** : \n",
    "##### $ \\hspace{0.15cm} $ ① 전구 공장에서 상품의 불량률이 $ \\; 10 % $ 일 때, 확률 변수 $ \\; X $ 를 양품 $ \\; 10 $ 개를 고를 때까지 검사하는 횟수라고 할 때\n",
    "##### $ \\hspace{0.45cm} \\cdot{} \\, S = \\{ (T_{1}\\cdots{}T_{10}),\\; (F_{1}T_{1}\\cdots{}T_{10}),\\; \\cdots{} \\} \\;\\; $ (※ $ \\; T $ : 양품, $ \\; F $ : 불량품)\n",
    "##### $ \\hspace{0.45cm} \\cdot{} \\, X = \\{ 10,\\; 11,\\; \\cdots{} \\} \\sim{} \\text{Pascal}(n=10,\\; p=0.9), \\;\\; E(X) \\approx{} 11.11, \\;\\; \\text{var}(X) \\approx{} 1.2346 $\n",
    "##### $ \\hspace{0.45cm} \\therefore{} \\, P(X=x) = C^{x-1}_{10}(0.9)^{10}(0.1)^{x-10} $ "
   ]
  },
  {
   "cell_type": "markdown",
   "metadata": {},
   "source": [
    "##### **(`PLUS`)** 이 때 $ \\, 15 $ 번 이하의 검사에서 양품을 모두 고를 확률은?\n",
    "##### $ \\hspace{0.15cm} \\therefore{} \\, P(X \\leq{} 15) = \\sum{}^{15}_{i=1}P(X=i) \\approx{} 72 \\% $ "
   ]
  },
  {
   "cell_type": "markdown",
   "metadata": {},
   "source": [
    "##### $ \\hspace{0.15cm} $ ② **[CONTENTS]**"
   ]
  },
  {
   "cell_type": "markdown",
   "metadata": {},
   "source": [
    "<b></b>"
   ]
  },
  {
   "cell_type": "markdown",
   "metadata": {},
   "source": [
    "> ## **초기하 분포(Hypergeometric Distribution)**"
   ]
  },
  {
   "cell_type": "markdown",
   "metadata": {},
   "source": [
    "#### **(1) 정의** : \n",
    "#### 전체 크기가 $ \\; N $, 특정 요소의 크기가 $ \\; k $ 인 서로 다른 두 요소를 갖는 집합에서 $ \\; n $개의 표본을 추출했을 때,\n",
    "#### 특정 요소를 **비복원추출**하는 확률 변수가 따르는 분포\n",
    "#### $ \\Rightarrow{} P(X=x) = \\begin{cases} {{C^{k}_{x}C^{n-k}_{n-x}}\\over{C^{N}_{n}}}, \\;\\; x \\in{} \\{ x \\in{} \\mathbb{Z} \\; | \\; \\text{max}(0,\\; n-N+k) \\leq{} x \\leq{} \\text{min}(n,\\; k) \\} \\\\ 0, \\;\\;\\;\\;\\;\\;\\;\\;\\;\\; x \\not\\in{} \\{ x \\in{} \\mathbb{Z} \\; | \\; \\text{max}(0,\\; n-N+k) \\leq{} x \\leq{} \\text{min}(n,\\; k) \\} \\end{cases} $\n",
    "<img src=\"../../img/03.3. Discrete Distributions (5).png\" width=\"40%\" height=\"40%\"></img>"
   ]
  },
  {
   "cell_type": "markdown",
   "metadata": {},
   "source": [
    "##### **(`WHY?`)**\n",
    "##### $ \\hspace{0.15cm} $ **[CONTENTS]**"
   ]
  },
  {
   "cell_type": "markdown",
   "metadata": {},
   "source": [
    "##### **(`PLUS`) 확률변수의 정의** :\n",
    "##### $ \\hspace{0.15cm} $ 확률변수 $ \\, X $ 는 전체 $ \\, N $ 개 중 $ \\, n $ 개의 표본 중 **특정 그룹을 뽑는 경우의 수**로 정의되며, \n",
    "##### $ \\hspace{0.15cm} $ 전체 집단의 개수 $ \\, N $ 과 특정 그룹의 개수 $ \\, k $, 표본 추출한 개수 $ \\, n $ 을 모수로 하는 초기하 분포를 따름\n",
    "##### $ \\hspace{0.15cm} \\Rightarrow{} X \\sim{} \\text{Hypergeometric}(N,\\, k,\\, n) $"
   ]
  },
  {
   "cell_type": "markdown",
   "metadata": {},
   "source": [
    "#### **(2) 기댓값** : \n",
    "#### $ \\text{if } \\, k \\geq{} 2, \\;\\; N-k \\geq{} 1, $ \n",
    "#### $ \\Rightarrow{} E(X) = \\displaystyle\\sum^{\\infty{}}_{x\\in{}X(S)} P(X=x) = \\displaystyle\\sum^{\\infty{}}_{x\\in{}X(S)} x {{C^{k}_{x}C^{n-k}_{n-x}}\\over{C^{N}_{n}}}, \\;\\; \\text{ where } \\, q = 1 - p $\n",
    "#### $ \\hspace{1.35cm} = \\displaystyle\\sum^{\\infty{}}_{x\\in{}X(S)} x{{{k}\\over{x}}\\over{{N}\\over{n}}}{{C^{k-1}_{x-1}C^{n-k}_{n-x}}\\over{C^{N-1}_{n-1}}} = \\displaystyle\\sum^{\\infty{}}_{x\\in{}X(S)} {n{k}\\over{N}}{{C^{k-1}_{x-1}C^{n-k}_{n-x}}\\over{C^{N-1}_{n-1}}} = {n{k}\\over{N}} \\displaystyle\\sum^{\\infty{}}_{x\\in{}X(S)} {{C^{k-1}_{x-1}C^{n-k}_{n-x}}\\over{C^{N-1}_{n-1}}} $\n",
    "#### $ \\hspace{1.35cm} = {n{k}\\over{N}} \\displaystyle\\sum^{\\infty{}}_{y\\in{}Y(S)} {{C^{k-1}_{y}C^{n-k}_{n-y-1}}\\over{C^{N-1}_{n-1}}} \\;\\; \\text{ where } \\, y = x - 1, \\;\\;\\; Y \\sim{} \\text{Hypergeometric}(N-1,\\, k-1,\\, n-1) $\n",
    "#### $ \\hspace{1.35cm} = {n{k}\\over{N}} $"
   ]
  },
  {
   "cell_type": "markdown",
   "metadata": {},
   "source": [
    "#### **(3) 분산** :\n",
    "#### $ \\Rightarrow{} \\text{var}(X) = \\underbrace{E(X^{2})}_{\\text{㉠}} - E(X)^{2} = {{nk}\\over{N}}{{(n-1)(k-1)}\\over{N+1}} + {n{k}\\over{N}} - ({{nk}\\over{N}})^{2} = n{{k}\\over{N}}{{N-k}\\over{N}}(1-{{n-1}\\over{N-1}}) $ \n",
    "#### $ \\because{} \\, ㉠ = E(X(X-1)) + E(X) $\n",
    "#### $ \\hspace{0.8cm} = \\displaystyle\\sum^{\\infty{}}_{x\\in{}X(S)} x(x-1) {{C^{k}_{x}C^{n-k}_{n-x}}\\over{C^{N}_{n}}} + {n{k}\\over{N}} $\n",
    "#### $ \\hspace{0.8cm} = \\displaystyle\\sum^{\\infty{}}_{x\\in{}X(S)} x(x-1) {{{k}\\over{x}}\\over{{N}\\over{n}}}{{C^{k-1}_{x-1}C^{n-k}_{n-x}}\\over{C^{N-1}_{n-1}}} + {n{k}\\over{N}} $\n",
    "#### $ \\hspace{0.8cm} = \\displaystyle\\sum^{\\infty{}}_{x\\in{}X(S)} x(x-1) {{{k}\\over{x}}\\over{{N}\\over{n}}}{{{k-1}\\over{x-1}}\\over{{N-1}\\over{n-1}}}{{C^{k-2}_{x-2}C^{n-k}_{n-x}}\\over{C^{N-2}_{n-2}}} + {n{k}\\over{N}} $\n",
    "#### $ \\hspace{0.8cm} = \\displaystyle\\sum^{\\infty{}}_{x\\in{}X(S)} {{nk}\\over{N}}{{(n-1)(k-1)}\\over{N-1}} + {n{k}\\over{N}}{{C^{k-2}_{x-2}C^{n-k}_{n-x}}\\over{C^{N-2}_{n-2}}} + {n{k}\\over{N}} $\n",
    "#### $ \\hspace{0.8cm} = {{nk}\\over{N}}{{(n-1)(k-1)}\\over{N-1}} \\displaystyle\\sum^{\\infty{}}_{x\\in{}X(S)} {{C^{k-2}_{z}C^{n-k}_{n-z-2}}\\over{C^{N-2}_{n-2}}} + {n{k}\\over{N}}, \\;\\; \\text{ where } \\, z = x - 2, \\;\\; Z \\sim{} \\text{Hypergeometric}(N-2,\\, k-2,\\, n-2) $\n",
    "#### $ \\hspace{0.8cm} = {{nk}\\over{N}}{{(n-1)(k-1)}\\over{N-1}} + {n{k}\\over{N}} $"
   ]
  },
  {
   "cell_type": "markdown",
   "metadata": {},
   "source": [
    "##### **(`PLUS`) 베르누이 분포와 초기하 분포의 관계** :\n",
    "##### $ \\hspace{0.15cm} $ 확률 변수 $ \\, X_{1},\\, X_{2},\\, \\cdots{},\\, X_{n} $ 이 특정 집단(결과)의 확률 $ \\, p $ 를 모수로 삼는 **종속적인** 베르누이 확률변수라면, \n",
    "##### $ \\hspace{0.15cm} $ 확률 변수 $ X = X_{1} + X_{2} + \\cdots{} + X_{n} $ 은 시행 횟수 $ \\, n $, 특정 집단의 개수 $ \\, k $, 특정 집단의 확률 $ \\, p $ 를 모수로 삼는 초기하 분포를 따름\n",
    "##### $ \\hspace{0.15cm} \\Rightarrow{} X_{i} \\sim{} \\text{Bernoulli}(p) \\, \\rightarrow{} (\\textbf{independent}) \\,\\, X_{1} + X_{2} + \\cdots{} + X_{n} = X \\sim{} \\text{Hypergeometric}(N,\\, k,\\, n) $ "
   ]
  },
  {
   "cell_type": "markdown",
   "metadata": {},
   "source": [
    "##### **(`PLUS`)** 이 때 확률 $ \\; p $ 는 전체 집단 중 특정 결과의 빈도를 의미하며, 초기하분포는 베르누이 시행의 **조건부 확률**로 볼 수 있음"
   ]
  },
  {
   "cell_type": "markdown",
   "metadata": {},
   "source": [
    "##### **(`PLUS`) 관계를 이용한 기대값** :\n",
    "##### $ \\hspace{0.15cm} \\cdot{} \\, E(X) = E(X_{1}) + E(X_{2}) + \\cdots{} E(X_{n}) = n {{k}\\over{N}}= np $"
   ]
  },
  {
   "cell_type": "markdown",
   "metadata": {},
   "source": [
    "##### **(`PLUS`) 공분산을 알 경우 분산** (CH05.4.) :\n",
    "##### $ \\hspace{0.15cm} \\cdot{} \\, \\displaystyle\\sum^{n}_{i=1}\\text{var}(X_{i}) = \\displaystyle\\sum^{n}_{i=1}\\text{var}(X_{i}) + \\displaystyle\\sum_{i<k}\\text{cov}(X_{i},\\; X_{k}) $\n",
    "##### $ \\hspace{2.2cm} = n \\cdot{} \\text{var}(X_{i}) + 2 \\cdot{} C^{n}_{2} \\cdot{} \\text{cov}(X_{i},\\; X_{k}) $\n",
    "##### $ \\hspace{2.2cm} = n p(1-p) + 2 E(X_{i}X_{k}) - E(X_{i})E(X_{k}) $\n",
    "##### $ \\hspace{2.2cm} = $ **[LATEX]**"
   ]
  },
  {
   "cell_type": "markdown",
   "metadata": {},
   "source": [
    "#### **(4) 성질** :\n",
    "##### $ \\hspace{0.15cm} $ ① 비복원추출 및 조건부확률 기반 분포\n",
    "##### $ \\hspace{0.15cm} $ ② **[CONTENTS]**"
   ]
  },
  {
   "cell_type": "markdown",
   "metadata": {},
   "source": [
    "#### **(5) 예시** : \n",
    "##### $ \\hspace{0.15cm} $ ① 총 $ \\; 100 $ 개의 다이아몬드 중 $ \\; 10 $ 개가 가품이고 $ \\; 20 $ 개를 뽑을 때, 확률 변수 $ \\; X $ 를 가품을 뽑는 개수(경우의 수)라고 한다면\n",
    "##### $ \\hspace{0.45cm} \\cdot{} \\, S = \\{ (F_{1}\\cdots{}F_{20}),\\; (T_{1}\\cdots{}F_{19}),\\; \\cdots{} \\} \\;\\; $ (※ $ \\; T $ : 진품, $ \\; F $ : 가품)\n",
    "##### $ \\hspace{0.45cm} \\cdot{} \\, X = \\{ 0,\\; 1,\\; \\cdots{} \\} \\sim{} \\text{Hypergeometric}(N=100,\\; k=10,\\; n=20), \\;\\; E(X) = 2, \\;\\; \\text{var}(X) = 1.4545 $\n",
    "##### $ \\hspace{0.45cm} \\therefore{} \\, P(X=x) = {{C^{10}_{x}C^{90}_{20-x}}\\over{C^{100}_{20}}} $ "
   ]
  },
  {
   "cell_type": "markdown",
   "metadata": {},
   "source": [
    "##### **(`PLUS`)** 이 때 $ \\, 2 $ 개가 가품일 확률은?\n",
    "##### $ \\hspace{0.15cm} \\therefore{} \\, P(X=2) = {{C^{10}_{2}C^{90}_{18}}\\over{C^{100}_{20}}} \\approx{} 32 \\% $ "
   ]
  },
  {
   "cell_type": "markdown",
   "metadata": {},
   "source": [
    "##### &nbsp;&nbsp; ② **[CONTENTS]**"
   ]
  },
  {
   "cell_type": "markdown",
   "metadata": {},
   "source": [
    "<b></b>"
   ]
  },
  {
   "cell_type": "markdown",
   "metadata": {},
   "source": [
    "> ## **포아송 분포(Poisson Distribution)**"
   ]
  },
  {
   "cell_type": "markdown",
   "metadata": {},
   "source": [
    "#### **(1) 정의** : 특정 구간(시간/공간)동안 **독립적이고 일정하게** 발생한 사건의 빈도(횟수)인 확률변수가 따르는 분포\n",
    "#### $ \\Rightarrow{} P(X=x) = \\begin{cases} {{e^{-\\lambda{}}\\lambda{}^{x}}\\over{x!}}, \\;\\; x \\in{} \\{ 0,\\; 1,\\; \\cdots{} \\} \\\\ 0, \\;\\;\\;\\;\\;\\;\\;\\; x \\not\\in{} \\{ 0,\\; 1,\\; \\cdots{} \\} \\end{cases} $\n",
    "#### ※ $ \\, \\lambda{} \\, $ : 사건 발생의 **평균** 빈도 $ \\times{} $ 특정구간 $ = $ 특정 구간에서 발생한 사건의 **평균** 빈도\n",
    "<img src=\"../../img/03.3. Discrete Distributions (6).png\" width=\"40%\" height=\"40%\"></img>"
   ]
  },
  {
   "cell_type": "markdown",
   "metadata": {},
   "source": [
    "##### **(`PLUS`) 자연상수 $ \\, e $ 의 정의** :\n",
    "##### $ \\hspace{0.15cm} \\Rightarrow{} e = \\displaystyle\\lim_{n \\rightarrow{} \\infty{}} (1 + \\frac{1}{n})^{n} = (\\frac{n+1}{n})^{n} = \\displaystyle\\sum^{\\infty{}}_{n=1} \\frac{1}{n!} \\approx{} 2.71828 $"
   ]
  },
  {
   "cell_type": "markdown",
   "metadata": {},
   "source": [
    "##### **(`PLUS`) 확률변수의 정의** :\n",
    "##### $ \\hspace{0.15cm} $ 확률변수 $ \\, X $ 는 **특정 구간에서 발생한 사건의 개수**로 정의되며,\n",
    "##### $ \\hspace{0.15cm} $ 특정 구간에서 발생한 이벤트의 평균 빈도 $ \\, \\lambda{} $ 를 모수로 하는 포아송 분포를 따름\n",
    "##### $ \\hspace{0.15cm} \\Rightarrow{} X \\sim{} \\text{Poisson}(\\lambda{}) $"
   ]
  },
  {
   "cell_type": "markdown",
   "metadata": {},
   "source": [
    "#### **(2) 기댓값** : \n",
    "#### $ \\Rightarrow{} E(X) = \\displaystyle\\sum^{\\infty{}}_{x=0} xP(X=x) = \\displaystyle\\sum^{\\infty{}}_{x=0} x {{e^{-\\lambda{}}\\lambda{}^{x}}\\over{x!}} $\n",
    "#### $ \\hspace{1.4cm} = e^{-\\lambda{}} \\displaystyle\\sum^{\\infty{}}_{x=0} x {{\\lambda{}^{x}}\\over{x!}} = e^{-\\lambda{}} (0{{\\lambda{}^{0}}\\over{0!}} +\\displaystyle\\sum^{\\infty{}}_{x=1} x {{\\lambda{}^{x}}\\over{x!}}) $\n",
    "#### $ \\hspace{1.4cm} = e^{-\\lambda{}} \\displaystyle\\sum^{\\infty{}}_{x=1} {{\\lambda{}^{x}}\\over{(x-1)!}} = e^{-\\lambda{}} \\displaystyle\\sum^{\\infty{}}_{x=1} {{\\lambda{}\\lambda{}^{x-1}}\\over{(x-1)!}} = \\lambda{} e^{-\\lambda{}} \\displaystyle\\sum^{\\infty{}}_{x=1} {{\\lambda{}^{x-1}}\\over{(x-1)!}}  $ \n",
    "#### $ \\hspace{1.4cm} = \\lambda{} e^{-\\lambda{}} (\\displaystyle\\sum^{\\infty{}}_{k=0} {{\\lambda{}^{k}}\\over{k!}}) \\;\\; \\text{ where } \\, k = x - 1, \\;\\; K \\sim{} \\text{Poisson}(\\lambda{}) $\n",
    "#### $ \\hspace{1.4cm} = \\lambda{} e^{-\\lambda{}} (e^{\\lambda{}}) \\;\\; $ ($ \\because{} \\, e^{x} = \\displaystyle\\sum^{\\infty{}}_{n=0} {{x^{n}}\\over{n!}} $ ; 지수함수 멱급수 전개)\n",
    "#### $ \\hspace{1.4cm} = \\lambda{} $"
   ]
  },
  {
   "cell_type": "markdown",
   "metadata": {},
   "source": [
    "#### **(3) 분산** :\n",
    "#### $ \\Rightarrow{} \\text{var}(X) = \\underbrace{E(X^{2})}_{\\text{㉠}} - E(X)^{2} = \\lambda{}^{2} + \\lambda{} - \\lambda{}^{2} = \\lambda{} $ \n",
    "#### $ \\because{} \\, ㉠ = E(X(X-1)) + E(X) = \\displaystyle\\sum^{\\infty{}}_{x=0} x(x-1) {{e^{-\\lambda{}}\\lambda{}^{x}}\\over{x!}} + \\lambda{} $\n",
    "#### $ \\hspace{0.8cm} = 0 + 0 + \\displaystyle\\sum^{\\infty{}}_{x=2} {{e^{-\\lambda{}}\\lambda{}^{x}}\\over{(x-2)!}} - \\lambda{} = e^{-\\lambda{}} \\lambda{}^{2} \\displaystyle\\sum^{\\infty{}}_{x=2} {{\\lambda{}^{x-2}}\\over{(x-2)!}} + \\lambda{} $\n",
    "#### $ \\hspace{0.8cm} = e^{-\\lambda{}} \\lambda{}^{2} \\displaystyle\\sum^{\\infty{}}_{y=0} {{\\lambda{}^{y}}\\over{y!}} + \\lambda{} \\;\\; \\text{ where } \\; y = x - 2, \\;\\; Y \\sim{} \\text{Poisson}(\\lambda{}) $\n",
    "#### $ \\hspace{0.8cm} = e^{-\\lambda{}} \\lambda{}^{2} e^{\\lambda{}} - \\lambda{} = \\lambda{}^{2} + \\lambda{} $"
   ]
  },
  {
   "cell_type": "markdown",
   "metadata": {},
   "source": [
    "##### **(`PLUS`) 포아송 분포와 이항 분포의 관계** :\n",
    "##### $ \\hspace{0.15cm} $ 확률 변수 $ \\, X $ 가 $ \\, n $ 회 시행하고 특정 결과가 나올 확률이 $ \\, p, \\;\\; \\lambda{} = np $ 인 이항 분포를 따를 때,\n",
    "##### $ \\hspace{0.15cm} $ 포아송 분포는 $ \\, n $ 이 무한대($ \\infty{} $)로 가는 경우를 근사(approximate)한 모델이다. \n",
    "##### $ \\hspace{0.15cm} \\Rightarrow{} X \\sim{} \\text{Binomial}(n,\\, p={{\\lambda{}}\\over{n}}), \\;\\; \\displaystyle\\lim_{n \\rightarrow{} \\infty{}} X \\, \\approx{} \\, Y \\sim{} \\text{Poisson}(\\lambda{}) $"
   ]
  },
  {
   "cell_type": "markdown",
   "metadata": {},
   "source": [
    "##### **(`WHY?`)**\n",
    "##### $ \\hspace{0.15cm} P(X=x) = C^{n}_{x}(p)^{x}(1-p)^{n-x} = C^{n}_{x}({{\\lambda{}}\\over{n}})^{x}(1-{{\\lambda{}}\\over{n}})^{n-x} = {{n!}\\over{x!(n-x)!}}({{\\lambda{}}\\over{n}})^{x}(1-{{\\lambda{}}\\over{n}})^{n-x} $\n",
    "##### $ \\hspace{0.15cm} \\displaystyle\\lim_{n \\rightarrow{} \\infty{}} P(X=x) = \\displaystyle\\lim_{n \\rightarrow{} \\infty{}} {{n!}\\over{x!(n-x)!}}({{\\lambda{}}\\over{n}})^{x}(1-{{\\lambda{}}\\over{n}})^{n-x} $\n",
    "##### $ \\hspace{2.45cm} = {{\\lambda{}^{x}}\\over{x!}} \\displaystyle\\lim_{n \\rightarrow{} \\infty{}} {{n!}\\over{(n-x)!}}({{1}\\over{n}})^{x}(1-{{\\lambda{}}\\over{n}})^{n-x} $\n",
    "##### $ \\hspace{2.45cm} = {{\\lambda{}^{x}}\\over{x!}} \\displaystyle\\lim_{n \\rightarrow{} \\infty{}} {{(n)(n-1)\\cdots{}(n-x+1)}\\over{n^{x}}}(1-{{\\lambda{}}\\over{n}})^{n-x} $\n",
    "##### $ \\hspace{2.45cm} = {{\\lambda{}^{x}}\\over{x!}} \\displaystyle\\lim_{n \\rightarrow{} \\infty{}} {{(n)(n-1)\\cdots{}(n-x+1)}\\over{\\underbrace{n\\times{}n\\times{}\\cdots{}\\times{}n}_{\\text{x개}}}}(1-{{\\lambda{}}\\over{n}})^{n-x} $\n",
    "##### $ \\hspace{2.45cm} = {{\\lambda{}^{x}}\\over{x!}} \\displaystyle\\lim_{n \\rightarrow{} \\infty{}} ({{n}\\over{n}})({{n-1}\\over{n}})\\cdots{}({{n-x+1}\\over{n}})(1-{{\\lambda{}}\\over{n}})^{n-x} $\n",
    "##### $ \\hspace{2.45cm} = {{\\lambda{}^{x}}\\over{x!}} \\displaystyle\\lim_{n \\rightarrow{} \\infty{}} ({{n}\\over{n}})({{n-1}\\over{n}})\\cdots{}({{n-x+1}\\over{n}})(1-{{\\lambda{}}\\over{n}})^{n}(1-{{\\lambda{}}\\over{n}})^{-x} $\n",
    "##### $ \\hspace{2.45cm} = {{\\lambda{}^{x}}\\over{x!}} \\displaystyle\\lim_{n \\rightarrow{} \\infty{}} (1-{{\\lambda{}}\\over{n}})^{n} \\;\\; $ ($  \\because{} $ 나머지 괄호항은 전부 $ \\; 1 $ 로 수렴)\n",
    "##### $ \\hspace{2.45cm} = {{\\lambda{}^{x}}\\over{x!}} e^{-\\lambda{}} = {{\\lambda{}^{x}e^{-\\lambda{}}}\\over{x!}} $\n",
    "##### $ \\hspace{2.45cm} = P(Y=x) $"
   ]
  },
  {
   "cell_type": "markdown",
   "metadata": {},
   "source": [
    "##### **(`PLUS`)** 일반적으로 $ \\, n > 50 \\, $ 혹은 $ \\, np = \\lambda{} < 5 \\, $ 에서 근사함"
   ]
  },
  {
   "cell_type": "markdown",
   "metadata": {},
   "source": [
    "#### **(4) 성질** :\n",
    "##### $ \\hspace{0.15cm} $ ① **[CONTENTS]**\n",
    "##### $ \\hspace{0.15cm} $ ② **[CONTENTS]**"
   ]
  },
  {
   "cell_type": "markdown",
   "metadata": {},
   "source": [
    "#### **(5) 예시** : \n",
    "#### $ \\hspace{0.15cm} $ ① 어떤 방사능 입자가 $ \\, 1 $ 초에 $ \\, 5.5 $ 개 알파 입자를 방출할 때, 확률변수 $ \\, X $ 를 초당 알파 파티클이 발생할 개수라고 한다면\n",
    "#### $ \\hspace{0.45cm} \\cdot{} \\, S = \\{ 0,\\, 1,\\, 2,\\, 2,\\, \\cdots{} \\} $\n",
    "#### $ \\hspace{0.45cm} \\cdot{} \\, X = \\{ 0,\\, 1,\\, 2,\\, 2,\\, \\cdots{} \\} \\sim{} \\text{Poisson}(\\lambda{}=5.5\\times{}1=5.5), \\;\\; E(X) = 5.5, \\;\\; \\text{var}(X) = 5.5 $\n",
    "#### $ \\hspace{0.45cm} \\therefore{} \\, P(X=x) = \\begin{cases} {{e^{-(5.5)}(5.5)^{x}}\\over{x!}}, \\;\\; x \\in{} \\{0,\\, 1,\\, 2,\\, \\cdots{} \\} \\\\ 0, \\;\\;\\;\\;\\;\\;\\;\\;\\;\\;\\;\\;\\;\\; x \\not\\in{} \\{0,\\, 1,\\, 2,\\, \\cdots{} \\} \\end{cases} $"
   ]
  },
  {
   "cell_type": "markdown",
   "metadata": {},
   "source": [
    "##### **(`PLUS`)** 만약 $ \\, 1 $ 초에 $ \\, 10 $ 개의 알파 입자를 방출할 확률은?\n",
    "##### $ \\hspace{0.15cm} \\therefore{} \\, P(X=10) = {{e^{-(5.5)}(5.5)^{10}}\\over{10!}} \\approx{} 2.8 \\% $"
   ]
  },
  {
   "cell_type": "markdown",
   "metadata": {},
   "source": [
    "#### $ \\hspace{0.15cm} $ ② 삼겹살 집의 하루 평균 방문자 수가 $ \\, 3.5 $ 명일 때, 확률변수 $ \\, X $ 를 $ \\, 3 $ 일 간 방문자 수라고 한다면,\n",
    "#### $ \\hspace{0.45cm} \\cdot{} \\, S = \\{ 0,\\, 1,\\, 2,\\, \\cdots{} \\} $\n",
    "#### $ \\hspace{0.45cm} \\cdot{} \\, X = \\{ 0,\\, 1,\\, 2,\\, \\cdots{} \\} \\sim{} \\text{Poisson}(\\lambda{}=3.5\\times{}3=10.5), \\;\\; E(X) = 10.5, \\;\\; \\text{var}(X) = 10.5 $ \n",
    "#### $ \\hspace{0.45cm} \\therefore{} \\, P(X=x) = \\begin{cases} {{e^{-(10.5)}(10.5)^{x}}\\over{x!}}, \\;\\; x \\in{} \\{ 0,\\, 1,\\, 2,\\, \\cdots{} \\} \\\\ 0, \\;\\;\\;\\;\\;\\;\\;\\;\\;\\;\\;\\;\\;\\;\\;\\; x \\not\\in{} \\{ 0,\\, 1,\\, 2,\\, \\cdots{} \\} \\end{cases} $"
   ]
  },
  {
   "cell_type": "markdown",
   "metadata": {},
   "source": [
    "<b></b>"
   ]
  },
  {
   "cell_type": "markdown",
   "metadata": {},
   "source": [
    "> ## **이산 분포 간 관계(Relationships of Discrete Distribution)**"
   ]
  },
  {
   "cell_type": "markdown",
   "metadata": {},
   "source": [
    "#### 이항 분포 간 관계는 아래와 같이 정리된다.\n",
    "<img src=\"../../img/03.3. Discrete Distributions (7).png\" width=\"65%\" height=\"65%\"></img>"
   ]
  },
  {
   "cell_type": "markdown",
   "metadata": {},
   "source": [
    "#### **(`PLUS`)** 독립 관계의 개념은 CH04.2. 참고"
   ]
  }
 ],
 "metadata": {
  "kernelspec": {
   "display_name": "Python 3",
   "language": "python",
   "name": "python3"
  },
  "language_info": {
   "codemirror_mode": {
    "name": "ipython",
    "version": 3
   },
   "file_extension": ".py",
   "mimetype": "text/x-python",
   "name": "python",
   "nbconvert_exporter": "python",
   "pygments_lexer": "ipython3",
   "version": "3.8.12"
  },
  "orig_nbformat": 4
 },
 "nbformat": 4,
 "nbformat_minor": 2
}
