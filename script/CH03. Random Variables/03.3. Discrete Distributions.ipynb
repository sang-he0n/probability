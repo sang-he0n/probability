{
 "cells": [
  {
   "attachments": {},
   "cell_type": "markdown",
   "metadata": {},
   "source": [
    "# CH03.3. **Discrete Distributions**"
   ]
  },
  {
   "cell_type": "markdown",
   "metadata": {},
   "source": [
    "> ## **베르누이 분포(Bernoulli Distribution)**"
   ]
  },
  {
   "cell_type": "markdown",
   "metadata": {},
   "source": [
    "#### **(1) 정의** : 특정한 결과가 나올 확률이 $ p $인 베르누이 시행을 $ 1 $회 수행할 때, 나올 수 있는 결과들을 확률변수로 정의한 분포\n",
    "#### $ \\Rightarrow{} P_{X}(x) = \\begin{cases} p & \\text{if } \\; x = 1 \\\\ 1-p & \\text{if } \\; x = 0 \\\\ 0 & \\text{otherwise} \\end{cases} \\; \\Leftrightarrow{} \\; X \\sim{} \\text{Bern}(p) $\n",
    "<img src=\"../../img/03.3. Discrete Distributions (1).png\" width=\"40%\" height=\"40%\"></img>"
   ]
  },
  {
   "cell_type": "markdown",
   "metadata": {},
   "source": [
    "#### **(`PLUS`) 베르누이 시행(Bernoulli Trial)** : 두 가지 가능한 결과만을 발생하는 단일 실험 $ = $ 표본 공간의 크기가 $ 2 $인 실험"
   ]
  },
  {
   "cell_type": "markdown",
   "metadata": {},
   "source": [
    "#### **(2) 기댓값** : \n",
    "#### $ \\Rightarrow{} E[X] = p $"
   ]
  },
  {
   "cell_type": "markdown",
   "metadata": {},
   "source": [
    "##### **(`WHY?`)**\n",
    "##### $ \\hspace{0.15cm} E[X] = \\sum^{1}_{x=0} x \\cdot{} P_{X}(x) = 0 \\cdot{} P_{X}(0) + 1 \\cdot{} P_{X}(1) = p $"
   ]
  },
  {
   "cell_type": "markdown",
   "metadata": {},
   "source": [
    "#### **(3) 분산** : $ p(1-p) $"
   ]
  },
  {
   "cell_type": "markdown",
   "metadata": {},
   "source": [
    "##### **(`WHY?`)** \n",
    "##### $ \\hspace{0.15cm} \\text{var}[X] = E[X^{2}] - (E[X])^{2} = 0^{2}\\cdot{}P_{X}(0)+1^{2}\\cdot{}P_{X}(1) - p^{2} = p - p^{2} = p(1-p) $"
   ]
  },
  {
   "cell_type": "markdown",
   "metadata": {},
   "source": [
    "#### **(4) 성질** :\n",
    "##### $ \\hspace{0.15cm} $ ① **[CONTENTS]**\n",
    "##### $ \\hspace{0.15cm} $ ② **[CONTENTS]**"
   ]
  },
  {
   "cell_type": "markdown",
   "metadata": {},
   "source": [
    "#### **(5) 예시** : \n",
    "##### $ \\hspace{0.15cm} $ ① 앞면이 나오는 확률이 $ 30\\% $인 동전 $ 1 $회 던졌을 때 그 확률 분포를 구하면 \n",
    "##### $ \\hspace{0.45cm} \\Omega{} = \\{ \\text{H}, \\text{T} \\} $\n",
    "##### $ \\hspace{0.45cm} X(\\omega{}) = \\begin{cases} 1 & \\text{if } \\; \\omega{} = \\text{H} \\\\ 0 & \\text{if } \\; \\omega{} = \\text{T} \\end{cases} \\; \\sim{} \\text{Bern}(0.3) $\n",
    "##### $ \\hspace{0.45cm} E[X] = 0.3, \\;\\; \\text{var}[X] = 0.21 $\n",
    "##### $ \\hspace{0.45cm} \\therefore{} P_{X}(x) = \\begin{cases} 0.3 & \\text{if } \\; x = 1 \\\\ 0.7 & \\text{if } \\; x = 0 \\\\ 0 & \\text{otherwise} \\end{cases} $\n",
    "##### $ \\hspace{0.15cm} $ ② $ 3 $ 이상의 눈이 나올 확률이 $ 60\\% $인 주사위 $ 1 $회 던졌을 때 $ 3 $ 이상의 눈이 나올 경우를 $ 1 $로 정의하는 확률 변수의 분포를 구하면\n",
    "##### $ \\hspace{0.45cm} \\Omega = \\{ 1, 2, 3, 4, 5, 6 \\} $\n",
    "##### $ \\hspace{0.45cm} X(\\omega{}) = \\begin{cases} 1 & \\text{if } \\; \\omega{} \\geq{} 3 \\\\ 0 & \\text{if } \\; \\omega{} < 3 \\end{cases} \\; \\sim{} \\text{Bern}(0.6) $\n",
    "##### $ \\hspace{0.45cm} E[X] = 0.6, \\;\\; \\text{var}[X] = 0.24 $\n",
    "##### $ \\hspace{0.45cm} \\therefore{} P_{X}(x) = \\begin{cases} 0.6 & \\text{if } \\; x = 1 \\\\ 0.4 & \\text{if } \\; x = 0 \\\\ 0 & \\text{otherwise} \\end{cases} $"
   ]
  },
  {
   "cell_type": "markdown",
   "metadata": {},
   "source": [
    "<b></b>"
   ]
  },
  {
   "cell_type": "markdown",
   "metadata": {},
   "source": [
    "> ## **이항 분포(Binomial Distribution)**"
   ]
  },
  {
   "cell_type": "markdown",
   "metadata": {},
   "source": [
    "#### **(1) 정의** : 특정한 결과가 나올 확률이 $ p $인 베르누이 시행을 $ n $회 **독립**적으로 수행할 때, **특정 결과가 등장한 횟수**를 확률변수로 정의한 분포\n",
    "#### $ \\Rightarrow{} P_{X}(x) = \\begin{cases} C^{n}_{x} p^{x} (1-p)^{n-x} & \\text{if } \\; x \\in{} \\{0, 1, \\cdots{}, n \\} \\\\ 0 & \\text{otherwise} \\end{cases} \\; \\Leftrightarrow{} \\; X \\sim{} \\text{Bin}(n, p) $\n",
    "<img src=\"../../img/03.3. Discrete Distributions (2).png\" width=\"40%\" height=\"40%\"></img>"
   ]
  },
  {
   "cell_type": "markdown",
   "metadata": {},
   "source": [
    "#### **(2) 기댓값** : \n",
    "#### $ \\Rightarrow{} E[X] = np $"
   ]
  },
  {
   "cell_type": "markdown",
   "metadata": {},
   "source": [
    "#### **(3) 분산** :\n",
    "#### $ \\Rightarrow{} \\text{var}[X] = np(1-p) $"
   ]
  },
  {
   "cell_type": "markdown",
   "metadata": {},
   "source": [
    "#### **(4) 성질** :\n",
    "##### $ \\hspace{0.15cm} $ ① $ p = 0.5 $일 때 분포가 수직축에 대칭적임\n",
    "##### $ \\hspace{0.15cm} $ ② $ n $이 무수히 크고 $ \\, p $가 $ 0 $ 혹은 $ 1 $에 가깝지 않으면 정규 분포에 근사함"
   ]
  },
  {
   "cell_type": "markdown",
   "metadata": {},
   "source": [
    "#### **(5) 예시** : \n",
    "##### $ \\hspace{0.15cm} $ ① 객관식 $ 5 $개의 문항이 있는 $ 4 $지선다 시험에서 문제를 찍고 그 결과를 확인할 때, 그 확률 분포를 구하면\n",
    "##### $ \\hspace{0.45cm} $ (찍는다는 행위는 무작위적이고 독립적임)\n",
    "##### $ \\hspace{0.45cm} \\Omega{} = \\{ (\\text{T,T,T,T,T}), (\\text{T,T,T,T,F}), \\cdots{}, (\\text{F,F,F,F,F}) \\} $\n",
    "##### $ \\hspace{0.45cm} X(\\omega{}_{1}, \\omega{}_{2}, \\omega{}_{3}, \\omega{}_{4}, \\omega{}_{5}) = \\sum^{5}_{i=1} I(\\omega{}_{i}=\\text{T}) \\sim{} \\text{Bin}(5, \\frac{1}{4}) $\n",
    "##### $ \\hspace{0.45cm} \\text{where } \\; I(\\omega{}_{i}=\\text{T}) = \\begin{cases} 1 & \\text{if } \\; \\omega_i = \\text{T} \\\\ 0 & \\text{if } \\; \\omega_i = \\text{F} \\end{cases} $\n",
    "##### $ \\hspace{0.45cm} E[X] = 1.25, \\;\\; \\text{var}[X] \\approx{} 0.93 $\n",
    "##### $ \\hspace{0.45cm} \\therefore{} P_{X}(x) = \\begin{cases} C^{5}_{x} (\\frac{1}{4})^{x}(\\frac{3}{4})^{5-x} & \\text{if } \\; x \\in{} \\{ 0, 1, 2, 3, 4, 5 \\} \\\\ 0 & \\text{otherwise} \\end{cases} $\n",
    "##### $ \\hspace{0.15cm} $ ② 공평한 주사위를 $ 4 $번 던졌을 때, 확률 변수 $ X $를 주사위 눈 $ 6 $이 나온 횟수라고 하고 확률 분포를 구하면\n",
    "##### $ \\hspace{0.45cm} \\Omega{} = \\{ (1,1,1,1), (1,1,1,2), \\cdots{}, (6,6,6,6) \\} $\n",
    "##### $ \\hspace{0.45cm} X(\\omega{}_{1}, \\omega{}_{2}, \\omega{}_{3}, \\omega{}_{4}) = \\sum^{4}_{i=1}I(\\omega{}_{i} = 6) \\sim{} \\text{Bin}(4, \\frac{1}{6}) $ \n",
    "##### $ \\hspace{0.45cm} \\text{where } \\; I(\\omega{}_{i}=6) = \\begin{cases} 1 & \\text{if } \\; \\omega_i = 6 \\\\ 0 & \\text{otherwise } \\end{cases} $\n",
    "##### $ \\hspace{0.45cm} E[X] \\approx{} 0.667, \\;\\; \\text{var}[X] \\approx{} 0.56 $\n",
    "##### $ \\hspace{0.45cm} \\therefore{} P_{X}(x) = \\begin{cases} C^{4}_{x} (\\frac{1}{6})^{x}(\\frac{5}{6})^{4-x} & \\text{if } \\; x \\in{} \\{ 0, 1, 2, 3, 4 \\} \\\\ 0 & \\text{otherwise} \\end{cases} $"
   ]
  },
  {
   "cell_type": "markdown",
   "metadata": {},
   "source": [
    "<b></b>"
   ]
  },
  {
   "cell_type": "markdown",
   "metadata": {},
   "source": [
    "> ## (Theorem 3-3) **Bernoulli-Binomial Relationship**"
   ]
  },
  {
   "cell_type": "markdown",
   "metadata": {},
   "source": [
    "##### **(1)** **독립적인** 확률 변수 $ X_{1}, X_{2}, \\cdots{}, X_{n} $이 확률 $ p $인 베르누이 분포를 따른다면, \n",
    "##### $ \\hspace{0.35cm} $ 확률 변수 $ X = X_{1} + X_{2} + \\cdots{} + X_{n} $은 시행 횟수 $ n $과 특정 결과의 확률 $ p $를 모수로 삼는 이항 분포를 따른다.\n",
    "##### $ \\Rightarrow{} X_{1} + X_{2} + \\cdots{} + X_{n} = X \\sim{} \\text{Bin}(n, p) \\;\\; \\text{ if } \\; X_{i} \\sim{} \\text{Bern}(p), \\;\\; X_{i} \\, \\text{ is indepndent R.V.} $"
   ]
  },
  {
   "cell_type": "markdown",
   "metadata": {},
   "source": [
    "#### **(2)** 이 때 확률 변수 $ X $의 기댓값과 분산은 아래와 같다.\n",
    "#### $ \\cdot{} \\, E[X] = E[X_{1}] + E[X_{2}] + \\cdots{} E[X_{n}] = np $\n",
    "#### $ \\cdot{} \\, \\text{var}[X] = \\text{var}[X_{1}] + \\text{var}[X_{2}] + \\cdots{} + \\text{var}[X_{n}] = np(1-p) $"
   ]
  },
  {
   "cell_type": "markdown",
   "metadata": {},
   "source": [
    "<b></b>"
   ]
  },
  {
   "cell_type": "markdown",
   "metadata": {},
   "source": [
    "> ## **기하 분포(Geometric Distribution)**"
   ]
  },
  {
   "cell_type": "markdown",
   "metadata": {},
   "source": [
    "#### **(1) 정의** : 특정한 결과가 나올 확률이 $ p $인 베르누이 시행에서 그 결과가 **처음 발생할 때까지 시행한 횟수**를 확률변수로 정의한 분포\n",
    "#### $ \\Rightarrow{} P_{X}(x) = \\begin{cases} p(1-p)^{x-1} & \\text{if } \\; x \\in{} \\{ 1, 2, \\cdots{} \\} \\\\ 0 & \\text{otherwise} \\end{cases} \\; \\Leftrightarrow{} \\; X \\sim{} \\text{Geom}(p) $\n",
    "<img src=\"../../img/03.3. Discrete Distributions (3).png\" width=\"40%\" height=\"40%\"></img>"
   ]
  },
  {
   "cell_type": "markdown",
   "metadata": {},
   "source": [
    "#### **(2) 평균** : \n",
    "#### $ \\Rightarrow{} E[X] = \\frac{1}{p} $"
   ]
  },
  {
   "cell_type": "markdown",
   "metadata": {},
   "source": [
    "##### **(`WHY?`)** \n",
    "##### $ \\hspace{0.15cm} E[X] = \\sum^{\\infty{}}_{x=1} x P_{X}(x) = \\sum^{\\infty{}}_{x=1} x p q^{x-1} \\;\\; \\text{ where } \\; q = 1 - p $\n",
    "##### $ \\hspace{1.1cm} = p \\sum^{\\infty{}}_{x=1} x q^{x-1} = p \\sum^{\\infty{}}_{x=1} \\frac{\\text{d}}{\\text{d}q} q^{x} \\;\\; $ ($ \\because{} \\frac{\\text{d}}{\\text{dq}}q^{x} = x q^{x-1} $)\n",
    "##### $ \\hspace{1.1cm} = p \\frac{\\text{d}}{\\text{d}q} (\\sum^{\\infty{}}_{x=1}{q^{x}}) = p \\frac{\\text{d}}{\\text{d}q} (\\frac{q}{1-q}) \\;\\; $ ($ \\because{} \\sum^{\\infty{}}_{x=1}{q^{x}} = \\frac{q}{1-q} \\;\\; \\text{ if } \\; q < 1$)\n",
    "##### $ \\hspace{1.1cm} = p \\frac{1}{(1-q)^{2}} = p \\frac{1}{(p)^{2}} = \\frac{1}{p} $"
   ]
  },
  {
   "cell_type": "markdown",
   "metadata": {},
   "source": [
    "#### **(3) 분산** :\n",
    "#### $ \\Rightarrow{} \\text{var}[X] = \\frac{1}{p^{2}} - \\frac{1}{p} $"
   ]
  },
  {
   "cell_type": "markdown",
   "metadata": {},
   "source": [
    "##### **(`WHY?`)**\n",
    "##### $ \\hspace{0.15cm} E[X^{2}] = E[X(X-1)] + E[X] $\n",
    "##### $ \\hspace{1.18cm} = \\sum^{\\infty{}}_{x=1}x(x+1)pq^{x-1} - \\frac{1}{p} \\;\\; \\text{ where } \\; q = 1 - p $\n",
    "##### $ \\hspace{1.18cm} = \\sum^{\\infty{}}_{x=1} x(x+1)pq^{x-1} - \\frac{1}{p} = p \\sum^{\\infty{}}_{x=1}x(x+1)q^{x-1} - \\frac{1}{p} $\n",
    "##### $ \\hspace{1.18cm} = p \\sum^{\\infty{}}_{x=1}\\frac{\\text{d}}{\\text{d}q}[(x+1)q^{x}] - \\frac{1}{p} = p \\frac{\\text{d}}{\\text{d}q}[\\sum^{\\infty{}}_{x=1}(x+1)q^{x}] - \\frac{1}{p} $\n",
    "##### $ \\hspace{1.18cm} = p \\frac{\\text{d}}{\\text{d}q}[\\frac{1}{(1-q)^{2}}-1] - \\frac{1}{p} $\n",
    "##### $ \\hspace{1.18cm} = p \\frac{2}{(1-q)^{3}} - \\frac{1}{p} = \\frac{2}{p^{2}} - \\frac{1}{p} $\n",
    "##### $ \\hspace{0.15cm} \\therefore{} \\text{var}[X] = E[X^{2}] - (\\frac{1}{p})^{2} = \\frac{2}{p^{2}} - \\frac{1}{p} - \\frac{1}{p^{2}} = \\frac{1}{p^{2}} -\\frac{1}{p} $"
   ]
  },
  {
   "cell_type": "markdown",
   "metadata": {},
   "source": [
    "#### **(4) 성질** :\n",
    "##### $ \\hspace{0.15cm} $ ① 이전 구간의 확률이 다음 구간의 확률에 영향을 미치지 않음 (무기억성질;memoryless)\n",
    "##### $ \\hspace{0.45cm} \\Rightarrow{} P(X > s+t \\; | \\; X > t ) = P(X > s) $\n",
    "##### $ \\hspace{0.15cm} $ ② **[CONTENTS]**"
   ]
  },
  {
   "cell_type": "markdown",
   "metadata": {},
   "source": [
    "#### **(5) 예시** : \n",
    "##### $ \\hspace{0.15cm} $ ① 공평한 주사위를 던져 $ 6 $이 나오면 이기는 게임을 할 때, 확률 변수 $ Y $는 이길 때 까지 계속 던진 횟수일 때 그 분포를 구하면\n",
    "##### $ \\hspace{0.45cm} \\Omega{} = \\{ \\text{win}, (\\text{lose,win}), (\\text{lose,lose,win}), \\cdots{} \\} $\n",
    "##### $ \\hspace{0.45cm} X(\\omega{}) = \\text{length}(\\omega{}) \\sim{} \\text{Geom}(\\frac{1}{6}) $\n",
    "##### $ \\hspace{0.45cm} E[X] = 6, \\;\\; \\text{var}[X] = 30 $\n",
    "##### $ \\hspace{0.45cm} \\therefore{} P_{X}(x) = \\begin{cases} (\\frac{5}{6})^{x-1}(\\frac{1}{6}) & \\text{if } \\; x \\in{} \\{ 1, 2, \\cdots{} \\} \\\\ 0 & \\text{otherwise} \\end{cases} $"
   ]
  },
  {
   "cell_type": "markdown",
   "metadata": {},
   "source": [
    "##### **(`PLUS`)** 이 때 $ 3 $번 던져 이길 확률을 구하고자 하면\n",
    "##### $ \\hspace{0.15cm} \\therefore{} P(X \\leq{} 3) = P_{X}(1) + P_{X}(2) + P_{X}(3) = ({{1}\\over{6}}) + ({{5}\\over{6}})({{1}\\over{6}}) + ({{1}\\over{6}})^{2}({{1}\\over{6}}) \\approx{} 42 \\% $"
   ]
  },
  {
   "cell_type": "markdown",
   "metadata": {},
   "source": [
    "##### $ \\hspace{0.15cm} $ ② **[CONTENTS]**"
   ]
  },
  {
   "cell_type": "markdown",
   "metadata": {},
   "source": [
    "<b></b>"
   ]
  },
  {
   "cell_type": "markdown",
   "metadata": {},
   "source": [
    "> ## **음이항 분포(Negative Binomial Distribution)**"
   ]
  },
  {
   "cell_type": "markdown",
   "metadata": {},
   "source": [
    "#### **(1) 정의** : 특정한 결과가 나올 확률이 $ p $인 베르누이 시행에서 그 결과가 **$ n $회 발생할 때까지 시행한 횟수**를 확률변수로 정의한 분포\n",
    "#### $ \\Rightarrow{} P_{X}(x) = \\begin{cases} C^{x-1}_{n-1}(1-p)^{x-n}(p)^{n} & \\text{if } \\; x \\in{} \\{ n, n+1, \\cdots{} \\} \\\\ 0 & \\text{otherwise} \\end{cases} \\; \\Leftrightarrow{} X \\sim{} \\text{NegBin}(n,p) $\n",
    "<img src=\"../../img/03.3. Discrete Distributions (4).png\" width=\"40%\" height=\"40%\"></img>"
   ]
  },
  {
   "cell_type": "markdown",
   "metadata": {},
   "source": [
    "##### **(`WHY?`)**\n",
    "##### $ \\hspace{0.05cm} $ 앞면이 나올 확률이 $ p $인 동전을 던져 $ n $개의 앞면이 나올 때까지 시행할 경우, 확률 변수 $ X $를 시행한 횟수라고 한다면\n",
    "##### $ \\hspace{0.15cm} \\Omega{} = \\{ (\\text{H}_{1},\\text{H}_{2},\\cdots{},\\text{H}_{n-1},\\text{H}_{n}), (\\text{T}_{1},\\text{H}_{1},\\text{H}_{2},\\cdots{},\\text{H}_{n-1},\\text{H}_{n}), (\\text{H}_{1},\\text{T}_{1},\\text{H}_{2},\\cdots{},\\text{H}_{n-1},\\text{H}_{n}), \\cdots{} \\} $\n",
    "##### $ \\hspace{0.15cm} X(\\omega{}) = \\text{length}(\\omega{}) $\n",
    "##### $ \\hspace{0.15cm} X(\\Omega{}) = \\{ n, n+1, n+2, \\cdots{} \\} $\n",
    "##### $ \\hspace{0.15cm} \\text{if } \\; X = n $\n",
    "##### $ \\hspace{0.3cm} (\\overbrace{\\text{H}_{1}, \\text{H}_{2}, \\cdots{}, \\text{H}_{n-1}}^{Ⓐ}, \\overbrace{\\text{H}_{n}}^{Ⓑ}) $\n",
    "##### $ \\hspace{0.3cm} Ⓐ = \\{ \\text{H}_{1}, \\text{H}_{2}, \\cdots{}, \\text{H}_{n-1} \\} $\n",
    "##### $ \\hspace{0.3cm} Ⓑ = \\{ \\text{H}_{n} \\} $\n",
    "##### $ \\hspace{0.3cm} P(Ⓐ) : n-1 $회 시행 중 앞면이 $ n-1 $개 나올 확률 $ = C^{n-1}_{n-1}(1-p)^{0}(p)^{n-1} $\n",
    "##### $ \\hspace{0.3cm} P(Ⓑ) : 1 $회 시행 중 앞면이 $ 1 $개 나올 확률 $ = p $\n",
    "##### $ \\hspace{0.15cm} \\text{if } \\; X = n+1 $\n",
    "##### $ \\hspace{0.3cm} (\\overbrace{\\text{T}_{1}, \\text{H}_{1}, \\text{H}_{2}, \\cdots{}, \\text{H}_{n}}^{Ⓐ}, \\overbrace{\\text{H}_{n+1}}^{Ⓑ}) $\n",
    "##### $ \\hspace{0.3cm} (\\text{H}_{1}, \\text{T}_{1}, \\text{H}_{2}, \\cdots{}, \\text{H}_{n}, \\text{H}_{n+1}) $\n",
    "##### $ \\hspace{0.3cm} (\\text{H}_{1}, \\text{H}_{2}, \\text{T}_{1}, \\cdots{}, \\text{H}_{n}, \\text{H}_{n+1}) $\n",
    "##### $ \\hspace{2.25cm} \\vdots{} $\n",
    "##### $ \\hspace{0.3cm} Ⓐ = \\{ \\text{T}_{1}, \\text{H}_{1}, \\text{H}_{2}, \\cdots{}, \\text{H}_{n} \\} $\n",
    "##### $ \\hspace{0.3cm} Ⓑ = \\{ \\text{H}_{n} \\} $\n",
    "##### $ \\hspace{0.3cm} P(Ⓐ) : n $회 시행 중 앞면이 $ n-1 $개 나올 확률 $ = C^{n}_{n-1}(1-p)^{1}(p)^{n-1} $\n",
    "##### $ \\hspace{0.3cm} P(Ⓑ) : 1 $회 시행 중 앞면이 $ 1 $개 나올 확률 $ = p $\n",
    "##### $ \\hspace{0.15cm} \\text{if } \\; X = x $\n",
    "##### $ \\hspace{0.3cm} (\\overbrace{\\text{T}_{1}, \\text{T}_{2}, \\cdots{}, \\text{T}_{x-n}, \\text{H}_{1}, \\text{H}_{2}, \\cdots{}, \\text{H}_{n-1}}^{Ⓐ}, \\overbrace{\\text{H}_{n}}^{Ⓑ}) $\n",
    "##### $ \\hspace{0.3cm} (\\text{T}_{1}, \\text{H}_{1}, \\text{T}_{2}, \\cdots{}, \\text{T}_{x-n}, \\text{H}_{2}, \\cdots{}, \\text{H}_{n-1}, \\text{H}_{n}) $\n",
    "##### $ \\hspace{2.25cm} \\vdots{} $\n",
    "##### $ \\hspace{0.3cm} Ⓐ = \\{ \\text{T}_{1}, \\text{T}_{2}, \\cdots{}, \\text{T}_{x-n}, \\text{H}_{1}, \\text{H}_{2}, \\cdots{}, \\text{H}_{n-1} \\} $\n",
    "##### $ \\hspace{0.3cm} Ⓑ = \\{ \\text{H}_{n} \\} $\n",
    "##### $ \\hspace{0.3cm} P(Ⓐ) : x-1 $ 회 시행 중 앞면이 $ n-1 $개 나올 확률 $ = C^{x-1}_{n-1}(1-p)^{x-n}(p)^{n-1} $\n",
    "##### $ \\hspace{0.3cm} P(Ⓑ) : 1 $ 회 시행 중 앞면이 $ 1 $개 나올 확률 $ = p $ \n",
    "##### $ \\hspace{0.15cm} \\therefore{} P_{X}(x) = C^{x-1}_{n-1} \\cdot{} (1-p)^{x-n}(p)^{n-1} \\times{} 1 \\cdot{} p = C^{x-1}_{n-1}(1-p)^{x-n}(p)^{n} $"
   ]
  },
  {
   "cell_type": "markdown",
   "metadata": {},
   "source": [
    "$ P(Ⓐ) = \\binom{x-1}{n-1}(p)^{n-1}(1-p)^{x-n} $"
   ]
  },
  {
   "cell_type": "markdown",
   "metadata": {},
   "source": [
    "#### **(2) 기댓값** :\n",
    "#### $ \\Rightarrow{} E[X] = \\frac{n}{p} $"
   ]
  },
  {
   "cell_type": "markdown",
   "metadata": {},
   "source": [
    "#### **(3) 분산** :\n",
    "#### $ \\Rightarrow{} \\text{var}[X] = \\frac{n(1-p)}{p^{2}} $"
   ]
  },
  {
   "cell_type": "markdown",
   "metadata": {},
   "source": [
    "#### **(4) 성질** :\n",
    "##### $ \\hspace{0.15cm} $ ① **[CONTENTS]**\n",
    "##### $ \\hspace{0.15cm} $ ② **[CONTENTS]**"
   ]
  },
  {
   "cell_type": "markdown",
   "metadata": {},
   "source": [
    "#### **(5) 예시** : \n",
    "##### $ \\hspace{0.15cm} $ ① 전구 공장에서 상품의 불량률이 $ 10\\% $일 때, 확률 변수 $ X $를 양품 $ 10 $개를 고를 때까지 검사하는 횟수라고 할 때\n",
    "##### $ \\hspace{0.45cm} \\Omega{} = \\{ (T_{1},\\cdots{},T_{10}), (F_{1},T_{1},\\cdots{},T_{10}), (T_{1},F_{1},\\cdots{},T_{10}), \\cdots{} \\} $\n",
    "##### $ \\hspace{0.45cm} X(\\omega{}) = \\text{length}(\\omega{}) \\sim{} \\text{NegBin}(10, 0.9) $\n",
    "##### $ \\hspace{0.45cm} E[X] \\approx{} 11.11, \\;\\; \\text{var}[X] \\approx{} 1.2346 $\n",
    "##### $ \\hspace{0.45cm} \\therefore{} P_{X}(x) = \\begin{cases} C^{x-1}_{9}(0.9)^{10}(0.1)^{x-10} & \\text{if } \\; x \\in{} \\{ 10, 11, \\cdots{} \\} \\\\ 0 & \\text{otherwise} \\end{cases} $"
   ]
  },
  {
   "cell_type": "markdown",
   "metadata": {},
   "source": [
    "##### **(`PLUS`)** 이 때 $ 15 $번 이하의 검사에서 양품을 모두 고를 확률을 구하면\n",
    "##### $ \\hspace{0.15cm} \\therefore{} P(X \\leq{} 15) = \\sum{}^{15}_{i=1}P_{X}(i) \\approx{} 72 \\% $"
   ]
  },
  {
   "cell_type": "markdown",
   "metadata": {},
   "source": [
    "##### $ \\hspace{0.15cm} $ ② **[CONTENTS]**"
   ]
  },
  {
   "cell_type": "markdown",
   "metadata": {},
   "source": [
    "<b></b>"
   ]
  },
  {
   "cell_type": "markdown",
   "metadata": {},
   "source": [
    "> ## (Theorem 3-4) **Geometric–Negative Binomial Relationship**"
   ]
  },
  {
   "cell_type": "markdown",
   "metadata": {},
   "source": [
    "##### **(1)** **독립적인** 확률 변수 $ X_{1}, X_{2}, \\cdots{}, X_{n} $이 확률 $ p $인 기하 분포를 따른다면, \n",
    "##### $ \\hspace{0.35cm} $ 확률 변수 $ X = X_{1} + X_{2} + \\cdots{} + X_{n} $은 시행 횟수 $ n $과 특정 결과의 확률 $ p $를 모수로 삼는 음이항 분포를 따른다.\n",
    "##### $ \\Rightarrow{} X_{1} + X_{2} + \\cdots{} + X_{n} = X \\sim{} \\text{NegBin}(n, p) \\;\\; \\text{ if } \\; X_{i} \\sim{} \\text{Geom}(p), \\;\\; X_{i} \\, \\text{ is indepndent} $"
   ]
  },
  {
   "cell_type": "markdown",
   "metadata": {},
   "source": [
    "#### **(2)** 이 때 확률 변수 $ X $의 기댓값과 분산은 아래와 같다.\n",
    "#### $ \\cdot{}  E[X] = E[X_{1}] + E[X_{2}] + \\cdots{} E[X_{n}] = \\frac{n}{p} $\n",
    "#### $ \\cdot{}  \\text{var}[X] = \\text{var}[X_{1}] + \\text{var}[X_{2}] + \\cdots{} + \\text{var}[X_{n}] = \\frac{n(1-p)}{p^{2}} $"
   ]
  },
  {
   "cell_type": "markdown",
   "metadata": {},
   "source": [
    "<b></b>"
   ]
  },
  {
   "cell_type": "markdown",
   "metadata": {},
   "source": [
    "> ## **초기하 분포(Hypergeometric Distribution)**"
   ]
  },
  {
   "cell_type": "markdown",
   "metadata": {},
   "source": [
    "#### **(1) 정의** : 서로 다른 두 항목을 갖는 $ N $개로 구성된 그룹에서 특정 항목의 개수가 $ k $개일 때,\n",
    "#### $ \\hspace{1.15cm} $그 중 $ n $개의 항목을 **비복원 추출**하며 그 **특정 항목의 개수**를 확률 변수로 정의한 분포\n",
    "#### $ \\Rightarrow{} P_{X}(x) = \\begin{cases} {{C^{k}_{x}C^{n-k}_{n-x}}\\over{C^{N}_{n}}} & \\text{if } \\; x \\in{} \\{ x \\in{} \\mathbb{Z} \\; | \\; \\text{max}(0, n-N+k) \\leq{} x \\leq{} \\text{min}(n, k) \\} \\\\ 0 & \\text{otherwise} \\end{cases} $\n",
    "##### $ \\Leftrightarrow{} X \\sim{} \\text{Hypergeom}(N, k, n) $\n",
    "<img src=\"../../img/03.3. Discrete Distributions (5).png\" width=\"40%\" height=\"40%\"></img>"
   ]
  },
  {
   "cell_type": "markdown",
   "metadata": {},
   "source": [
    "##### **(`WHY?`)**\n",
    "##### $ \\hspace{0.15cm} $**[CONTENTS]**"
   ]
  },
  {
   "cell_type": "markdown",
   "metadata": {},
   "source": [
    "#### **(2) 기댓값** : \n",
    "#### $ \\Rightarrow{} E[X] = \\frac{nk}{N} $"
   ]
  },
  {
   "cell_type": "markdown",
   "metadata": {},
   "source": [
    "##### **(`WHY?`)**\n",
    "##### $ \\hspace{0.15cm} E[X] = \\sum^{\\infty{}}_{x\\in{}X(\\Omega{})} P_{X}(x) = \\sum^{\\infty{}}_{x\\in{}X(\\Omega{})} x \\frac{C^{k}_{x}C^{n-k}_{n-x}}{C^{N}_{n}} $\n",
    "##### $ \\hspace{1cm} = \\sum^{\\infty{}}_{x\\in{}X(\\Omega{})} x\\frac{{k}{x}}{N}{n}\\frac{C^{k-1}_{x-1}C^{n-k}_{n-x}}{C^{N-1}_{n-1}} = \\sum^{\\infty{}}_{x\\in{}X(\\Omega{})} \\frac{nk}{N}\\frac{C^{k-1}_{x-1}C^{n-k}_{n-x}}{C^{N-1}_{n-1}} = \\frac{nk}{N} \\sum^{\\infty{}}_{x\\in{}X(\\Omega{})} \\frac{C^{k-1}_{x-1}C^{n-k}_{n-x}}{C^{N-1}_{n-1}} $\n",
    "##### $ \\hspace{1cm} = \\frac{nk}{N} \\sum^{\\infty{}}_{y\\in{}Y(\\omega{})} \\frac{C^{k-1}_{y}C^{n-k}_{n-y-1}}{C^{N-1}_{n-1}} \\;\\; \\text{ where } \\; y = x - 1, \\;\\;\\; Y \\sim{} \\text{Hypergeom}(N-1, k-1, n-1) $\n",
    "##### $ \\hspace{1cm} = \\frac{nk}{N} $"
   ]
  },
  {
   "cell_type": "markdown",
   "metadata": {},
   "source": [
    "#### **(3) 분산** :\n",
    "#### $ \\Rightarrow{} \\text{var}[X] = n \\frac{k}{N} \\frac{N-k}{N} (1-\\frac{n-1}{N-1}) $"
   ]
  },
  {
   "cell_type": "markdown",
   "metadata": {},
   "source": [
    "##### **(`WHY?`)**\n",
    "##### $ \\because{} E[X^{2}] = E[X(X-1)] + E[X] $\n",
    "##### $ \\hspace{1.35cm} = \\sum^{\\infty{}}_{x\\in{}X(\\Omega{})} x(x-1) \\frac{C^{k}_{x}C^{n-k}_{n-x}}{C^{N}_{n}} + \\frac{nk}{N} $\n",
    "##### $ \\hspace{1.35cm} = \\sum^{\\infty{}}_{x\\in{}X(\\Omega{})} x(x-1) \\frac{\\frac{k}{x}}{\\frac{N}{n}} \\frac{C^{k-1}_{x-1}C^{n-k}_{n-x}}{C^{N-1}_{n-1}} + \\frac{nk}{N} $ \n",
    "##### $ \\hspace{1.35cm} = \\sum^{\\infty{}}_{x\\in{}X(\\Omega{})} x(x-1) \\frac{\\frac{k}{x}}{\\frac{N}{n}} \\frac{\\frac{k-1}{x-1}}{\\frac{N-1}{n-1}} \\frac{C^{k-2}_{x-2}C^{n-k}_{n-x}}{C^{N-2}_{n-2}} + \\frac{nk}{N} $ \n",
    "##### $ \\hspace{1.35cm} = \\sum^{\\infty{}}_{x\\in{}X(\\Omega{})} \\frac{nk}{N}\\frac{(n-1)(k-1)}{N-1} + \\frac{nk}{N}\\frac{C^{k-2}_{x-2}C^{n-k}_{n-x}}{C^{N-2}_{n-2}} + \\frac{nk}{N} $\n",
    "##### $ \\hspace{1.35cm} = \\frac{nk}{N}\\frac{(n-1)(k-1)}{N-1} \\sum^{\\infty{}}_{x\\in{}X(\\Omega{})} \\frac{C^{k-2}_{z}C^{n-k}_{n-z-2}}{C^{N-2}_{n-2}} + \\frac{nk}{N} \\;\\; \\text{ where } \\; z = x - 2, \\;\\; Z \\sim{} \\text{Hypergeom}(N-2, k-2, n-2) $\n",
    "##### $ \\hspace{1.35cm} = \\frac{nk}{N}\\frac{(n-1)(k-1)}{N-1} + \\frac{nk}{N} $\n",
    "##### $ \\hspace{0.15cm} \\therefore{} \\text{var}[X] = E[X^{2}] - (E[X])^{2} = \\frac{nk}{N}\\frac{(n-1)(k-1)}{N+1} + \\frac{nk}{N} - (\\frac{nk}{N})^{2} = n\\frac{k}{N}\\frac{N-k}{N}(1-\\frac{n-1}{N-1}) $"
   ]
  },
  {
   "cell_type": "markdown",
   "metadata": {},
   "source": [
    "#### **(4) 성질** :\n",
    "##### $ \\hspace{0.15cm} $ ① **[CONTENTS]**\n",
    "##### $ \\hspace{0.15cm} $ ② **[CONTENTS]**"
   ]
  },
  {
   "cell_type": "markdown",
   "metadata": {},
   "source": [
    "#### **(5) 예시** : \n",
    "##### $ \\hspace{0.15cm} $ ① $ 10 $개가 가품인 $ 100 $개의 다이아몬드 중 $ 20 $개를 뽑을 때, 확률 변수 $ X $를 가품을 뽑는 개수라고 하고 그 분포를 구하면\n",
    "##### $ \\hspace{0.45cm} \\Omega{} = \\{ ( \\omega{}_{1},\\omega{}_{2},\\cdots{},\\omega{}_{20} ) \\; | \\; \\omega{}_{i} \\in{} \\{ \\text{F}, \\text{T} \\} \\} $\n",
    "##### $ \\hspace{0.45cm} X(\\omega{}_{1},\\omega{}_{2},\\cdots{},\\omega{}_{20}) = \\sum^{20}_{i=1}I(\\omega{}_{i}=\\text{T}) \\sim{} \\text{Hypergeom}(100, 10, 20) $ \n",
    "##### $ \\hspace{0.45cm} \\text{where } \\; I(\\omega{}_{i}=\\text{T}) = \\begin{cases} 1 & \\text{if } \\; \\omega{}_{i} = \\text{T} \\\\ 0 & \\text{otherwise} \\end{cases} $\n",
    "##### $ \\hspace{0.45cm} E[X] = 2, \\;\\; \\text{var}[X] = 1.4545 $\n",
    "##### $ \\hspace{0.45cm} \\therefore{} P_{X}(x) = {{C^{10}_{x}C^{90}_{20-x}}\\over{C^{100}_{20}}} $"
   ]
  },
  {
   "cell_type": "markdown",
   "metadata": {},
   "source": [
    "##### **(`PLUS`)** 이 때 $ 2 $개가 가품일 확률을 구하면\n",
    "##### $ \\hspace{0.15cm} \\therefore{} P_{X}(2) = \\frac{C^{10}_{2}C^{90}_{18}}{C^{100}_{20}} \\approx{} 32\\% $"
   ]
  },
  {
   "cell_type": "markdown",
   "metadata": {},
   "source": [
    "##### &nbsp;&nbsp; ② **[CONTENTS]**"
   ]
  },
  {
   "cell_type": "markdown",
   "metadata": {},
   "source": [
    "<b></b>"
   ]
  },
  {
   "cell_type": "markdown",
   "metadata": {},
   "source": [
    "> ## **포아송 분포(Poisson Distribution)**"
   ]
  },
  {
   "cell_type": "markdown",
   "metadata": {},
   "source": [
    "#### **(1) 정의** : 특정 구간(시간 혹은 공간)동안 **독립적이고 일정하게** 발생한 사건의 빈도를 확률 변수로 정의한 분포\n",
    "#### $ \\Rightarrow{} P_{X}(x) = \\begin{cases} {{e^{-\\lambda{}}\\lambda{}^{x}}\\over{x!}} & \\text{if } \\; x \\in{} \\{ 0, 1, \\cdots{} \\} \\\\ 0 & \\text{otherwise} \\end{cases} \\; \\Leftrightarrow{} X \\sim{} \\text{pois}(\\lambda{}) $\n",
    "#### $ \\hspace{0.45cm} \\text{where } \\; \\lambda{} \\, \\text{ is average number of occurrences per } \\textbf{unit interval} = $ 단위 구간 당 평균 발생 횟수\n",
    "<img src=\"../../img/03.3. Discrete Distributions (6).png\" width=\"40%\" height=\"40%\"></img>"
   ]
  },
  {
   "cell_type": "markdown",
   "metadata": {},
   "source": [
    "#### **(2) 기댓값** : \n",
    "#### $ \\Rightarrow{} E[X] = \\lambda{} $"
   ]
  },
  {
   "cell_type": "markdown",
   "metadata": {},
   "source": [
    "##### **(`WHY?`)**\n",
    "##### $ \\hspace{0.15cm} E[X] = \\sum^{\\infty{}}_{x=0} xP_{X}(x) = \\sum^{\\infty{}}_{x=0} x \\frac{e^{-\\lambda{}}\\lambda{}^{x}}{x!} $\n",
    "##### $ \\hspace{1.025cm} = e^{-\\lambda{}} \\sum^{\\infty{}}_{x=0} x \\frac{\\lambda{}^{x}}{x!} = e^{-\\lambda{}} (0\\frac{\\lambda{}^{0}}{0!} +\\sum^{\\infty{}}_{x=1} x \\frac{\\lambda{}^{x}}{x!}) $\n",
    "##### $ \\hspace{1.025cm} = e^{-\\lambda{}} \\sum^{\\infty{}}_{x=1} \\frac{\\lambda{}^{x}}{(x-1)!} = e^{-\\lambda{}} \\sum^{\\infty{}}_{x=1} \\frac{\\lambda{}\\lambda{}^{x-1}}{(x-1)!} = \\lambda{} e^{-\\lambda{}} \\sum^{\\infty{}}_{x=1} \\frac{\\lambda{}^{x-1}}{(x-1)!}  $\n",
    "##### $ \\hspace{1.025cm} = \\lambda{} e^{-\\lambda{}} (\\sum^{\\infty{}}_{k=0} \\frac{\\lambda{}^{k}}{k!}) \\;\\; \\text{ where } \\; k = x - 1, \\;\\; K \\sim{} \\text{Pois}(\\lambda{}) $\n",
    "##### $ \\hspace{1.025cm} = \\lambda{} e^{-\\lambda{}} (e^{\\lambda{}}) \\;\\; $ ($ \\because{} e^{x} = \\sum^{\\infty{}}_{n=0} \\frac{x^{n}}{n!} $; 지수함수 테일러 전개)\n",
    "##### $ \\hspace{1.025cm} = \\lambda{} $"
   ]
  },
  {
   "cell_type": "markdown",
   "metadata": {},
   "source": [
    "#### **(3) 분산** :\n",
    "#### $ \\Rightarrow{} \\text{var}[X] = \\lambda{} $"
   ]
  },
  {
   "cell_type": "markdown",
   "metadata": {},
   "source": [
    "##### **(`WHY?`)**\n",
    "#### $ \\hspace{0.15cm} E[X^{2}] = E[X(X-1)] + E[X] = \\sum^{\\infty{}}_{x=0} x(x-1) \\frac{e^{-\\lambda{}}\\lambda{}^{x}}{x!} + \\lambda{} $\n",
    "#### $ \\hspace{1.175cm} = 0 + 0 + \\sum^{\\infty{}}_{x=2} \\frac{e^{-\\lambda{}}\\lambda{}^{x}}{(x-2)!} - \\lambda{} = e^{-\\lambda{}} \\lambda{}^{2} \\sum^{\\infty{}}_{x=2} \\frac{\\lambda{}^{x-2}}{(x-2)!} + \\lambda{} $\n",
    "#### $ \\hspace{1.175cm} = e^{-\\lambda{}} \\lambda{}^{2} \\sum^{\\infty{}}_{y=0} \\frac{\\lambda{}^{y}}{y!} + \\lambda{} \\;\\; \\text{ where } \\; y = x - 2, \\;\\; Y \\sim{} \\text{Pois}(\\lambda{}) $\n",
    "#### $ \\hspace{1.175cm} = e^{-\\lambda{}} \\lambda{}^{2} e^{\\lambda{}} - \\lambda{} = \\lambda{}^{2} + \\lambda{} $\n",
    "#### $ \\hspace{0.15cm} \\therefore{} \\text{var}[X] = E[X^{2}] - (E[X])^{2} = \\lambda{}^{2} + \\lambda{} - \\lambda{}^{2} = \\lambda{} $"
   ]
  },
  {
   "cell_type": "markdown",
   "metadata": {},
   "source": [
    "#### **(4) 성질** :\n",
    "##### $ \\hspace{0.15cm} $ ① **[CONTENTS]**\n",
    "##### $ \\hspace{0.15cm} $ ② **[CONTENTS]**"
   ]
  },
  {
   "cell_type": "markdown",
   "metadata": {},
   "source": [
    "#### **(5) 예시** : \n",
    "#### $ \\hspace{0.15cm} $ ① 어떤 방사능 입자가 $ 1 $초에 $ 5.5 $개 알파 입자를 방출할 때, 확률 변수 $ X $를 초당 알파 입자가 발생할 개수라고 하고 분포를 정의하면\n",
    "#### $ \\hspace{0.45cm} \\Omega{} = \\{ \\{ t_{1}, t_{2}, \\cdots{}, t_{n} \\} \\; | \\; 0 \\leq{} t_{1} < t_{2} < \\cdots{} < t_{n} < 1, \\;\\; n \\in{} \\mathbb{Z}_{\\geq{}0} \\} $\n",
    "#### $ \\hspace{0.45cm} X(\\omega{}) = |w| \\sim{} \\text{Pois}(5.5) \\;\\; $ ($ \\because{} \\lambda{} = 5.5 \\times{} 1 = 5.5 $)\n",
    "#### $ \\hspace{0.45cm} E[X] = 5.5, \\;\\; \\text{var}[X] = 5.5 $\n",
    "#### $ \\hspace{0.45cm} \\therefore{} P_{X}(x) = \\begin{cases} {{e^{-(5.5)}(5.5)^{x}}\\over{x!}}, \\;\\; x \\in{} \\{0, 1, 2, \\cdots{} \\} \\\\ 0, \\;\\;\\;\\;\\;\\;\\;\\;\\;\\;\\;\\;\\;\\; x \\not\\in{} \\{0, 1, 2, \\cdots{} \\} \\end{cases} $"
   ]
  },
  {
   "cell_type": "markdown",
   "metadata": {},
   "source": [
    "##### **(`PLUS`)** 만약 $1 $초에 $10 $개의 알파 입자를 방출할 확률은?\n",
    "##### $ \\hspace{0.15cm} \\therefore{} P_{X}(10) = {{e^{-(5.5)}(5.5)^{10}}\\over{10!}} \\approx{} 2.8 \\% $"
   ]
  },
  {
   "cell_type": "markdown",
   "metadata": {},
   "source": [
    "#### $ \\hspace{0.15cm} $ ② 삼겹살 집의 하루 평균 방문자 수가 $ 3.5 $명일 때, 확률 변수 $ X $를 $ 3 $일 간 방문자 수라고 하고 분포를 정의하면\n",
    "#### $ \\hspace{0.45cm} \\Omega{} = \\{ 0, 1, 2, \\cdots{} \\} $\n",
    "#### $ \\hspace{0.45cm} X(\\omega{}) = \\omega{} \\sim{} \\text{Poisson}(\\lambda{}=3.5\\times{}3=10.5)  \\;\\; $ ($ \\because{} \\lambda{} = 3.5 \\times{} 3 = 10.5 $)\n",
    "#### $ \\hspace{0.45cm} E[X] = 10.5, \\;\\; \\text{var}[X] = 10.5 $\n",
    "#### $ \\hspace{0.45cm} \\therefore{} P_{X}(x) = \\begin{cases} {{e^{-(10.5)}(10.5)^{x}}\\over{x!}}, \\;\\; x \\in{} \\{ 0, 1, 2, \\cdots{} \\} \\\\ 0, \\;\\;\\;\\;\\;\\;\\;\\;\\;\\;\\;\\;\\;\\;\\;\\; x \\not\\in{} \\{ 0, 1, 2, \\cdots{} \\} \\end{cases} $"
   ]
  },
  {
   "cell_type": "markdown",
   "metadata": {},
   "source": [
    "<b></b>"
   ]
  },
  {
   "cell_type": "markdown",
   "metadata": {},
   "source": [
    "> ## (Theorem 3-5) **Binomial–Poisson Relationship**"
   ]
  },
  {
   "cell_type": "markdown",
   "metadata": {},
   "source": [
    "#### **(1)** 확률 변수 $ X $가 시행 횟수 $ n $과 특정 결과의 확률 $ p $인 이항 분포를 따르고 시행횟수가 무한히 증가할 때\n",
    "#### $ \\hspace{0.35cm} $ 확률 변수 $ X $는 $ \\lambda{}(= np) $를 모수로 삼는 포아송 분포로 근사된다. \n",
    "#### $ \\Rightarrow{} \\displaystyle{} \\lim_{n\\rightarrow{}\\infty{}} X \\sim{} \\text{Pois}(\\lambda{}) \\;\\; \\text{ if } \\; X \\sim{} \\text{Bin}(n,p) $"
   ]
  },
  {
   "cell_type": "markdown",
   "metadata": {},
   "source": [
    "##### **(`WHY?`)**\n",
    "##### $ \\hspace{0.15cm} P_{X}(x) = C^{n}_{x}(p)^{x}(1-p)^{n-x} = C^{n}_{x}(\\frac{\\lambda{}}{n})^{x}(1-\\frac{\\lambda{}}{n})^{n-x} = \\frac{n!}{x!(n-x)!}(\\frac{\\lambda{}}{n})^{x}(1-\\frac{\\lambda{}}{n})^{n-x} $\n",
    "##### $ \\hspace{0.15cm} \\displaystyle{} \\lim_{n \\rightarrow{} \\infty{}} P_{X}(x) = \\displaystyle{} \\lim_{n \\rightarrow{} \\infty{}} \\frac{n!}{x!(n-x)!}(\\frac{\\lambda{}}{n})^{x}(1-\\frac{\\lambda{}}{n})^{n-x} $\n",
    "##### $ \\hspace{1.95cm} = \\frac{\\lambda{}^{x}}{x!} \\displaystyle{} \\lim_{n \\rightarrow{} \\infty{}} \\frac{n!}{(n-x)!}(\\frac{1}{n})^{x}(1-\\frac{\\lambda{}}{n})^{n-x} $\n",
    "##### $ \\hspace{1.95cm} = \\frac{\\lambda{}^{x}}{x!} \\displaystyle{} \\lim_{n \\rightarrow{} \\infty{}} \\frac{(n)(n-1)\\cdots{}(n-x+1)}{n^{x}}(1-\\frac{\\lambda{}}{n})^{n-x} $\n",
    "##### $ \\hspace{1.95cm} = \\frac{\\lambda{}^{x}}{x!} \\displaystyle{} \\lim_{n \\rightarrow{} \\infty{}} \\frac{(n)(n-1)\\cdots{}(n-x+1)}{\\underbrace{n\\times{}n\\times{}\\cdots{}\\times{}n}_{\\text{x개}}}(1-\\frac{\\lambda{}}{n})^{n-x} $\n",
    "##### $ \\hspace{1.95cm} = \\frac{\\lambda{}^{x}}{x!} \\displaystyle{} \\lim_{n \\rightarrow{} \\infty{}} (\\frac{n}{n})(\\frac{n-1}{n})\\cdots{}(\\frac{n-x+1}{n})(1-\\frac{\\lambda{}}{n})^{n-x} $\n",
    "##### $ \\hspace{1.95cm} = \\frac{\\lambda{}^{x}}{x!} \\displaystyle{} \\lim_{n \\rightarrow{} \\infty{}} (\\frac{n}{n})(\\frac{n-1}{n})\\cdots{}(\\frac{n-x+1}{n})(1-\\frac{\\lambda{}}{n})^{n}(1-\\frac{\\lambda{}}{n})^{-x} $\n",
    "##### $ \\hspace{1.95cm} = \\frac{\\lambda{}^{x}}{x!} \\displaystyle{} \\lim_{n \\rightarrow{} \\infty{}} (1-\\frac{\\lambda{}}{n})^{n} \\;\\; $ ($ \\because{} $ 나머지 괄호항은 전부 $ 1 $로 수렴)\n",
    "##### $ \\hspace{1.95cm} = \\frac{\\lambda{}^{x}}{x!} e^{-\\lambda{}} = \\frac{\\lambda{}^{x}e^{-\\lambda{}}}{x!} $"
   ]
  },
  {
   "cell_type": "markdown",
   "metadata": {},
   "source": [
    "##### **(`PLUS`)** 일반적으로 $ n > 50 \\; \\text{ or } \\; \\lambda{} < 5 $에서 근사함"
   ]
  },
  {
   "cell_type": "markdown",
   "metadata": {},
   "source": [
    "<b></b>"
   ]
  },
  {
   "cell_type": "markdown",
   "metadata": {},
   "source": [
    "> ## (Theorem 3-6) **Relationships of Discrete Distribution**"
   ]
  },
  {
   "cell_type": "markdown",
   "metadata": {},
   "source": [
    "#### 이항 분포 간 관계는 아래와 같이 정리된다.\n",
    "<img src=\"../../img/03.3. Discrete Distributions (7).png\" width=\"65%\" height=\"65%\"></img>"
   ]
  }
 ],
 "metadata": {
  "kernelspec": {
   "display_name": "Python 3",
   "language": "python",
   "name": "python3"
  },
  "language_info": {
   "codemirror_mode": {
    "name": "ipython",
    "version": 3
   },
   "file_extension": ".py",
   "mimetype": "text/x-python",
   "name": "python",
   "nbconvert_exporter": "python",
   "pygments_lexer": "ipython3",
   "version": "3.10.17"
  },
  "orig_nbformat": 4
 },
 "nbformat": 4,
 "nbformat_minor": 2
}
