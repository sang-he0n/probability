{
 "cells": [
  {
   "attachments": {},
   "cell_type": "markdown",
   "metadata": {},
   "source": [
    "# 03.5. **Continuous Distributions**"
   ]
  },
  {
   "cell_type": "markdown",
   "metadata": {},
   "source": [
    "> ## **연속균등 분포(Uniform Distribution)**"
   ]
  },
  {
   "cell_type": "markdown",
   "metadata": {},
   "source": [
    "#### **(1) 정의** : 특정한 구간 $ \\, [a,\\, b] $ 에서 가능한 모든 결과가 일정한 확률을 가지는 분포 \n",
    "#### $ \\Rightarrow{} f(X=x) = \\begin{cases} \\frac{1}{b-a}, \\;\\; a \\leq{} x \\leq{} b \\\\ 0, \\;\\;\\;\\;\\;\\; x < a \\;\\; \\text{or} \\;\\; x > b \\end{cases} $\n",
    "<img src=\"../../img/04.2. Continuous Distribution (1).png\" width=\"35%\" height=\"35%\"></img>"
   ]
  },
  {
   "cell_type": "markdown",
   "metadata": {},
   "source": [
    "##### **(`PLUS`) 확률변수의 정의** :\n",
    "##### $ \\hspace{0.15cm} $ 확률변수 $ \\, X $ 는 **특정 범위 내 모든 값이 균등하게 나타날 때 그 범위**로 정의되며, 그 구간을 모수로 하는 연속균등 분포를 따름\n",
    "##### $ \\hspace{0.15cm} \\Rightarrow{} X \\sim{} \\text{Uniform}(a,\\, b) $"
   ]
  },
  {
   "cell_type": "markdown",
   "metadata": {},
   "source": [
    "#### **(2) 누적분포함수** :\n",
    "#### $ \\Rightarrow{} F(X=x) = P(X\\leq{}x) = \\begin{cases} 0, \\;\\;\\;\\;\\;\\; x < a \\;\\; \\text{or} \\;\\; x > b \\\\ \\frac{x-a}{b-a}, \\;\\; a \\leq{} x \\leq{} b \\\\ 1, \\;\\;\\;\\;\\;\\; x > b \\end{cases} $ "
   ]
  },
  {
   "cell_type": "markdown",
   "metadata": {},
   "source": [
    "#### **(3) 기댓값** : \n",
    "#### $ \\Rightarrow{} E(X) = \\displaystyle\\int^{b}_{a} x f(X=x) \\text{dx} = \\displaystyle\\int^{b}_{a} x (\\frac{1}{b-a}) \\text{dx} $\n",
    "#### $ \\hspace{1.4cm} = \\frac{1}{b-a} \\begin{bmatrix} \\frac{1}{2}x^{2} \\end{bmatrix}^{b}_{a} = \\frac{b^{2}-a^{2}}{2(b-a)} = \\frac{b+a}{2} $"
   ]
  },
  {
   "cell_type": "markdown",
   "metadata": {},
   "source": [
    "#### **(4) 분산** :\n",
    "#### $ \\Rightarrow{} \\text{var}(X) = \\underbrace{E(X^{2})}_{\\text{㉠}} - E(X)^{2} = \\frac{a^{2}+ab+b^{2}}{3(b-a)} - \\frac{b+a}{2} = \\frac{(b-a)^{2}}{12}$ \n",
    "#### $ \\because{} \\, ㉠ = \\displaystyle\\int^{b}_{a} x^{2} (\\frac{1}{b-a}) \\text{dx} = \\frac{1}{b-a} \\begin{bmatrix} \\frac{1}{3}x^{3} \\end{bmatrix}^{b}_{a} = \\frac{b^{3}-a^{3}}{3(b-a)} $\n",
    "#### $ \\hspace{0.8cm} = \\frac{(b-a)(a^{2}+ab+b^{2})}{3(b-a)} $ "
   ]
  },
  {
   "cell_type": "markdown",
   "metadata": {},
   "source": [
    "#### **(5) 성질** :\n",
    "##### $ \\hspace{0.15cm} $ ① **[CONTENTS]**\n",
    "##### $ \\hspace{0.15cm} $ ② **[CONTENTS]**"
   ]
  },
  {
   "cell_type": "markdown",
   "metadata": {},
   "source": [
    "#### **(6) 예시** : \n",
    "##### $ \\hspace{0.15cm} $ ① 어떤 파견 직원이 $ \\, 2 $ 시에부터 $ \\, 5 $ 시에 회사에 도착하고, 이를 정의한 확률변수 $ \\, X $가 연속균등분포를 따를 때\n",
    "##### $ \\hspace{0.6cm} \\cdot{} \\, X \\, $ : 어떤 파견 직원이 회사에 도착할 시간\n",
    "##### $ \\hspace{0.6cm} \\cdot{} \\, X \\sim{} \\text{Uniform}(2,\\, 5), \\;\\; E(X) = \\frac{5+2}{2} = \\frac{7}{2}, \\;\\; \\text{var}(X) = \\frac{(5-2)^{2}}{12} = \\frac{3}{4} $\n",
    "##### $ \\hspace{0.6cm} \\therefore{} \\, f(X=x) = \\begin{cases} \\frac{1}{5-2}, \\;\\; 2 \\leq{} x \\leq{} 5 \\\\ 0, \\;\\;\\;\\;\\;\\; x < 2 \\;\\; \\text{or} \\;\\; x > 5 \\end{cases} $ "
   ]
  },
  {
   "cell_type": "markdown",
   "metadata": {},
   "source": [
    "##### **(`PLUS`)** 이 때 $ \\, 4 $ 시 이후에 도착할 확률은? \n",
    "##### $ \\hspace{0.6cm} \\therefore{} \\, P(X \\geq{} 4) = F(X=5) - F(X=4) = \\frac{(5-2)}{3} - \\frac{(4-2)}{3} = \\frac{1}{3} \\approx{} 33.33 \\% $"
   ]
  },
  {
   "cell_type": "markdown",
   "metadata": {},
   "source": [
    "##### $ \\hspace{0.15cm} $ ② **[CONTENTS]**"
   ]
  },
  {
   "cell_type": "markdown",
   "metadata": {},
   "source": [
    "<b></b>"
   ]
  },
  {
   "cell_type": "markdown",
   "metadata": {},
   "source": [
    "> ## **지수 분포(Exponential Distribution)**"
   ]
  },
  {
   "cell_type": "markdown",
   "metadata": {},
   "source": [
    "#### **(1) 정의** : 어떠한 구간(시간/공간)에서 사건이 발생하는 빈도를 정의하는 확률변수가 따르는 분포\n",
    "#### $ \\Rightarrow{} f(X=x) = \\begin{cases} \\lambda{}e^{-\\lambda{}x} = \\frac{\\lambda{}}{e^{\\lambda{}x}}, \\;\\; x \\geq{} 0 \\\\ 0, \\;\\;\\;\\;\\;\\;\\;\\;\\;\\;\\;\\;\\;\\;\\;\\;\\;\\; x < 0 \\end{cases} \\;\\; \\text{ where } \\; \\lambda{} > 0 $\n",
    "<img src=\"../../img/04.2. Continuous Distribution (2).png\" width=\"40%\" height=\"40%\"></img>"
   ]
  },
  {
   "cell_type": "markdown",
   "metadata": {},
   "source": [
    "##### **(`PLUS`) 확률변수의 정의** :\n",
    "##### $ \\hspace{0.15cm} $ 확률변수 $ \\, X $ 는 **어떠한 사건이 발생할 빈도 혹은 간격**으로 정의되며, 사건의 단위 구간동안의 발생률 $ \\, \\lambda{} $ 를 모수로 하는 지수 분포를 따름\n",
    "##### $ \\hspace{0.15cm} \\Rightarrow{} X \\sim{} \\text{Exponential}(\\lambda{}) $"
   ]
  },
  {
   "cell_type": "markdown",
   "metadata": {},
   "source": [
    "#### **(2) 누적분포함수** :\n",
    "#### $ \\Rightarrow{} F(X=x) = P(X\\leq{}x) = \\begin{cases} \\displaystyle\\int^{x}_{0} \\lambda{}e^{-\\lambda{}u} \\text{du} = 1 - e^{-\\lambda{}x}, \\;\\; x \\geq{} 0 \\\\ 0, \\;\\;\\;\\;\\;\\;\\;\\;\\;\\;\\;\\;\\;\\;\\;\\;\\;\\;\\;\\;\\;\\;\\;\\;\\;\\;\\;\\;\\;\\;\\;\\;\\;\\;\\;\\;\\; x < 0 \\end{cases} $ "
   ]
  },
  {
   "cell_type": "markdown",
   "metadata": {},
   "source": [
    "##### **(`PLUS`) 지수함수 $ e^{g(x)} $ 의 미분과 적분**\n",
    "##### $ \\hspace{0.15cm} \\cdot{} \\, $ 미분 : $ \\frac{\\text{d}}{\\text{dx}}e^{g(x)} = g'(x) e^{g(x)} \\;\\; $ ($ \\because{} \\; \\frac{\\text{d}}{\\text{dx}}e^{x} = e^{x} $)\n",
    "##### $ \\hspace{0.15cm} \\cdot{} \\, $ 적분 : $ \\displaystyle\\int{}e^{g(x)}\\text{dx} = \\frac{1}{g'(x)} e^{g(x)} + C \\;\\; $ ($ \\because{} \\; \\displaystyle\\int{}e^{x}\\text{dx} = e^{x} + C $)  "
   ]
  },
  {
   "cell_type": "markdown",
   "metadata": {},
   "source": [
    "#### **(3) 기댓값** : \n",
    "#### $ \\Rightarrow{} E(X) = \\displaystyle\\int^{\\infty{}}_{0} x f(X=x) \\text{dx} = \\displaystyle\\int^{\\infty{}}_{0} x \\lambda{}e^{-\\lambda{}x} \\text{dx} $\n",
    "#### $ \\hspace{1.4cm} = \\begin{bmatrix} x \\cdot{} -\\frac{\\lambda{}}{\\lambda{}} e^{-\\lambda{}x} \\end{bmatrix}^{\\infty{}}_{0} - \\displaystyle\\int^{\\infty{}}_{0} (-\\frac{\\lambda{}}{\\lambda{}} e^{-\\lambda{}x}) \\text{dx} = \\begin{bmatrix} - x e^{-\\lambda{}x} \\end{bmatrix}^{\\infty{}}_{0} + \\displaystyle\\int^{\\infty{}}_{0} e^{-\\lambda{}x} \\text{dx} $\n",
    "#### $ \\hspace{1.4cm} = \\begin{bmatrix} - x e^{-\\lambda{}x} \\end{bmatrix}^{\\infty{}}_{0} + \\begin{bmatrix} -\\frac{1}{\\lambda{}} e^{-\\lambda{}x} \\end{bmatrix}^{\\infty{}}_{0} $\n",
    "#### $ \\hspace{1.4cm} = (\\displaystyle\\lim_{x\\rightarrow{}\\infty{}}\\frac{x}{e^{\\lambda{}{}x}} - 0 ) -\\frac{1}{\\lambda{}}(\\displaystyle\\lim_{x\\rightarrow{}\\infty{}}\\frac{1}{e^{\\lambda{}{}x}} - 1) = (0 - 0) - \\frac{1}{\\lambda{}}(0 - 1 )$\n",
    "#### $ \\hspace{1.4cm} = \\frac{1}{\\lambda{}} $"
   ]
  },
  {
   "cell_type": "markdown",
   "metadata": {},
   "source": [
    "##### **(`PLUS`) 부분적분법 정의** :\n",
    "##### $ \\hspace{0.15cm} \\Rightarrow{} \\displaystyle\\int^{b}_{a} f(x)g(x) \\text{dx} = \\begin{bmatrix} f(x) \\displaystyle\\int{} g(x) \\text{dx} \\end{bmatrix}^{b}_{a} - \\displaystyle\\int^{b}_{a} f'(x) (\\displaystyle\\int{} g(x) \\text{dx}) \\text{dx} $"
   ]
  },
  {
   "cell_type": "markdown",
   "metadata": {},
   "source": [
    "##### $ \\hspace{0.15cm} $**(`WHY?`)**\n",
    "##### $ \\hspace{0.3cm} \\frac{\\text{d}}{\\text{dx}} \\{ f(x)k(x) \\} = f'(x)k(x) + f(x)k'(x) \\;\\; $ ($ \\because{} \\; $ 곱의 미분법)\n",
    "##### $ \\hspace{0.3cm} \\displaystyle\\int{} (\\frac{\\text{d}}{\\text{dx}} \\{ f(x)k(x) \\}) \\text{dx} = \\displaystyle\\int{} (f'(x)k(x) + f(x)k'(x)) \\text{dx} $\n",
    "##### $ \\hspace{0.3cm} f(x)k(x) = \\displaystyle\\int{} f'(x)k(x) \\text{dx} + \\displaystyle\\int{} f(x)k'(x) \\text{dx} $\n",
    "##### $ \\hspace{0.3cm} \\displaystyle\\int{} f(x)k'(x) \\text{dx} = f(x)k(x) - \\displaystyle\\int{} f'(x)k(x) \\text{dx} $\n",
    "##### $ \\hspace{0.3cm} \\therefore{} \\displaystyle\\int{} f(x)g(x) \\text{dx} = f(x) \\displaystyle\\int{} g(x) \\text{dx} - \\displaystyle\\int{} f'(x) [\\displaystyle\\int{} g(x) \\text{dx}] \\text{dx}, \\;\\; \\text{ where } \\; g(x) = k'(x) = \\frac{\\text{d}}{\\text{dx}} k(x) $"
   ]
  },
  {
   "cell_type": "markdown",
   "metadata": {},
   "source": [
    "#### **(4) 분산** :\n",
    "#### $ \\text{var}(X) = \\underbrace{E(X^{2})}_{\\text{㉠}} - E(X)^{2} = \\frac{2}{\\lambda{}^{2}} - \\frac{1}{\\lambda{}^{2}} = \\frac{1}{\\lambda{}^{2}} $ \n",
    "#### $ \\because{} \\; ㉠ = \\displaystyle\\int^{\\infty{}}_{0} x^{2} \\lambda{}e^{-\\lambda{}x} \\text{dx} = \\begin{bmatrix} -x^{2} e^{-\\lambda{}x} \\end{bmatrix}^{\\infty{}}_{0} + \\displaystyle\\int^{\\infty{}}_{0} 2 x e^{-\\lambda{}x} \\text{dx} $\n",
    "#### $ \\hspace{0.8cm} = \\begin{bmatrix} -x^{2} e^{-\\lambda{}x} \\end{bmatrix}^{\\infty{}}_{0} - 2 \\{ \\begin{bmatrix} -\\frac{1}{\\lambda{}} x e^{-\\lambda{}x} \\end{bmatrix}^{\\infty{}}_{0} - \\displaystyle\\int^{\\infty{}}_{0} (-\\frac{1}{\\lambda{}}e^{-\\lambda{}x}) \\text{dx} \\} $\n",
    "#### $ \\hspace{0.8cm} = (0 - 0) - 2 \\{ (0 - 0) - \\frac{1}{\\lambda{}} \\begin{bmatrix} -\\frac{1}{\\lambda{}}e^{-\\lambda{}x} \\end{bmatrix}^{\\infty{}}_{0} \\} $\n",
    "#### $ \\hspace{0.8cm} = - 2 \\begin{bmatrix} - \\frac{1}{\\lambda{}} (0 - \\frac{1}{\\lambda{}}) \\end{bmatrix} = \\frac{2}{\\lambda{}^{2}} $"
   ]
  },
  {
   "cell_type": "markdown",
   "metadata": {},
   "source": [
    "#### **(5) 성질** :\n",
    "##### $ \\hspace{0.15cm} $ ① 무기억성질(memoryless) : 이전 구간의 확률이 다음 구간의 확률에 영향을 미치지 않음\n",
    "##### $ \\hspace{0.45cm} \\Rightarrow{} P(X > s+t | X > t ) = P(X > s) $\n",
    "##### $ \\hspace{0.15cm} $ ② **[LATEX]**"
   ]
  },
  {
   "cell_type": "markdown",
   "metadata": {},
   "source": [
    "#### **(6) 예시** : \n",
    "##### $ \\hspace{0.15cm} $ ① 콜센터에서 고객 전화가 평균 $ \\, 10 $ 분에 한 번 요청되고, 이를 정의한 확률변수 $ \\, X $ 가 지수분포를 따를 때\n",
    "##### $ \\hspace{0.45cm} \\cdot{} \\, X \\, $ : 다음 고객 전화가 요청되는 시간(분)\n",
    "##### $ \\hspace{0.45cm} \\cdot{} \\, X \\sim{} \\text{Exponential}(\\lambda{}=\\frac{1}{10}), \\,\\, E(X) = 10 = \\frac{1}{\\lambda{}}, \\,\\, \\text{var}(X) = (10)^{2} $\n",
    "##### $ \\hspace{0.45cm} \\therefore{} \\, f(X=x) = \\begin{cases} \\frac{1}{10}e^{-\\frac{1}{10}x}, \\;\\; x \\geq{} 0 \\\\ 0, \\;\\;\\;\\;\\;\\;\\;\\;\\;\\;\\;\\; x < 0 \\end{cases} $ "
   ]
  },
  {
   "cell_type": "markdown",
   "metadata": {},
   "source": [
    "##### **(`PLUS`)** 이 때 고객 전화가 요청되는 시간이 $ \\, 15 $ 분 이상일 확률은?\n",
    "##### $ \\hspace{0.45cm} \\therefore{} \\, P(X \\geq{} 15) = 1 - F(X=15) = 1 - \\displaystyle\\int^{15}_{0} \\frac{1}{10}e^{-\\frac{1}{10}x} \\text{dx} = 1 - (1 - e^{-\\frac{1}{10}15}) \\approx{} 22.31 \\% $"
   ]
  },
  {
   "cell_type": "markdown",
   "metadata": {},
   "source": [
    "##### $ \\hspace{0.15cm} $ ② **[LATEX]**"
   ]
  },
  {
   "cell_type": "markdown",
   "metadata": {},
   "source": [
    "<b></b>"
   ]
  },
  {
   "cell_type": "markdown",
   "metadata": {},
   "source": [
    "> ## **감마 분포(Gamma Distribution)**"
   ]
  },
  {
   "cell_type": "markdown",
   "metadata": {},
   "source": [
    "#### **(1) 정의** : 어떠한 구간(시간/공간)에서 사건이 발생하는 **누적** 빈도를 정의하는 확률변수가 따르는 분포\n",
    "#### $ \\Rightarrow{} f(X=x) = \\begin{cases} \\frac{\\lambda{}^{\\alpha{}}x^{\\alpha{}-1}e^{-\\lambda{}x}}{\\Gamma{}(\\alpha{})}, \\;\\; x > 0 \\\\ 0, \\;\\;\\;\\;\\;\\;\\;\\;\\;\\;\\;\\;\\;\\; x \\leq{} 0 \\end{cases} $\n",
    "<img src=\"../../img/04.2. Continuous Distribution (3).png\" width=\"40%\" height=\"40%\"></img>"
   ]
  },
  {
   "cell_type": "markdown",
   "metadata": {},
   "source": [
    "##### **(`PLUS`) 감마 함수(Gamma Function)의 정의** : 팩토리얼을 실수 범위까지 확장한 함수\n",
    "##### $ \\hspace{0.15cm} \\cdot{} \\, $ 자연수 범위 : $ \\, \\Gamma{}(n) = (n-1)!, \\;\\; \\forall{} \\; n \\in{} \\mathbb{N} $\n",
    "##### $ \\hspace{0.15cm} \\cdot{} \\, $ 비음수 실수 범위 : $ \\, \\Gamma{}(\\alpha{}) = \\displaystyle\\int^{\\infty{}}_{0} x^{\\alpha{}-1} e^{-x} \\text{dx} , \\;\\; \\forall{} \\; \\alpha{} > 0 $"
   ]
  },
  {
   "cell_type": "markdown",
   "metadata": {},
   "source": [
    "##### $ \\hspace{0.15cm} $ **(`WHY?`)**\n",
    "##### $ \\hspace{0.3cm} \\Gamma{}(\\alpha{}+1) = \\displaystyle\\int^{\\infty{}}_{0} x^{\\alpha{}} e^{-x} \\text{dx} = \\begin{bmatrix} -x^{\\alpha{}} e^{-x} \\end{bmatrix}^{\\infty{}}_{0} + \\displaystyle\\int^{\\infty{}}_{0} \\alpha{} \\cdot{} x^{\\alpha{}-1} (-1) \\cdot{} e^{-x} \\text{dx} $ \n",
    "##### $ \\hspace{1.75cm} = (0 - 0) + \\alpha{} \\displaystyle\\int^{\\infty{}}_{0} x^{\\alpha{}-1} e^{-x} \\text{dx} \\;\\; $ ($ \\because{} \\, \\displaystyle\\lim_{x\\rightarrow{}\\infty{}} -\\frac{x^{\\alpha{}}}{e^{x}} = 0 $ ; 로피탈의 정리)\n",
    "##### $ \\hspace{1.75cm} = \\alpha{} \\Gamma{}(\\alpha{}) $\n",
    "##### $ \\hspace{0.3cm} \\therefore{} \\, \\Gamma{}(n) = (n-1) \\Gamma{}(n-1) = (n-1) (n-2) \\Gamma{}(n-2) = \\cdots{} = (n-1)! $"
   ]
  },
  {
   "cell_type": "markdown",
   "metadata": {},
   "source": [
    "##### **(`PLUS`) 확률변수의 정의** :\n",
    "##### $ \\hspace{0.15cm} $ 확률변수 $ \\, X $ 는 **[CONTENTS]** 으로 정의되며, **[CONTENTS]** 을 모수로 하는 감마 분포를 따름 \n",
    "##### $ \\hspace{0.15cm} \\Rightarrow{} X \\sim{} \\text{Gamma}(\\alpha{},\\, \\lambda{}) $"
   ]
  },
  {
   "cell_type": "markdown",
   "metadata": {},
   "source": [
    "#### **(2) 누적분포함수** :\n",
    "#### $ \\Rightarrow{} F(X=x) = P(X\\leq{}x) = \\begin{cases} \\displaystyle\\int^{x}_{0} \\frac{\\lambda{}^{\\alpha{}}x^{\\alpha{}-1}e^{-\\lambda{}x}}{\\Gamma{}(\\alpha{})}, \\;\\; x \\geq{} 0 \\\\ 0, \\;\\;\\;\\;\\;\\;\\;\\;\\;\\;\\;\\;\\;\\;\\;\\;\\;\\;\\;\\;\\;\\;\\;\\;\\; x < 0 \\end{cases} $ "
   ]
  },
  {
   "cell_type": "markdown",
   "metadata": {},
   "source": [
    "#### **(3) 기댓값** : \n",
    "#### $ \\Rightarrow{} E(X) = \\displaystyle\\int^{\\infty{}}_{0} x f(X=x) \\text{dx} = \\displaystyle\\int^{\\infty{}}_{0} x \\frac{\\lambda{}^{\\alpha{}}x^{\\alpha{}-1}e^{-\\lambda{}x}}{\\Gamma{}(\\alpha{})} \\text{dx} = \\frac{\\lambda{}}{\\Gamma{}(\\alpha{})} \\displaystyle\\int^{\\infty{}}_{0} x^{\\alpha{}}e^{-\\lambda{}x} \\text{dx} $\n",
    "#### $ \\hspace{1.435cm} = \\frac{\\lambda{}}{\\Gamma{}(\\alpha{})} \\frac{\\Gamma{}(\\alpha{}+1)}{\\lambda{}^{\\alpha{}+1}} = \\frac{\\lambda{}^{\\alpha{}}}{\\Gamma{}(\\alpha{})} \\frac{\\alpha{}\\Gamma{}(\\alpha{})}{\\lambda{}^{\\alpha{}+1}} = \\frac{\\alpha{}}{\\lambda{}} $ "
   ]
  },
  {
   "cell_type": "markdown",
   "metadata": {},
   "source": [
    "##### **(`WHY?`)**\n",
    "##### $ \\hspace{0.15cm} \\Gamma{}(\\alpha{}) = \\displaystyle\\int^{\\infty{}}_{0} x^{\\alpha{}-1} e^{-x} \\text{dx}, \\;\\; $ for $ \\; \\alpha{} > 0 $\n",
    "##### $ \\hspace{0.95cm} = \\displaystyle\\int^{\\infty{}}_{0} (\\lambda{}u)^{\\alpha{}-1} e^{-\\lambda{}u} \\lambda{}\\text{du}, \\;\\; \\text{ where } \\; x = \\lambda{} u,\\; \\frac{\\text{dx}}{\\text{du}} = \\lambda{},\\; \\text{dx} = \\lambda{}\\text{du} $\n",
    "##### $ \\hspace{0.95cm} = \\lambda{}^{\\alpha{}} \\displaystyle\\int^{\\infty{}}_{0} u^{\\alpha{}-1}e^{-\\lambda{}u} \\text{du} $\n",
    "##### $ \\hspace{0.15cm} \\therefore{} \\; \\frac{\\Gamma{}(\\alpha{})}{\\lambda{}^{\\alpha{}}} = \\displaystyle\\int^{\\infty{}}_{0} u^{\\alpha{}-1}e^{-\\lambda{}u} \\text{du} $"
   ]
  },
  {
   "cell_type": "markdown",
   "metadata": {},
   "source": [
    "#### **(4) 분산** :\n",
    "#### $ \\Rightarrow{} \\text{var}(X) = \\underbrace{E(X^{2})}_{\\text{㉠}} - E(X)^{2} = \\frac{(\\alpha{}+1)\\alpha{}}{\\lambda{}^{2}} - (\\frac{\\alpha{}}{\\lambda{}})^{2} = \\frac{\\alpha{}}{\\lambda{}^{2}} $\n",
    "#### $ \\because{} \\; ㉠ = \\displaystyle\\int^{\\infty{}}_{0} x^{2} \\frac{\\lambda{}^{\\alpha{}}x^{\\alpha{}-1}e^{-\\lambda{}x}}{\\Gamma{}(\\alpha{})} \\text{dx} = \\frac{\\lambda{}}{\\Gamma{}(\\alpha{})} \\displaystyle\\int^{\\infty{}}_{0} x^{\\alpha{}+1}e^{-\\lambda{}x} \\text{dx} $ \n",
    "#### $ \\hspace{0.8cm} = \\frac{\\lambda{}}{\\Gamma{}(\\alpha{})} \\frac{\\Gamma{}(\\alpha{}+2)}{\\lambda{}^{\\alpha{}+2}} = \\frac{(\\alpha{}+1)\\alpha{}}{\\lambda{}^{2}} $"
   ]
  },
  {
   "cell_type": "markdown",
   "metadata": {},
   "source": [
    "##### **(`PLUS`) 감마 분포와 지수 분포의 관계** :\n",
    "##### $ \\hspace{0.15cm} $ **[CONTENTS]**"
   ]
  },
  {
   "cell_type": "markdown",
   "metadata": {},
   "source": [
    "#### **(5) 성질** :\n",
    "##### $ \\hspace{0.15cm} $ ① **[CONTENTS]**\n",
    "##### $ \\hspace{0.15cm} $ ② **[CONTENTS]**"
   ]
  },
  {
   "cell_type": "markdown",
   "metadata": {},
   "source": [
    "#### **(6) 예시** : \n",
    "##### $ \\hspace{0.15cm} $ ① 병원에서 $ \\, 2 $ 명의 환자의 진료 대기 시간이 각각 평균적으로 $ \\, 30 $ 분이고, 이를 정의한 확률변수 $ \\, X $ 가 감마 분포를 따를 때\n",
    "##### $ \\hspace{0.45cm} \\cdot{} \\, X \\, $ : **[CONTENTS]**\n",
    "##### $ \\hspace{0.45cm} \\cdot{} \\, X \\sim{} \\text{Gamma}(\\alpha{}=\\_, \\lambda{}=\\_), \\,\\, E(X) = \\_, \\,\\, \\text{var}(X) = \\_ $\n",
    "##### $ \\hspace{0.45cm} \\therefore{} \\, f(X=x) = $ **[LATEX]**\n",
    "##### $ \\hspace{0.15cm} $ ② **[CONTENTS]**"
   ]
  },
  {
   "cell_type": "markdown",
   "metadata": {},
   "source": [
    "<b></b>"
   ]
  },
  {
   "cell_type": "markdown",
   "metadata": {},
   "source": [
    "> ## **표준 정규분포(Standard Normal Distribution)**"
   ]
  },
  {
   "cell_type": "markdown",
   "metadata": {},
   "source": [
    "#### **(1) 정의** : 기대값이 $ \\, 0 $ 이고 분산이 $ \\, 1 $ 이며 **대칭적인 종모양을 갖는** 확률변수가 따르는 분포\n",
    "#### $ \\Rightarrow{} f(Z=z) = \\frac{1}{\\sqrt{2\\pi{}}}e^{-\\frac{z^{2}}{2}}, \\;\\; -\\infty{} \\leq{} z \\leq{} \\infty{} $\n",
    "<img src=\"../../img/04.2. Continuous Distribution (4).png\" width=\"40%\" height=\"40%\"></img>"
   ]
  },
  {
   "cell_type": "markdown",
   "metadata": {},
   "source": [
    "##### **(`PLUS`) 확률변수의 정의** :\n",
    "##### $ \\hspace{0.15cm} $ 확률변수 $ \\, Z $ 는 **평균이 $ \\, 0 $ , 분산이 $ \\, 1 $ 인 종모양의 곡선**으로 정의되며, $ \\, Z $ 의 평균과 분산을 모수로 하는 표준 정규분포를 따름\n",
    "##### $ \\hspace{0.15cm} \\Rightarrow{} Z \\sim{} \\text{N}(\\text{E}(Z) = 0,\\, \\text{var}(Z) = 1) $"
   ]
  },
  {
   "cell_type": "markdown",
   "metadata": {},
   "source": [
    "#### **(2) 누적분포함수** :\n",
    "#### $ \\Rightarrow{} \\varPhi{}(Z=z) = F(Z=z) = P(z\\leq{}z) = \\displaystyle\\int^{z}_{-\\infty{}} \\frac{1}{\\sqrt{2\\pi{}}}e^{-\\frac{u^{2}}{2}} \\text{du}, \\;\\; -\\infty{} \\leq{} z \\leq{} \\infty{} $ "
   ]
  },
  {
   "cell_type": "markdown",
   "metadata": {},
   "source": [
    "##### **(`PLUS`)** 표준정규분포의 누적분포함수는 초등함수로 표현이 안되서 **표준정규분포표**를 통해 값을 근사함"
   ]
  },
  {
   "cell_type": "markdown",
   "metadata": {},
   "source": [
    "##### **(`PLUS`) 초등함수(Elementary Function)의 정의** : 다항식, 유리함수, 지수함수, 로그함수, 삼각함수 및 이들의 조합으로 표현될 수 있는 함수"
   ]
  },
  {
   "cell_type": "markdown",
   "metadata": {},
   "source": [
    "#### **(3) 기댓값** : \n",
    "#### $ \\Rightarrow{} E(Z) = \\displaystyle\\int^{\\infty{}}_{-\\infty{}} z f(Z=z) \\text{dz} = \\displaystyle\\int^{\\infty{}}_{-\\infty{}} z \\frac{1}{\\sqrt{2\\pi{}}}e^{-\\frac{z^{2}}{2}} \\text{dz} $\n",
    "#### $ \\hspace{1.375cm} = \\frac{1}{\\sqrt{2\\pi{}}}(-\\displaystyle\\int^{\\infty{}}_{0} z e^{-\\frac{z^{2}}{2}} \\text{dz} + \\displaystyle\\int^{\\infty{}}_{0} z e^{-\\frac{z^{2}}{2}} \\text{dz}) \\;\\; $ ($ \\because{} \\, z $ 가 곱해졌고 자연상수 지수가  $ \\, z^{2} $ 이므로 기함수)\n",
    "#### $ \\hspace{1.375cm} = \\frac{1}{\\sqrt{2\\pi{}}}(-\\displaystyle\\int^{\\infty{}}_{0} e^{-u} \\text{du} + \\displaystyle\\int^{\\infty{}}_{0} e^{-u} \\text{du}), \\;\\; \\text{ where } \\, u = \\frac{z^{2}}{2},\\; \\frac{\\text{du}}{\\text{dz}} = z, \\;\\text{du} = z\\text{dz} $  \n",
    "#### $ \\hspace{1.375cm} = \\frac{1}{\\sqrt{2\\pi{}}}(\\begin{bmatrix} e^{-u} \\end{bmatrix}^{\\infty{}}_{0} - \\begin{bmatrix} e^{-u} \\end{bmatrix}^{\\infty{}}_{0}) $\n",
    "#### $ \\hspace{1.375cm} = \\frac{1}{\\sqrt{2\\pi{}}}(0 - 0) = 0 $"
   ]
  },
  {
   "cell_type": "markdown",
   "metadata": {},
   "source": [
    "##### **(`PLUS`) 우함수와 기함수의 정의** : \n",
    "##### $ \\hspace{0.15cm} \\cdot{} \\, $ 우함수(even function) : 수직축에 대하여 대칭 $ \\, \\Rightarrow{} f(x) = f(-x) $\n",
    "##### $ \\hspace{0.15cm} \\cdot{} \\, $ 기함수(odd function) : 원점에 대하여 대칭 $ \\, \\Rightarrow{} f(x) = -f(-x) $ "
   ]
  },
  {
   "cell_type": "markdown",
   "metadata": {},
   "source": [
    "#### **(4) 분산** :\n",
    "#### $ \\Rightarrow{} \\text{var}(Z) = \\underbrace{E(Z^{2})}_{\\text{㉠}} - E(Z)^{2} = 1 - 0 = 1 $ \n",
    "#### $ \\because{} \\; ㉠ = \\displaystyle\\int^{\\infty{}}_{-\\infty{}} z^{2} \\frac{1}{\\sqrt{2\\pi{}}}e^{-\\frac{z^{2}}{2}} \\text{dz} $ \n",
    "#### $ \\hspace{0.8cm} = 2 \\displaystyle\\int^{\\infty{}}_{0} z^{2} \\frac{1}{\\sqrt{2\\pi{}}}e^{-\\frac{z^{2}}{2}} \\text{dz} \\;\\; $ ($ \\because{} \\; z^{2} $ 이 곱해졌고 자연상수 지수가  $ \\; z^{2} $ 이므로 우함수)\n",
    "#### $ \\hspace{0.8cm} = \\frac{2}{\\sqrt{2\\pi{}}} \\displaystyle\\int^{\\infty{}}_{0} z \\cdot{} e^{-\\frac{z^{2}}{2}} \\cdot{} z \\text{dz} $\n",
    "#### $ \\hspace{0.8cm} = \\frac{2}{\\sqrt{2\\pi{}}} \\displaystyle\\int^{\\infty{}}_{0} \\sqrt{2u} e^{-u} \\text{du} \\;\\; \\text{ where } \\; u = \\frac{z^{2}}{2},\\; \\text{du} = z\\text{dz} $ \n",
    "#### $ \\hspace{0.8cm} = \\frac{2}{\\sqrt{\\pi{}}} \\displaystyle\\int^{\\infty{}}_{0} u^{\\frac{1}{2}} e^{-u} \\text{du} $\n",
    "#### $ \\hspace{0.8cm} = \\frac{2}{\\sqrt{\\pi{}}} \\Gamma{}(\\frac{3}{2}) \\;\\; $ ($ \\because{} \\; \\Gamma{}(\\alpha{}) = \\displaystyle\\int^{\\infty{}}_{0} x^{\\alpha{}-1} e^{-x} \\text{dx} $) \n",
    "#### $ \\hspace{0.8cm} = \\frac{2}{\\sqrt{\\pi{}}} \\cdot{} \\frac{1}{2} \\cdot{} \\Gamma{}(\\frac{1}{2}) \\;\\; $ ($ \\because{} \\Gamma{}(\\alpha{}+1) = \\alpha{}\\Gamma{}(\\alpha{})\\; $)\n",
    "#### $ \\hspace{0.8cm} = \\frac{2}{\\sqrt{\\pi{}}} \\cdot{} \\frac{1}{2} \\cdot{} \\sqrt{\\pi{}} = 1 $"
   ]
  },
  {
   "cell_type": "markdown",
   "metadata": {},
   "source": [
    "#### **(5) 성질** :\n",
    "##### $ \\hspace{0.15cm} $ ① 대칭성 : **[CONTENTS]**\n",
    "##### $ \\hspace{0.45cm} \\Rightarrow{} P(Z\\leq{}-z) = P(Z\\geq{}z) \\; \\Leftrightarrow{} \\; F(Z=-z) = 1 - F(Z=z) $\n",
    "##### $ \\hspace{0.15cm} $ ② 종모양 형태 : **[CONTENTS]**"
   ]
  },
  {
   "cell_type": "markdown",
   "metadata": {},
   "source": [
    "#### **(6) 예시** : \n",
    "##### $ \\hspace{0.15cm} $ ① 어떤 공정의 특정 제품 길이의 기댓값이 $ \\, 0 $ cm, 분산이 $ \\, 1 $ cm인 확률변수 $ \\, Z $ 이며 표준정규분포를 따를 때 \n",
    "##### $ \\hspace{0.45cm} \\cdot{} \\, Z \\, $ : 제품의 길이\n",
    "##### $ \\hspace{0.45cm} \\cdot{} \\, Z \\sim{} \\text{N}(E(Z)=0, \\text{var}(Z)=1) $\n",
    "##### $ \\hspace{0.45cm} \\therefore{} \\, f(Z=z) = \\frac{1}{\\sqrt{2\\pi{}}}e^{-\\frac{z^{2}}{2}}, \\,\\, 0 \\leq{} Z \\leq{} \\infty{} \\,\\, $ ($ \\because{} \\, $ 길이이므로 음수가 나올 수 없음)"
   ]
  },
  {
   "cell_type": "markdown",
   "metadata": {},
   "source": [
    "##### **(`PLUS`)** 이 때 제품의 길이가 $ \\, 1.5 \\, $ 이하인 확률은?\n",
    "##### $ \\hspace{0.45cm} \\therefore{} \\, P(Z \\leq{} 1.5) = P(0 \\leq{} Z \\leq{} 1.5) = F(X=1.5) - F(X=0) \\approx{} 43.32 \\% $"
   ]
  },
  {
   "cell_type": "markdown",
   "metadata": {},
   "source": [
    "##### $ \\hspace{0.15cm} $ ② **[CONTENTS]**"
   ]
  },
  {
   "cell_type": "markdown",
   "metadata": {},
   "source": [
    "<b></b>"
   ]
  },
  {
   "cell_type": "markdown",
   "metadata": {},
   "source": [
    "> ## **정규분포(Normal Distribution; Gaussian Distribution)**"
   ]
  },
  {
   "cell_type": "markdown",
   "metadata": {},
   "source": [
    "#### **(1) 정의** : 기대값이 $ \\, \\mu{} $ 이고 분산이 $ \\, \\sigma{}^{2} $ 이며 **대칭적인 종모양을 갖는** 확률변수가 따르는 분포\n",
    "#### $ = $ 표준정규분포를 따르는 확률 변수 $ \\, Z $ 에 대하여 확률변수 $ \\, X  = \\sigma{} X + \\mu{} $ 가 따르는 분포\n",
    "#### $ \\Rightarrow{} f(X=x) = \\frac{1}{\\sqrt{2\\cdot{}\\pi{}\\cdot{}\\sigma{}^{2}}}e^{-\\frac{(x-\\mu{})^{2}}{2\\cdot{}\\sigma{}^{2}}}, \\;\\; -\\infty{} \\leq{} x \\leq{} \\infty{} $\n",
    "<img src=\"../../img/04.2. Continuous Distribution (5).png\" width=\"40%\" height=\"40%\"></img>"
   ]
  },
  {
   "cell_type": "markdown",
   "metadata": {},
   "source": [
    "##### **(`PLUS`) 확률변수의 정의** :\n",
    "##### $ \\hspace{0.15cm} $ 확률변수 $ \\, X $ 는 **평균이 $ \\, \\mu{} $ , 분산이 $ \\, \\sigma{}^{2} $ 인 종모양의 곡선**으로 정의되며, $ \\, X $ 의 평균과 분산을 모수로 하는 정규분포를 따름\n",
    "##### $ \\hspace{0.15cm} \\Rightarrow{} X \\sim{} \\text{N}(\\text{E}(X) = \\mu{},\\, \\text{var}(X) = \\sigma{}^{2}) $"
   ]
  },
  {
   "cell_type": "markdown",
   "metadata": {},
   "source": [
    "#### **(2) 누적분포함수** :\n",
    "#### $ \\Rightarrow{}  F(X=x) = P(X\\leq{}x) = P(\\sigma{}Z+\\mu{}\\leq{}x) = P(Z\\leq{}\\frac{x-\\mu{}}{\\sigma{}}) = \\varPhi{}(X=\\frac{x-\\mu{}}{\\sigma{}}), \\;\\; -\\infty{} \\leq{} x \\leq{} \\infty{} $"
   ]
  },
  {
   "cell_type": "markdown",
   "metadata": {},
   "source": [
    "#### **(3) 기댓값** : \n",
    "#### $ \\Rightarrow{} E(X) = E(\\sigma{}Z+\\mu{}) = E(\\sigma{}Z) + \\mu{} = \\sigma{}E(Z) + \\mu{} = \\mu{} $"
   ]
  },
  {
   "cell_type": "markdown",
   "metadata": {},
   "source": [
    "#### **(4) 분산** :\n",
    "#### $ \\Rightarrow{} \\text{var}(X) = \\text{var}(\\sigma{}Z+\\mu{}) = \\sigma{}^{2} \\text{var}(Z) = \\sigma{}^{2} $ "
   ]
  },
  {
   "cell_type": "markdown",
   "metadata": {},
   "source": [
    "#### **(5) 성질** :\n",
    "##### $ \\hspace{0.15cm} $ ① **[CONTENTS]**\n",
    "##### $ \\hspace{0.15cm} $ ② **[CONTENTS]**"
   ]
  },
  {
   "cell_type": "markdown",
   "metadata": {},
   "source": [
    "#### **(6) 예시** : \n",
    "##### $ \\hspace{0.15cm} $ ① $ \\, 100 $ 점 만점의 통계학 시험을 친 학생들의 점수 평균이 $ \\, 70 $ 점, 분산이 $ \\, 25 $ 점인 확률변수 $ \\, X $ 이며 정규분포를 따를 때 \n",
    "##### $ \\hspace{0.45cm} \\cdot{} \\, X \\, $ : 학생**의** 통계학 시험 성적 $ \\, \\neq{} $학생**들의** 통계학 시험 성적\n",
    "##### $ \\hspace{0.45cm} \\cdot{} \\, X \\sim{} \\text{N}(E(X)=70, \\text{var}(X)=25) $\n",
    "##### $ \\hspace{0.45cm} \\cdot{} \\, f(X=x) = \\frac{1}{\\sqrt{2\\cdot{}\\pi{}\\cdot{}25}}e^{-\\frac{(x-70)^{2}}{2\\cdot{}25}}, \\,\\, 0 \\leq{} X \\leq{} 100 \\,\\, $ (점수는 음수가 나올 수 없음)\n",
    "##### $ \\hspace{0.15cm} $ ② **[CONTENTS]**"
   ]
  }
 ],
 "metadata": {
  "kernelspec": {
   "display_name": "Python 3",
   "language": "python",
   "name": "python3"
  },
  "language_info": {
   "codemirror_mode": {
    "name": "ipython",
    "version": 3
   },
   "file_extension": ".py",
   "mimetype": "text/x-python",
   "name": "python",
   "nbconvert_exporter": "python",
   "pygments_lexer": "ipython3",
   "version": "3.8.12"
  },
  "orig_nbformat": 4
 },
 "nbformat": 4,
 "nbformat_minor": 2
}
