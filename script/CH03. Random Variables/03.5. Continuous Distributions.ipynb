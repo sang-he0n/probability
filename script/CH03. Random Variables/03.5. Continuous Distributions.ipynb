{
 "cells": [
  {
   "attachments": {},
   "cell_type": "markdown",
   "metadata": {},
   "source": [
    "# 03.5. **Continuous Distributions**"
   ]
  },
  {
   "cell_type": "markdown",
   "metadata": {},
   "source": [
    "> ## **연속균등 분포(Uniform Distribution)**"
   ]
  },
  {
   "cell_type": "markdown",
   "metadata": {},
   "source": [
    "#### **(1) 정의** : 특정한 실수 구간 $ [a, b] $에서 가능한 모든 값이 **동일한 확률 밀도**를 가지는 확률 변수로 정의된 분포\n",
    "#### $ \\Rightarrow{} f_{X}(x) = \\begin{cases} \\frac{1}{b-a} & a \\leq{} x \\leq{} b \\\\ 0 & \\text{otherwise} \\end{cases} \\; \\Leftrightarrow{} X \\sim{} \\text{U}(a, b) $\n",
    "<img src=\"../../img/03.5. Continuous Distributions (1).png\" width=\"35%\" height=\"35%\"></img>"
   ]
  },
  {
   "cell_type": "markdown",
   "metadata": {},
   "source": [
    "#### **(2) 누적 분포 함수** :\n",
    "#### $ \\Rightarrow{} F_{X}(x) = \\int^{x}_{0}f_{X}(t) \\text{d}t = \\begin{cases} 0 & \\text{if } \\; x < a \\; \\text{ or } \\; x > b \\\\ \\frac{x-a}{b-a} & \\text{if } \\; a \\leq{} x \\leq{} b \\\\ 1 & \\text{if } \\; x > b \\end{cases} $"
   ]
  },
  {
   "cell_type": "markdown",
   "metadata": {},
   "source": [
    "#### **(3) 기댓값** : \n",
    "#### $ \\Rightarrow{} E[X] = \\frac{b+a}{2} $"
   ]
  },
  {
   "cell_type": "markdown",
   "metadata": {},
   "source": [
    "##### **(`WHY?`)**\n",
    "##### $ \\hspace{0.15cm} E[X] = \\int^{b}_{a} x f_{X}(x) \\text{d}x = \\int^{b}_{a} x (\\frac{1}{b-a}) \\text{d}x = \\frac{1}{b-a} \\begin{bmatrix} \\frac{1}{2}x^{2} \\end{bmatrix}^{b}_{a} = \\frac{b^{2}-a^{2}}{2(b-a)} = \\frac{b+a}{2} $"
   ]
  },
  {
   "cell_type": "markdown",
   "metadata": {},
   "source": [
    "#### **(4) 분산** :\n",
    "#### $ \\Rightarrow{} \\text{var}[X] = \\frac{(b-a)^{2}}{12} $"
   ]
  },
  {
   "cell_type": "markdown",
   "metadata": {},
   "source": [
    "##### **(`WHY?`)**\n",
    "##### $ \\hspace{0.15cm} E[X^{2}] = \\int^{b}_{a} x^{2} (\\frac{1}{b-a}) \\text{d}x = \\frac{1}{b-a} \\begin{bmatrix} \\frac{1}{3}x^{3} \\end{bmatrix}^{b}_{a} = \\frac{b^{3}-a^{3}}{3(b-a)} = \\frac{(b-a)(a^{2}+ab+b^{2})}{3(b-a)} $\n",
    "##### $ \\hspace{0.15cm} \\therefore{} \\text{var}[X] = E[X^{2}] - (E[X])^{2} = \\frac{a^{2}+ab+b^{2}}{3} - (\\frac{b+a}{2})^{2} = \\frac{(b-a)^{2}}{12} $"
   ]
  },
  {
   "cell_type": "markdown",
   "metadata": {},
   "source": [
    "#### **(5) 성질** :\n",
    "##### $ \\hspace{0.15cm} $ ① **[CONTENTS]**\n",
    "##### $ \\hspace{0.15cm} $ ② **[CONTENTS]**"
   ]
  },
  {
   "cell_type": "markdown",
   "metadata": {},
   "source": [
    "#### **(6) 예시** : \n",
    "##### $ \\hspace{0.15cm} $ ① 어떤 직원이 $ 2 $ ~ $ 5 $시 사이에 회사에 도착할 때, 도착할 시간으로 정의된 확률 변수의 분포를 구하면\n",
    "##### $ \\hspace{0.45cm} \\Omega{} = [2, 5] $\n",
    "##### $ \\hspace{0.45cm} X(\\omega{}) = \\omega{} \\sim{} \\text{U}(2, 5) $ \n",
    "##### $ \\hspace{0.45cm} E[X] = \\frac{5+2}{2} = \\frac{7}{2}, \\;\\; \\text{var}[X] = \\frac{(5-2)^{2}}{12} = \\frac{3}{4} $\n",
    "##### $ \\hspace{0.45cm} \\therefore{} f_{X}(x) = \\begin{cases} \\frac{1}{5-2} & \\text{if } \\; 2 \\leq{} x \\leq{} 5 \\\\ 0 & \\text{otherwise} \\end{cases} $"
   ]
  },
  {
   "cell_type": "markdown",
   "metadata": {},
   "source": [
    "##### **(`PLUS`)** 이 때 그 직원이 $ 4 $시 이후에 도착할 확률은? \n",
    "##### $ \\hspace{0.15cm} \\therefore{} P(X \\geq{} 4) = F_{X}(5) - F_{X}(4) = \\frac{(5-2)}{3} - \\frac{(4-2)}{3} = \\frac{1}{3} \\approx{} 33.33 \\% $"
   ]
  },
  {
   "cell_type": "markdown",
   "metadata": {},
   "source": [
    "##### $ \\hspace{0.15cm} $ ② **[CONTENTS]**"
   ]
  },
  {
   "cell_type": "markdown",
   "metadata": {},
   "source": [
    "<b></b>"
   ]
  },
  {
   "cell_type": "markdown",
   "metadata": {},
   "source": [
    "> ## **지수 분포(Exponential Distribution)**"
   ]
  },
  {
   "cell_type": "markdown",
   "metadata": {},
   "source": [
    "#### **(1) 정의** : 특정 구간(시간 혹은 공간)에서 두 연속된 사건 사이의 거리를 확률 변수로 정의한 분포\n",
    "#### $ = $ 포아송 과정에서 두 연속된 사건 사이의 거리를 확률 변수로 정의한 분포\n",
    "#### $ \\Rightarrow{} f_{X}(x) = \\begin{cases} \\lambda{}e^{-\\lambda{}x} = \\frac{\\lambda{}}{e^{\\lambda{}x}} & \\text{if } \\; x \\geq{} 0 \\\\ 0 & \\text{otherwise} \\end{cases} \\; \\Leftrightarrow{} X \\sim{} \\text{Exp}(\\lambda{}) $\n",
    "#### $ \\hspace{0.45cm} \\text{where } \\; \\lambda{} \\, \\text{ is average number of occurrences per unit interval} $\n",
    "<img src=\"../../img/03.5. Continuous Distributions (2).png\" width=\"40%\" height=\"40%\"></img>"
   ]
  },
  {
   "cell_type": "markdown",
   "metadata": {},
   "source": [
    "#### **(2) 누적 분포 함수** :\n",
    "#### $ \\Rightarrow{} f_{X}(x) = \\begin{cases} 1 - e^{-\\lambda{}x} & \\text{if } \\; x \\geq{} 0 \\\\ 0 & \\text{if } \\; x < 0 \\end{cases} $"
   ]
  },
  {
   "cell_type": "markdown",
   "metadata": {},
   "source": [
    "#### **(3) 기댓값** : \n",
    "#### $ \\Rightarrow{} E[X] = \\frac{1}{\\lambda{}} $"
   ]
  },
  {
   "cell_type": "markdown",
   "metadata": {},
   "source": [
    "##### **(`WHY?`)** \n",
    "##### $ \\hspace{0.15cm} E[X] = \\int^{\\infty{}}_{0} x f_{X}(x) \\text{d}x = \\int^{\\infty{}}_{0} x \\lambda{}e^{-\\lambda{}x} \\text{d}x = \\lambda{} \\int^{\\infty{}}_{0} x e^{-\\lambda{}x} \\text{d}x $\n",
    "##### $ \\hspace{1.05cm} = \\lambda{} \\int^{\\infty{}}_{0} U \\text{d}V \\;\\; \\text{ where } \\; U = x, \\;\\; \\text{d}V = e^{-\\lambda{}x} \\text{d}x $\n",
    "##### $ \\hspace{1.05cm} = \\lambda{} \\begin{bmatrix} UV - \\int^{} V \\text{d}U \\end{bmatrix}^{\\infty{}}_{0} \\;\\; $ ($ \\because{} $ 부분적분법)\n",
    "##### $ \\hspace{1.05cm} = \\lambda{} \\begin{bmatrix} x \\cdot{} -\\frac{1}{\\lambda{}} e^{-\\lambda{}x} - \\int{} -\\frac{1}{\\lambda{}} e^{-\\lambda{}x}\\text{d}x \\end{bmatrix}^{\\infty{}}_{0} \\;\\; $ ($ \\because{} V = \\int{} \\text{d}V = \\int{} e^{-\\lambda{}x} \\text{d}x = -\\frac{1}{\\lambda{}} e^{-\\lambda{}x}, \\;\\; \\text{d}U = \\text{d}x $)\n",
    "##### $ \\hspace{1.05cm} = \\lambda{} \\begin{bmatrix}- \\frac{x}{\\lambda{}} e^{-\\lambda{}x} + \\frac{1}{\\lambda{}} \\int{} e^{-\\lambda{}x}\\text{d}x \\end{bmatrix}^{\\infty{}}_{0} $\n",
    "##### $ \\hspace{1.05cm} = \\lambda{} \\begin{bmatrix}- \\frac{x}{\\lambda{}} e^{-\\lambda{}x} - \\frac{1}{\\lambda{}^{2}} e^{-\\lambda{}x} \\end{bmatrix}^{\\infty{}}_{0} = \\lambda{} \\begin{bmatrix} - \\frac{x}{\\lambda{}e^{\\lambda{}x}} - \\frac{1}{\\lambda{}^{2} e^{\\lambda{}x}} \\end{bmatrix}^{\\infty{}}_{0} $\n",
    "##### $ \\hspace{1.05cm} = \\begin{bmatrix} - \\frac{x}{\\lambda{}e^{x}} - \\frac{1}{\\lambda{} e^{\\lambda{}x}} \\end{bmatrix}^{\\infty{}}_{0} $ \n",
    "##### $ \\hspace{1.05cm} = \\displaystyle{} \\lim_{x\\rightarrow{}\\infty{}} ( - \\frac{x}{\\lambda{}e^{x}} - \\frac{1}{\\lambda{} e^{\\lambda{}x}} ) - \\lim_{x\\rightarrow{}0} ( - \\frac{x}{\\lambda{}e^{x}} - \\frac{1}{\\lambda{} e^{\\lambda{}x}} ) $\n",
    "##### $ \\hspace{1.05cm} = \\displaystyle{} - \\lim_{x\\rightarrow{}\\infty{}} (\\frac{x}{\\lambda{}e^{x}}) - \\lim_{x\\rightarrow{}\\infty{}} (\\frac{1}{\\lambda{} e^{\\lambda{}x}}) + \\lim_{x\\rightarrow{}0} (\\frac{x}{\\lambda{}e^{x}}) + \\lim_{x\\rightarrow{}0} (\\frac{1}{\\lambda{} e^{\\lambda{}x}}) $\n",
    "##### $ \\hspace{1.05cm} = \\displaystyle{} - \\lim_{x\\rightarrow{}\\infty{}} (\\frac{x}{\\lambda{}e^{x}}) - 0 + \\lim_{x\\rightarrow{}0} (\\frac{x}{\\lambda{}e^{x}}) + \\frac{1}{\\lambda{}} $\n",
    "##### $ \\hspace{1.05cm} = \\displaystyle{} - \\lim_{x\\rightarrow{}\\infty{}} (\\frac{1}{\\lambda{}e^{x}}) - 0 + \\lim_{x\\rightarrow{}0} (\\frac{1}{\\lambda{}e^{x}}) + \\frac{1}{\\lambda{}} \\;\\; $ ($ \\because{} $ 로피탈 정리) \n",
    "##### $ \\hspace{1.05cm} = - 0 - 0 + 0 + \\frac{1}{\\lambda{}} $\n",
    "##### $ \\hspace{1.05cm} = \\frac{1}{\\lambda{}} $"
   ]
  },
  {
   "cell_type": "markdown",
   "metadata": {},
   "source": [
    "#### **(4) 분산** :\n",
    "#### $ \\text{var}[X] = \\frac{2}{\\lambda{}^{2}} $"
   ]
  },
  {
   "cell_type": "markdown",
   "metadata": {},
   "source": [
    "##### **(`WHY?`)**\n",
    "##### $ \\hspace{0.15cm} E[X^{2}] = \\int^{\\infty{}}_{0} x^{2} \\lambda{}e^{-\\lambda{}x} \\text{d}x = \\lambda{} \\int^{\\infty{}}_{0} x^{2} e^{-\\lambda{}x} \\text{d}x $\n",
    "##### $ \\hspace{1.2cm} = \\lambda{} \\int^{\\infty{}}_{0} U \\text{d}V \\;\\; \\text{ where } \\; U = x^{2}, \\;\\; \\text{d}V = e^{-\\lambda{}x} \\text{d}x $ \n",
    "##### $ \\hspace{1.2cm} = \\lambda{} \\begin{bmatrix} UV - \\int^{} V \\text{d}U \\end{bmatrix}^{\\infty{}}_{0} $\n",
    "##### $ \\hspace{1.2cm} = \\lambda{} \\begin{bmatrix} x^{2} \\cdot{} (-\\frac{1}{\\lambda{}} e^{-\\lambda{}x}) - \\int^{} (-\\frac{1}{\\lambda{}} e^{-\\lambda{}x}) \\cdot{} (2x\\text{d}x) \\end{bmatrix}^{\\infty{}}_{0} \\;\\; $ ($ \\because{} V = -\\frac{1}{\\lambda{}} e^{-\\lambda{}x}, \\;\\; \\frac{\\text{d}U}{\\text{d}x} = \\frac{x^{2}}{\\text{d}x} = 2x, \\;\\; \\text{d}U = 2x\\text{d}x $ )\n",
    "##### $ \\hspace{1.2cm} = \\lambda{} \\begin{bmatrix} -\\frac{1}{\\lambda{}} x^{2} e^{-\\lambda{}x} - \\int^{} -\\frac{2}{\\lambda{}} xe^{-\\lambda{}x}\\text{d}x \\end{bmatrix}^{\\infty{}}_{0} $\n",
    "##### $ \\hspace{1.2cm} = \\begin{bmatrix} - x^{2} e^{-\\lambda{}x} + 2 \\int^{}  xe^{-\\lambda{}x}\\text{d}x \\end{bmatrix}^{\\infty{}}_{0} $\n",
    "##### $ \\hspace{1.2cm} = \\begin{bmatrix} - x^{2} e^{-\\lambda{}x} \\end{bmatrix}^{\\infty{}}_{0} + 2 \\begin{bmatrix} \\int{} xe^{-\\lambda{}x}\\text{d}x \\end{bmatrix}^{\\infty{}}_{0} $\n",
    "##### $ \\hspace{1.2cm} = \\begin{bmatrix} - x^{2} e^{-\\lambda{}x} \\end{bmatrix}^{\\infty{}}_{0} + 2 \\begin{bmatrix} \\int{} K \\text{d} V \\end{bmatrix}^{\\infty{}}_{0} \\;\\; \\text{ where } \\; K = x $\n",
    "##### $ \\hspace{1.2cm} = \\begin{bmatrix} - x^{2} e^{-\\lambda{}x} \\end{bmatrix}^{\\infty{}}_{0} + 2 \\begin{bmatrix} KV - \\int^{} V \\text{d}U \\end{bmatrix}^{\\infty{}}_{0} $\n",
    "##### $ \\hspace{1.2cm} = \\begin{bmatrix} - x^{2} e^{-\\lambda{}x} \\end{bmatrix}^{\\infty{}}_{0} + 2 \\begin{bmatrix} x \\cdot{} (-\\frac{1}{\\lambda{}} e^{-\\lambda{}x}) - \\int{} (-\\frac{1}{\\lambda{}} e^{-\\lambda{}x}) \\text{d}x \\end{bmatrix}^{\\infty{}}_{0} $\n",
    "##### $ \\hspace{1.2cm} = \\begin{bmatrix} - x^{2} e^{-\\lambda{}x} \\end{bmatrix}^{\\infty{}}_{0} + 2 \\begin{bmatrix} x \\cdot{} (-\\frac{1}{\\lambda{}} e^{-\\lambda{}x}) - (-\\frac{1}{\\lambda{}^{2}} e^{-\\lambda{}x}) \\end{bmatrix}^{\\infty{}}_{0} $ \n",
    "##### $ \\hspace{1.2cm} = \\begin{bmatrix} - x^{2} e^{-\\lambda{}x} \\end{bmatrix}^{\\infty{}}_{0} - \\frac{2}{\\lambda{}} \\begin{bmatrix} x e^{-\\lambda{}x} \\end{bmatrix}^{\\infty{}}_{0} + \\frac{2}{\\lambda{}^{2}} \\begin{bmatrix} e^{-\\lambda{}x} \\end{bmatrix}^{\\infty{}}_{0} $\n",
    "##### $ \\hspace{1.2cm} = (0 - 0) - \\frac{2}{\\lambda{}}(0 - 0) + \\frac{2}{\\lambda{}^{2}}(0 + 1) $\n",
    "##### $ \\hspace{1.2cm} = \\frac{2}{\\lambda{}^{2}} $"
   ]
  },
  {
   "cell_type": "markdown",
   "metadata": {},
   "source": [
    "#### **(5) 성질** :\n",
    "##### $ \\hspace{0.15cm} $ ① 이전 구간의 확률이 다음 구간의 확률에 영향을 미치지 않음 (무기억성질;memoryless)\n",
    "##### $ \\hspace{0.45cm} \\Rightarrow{} P(X > s+t \\; | \\; X > t ) = P(X > s) $\n",
    "##### $ \\hspace{0.15cm} $ ② **[CONTENTS]**"
   ]
  },
  {
   "cell_type": "markdown",
   "metadata": {},
   "source": [
    "#### **(6) 예시** : \n",
    "##### $ \\hspace{0.15cm} $ ① 콜센터에서 고객 전화가 평균 $ 10 $분에 한 번 요청될 때 전화 간격으로 정의된 확률 변수의 분포를 정의하면\n",
    "##### $ \\hspace{0.45cm} \\Omega{} = [0, \\infty{}] $ \n",
    "##### $ \\hspace{0.45cm} X(\\omega{}) = \\omega{} \\sim{} \\text{Exp}(\\frac{1}{10}) \\;\\; $ ($ \\because{} \\lambda{} = \\frac{1}{10} $)\n",
    "##### $ \\hspace{0.45cm} E[X] = 10, \\;\\; \\text{var}[X] = (10)^{2} $\n",
    "##### $ \\hspace{0.45cm} \\therefore{} f_{X}(x) = \\begin{cases} \\frac{1}{10}e^{-\\frac{1}{10}x} & \\text{if } \\; x \\geq{} 0 \\\\ 0 & \\text{if } \\; x < 0 \\end{cases} $"
   ]
  },
  {
   "cell_type": "markdown",
   "metadata": {},
   "source": [
    "##### **(`PLUS`)** 이 때 다음 전화가 요청되는 시간이 $ 15 $분 이상일 확률은?\n",
    "##### $ \\hspace{0.15cm} \\therefore{} P(X \\geq{} 15) = 1 - F_{X}(15) = 1 - \\int^{15}_{0} \\frac{1}{10}e^{-\\frac{1}{10}x} \\text{d}x = 1 - (e^{-\\frac{15}{10}} - 1) \\approx{} 22.31 \\% $"
   ]
  },
  {
   "cell_type": "markdown",
   "metadata": {},
   "source": [
    "##### $ \\hspace{0.15cm} $ ② **[LATEX]**"
   ]
  },
  {
   "cell_type": "markdown",
   "metadata": {},
   "source": [
    "<b></b>"
   ]
  },
  {
   "cell_type": "markdown",
   "metadata": {},
   "source": [
    "> ## **감마 분포(Gamma Distribution)**"
   ]
  },
  {
   "cell_type": "markdown",
   "metadata": {},
   "source": [
    "#### **(1) 정의** : 특정 구간(시간 혹은 공간)에서 발생한 사건의 **누적** 빈도를 확률 변수로 정의한 분포 \n",
    "#### $ = $ 포아송 과정에서 $ \\alpha{} $개의 사건이 발생하기까지의 누적 거리(시간 또는 공간)를 확률 변수로 정의한 분포\n",
    "#### $ \\Rightarrow{} f_{X}(x) = \\begin{cases} \\frac{\\lambda{}^{\\alpha{}}}{\\Gamma{}(\\alpha{})}x^{\\alpha{}-1}e^{-\\lambda{}x} & \\text{if } \\; x > 0 \\\\ 0 & \\text{if } \\; x \\leq{} 0 \\end{cases} \\; \\Leftrightarrow{} X \\sim{} \\text{Gamma}(\\alpha{}, \\lambda{}) $\n",
    "#### $ \\hspace{0.45cm} \\text{where } \\; \\Gamma{}(\\alpha{}) = \\int^{\\infty{}}_{0} x^{\\alpha{}-1} e^{-x} \\text{d}x $\n",
    "#### $ \\hspace{0.45cm} \\text{and } \\; \\lambda{} \\, \\text{ is average number of occurrences per unit interval} $\n",
    "<img src=\"../../img/03.5. Continuous Distributions (3).png\" width=\"40%\" height=\"40%\"></img>"
   ]
  },
  {
   "cell_type": "markdown",
   "metadata": {},
   "source": [
    "#### **(2) 누적 분포 함수** : \n",
    "#### $ \\Rightarrow{} f_{X}(x) = \\begin{cases} \\int^{x}_{0} \\frac{\\lambda{}^{\\alpha{}}}{\\Gamma{}(\\alpha{})}t^{\\alpha{}-1}e^{-\\lambda{}t}\\text{d}t & \\text{if } \\; x \\geq{} 0 \\\\ 0 & \\text{if } \\; x < 0 \\end{cases} $"
   ]
  },
  {
   "cell_type": "markdown",
   "metadata": {},
   "source": [
    "##### **(`PLUS`)** 감마분포의 누적 분포 함수는 초등 함수(elementary function)로 표현할 수없음"
   ]
  },
  {
   "cell_type": "markdown",
   "metadata": {},
   "source": [
    "#### **(3) 기댓값** : \n",
    "#### $ \\Rightarrow{} E[X] = \\frac{\\alpha{}}{\\lambda{}} $"
   ]
  },
  {
   "cell_type": "markdown",
   "metadata": {},
   "source": [
    "##### **(`WHY?`)**  \n",
    "##### $ \\hspace{0.15cm} E[X] = \\int^{\\infty{}}_{0} x f_{X}(x) \\text{d}x = \\int^{\\infty{}}_{0} x \\frac{\\lambda{}^{\\alpha{}}x^{\\alpha{}-1}e^{-\\lambda{}x}}{\\Gamma{}(\\alpha{})} \\text{d}x = \\frac{\\lambda{}^{\\alpha{}}}{\\Gamma{}(\\alpha{})} \\int^{\\infty{}}_{0} x^{\\alpha{}}e^{-\\lambda{}x} \\text{d}x $\n",
    "##### $ \\hspace{1.05cm} = \\frac{\\lambda{}^{\\alpha{}}}{\\Gamma{}(\\alpha{})} \\int^{\\infty{}}_{0} (\\frac{U}{\\lambda{}})^{\\alpha{}}e^{-U} \\cdot{} \\frac{1}{\\lambda{}} \\text{d}U \\;\\; \\text{ where } \\; U = \\lambda{}x, \\;\\; \\text{d}U = \\lambda{}\\text{d}x $\n",
    "##### $ \\hspace{1.05cm} = \\frac{\\lambda{}^{\\alpha{}}}{\\Gamma{}(\\alpha{})} \\frac{1}{\\lambda{}^{\\alpha{}+1}} \\int^{\\infty{}}_{0} U^{\\alpha{}}e^{-U} \\text{d}U $\n",
    "##### $ \\hspace{1.05cm} = \\frac{\\lambda{}}{\\Gamma{}(\\alpha{})} \\frac{\\Gamma{}(\\alpha{}+1)}{\\lambda{}^{\\alpha{}+1}} \\;\\; $ ($ \\because{} \\Gamma{}(\\alpha{}) = \\int^{\\infty{}}_{0} x^{\\alpha{}-1} e^{-x} \\text{d}x $)\n",
    "##### $ \\hspace{1.05cm} = \\frac{\\lambda{}^{\\alpha{}}}{\\Gamma{}(\\alpha{})} \\frac{\\alpha{}\\Gamma{}(\\alpha{})}{\\lambda{}^{\\alpha{}+1}} \\;\\; $ ($ \\because{} \\Gamma{}(\\alpha{}+1) = \\alpha{} \\Gamma{}(\\alpha{}) $)\n",
    "##### $ \\hspace{1.05cm} = \\frac{\\alpha{}}{\\lambda{}} $"
   ]
  },
  {
   "cell_type": "markdown",
   "metadata": {},
   "source": [
    "#### **(4) 분산** :\n",
    "#### $ \\Rightarrow{} \\text{var}[X] = \\frac{\\alpha{}}{\\lambda{}^{2}} $"
   ]
  },
  {
   "cell_type": "markdown",
   "metadata": {},
   "source": [
    "##### **(`WHY?`)** :\n",
    "##### $ \\hspace{0.15cm} E[X^{2}] = \\int^{\\infty{}}_{0} x^{2} \\frac{\\lambda{}^{\\alpha{}}x^{\\alpha{}-1}e^{-\\lambda{}x}}{\\Gamma{}(\\alpha{})} \\text{d}x = \\frac{\\lambda{}}{\\Gamma{}(\\alpha{})} \\int^{\\infty{}}_{0} x^{\\alpha{}+1}e^{-\\lambda{}x} \\text{d}x $\n",
    "##### $ \\hspace{1.2cm} = \\frac{\\lambda{}}{\\Gamma{}(\\alpha{})} \\frac{\\Gamma{}(\\alpha{}+2)}{\\lambda{}^{\\alpha{}+2}} = \\frac{(\\alpha{}+1)\\alpha{}}{\\lambda{}^{2}} $\n",
    "##### $ \\hspace{0.15cm} \\therefore{} \\text{var}[X] = E[X^{2}] - (E[X])^{2} = \\frac{(\\alpha{}+1)\\alpha{}}{\\lambda{}^{2}} - (\\frac{\\alpha{}}{\\lambda{}})^{2} = \\frac{\\alpha{}}{\\lambda{}^{2}} $"
   ]
  },
  {
   "cell_type": "markdown",
   "metadata": {},
   "source": [
    "#### **(5) 성질** :\n",
    "##### $ \\hspace{0.15cm} $ ① **[CONTENTS]**\n",
    "##### $ \\hspace{0.15cm} $ ② **[CONTENTS]**"
   ]
  },
  {
   "cell_type": "markdown",
   "metadata": {},
   "source": [
    "#### **(6) 예시** : \n",
    "##### $ \\hspace{0.15cm} $ ① 병원에서 $ 2 $명의 환자의 진료 대기 시간이 평균적으로 $ 30 $분일 때 두 명의 진료 대기 시간의 합으로 정의된 확률 변수의 분포를 구하면\n",
    "##### $ \\hspace{0.45cm} \\Omega{} = [0, \\infty{}] $ \n",
    "##### $ \\hspace{0.45cm} X(\\omega{}) = \\omega{}  \\sim{} \\text{Gamma}(2, \\frac{1}{30}) \\;\\; $ ($ \\because{} \\alpha{} = 2, \\;\\; \\lambda{} = \\frac{1}{30} $)\n",
    "##### $ \\hspace{0.45cm} E[X] = 60, \\;\\; \\text{var}[X] = 1800, \\;\\; \\Gamma(2) = (2-1)! = 1! = 1 $\n",
    "##### $ \\hspace{0.45cm} \\therefore{} f_{X}(x) = \\begin{cases} \\frac{1}{30^2}x e^{-\\frac{1}{30}x} & \\text{if } \\; x \\geq 0 \\\\ 0 & \\text{if } \\; x < 0 \\end{cases} $\n",
    "##### $ \\hspace{0.15cm} $ ② **[CONTENTS]**"
   ]
  },
  {
   "cell_type": "markdown",
   "metadata": {},
   "source": [
    "<b></b>"
   ]
  },
  {
   "cell_type": "markdown",
   "metadata": {},
   "source": [
    "> ## (Theorem 3-7) **Exponential-Gamma Relationship**"
   ]
  },
  {
   "cell_type": "markdown",
   "metadata": {},
   "source": [
    "#### **[CONTENTS]**"
   ]
  },
  {
   "cell_type": "markdown",
   "metadata": {},
   "source": [
    "<b></b>"
   ]
  },
  {
   "cell_type": "markdown",
   "metadata": {},
   "source": [
    "> ## **표준 정규 분포(Standard Normal Distribution)**"
   ]
  },
  {
   "cell_type": "markdown",
   "metadata": {},
   "source": [
    "#### **(1) 정의** : 어떠한 실험의 관측값의 평균과 분산이 $ 0, 1 $인 관측값의 분포를 확률 변수로 정의한 분포\n",
    "#### $ \\Rightarrow{} f_{Z}(z) = \\frac{1}{\\sqrt{2\\pi{}}}e^{-\\frac{z^{2}}{2}} \\; \\Leftrightarrow{} Z \\sim{} \\text{N}(\\mu{} = 0, \\sigma{}^{2} = 1) $ \n",
    "<img src=\"../../img/03.5. Continuous Distributions (4).png\" width=\"40%\" height=\"40%\"></img>"
   ]
  },
  {
   "cell_type": "markdown",
   "metadata": {},
   "source": [
    "#### **(2) 누적 분포 함수** :\n",
    "#### $ \\Rightarrow{} \\varPhi{}(z) = F_{Z}(z) = \\int^{z}_{-\\infty{}} \\frac{1}{\\sqrt{2\\pi{}}}e^{-\\frac{u^{2}}{2}} \\text{du} $"
   ]
  },
  {
   "cell_type": "markdown",
   "metadata": {},
   "source": [
    "#### **(3) 기댓값** : \n",
    "#### $ \\Rightarrow{} E[Z] = 0 $"
   ]
  },
  {
   "cell_type": "markdown",
   "metadata": {},
   "source": [
    "##### **(`WHY?`)** \n",
    "##### $ \\hspace{0.15cm} E[Z] = \\int^{\\infty{}}_{-\\infty{}} z f_{Z}(z) \\text{d}z = \\int^{\\infty{}}_{-\\infty{}} z \\frac{1}{\\sqrt{2\\pi{}}}e^{-\\frac{z^{2}}{2}} \\text{d}z =  \\frac{1}{\\sqrt{2\\pi{}}} \\int^{\\infty{}}_{-\\infty{}} z e^{-\\frac{z^{2}}{2}} \\text{d}z $\n",
    "##### $ \\hspace{1.1cm} = \\frac{1}{\\sqrt{2\\pi{}}}(-\\int^{\\infty{}}_{0} z e^{-\\frac{z^{2}}{2}} \\text{d}z + \\int^{\\infty{}}_{0} z e^{-\\frac{z^{2}}{2}} \\text{d}z) \\;\\; $($ \\because{} zf_{Z}(z) : $ 원점 대칭)\n",
    "##### $ \\hspace{1.1cm} = \\frac{1}{\\sqrt{2\\pi{}}}(-\\int^{\\infty{}}_{0} e^{-U} \\text{d}U + \\int^{\\infty{}}_{0} e^{-U} \\text{d}U) \\;\\; \\text{ where } \\; U = \\frac{z^{2}}{2}, \\;\\; \\frac{\\text{d}U}{\\text{d}z} = z, \\;\\; \\text{d}U = z\\text{d}z $ \n",
    "##### $ \\hspace{1.1cm} = \\frac{1}{\\sqrt{2\\pi{}}}(\\begin{bmatrix} e^{-U} \\end{bmatrix}^{\\infty{}}_{0} - \\begin{bmatrix} e^{-U} \\end{bmatrix}^{\\infty{}}_{0}) $\n",
    "##### $ \\hspace{1.1cm} = \\frac{1}{\\sqrt{2\\pi{}}}(0 - 0) = 0 $"
   ]
  },
  {
   "cell_type": "markdown",
   "metadata": {},
   "source": [
    "#### **(4) 분산** :\n",
    "#### $ \\Rightarrow{} \\text{var}[Z] = 1 $"
   ]
  },
  {
   "cell_type": "markdown",
   "metadata": {},
   "source": [
    "##### **(`WHY?`)** \n",
    "##### $ \\hspace{0.15cm} E[Z^{2}] = \\int^{\\infty{}}_{-\\infty{}} z^{2} \\frac{1}{\\sqrt{2\\pi{}}} e^{-\\frac{z^{2}}{2}} \\text{d}z = \\frac{1}{\\sqrt{2\\pi{}}} \\int^{\\infty{}}_{-\\infty{}} z^{2} e^{-\\frac{z^{2}}{2}} \\text{d}z $\n",
    "##### $ \\hspace{1.125cm} = \\frac{2}{\\sqrt{2\\pi{}}} \\int^{\\infty{}}_{0} z^{2} e^{-\\frac{z^{2}}{2}} \\text{d}z \\;\\; $($ \\because{} z^{2}f_{Z}(z) : $ 수직축 대칭)\n",
    "##### $ \\hspace{1.125cm} = \\frac{2}{\\sqrt{2\\pi{}}} \\int^{\\infty{}}_{0} z \\cdot{} e^{-\\frac{z^{2}}{2}} \\cdot{} z \\text{d}z $\n",
    "##### $ \\hspace{1.125cm} = \\frac{2}{\\sqrt{\\pi{}}} \\int^{\\infty{}}_{0} U^{\\frac{1}{2}} e^{-U} \\text{d}U \\;\\; \\text{ where } \\; U = \\frac{z^{2}}{2}, \\;\\; \\text{d}U = z\\text{d}z $\n",
    "##### $ \\hspace{1.125cm} = \\frac{2}{\\sqrt{\\pi{}}} \\Gamma{}(\\frac{3}{2}) \\;\\; $ ($ \\because{} \\Gamma{}(\\alpha{}) = \\int^{\\infty{}}_{0} U^{\\alpha{}-1} e^{-U} \\text{d}U $) \n",
    "##### $ \\hspace{1.125cm} = \\frac{2}{\\sqrt{\\pi{}}} \\cdot{} \\frac{1}{2} \\cdot{} \\Gamma{}(\\frac{1}{2}) \\;\\; $ ($ \\because{} \\Gamma{}(\\alpha{}+1) = \\alpha{}\\Gamma{}(\\alpha{})\\; $)\n",
    "##### $ \\hspace{1.125cm} = \\frac{2}{\\sqrt{\\pi{}}} \\cdot{} \\frac{1}{2} \\cdot{} \\sqrt{\\pi{}} \\;\\; $ ($ \\because{} \\Gamma({\\frac{1}{2}}) = \\pi{} $)\n",
    "##### $ \\hspace{1.125cm} = 1 $\n",
    "##### $ \\hspace{0.15cm} \\therefore{} \\text{var}[Z] = E[Z^{2}] - (E[Z])^{2} = 1 - 0 = 1 $"
   ]
  },
  {
   "cell_type": "markdown",
   "metadata": {},
   "source": [
    "#### **(5) 성질** :\n",
    "##### $ \\hspace{0.15cm} $ ① **[CONTENTS]**\n",
    "##### $ \\hspace{0.45cm} \\Rightarrow{} P(Z\\leq{}-z) = P(Z\\geq{}z) $\n",
    "##### $ \\hspace{0.45cm} \\Leftrightarrow{} F_{Z}(-z) = 1 - F_{Z}(z) $\n",
    "##### $ \\hspace{0.15cm} $ ② **[CONTENTS]**"
   ]
  },
  {
   "cell_type": "markdown",
   "metadata": {},
   "source": [
    "#### **(6) 예시** : \n",
    "##### $ \\hspace{0.15cm} $ ① 어떤 공정에서 제품 길이의 기댓값이 $ 0 $(cm), 분산이 $ 1 $인 확률 변수가 정규 분포를 따를 때 그 분포를 구하면 \n",
    "##### $ \\hspace{0.45cm} \\Omega{} = [0, \\infty{}] $\n",
    "##### $ \\hspace{0.45cm} Z(\\omega{}) = \\omega{} \\sim{} \\text{N}(0, 1) $\n",
    "##### $ \\hspace{0.45cm} \\therefore{} f_{Z}(z) = \\frac{1}{\\sqrt{2\\pi{}}} e^{-\\frac{z^{2}}{2}} \\;\\; \\text{ where } \\; 0 \\leq{} Z \\leq{} \\infty{} $"
   ]
  },
  {
   "cell_type": "markdown",
   "metadata": {},
   "source": [
    "##### **(`PLUS`)** 이 때 제품의 길이가 $ 1.5 $이하인 확률은?\n",
    "##### $ \\hspace{0.15cm} \\therefore{} P(Z \\leq{} 1.5) = P(0 \\leq{} Z \\leq{} 1.5) = F_{Z}(1.5) - F_{Z}(0) \\approx{} 43.32 \\% $"
   ]
  },
  {
   "cell_type": "markdown",
   "metadata": {},
   "source": [
    "##### $ \\hspace{0.15cm} $ ② **[CONTENTS]**"
   ]
  },
  {
   "cell_type": "markdown",
   "metadata": {},
   "source": [
    "<b></b>"
   ]
  },
  {
   "cell_type": "markdown",
   "metadata": {},
   "source": [
    "> ## **정규 분포(Normal Distribution; Gaussian Distribution)**"
   ]
  },
  {
   "cell_type": "markdown",
   "metadata": {},
   "source": [
    "#### **(1) 정의** : 어떠한 실험의 관측값의 평균과 분산이 $ \\mu{}, \\sigma{} $인 관측값의 분포를 확률 변수로 정의한 분포\n",
    "#### $= $ 표준 정규 분포를 따르는 확률 변수 $ Z $에 대해, $ \\, X  = \\sigma{} Z + \\mu{} $로 정의되는 확률 변수로 정의한 분포\n",
    "#### $ \\Rightarrow{} f_{X}(x) = \\frac{1}{\\sqrt{2\\cdot{}\\pi{}\\cdot{}\\sigma{}^{2}}}e^{-\\frac{(x-\\mu{})^{2}}{2\\cdot{}\\sigma{}^{2}}} \\; \\Leftrightarrow{} X \\sim{} \\text{N}(\\mu{}, \\sigma{}^{2}) $\n",
    "<img src=\"../../img/03.5. Continuous Distributions (5).png\" width=\"40%\" height=\"40%\"></img>"
   ]
  },
  {
   "cell_type": "markdown",
   "metadata": {},
   "source": [
    "#### **(2) 누적 분포 함수** :\n",
    "#### $ \\Rightarrow{} F_{X}(x) = P(\\sigma{}Z+\\mu{}\\leq{}x) = P(Z\\leq{}\\frac{x-\\mu{}}{\\sigma{}}) = \\varPhi{}(\\frac{x-\\mu{}}{\\sigma{}}) \\;\\; \\text{ where } \\; Z \\sim{} \\text{N}(0, 1) $"
   ]
  },
  {
   "cell_type": "markdown",
   "metadata": {},
   "source": [
    "#### **(3) 기댓값** : \n",
    "#### $ \\Rightarrow{} E[X] = E(\\sigma{}Z+\\mu{}) = E(\\sigma{}Z) + \\mu{} = \\sigma{}E[Z] + \\mu{} = \\mu{} $"
   ]
  },
  {
   "cell_type": "markdown",
   "metadata": {},
   "source": [
    "#### **(4) 분산** :\n",
    "#### $ \\Rightarrow{} \\text{var}[X] = \\text{var}(\\sigma{}Z+\\mu{}) = \\sigma{}^{2} \\text{var}[Z] = \\sigma{}^{2} $"
   ]
  },
  {
   "cell_type": "markdown",
   "metadata": {},
   "source": [
    "#### **(5) 성질** :\n",
    "##### $ \\hspace{0.15cm} $ ① **[CONTENTS]**\n",
    "##### $ \\hspace{0.15cm} $ ② **[CONTENTS]**"
   ]
  },
  {
   "cell_type": "markdown",
   "metadata": {},
   "source": [
    "#### **(6) 예시** : \n",
    "##### $ \\hspace{0.15cm} $ ① $ 100 $점 만점 시험을 친 학생의 점수의 평균과 분산이 이 $ 70, 25 $인 확률 변수가 정규 분포를 따를 때 그 분포를 구하면 \n",
    "##### $ \\hspace{0.45cm} \\Omega{} = [0, 100] $\n",
    "##### $ \\hspace{0.45cm} X(\\omega{}) = \\omega{} \\sim{} \\text{N}(70, 5^{2}) $\n",
    "##### $ \\hspace{0.45cm} f_{X}(x) = \\frac{1}{\\sqrt{2\\cdot{}\\pi{}\\cdot{}25}}e^{-\\frac{(x-70)^{2}}{2\\cdot{}25}} \\;\\; \\text{ where } 0 \\leq{} X \\leq{} 100 \\;\\; $ ($ \\because{} $ 점수)"
   ]
  },
  {
   "cell_type": "markdown",
   "metadata": {},
   "source": [
    "##### **(`PLUS`)** 이 때 어떤 학생의 점수가 $ 80 $ 이하인 확률은?\n",
    "##### $ \\hspace{0.15cm} \\therefore{} P(X \\leq{} 80) = P(\\frac{X-\\mu{}}{\\sigma{}} \\leq{} \\frac{80-70}{5}) = P(Z \\leq{} 2) \\;\\; \\text{ where } X = \\sigma{}Z + \\mu{}, \\;\\; Z \\sim{} \\text{N}(0,1)  $ \n",
    "##### $ \\hspace{2.275cm} = \\varPhi{}(2) \\approx{} 97.7 \\% $"
   ]
  }
 ],
 "metadata": {
  "kernelspec": {
   "display_name": "Python 3",
   "language": "python",
   "name": "python3"
  },
  "language_info": {
   "codemirror_mode": {
    "name": "ipython",
    "version": 3
   },
   "file_extension": ".py",
   "mimetype": "text/x-python",
   "name": "python",
   "nbconvert_exporter": "python",
   "pygments_lexer": "ipython3",
   "version": "3.11.12"
  },
  "orig_nbformat": 4
 },
 "nbformat": 4,
 "nbformat_minor": 2
}
