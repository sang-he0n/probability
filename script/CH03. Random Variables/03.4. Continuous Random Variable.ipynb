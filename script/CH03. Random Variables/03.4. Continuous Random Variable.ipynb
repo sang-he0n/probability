{
 "cells": [
  {
   "attachments": {},
   "cell_type": "markdown",
   "metadata": {},
   "source": [
    "# 03.4. **Continuous Random Variables**"
   ]
  },
  {
   "cell_type": "markdown",
   "metadata": {},
   "source": [
    "> ## **연속 확률 변수(Continuous Random Variable)**"
   ]
  },
  {
   "cell_type": "markdown",
   "metadata": {},
   "source": [
    "#### **(1) 정의** : 치역(range)이 **불가산** 집합인 확률 변수\n",
    "#### $ \\Rightarrow{} X : \\Omega{} \\rightarrow{} \\mathbb{R} \\;\\; \\text{ where } \\; X(\\Omega{}) \\, \\text{ is uncountable} $\n",
    "<img src=\"../../img/03.4. Continuous Random Variables (1).png\" width=\"40%\" height=\"40%\"></img>"
   ]
  },
  {
   "cell_type": "markdown",
   "metadata": {},
   "source": [
    "##### **(⚠️)** 표본 공간은 불가산 집합일 필요는 없지만, 교육적 이해를 위해 불가산 집합으로 정의함"
   ]
  },
  {
   "cell_type": "markdown",
   "metadata": {},
   "source": [
    "<b></b>"
   ]
  },
  {
   "cell_type": "markdown",
   "metadata": {},
   "source": [
    "> ## **확률 밀도 함수(Probability Density Function;PDF)**"
   ]
  },
  {
   "cell_type": "markdown",
   "metadata": {},
   "source": [
    "#### **(1) 정의** : 연속 확률 변수를 특정 구간의 확률(확률 밀도)과 대응시킨 함수 \n",
    "#### $ \\Rightarrow{} f_{X}(x) = \\displaystyle{} \\lim_{h\\rightarrow{}0}\\frac{P(x \\leq{} X \\leq{} x+\\Delta{})}{\\Delta{}} = \\lim_{h\\rightarrow{}0}\\frac{F_{X}(x+\\Delta{})-f_{X}(x)}{\\Delta{}} $\n",
    "#### $ \\hspace{1.45cm} = \\frac{\\text{d}}{\\text{d}x} F_{X}(x) = F^{'}_{X}(x) \\;\\; \\text{ where} \\; F_{X}(x) \\, \\text{ is differentiable at } \\, x. $\n",
    "<img src=\"../../img/03.4. Continuous Random Variables (2).png\" width=\"50%\" height=\"50%\"></img>"
   ]
  },
  {
   "cell_type": "markdown",
   "metadata": {},
   "source": [
    "#### **(`PLUS`) 확률 밀도 함수가 구간의 확률로 정의되는 이유** : \n",
    "#### $ \\hspace{0.15cm} $ 확률 밀도 함수의 정의역이 불가산 집합이기 때문에 특정 값 하나의 확률(점 확률)은 $ 0 $이 됨\n",
    "#### $ \\hspace{0.15cm} \\Rightarrow{} P_{X}(x)=0 \\;\\; \\text{ where } \\; X(\\Omega{}) \\, \\text{ is uncountable set}. $"
   ]
  },
  {
   "cell_type": "markdown",
   "metadata": {},
   "source": [
    "##### **(`PLUS`) 구간 확률의 기하학적 이해** : 넓이(area)\n",
    "##### $ \\hspace{0.15cm} $ <img src=\"../../img/03.4. Continuous Random Variables (3).png\" width=\"40%\" height=\"40%\"></img>"
   ]
  },
  {
   "cell_type": "markdown",
   "metadata": {},
   "source": [
    "#### **(3) 성질** :\n",
    "##### $ \\hspace{0.15cm} $ ① $ 0 \\leq{} f_{X}(x) \\leq{} 1 \\;\\; \\forall{} \\;\\; x $\n",
    "##### $ \\hspace{0.15cm} $ ② $ \\int^{\\infty{}}_{-\\infty{}} f_{X}(x) \\text{d}x = 1 $\n",
    "##### $ \\hspace{0.15cm} $ ③ $ P(a \\leq{} X \\leq{} b) = P(a < X < b) = F(X=b) - F(X=a) = \\int^{b}_{a}f_{X}(x)\\text{d}x $\n",
    "##### $ \\hspace{0.15cm} $ ④ $ P(X\\in{}{}A) = \\int_{x\\in{}{}A}f_{X}(x)\\text{d}x \\;\\; \\text{ where } \\; A \\, \\text{ is set}. $"
   ]
  },
  {
   "cell_type": "markdown",
   "metadata": {},
   "source": [
    "#### **(3) 예시** : \n",
    "##### $ \\hspace{0.15cm} $ ① 연속 확률 변수 $ X $에 대하여 아래와 같이 확률 밀도 함수가 정의될 때 이를 시각화하면\n",
    "##### $ \\hspace{0.45cm} f_{X}(x) = \\begin{cases} \\frac{3}{14}(x^{2}-x) & \\text{if } \\; 1 < x < 3 \\\\ 0 & \\text{otherwise} \\end{cases} $\n",
    "##### $ \\hspace{0.45cm} $ <img src=\"../../img/03.4. Continuous Random Variables (4).png\" width=\"40%\" height=\"40%\"></img>\n",
    "##### $ \\hspace{0.15cm} $ ② **[CONTENTS]**"
   ]
  },
  {
   "cell_type": "markdown",
   "metadata": {},
   "source": [
    "<b></b>"
   ]
  },
  {
   "cell_type": "markdown",
   "metadata": {},
   "source": [
    "> ## **연속확률 변수의 기댓값(Expected Value of Discrete Random Variable)**"
   ]
  },
  {
   "cell_type": "markdown",
   "metadata": {},
   "source": [
    "#### **(1) 정의** : 실험이나 과정이 무한히 반복할 때 이산 확률 변수의 **예상되는 값**\n",
    "#### $ = $ 확률을 가중치로한 확률 변수의 가중합\n",
    "#### $ \\Rightarrow{} \\text{E}[X] = \\int^{\\infty{}}_{-\\infty{}} x f_{X}(x) \\text{d}x $"
   ]
  },
  {
   "cell_type": "markdown",
   "metadata": {},
   "source": [
    "#### **(2) 성질** :\n",
    "##### $ \\hspace{0.15cm} $ ① $ \\text{E}[aX+b] = a\\text{E}[X] + b $\n",
    "##### $ \\hspace{0.15cm} $ ② $ \\text{E}[X_{1}+X_{2}+\\cdots{}+X_{n}] = \\text{E}[X_{1}] + \\text{E}[X_{2}] + \\cdots{} + \\text{E}[X_{n}] $"
   ]
  },
  {
   "cell_type": "markdown",
   "metadata": {},
   "source": [
    "<b></b>"
   ]
  },
  {
   "cell_type": "markdown",
   "metadata": {},
   "source": [
    "> ## **연속확률 변수의 분산(Variance of Continuous Random Variable)**"
   ]
  },
  {
   "cell_type": "markdown",
   "metadata": {},
   "source": [
    "#### **(1) 정의** : 기댓값으로 부터 벗어난 정도(오차)를 제곱한 값\n",
    "#### $ \\Rightarrow{} \\text{var}[X] = \\text{E}[(X-E[X])^{2}] = \\text{E}[X^{2}] - (E[X])^{2} $"
   ]
  },
  {
   "cell_type": "markdown",
   "metadata": {},
   "source": [
    "#### **(2) 성질** :\n",
    "##### $ \\hspace{0.15cm} $ ① $ \\text{var}[aX+b] = a^{2} \\text{var}[X] $\n",
    "##### $ \\hspace{0.15cm} $ ② $ \\text{var}[X_{1}+X_{2}+\\cdots{}+X_{n}] = \\text{var}[X_{1}] + \\text{var}[X_{2}] + \\cdots{} + \\text{var}[X_{n}] \\;\\; \\text{ if } \\; X_{i} \\, \\text{ is independent}. $ "
   ]
  },
  {
   "cell_type": "markdown",
   "metadata": {},
   "source": [
    "<b></b>"
   ]
  },
  {
   "cell_type": "markdown",
   "metadata": {},
   "source": [
    "> ## **연속확률 변수의 합성함수(Composite Function of Continuous RV)**"
   ]
  },
  {
   "cell_type": "markdown",
   "metadata": {},
   "source": [
    "#### **(1) 정의** : 연속확률 변수를 다른 실수 공간으로 대응시킨 **연속확률 변수**\n",
    "#### $ \\Rightarrow{} Z = g \\circ{} X = g(X) : \\mathbb{R} \\rightarrow{} \\mathbb{R} $\n",
    "<img src=\"../../img/03.4. Continuous Random Variables (5).png\" width=\"50%\" height=\"50%\"></img>"
   ]
  },
  {
   "cell_type": "markdown",
   "metadata": {},
   "source": [
    "#### **(2) 기댓값** :\n",
    "#### $ \\Rightarrow{} E[Y] = E[g(X)] = \\int^{\\infty{}}_{-\\infty{}} Y(X_{i}) f_{X}(x) \\text{d}x \\;\\; \\text{ where } \\, Y = g(X) $ "
   ]
  },
  {
   "cell_type": "markdown",
   "metadata": {},
   "source": [
    "#### **(3) 분산** :\n",
    "#### $ \\Rightarrow{} \\text{var}[Y] = E[(Y-E[Y])^{2}] = E(Y^{2}) - (E[Y])^{2} $\n",
    "#### $ \\hspace{1.55cm} = E[(g(X))^{2}] - (E[g(X)])^{2} $"
   ]
  }
 ],
 "metadata": {
  "kernelspec": {
   "display_name": "Python 3",
   "language": "python",
   "name": "python3"
  },
  "language_info": {
   "codemirror_mode": {
    "name": "ipython",
    "version": 3
   },
   "file_extension": ".py",
   "mimetype": "text/x-python",
   "name": "python",
   "nbconvert_exporter": "python",
   "pygments_lexer": "ipython3",
   "version": "3.8.18"
  },
  "orig_nbformat": 4
 },
 "nbformat": 4,
 "nbformat_minor": 2
}
