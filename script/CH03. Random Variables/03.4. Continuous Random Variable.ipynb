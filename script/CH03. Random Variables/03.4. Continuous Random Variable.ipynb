{
 "cells": [
  {
   "attachments": {},
   "cell_type": "markdown",
   "metadata": {},
   "source": [
    "# 03.4. **Continuous Random Variables**"
   ]
  },
  {
   "cell_type": "markdown",
   "metadata": {},
   "source": [
    "> ## **연속확률변수(Continuous Random Variable)**"
   ]
  },
  {
   "cell_type": "markdown",
   "metadata": {},
   "source": [
    "#### **(1) 정의** : 치역이 **불가산** 집합인 확률 변수\n",
    "#### $ \\Rightarrow{} X : S \\rightarrow{} \\mathbb{R} \\;\\; \\text{ where } \\, X(S) \\, \\text{ is uncountable} $"
   ]
  },
  {
   "cell_type": "markdown",
   "metadata": {},
   "source": [
    "##### **(`PLUS`)** 표본 공간은 가산집 혹은 불가산 집합인지 상관 없음"
   ]
  },
  {
   "cell_type": "markdown",
   "metadata": {},
   "source": [
    "#### **(2) 사건의 표현** : \n",
    "#### 어떠한 실수로 구성된 표본 공간 $ [a, b] $ 에서 구간 $ [a, a+h] $ 를 고르는 사건 $ A $ 에 대하여 이를 확률변수 $ X $ 로 표현하면\n",
    "<img src=\"../../img/04.1. Continuous Random Variables (1).png\" width=\"25%\" height=\"25%\"></img>\n",
    "#### $ \\hspace{0.15cm} \\cdot{} \\, A = \\begin{cases} \\{ X=a \\} \\\\ \\cdots{} \\\\ \\{ X=a+0.1 \\} \\\\ \\cdots{} \\\\ \\{ X=a+h \\} \\end{cases} $\n",
    "#### $ \\hspace{0.6cm} = \\{ X = a \\} \\cup{} \\cdots{} \\cup{} \\{ X = a+0.1 \\} \\cup{} \\cdots{} \\cup{} \\{ X = a+h \\} $ \n",
    "#### $ \\hspace{0.6cm} = \\underbrace{\\{ X \\in \\{ a, \\cdots{}, a+0.1, \\cdots{}, a+h \\} \\}}_{\\infty{}\\text{개}} $\n",
    "#### $ \\hspace{0.15cm} \\therefore{} \\, A = \\{ X \\in{} [a, a+h] \\}, \\, \\text{ where } \\, h > 0.1 $"
   ]
  },
  {
   "cell_type": "markdown",
   "metadata": {},
   "source": [
    "##### **(`PLUS`)** 실제로 실수 공간은 불가산 집합이기 때문에 요소를 나열할 수 없음"
   ]
  },
  {
   "cell_type": "markdown",
   "metadata": {},
   "source": [
    "<b></b>"
   ]
  },
  {
   "cell_type": "markdown",
   "metadata": {},
   "source": [
    "> ## **확률밀도함수(Probability Density Function)**"
   ]
  },
  {
   "cell_type": "markdown",
   "metadata": {},
   "source": [
    "#### **(1) 정의** : 연속확률변수에서 특정 구간의 확률(확률의 밀도)과 대응시킨 함수 \n",
    "#### $ \\Rightarrow{} f(X=x) = \\lim_{h\\rightarrow{}\\infty{}}\\frac{P(x \\leq{} X \\leq{} x+h)}{h} = \\lim_{h\\rightarrow{}\\infty{}}\\frac{F(X=x+h)-F(X=x)}{h} $ \n",
    "#### $ \\hspace{2.03cm} = \\frac{\\text{d}}{\\text{dx}} F(X=x) = F'(X=x) \\;\\; $ (단, $ F(X) $ 는 $ x $ 에 대해 미분가능)"
   ]
  },
  {
   "cell_type": "markdown",
   "metadata": {},
   "source": [
    "#### **(2) 확률의 표현** : \n",
    "#### 어떠한 실수 공간 $ [a, b] $ 에서 구간 $ [a, a+h] $ 를 고르는 사건 $ A $ 에 대하여 이를 연속확률변수 $ X $ 로 표현하면\n",
    "<img src=\"../../img/04.1. Continuous Random Variables (3).png\" width=\"40%\" height=\"40%\"></img>\n",
    "##### $ \\hspace{0.15cm} $ ① 점 확률의 표현\n",
    "##### $ \\hspace{0.45cm} \\cdot{} \\, P(X=a) = 0 $\n",
    "##### $ \\hspace{0.75cm} \\cdots{} $ \n",
    "##### $ \\hspace{0.45cm} \\cdot{} \\, P(X=a+0.1) = 0 $\n",
    "##### $ \\hspace{0.75cm} \\cdots{} $ \n",
    "##### $ \\hspace{0.45cm} \\cdot{} \\, P(X=a+h) = 0 $\n",
    "##### $ \\hspace{0.75cm} \\cdots{} $ "
   ]
  },
  {
   "cell_type": "markdown",
   "metadata": {},
   "source": [
    "##### **(`WHY?`)** 무수히 많은(가산할 수 없는) 실수 공간에서 특정 점의 확률은 $ P(X=x) \\approx{} \\lim_{|A| \\rightarrow{} \\infty{}} \\frac{1}{|A|} = \\frac{1}{\\infty{}} = 0 $"
   ]
  },
  {
   "cell_type": "markdown",
   "metadata": {},
   "source": [
    "##### $ \\hspace{0.15cm} $ ② 구간 확률의 표현\n",
    "##### $ \\hspace{0.5cm} \\cdot{} \\, P(a\\leq{}X\\leq{}a+h) = F(X=a+h) - F(X=a) = \\frac{h}{b-a} \\;\\; \\text{ where } \\, a \\leq{} h \\leq{} b $"
   ]
  },
  {
   "cell_type": "markdown",
   "metadata": {},
   "source": [
    "##### **(`PLUS`) 확률의 기하학적 이해** : 넓이(area)\n",
    "<img src=\"../../img/04.1. Continuous Random Variables (2).png\" width=\"40%\" height=\"40%\"></img>"
   ]
  },
  {
   "cell_type": "markdown",
   "metadata": {},
   "source": [
    "#### **(3) 성질(조건)** :\n",
    "##### $ \\hspace{0.15cm} $ ① $ f(X=x) \\geq{} 0 \\;\\; \\forall{} \\;\\; x $\n",
    "##### $ \\hspace{0.15cm} $ ② $ \\int^{\\infty{}}_{-\\infty{}} f(X=x) \\text{dx} = 1 $\n",
    "##### $ \\hspace{0.15cm} $ ③ $ P(a \\leq{} X \\leq{} b) = P(a < X < b) = F(X=b) - F(X=a) = \\int^{b}_{a}f(X=x)\\text{dx} $\n",
    "##### $ \\hspace{0.15cm} $ ④ 집합 $ A $에 대하여 $ P(X\\in{}A) = \\int_{x\\in{}A}f(X=x)\\text{dx} $"
   ]
  },
  {
   "cell_type": "markdown",
   "metadata": {},
   "source": [
    "#### **(3) 예시** : \n",
    "##### $ \\hspace{0.15cm} $ ① 연속확률변수 $ X $ 에 대하여 아래와 같이 확률밀도함수가 정의될 때\n",
    "##### $ \\hspace{0.6cm} f(X=x) = \\begin{cases} \\frac{3}{14}(x^{2}-x), \\;\\; 1 < x < 3 \\\\ 0, \\;\\;\\;\\;\\;\\;\\;\\;\\;\\;\\;\\;\\;\\;\\;\\; x \\geq{} 3 \\;\\; \\text{or} \\;\\; x \\leq{} 1 \\end{cases} $\n",
    "<img src=\"../../img/04.1. Continuous Random Variables (4).png\" width=\"40%\" height=\"40%\"></img>\n",
    "##### $ \\hspace{0.15cm} $ ② **[CONTENTS]**"
   ]
  },
  {
   "cell_type": "markdown",
   "metadata": {},
   "source": [
    "<b></b>"
   ]
  },
  {
   "cell_type": "markdown",
   "metadata": {},
   "source": [
    "> ## **연속확률변수의 기댓값(Expected Value of Discrete Random Variable)**"
   ]
  },
  {
   "cell_type": "markdown",
   "metadata": {},
   "source": [
    "#### **(1) 정의** : 실험이나 과정이 무한히 반복할 때 얻을 수 있는 연속확률변수의 예상되는 값\n",
    "#### $ \\Rightarrow{} E[X] = E(X) = \\mu{} = \\int^{\\infty{}}_{-\\infty{}} x f(X=x) \\text{dx} $"
   ]
  },
  {
   "cell_type": "markdown",
   "metadata": {},
   "source": [
    "#### **(2) 성질** : (기대값의 선형성)\n",
    "##### $ \\hspace{0.15cm} $ ① $ E(aX+b) = aE(X) + b $\n",
    "##### $ \\hspace{0.15cm} $ ② $ E(X_{1}+X_{2}+\\cdots{}+X_{n}) = E(X_{1}) + E(X_{2}) + \\cdots{} + E(X_{n}) $"
   ]
  },
  {
   "cell_type": "markdown",
   "metadata": {},
   "source": [
    "##### **(`WHY?`)** CH04.3. 참고"
   ]
  },
  {
   "cell_type": "markdown",
   "metadata": {},
   "source": [
    "<b></b>"
   ]
  },
  {
   "cell_type": "markdown",
   "metadata": {},
   "source": [
    "> ## **연속확률변수의 분산(Variance of Continuous Random Variable)**"
   ]
  },
  {
   "cell_type": "markdown",
   "metadata": {},
   "source": [
    "#### **(1) 정의** : 기댓값으로부터 얼마나 떨어져 있는지를 측정한 값(지표)\n",
    "#### $ \\Rightarrow{} \\text{var}(X) = E[(X-E(X))^{2}] =  \\int^{\\infty{}}_{-\\infty{}} (x-E(X))^{2} f(X=x) \\text{dx} $\n",
    "#### $ \\hspace{1.625cm} = E[X^{2} - 2E(X)\\cdot{}X + E(X)^{2}] $\n",
    "#### $ \\hspace{1.625cm} = E[X^{2}] - 2E[X\\cdot{}E(X)] + E[E(X)^{2}] $\n",
    "#### $ \\hspace{1.625cm} = E[X^{2}] - 2E(X)E[X] + E(X)^{2} \\;\\; $ ($ \\because{} E(X) \\; $ is constant)\n",
    "#### $ \\hspace{1.625cm} = E[X^{2}] - 2E(X)^{2} + E(X)^{2} $\n",
    "#### $ \\hspace{1.625cm} = E[X^{2}] - E(X)^{2} $"
   ]
  },
  {
   "cell_type": "markdown",
   "metadata": {},
   "source": [
    "##### **(`PLUS`) 표준편차** : 분산은 제곱에 따른 단위 왜곡이 일어나 이를 보정한($ \\sqrt{} $를 취한) 값\n",
    "##### $ \\Rightarrow{} \\text{std}(X) = \\sqrt{\\text{var}(X)} = \\sqrt{E[(X-E(X))^{2}]} $"
   ]
  },
  {
   "cell_type": "markdown",
   "metadata": {},
   "source": [
    "#### **(2) 성질** :\n",
    "##### $ \\hspace{0.15cm} $ ① $ \\text{var}(aX+b) = a^{2}\\text{var}(X) $\n",
    "##### $ \\hspace{0.15cm} $ ② **독립적인** 연속확률변수 $ X_{i} \\;\\; (i=1,2,\\cdots{},n)$ 에 대하여, \n",
    "##### $ \\hspace{0.6cm} \\text{var}(X_{1}+X_{2}+\\cdots{}+X_{n}) = \\text{var}(X_{1}) + \\text{var}(X_{2}) + \\cdots{} + \\text{var}(X_{n}) $"
   ]
  },
  {
   "cell_type": "markdown",
   "metadata": {},
   "source": [
    "##### **(`WHY?`)** CH04.4. 참고"
   ]
  },
  {
   "cell_type": "markdown",
   "metadata": {},
   "source": [
    "<b></b>"
   ]
  },
  {
   "cell_type": "markdown",
   "metadata": {},
   "source": [
    "> ## **연속확률변수의 합성함수(Composite Function of Continuous RV)**"
   ]
  },
  {
   "cell_type": "markdown",
   "metadata": {},
   "source": [
    "#### **(1) 정의** : 연속확률변수를 다른 실수 공간으로 대응시킨 **연속확률변수**\n",
    "#### $ \\Rightarrow{} Z = g \\circ{} X = g(X) : \\mathbb{R} \\rightarrow{} \\mathbb{R} $\n",
    "#### **[GRAPH]**"
   ]
  },
  {
   "cell_type": "markdown",
   "metadata": {},
   "source": [
    "#### **(2) 확률변수의 표현** : **[CONTENTS]**"
   ]
  },
  {
   "cell_type": "markdown",
   "metadata": {},
   "source": [
    "#### **(3) 구간 확률의 표현** : **[CONTENTS]**"
   ]
  },
  {
   "cell_type": "markdown",
   "metadata": {},
   "source": [
    "#### **(4) 기댓값** : (Theorem 4-2. 무의식적 통계학자의 법칙;LOTUS)\n",
    "#### 연속확률변수 $ \\; Y $ 가 확률변수 $ X $의 관계로 표현될 때\n",
    "#### $ \\Rightarrow{} E(Y) = E(Y(X)) = \\int^{\\infty{}}_{-\\infty{}} Y(X_{i}) f(X=x) \\text{dx} $"
   ]
  },
  {
   "cell_type": "markdown",
   "metadata": {},
   "source": [
    "#### **(5) 분산** : (Theorem 4-2. 무의식적 통계학자의 법칙;LOTUS)\n",
    "#### **[CONTENTS]**"
   ]
  }
 ],
 "metadata": {
  "kernelspec": {
   "display_name": "Python 3",
   "language": "python",
   "name": "python3"
  },
  "language_info": {
   "codemirror_mode": {
    "name": "ipython",
    "version": 3
   },
   "file_extension": ".py",
   "mimetype": "text/x-python",
   "name": "python",
   "nbconvert_exporter": "python",
   "pygments_lexer": "ipython3",
   "version": "3.8.18"
  },
  "orig_nbformat": 4
 },
 "nbformat": 4,
 "nbformat_minor": 2
}
