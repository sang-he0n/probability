{
 "cells": [
  {
   "attachments": {},
   "cell_type": "markdown",
   "metadata": {},
   "source": [
    "# CH03.2. **Discrete Random Variables**"
   ]
  },
  {
   "cell_type": "markdown",
   "metadata": {},
   "source": [
    "> ## **이산 확률 변수(Discrete Random Variable)**"
   ]
  },
  {
   "cell_type": "markdown",
   "metadata": {},
   "source": [
    "#### **(1) 정의** : 치역(range)이 **가산** 집합인 확률 변수\n",
    "#### $ \\Rightarrow{} X : \\Omega{} \\rightarrow{} \\mathbb{R} \\;\\; \\text{ where } \\; X(\\Omega{}) \\, \\text{ is countable set}. $\n",
    "<img src=\"../../img/03.2. Discrete Random Variables (1).png\" width=\"40%\" height=\"40%\"></img>"
   ]
  },
  {
   "cell_type": "markdown",
   "metadata": {},
   "source": [
    "<b></b>"
   ]
  },
  {
   "cell_type": "markdown",
   "metadata": {},
   "source": [
    "> ## **확률 질량 함수(Probability Mass Function;PMF)**"
   ]
  },
  {
   "cell_type": "markdown",
   "metadata": {},
   "source": [
    "#### **(1) 정의** : 이산 확률 변수를 확률과 대응시킨 함수\n",
    "#### $ \\Rightarrow{} P_{X}(x) = P(X=x) \\;\\; \\text{ where } \\; x \\in{}{} R_{X} $\n",
    "<img src=\"../../img/03.2. Discrete Random Variables (2).png\" width=\"50%\" height=\"50%\"></img>"
   ]
  },
  {
   "cell_type": "markdown",
   "metadata": {},
   "source": [
    "##### **(`PLUS`)** 이산 확률 변수의 정의역(codomain)을 실수로 확장하여 정의하기도 함\n",
    "##### $ \\hspace{0.15cm} \\Rightarrow{} P_{X}(x) = \\begin{cases} P_{X}(x) & \\text{if } \\; x \\in{}{} R_{X} \\\\ 0 & \\text{otherwise} \\end{cases} $"
   ]
  },
  {
   "cell_type": "markdown",
   "metadata": {},
   "source": [
    "#### **(2) 성질** :\n",
    "##### $ \\hspace{0.15cm} $ ① $ 0 \\leq{} P_{X}(x) \\leq{} 1 \\;\\; \\forall{}(\\text{for all}) \\; x $\n",
    "##### $ \\hspace{0.15cm} $ ② $ \\sum_{x\\in{}{}X(\\Omega{})} P_{X}(x) = 1 $\n",
    "##### $ \\hspace{0.15cm} $ ③ $ P(X\\in{}{}A) = \\sum_{x_{i}\\in{}{}A}P_{X}(x_{i}) \\;\\; \\text{ if } \\; A \\subset{} X(\\Omega{}) $\n",
    "##### $ \\hspace{0.15cm} $ ④ $ P(X\\in{}{}A) = \\sum_{x_{i}\\in{}{}(A\\cap{}X(\\Omega{}))}P_{X}(x_{i}) \\;\\; \\text{ if } \\; A \\subset{} \\mathbb{R} $"
   ]
  },
  {
   "cell_type": "markdown",
   "metadata": {},
   "source": [
    "#### **(3) 예시** : \n",
    "##### $ \\hspace{0.15cm} $ ① 동전을 $ 2 $번 던졌을 때 앞면이 나오는 개수를 확률 변수 $ X $라고 할 때 그 확률 밀도 함수를 정의한다면\n",
    "##### $ \\hspace{0.45cm} \\Omega{} = \\{ (\\text{H,H}), (\\text{H,T}), (\\text{T,H}), (\\text{T,T}) \\} $\n",
    "##### $ \\hspace{0.45cm} X(\\omega{}_{i}, \\omega{}_{k}) = \\begin{cases} 0 & \\text{if } \\; \\omega{}_{i} = \\text{T} \\; \\text{ and } \\; \\omega{}_{k} = \\text{T} \\\\ 1 & \\text{if } \\; \\omega{}_{i} = \\text{H} \\; \\text{ or } \\; \\omega{}_{k} = \\text{H} \\\\ 2 & \\text{if } \\; \\omega{}_{i} = \\text{H} \\; \\text{ and } \\; \\omega{}_{k} = \\text{H} \\end{cases} $\n",
    "##### $ \\hspace{0.45cm} X(\\Omega{}) = \\{ 0, 1, 2 \\} $\n",
    "##### $ \\hspace{0.45cm} \\therefore{} P_{X}(x) = \\begin{cases} \\frac{1}{4} & \\text{if } \\; x = 0 \\\\ \\frac{2}{4} & \\text{if } \\; x = 1 \\\\ \\frac{1}{4} & \\text{if } \\; x=2 \\\\ 0 & \\text{otherwise} \\end{cases} $\n",
    "##### $ \\hspace{0.45cm} $ <img src=\"../../img/03.2. Discrete Random Variables (3).png\" width=\"40%\" height=\"40%\"></img>\n",
    "##### $ \\hspace{0.15cm} $ ② **[CONTENTS]**"
   ]
  },
  {
   "cell_type": "markdown",
   "metadata": {},
   "source": [
    "<b></b>"
   ]
  },
  {
   "cell_type": "markdown",
   "metadata": {},
   "source": [
    "> ## **누적 분포 함수(Cumulative Distribution Function)**"
   ]
  },
  {
   "cell_type": "markdown",
   "metadata": {},
   "source": [
    "#### **(1) 정의** : 확률 변수의 값이 특정 값 **이하**일 확률을 나타내는 함수\n",
    "#### $ \\Rightarrow{} F_{X}(x) = P(X\\leq{}x) = \\sum_{i \\leq{} x} P_{X}(i) $"
   ]
  },
  {
   "cell_type": "markdown",
   "metadata": {},
   "source": [
    "#### **(2) 성질** :\n",
    "##### $ \\hspace{0.15cm} $ ① $ \\displaystyle{} \\lim_{x \\rightarrow{} \\infty{}} F_{X}(x) = 1 $\n",
    "##### $ \\hspace{0.15cm} $ ② $ \\displaystyle{} \\lim_{x \\rightarrow{} -\\infty{}} F_{X}(x) = 0 $\n",
    "##### $ \\hspace{0.15cm} $ ③ $ P(a\\leq{}X\\leq{}b) = \\sum_{a\\leq{}x\\leq{}b} P_{X}(x) = F_{X}(b) - F_{X}(a) $\n",
    "##### $ \\hspace{0.15cm} $ ④ $ F(x < a) = F_{X}(a) - P_{X}(a) $"
   ]
  },
  {
   "cell_type": "markdown",
   "metadata": {},
   "source": [
    "#### **(3) 예시** : \n",
    "##### $ \\hspace{0.15cm} $ ① 공평한 동전을 $ 2 $번 던졌을 때 앞면이 나오는 개수를 확률 변수 $ X $라고 정의할 때 그 누적 분포 함수를 정의하고자 한다면\n",
    "##### $ \\hspace{0.45cm} P_{X}(x) = \\begin{cases} \\frac{1}{4} & \\text{if } \\; x = 0 \\\\ \\frac{2}{4} & \\text{if } \\; x = 1 \\\\ \\frac{1}{4} & \\text{if } \\; x=2 \\\\ 0 & \\text{ otherwise} \\end{cases} $\n",
    "##### $ \\hspace{0.45cm} \\therefore{} F_{X}(x) = \\begin{cases} 0 & \\text{if } \\; x < 0 \\\\ \\frac{1}{4} & \\text{if } \\; 0 \\leq{} x < 1 \\\\ \\frac{3}{4} & \\text{if } \\; 1 \\leq{} x < 2 \\\\ 1 & \\text{if } \\; x \\geq{} 2 \\end{cases} $\n",
    "##### $ \\hspace{0.45cm} $ <img src=\"../../img/03.2. Discrete Random Variables (4).png\" width=\"40%\" height=\"40%\"></img>\n",
    "##### $ \\hspace{0.15cm} $ ② **[CONTENTS]**"
   ]
  },
  {
   "cell_type": "markdown",
   "metadata": {},
   "source": [
    "<b></b>"
   ]
  },
  {
   "cell_type": "markdown",
   "metadata": {},
   "source": [
    "> ## **이산 확률 변수의 기댓값(Expected Value of Discrete Random Variable)**"
   ]
  },
  {
   "cell_type": "markdown",
   "metadata": {},
   "source": [
    "#### **(1) 정의** : 실험이나 과정이 무한히 반복할 때 이산 확률 변수의 **예상되는 값**\n",
    "#### $ = $ 확률을 가중치로한 확률 변수의 가중합\n",
    "#### $ \\Rightarrow{} \\text{E}[X] = \\sum_{x_{i}\\in{}{}R_{X}} x_{i} \\times{} P_{X}(x_{i}) $"
   ]
  },
  {
   "cell_type": "markdown",
   "metadata": {},
   "source": [
    "##### **(`PLUS`)** 기댓값은 함수를 입력으로 받아서 값으로 반환하는 연산자인 함수형(functional)이기에 각괄호($ [] $)를 사용함"
   ]
  },
  {
   "cell_type": "markdown",
   "metadata": {},
   "source": [
    "#### **(2) 성질** (Theorem 3-1. 기대값의 선형성) :\n",
    "##### $ \\hspace{0.15cm} $ ① $ \\text{E}[aX+b] = a\\text{E}[X] + b $\n",
    "##### $ \\hspace{0.15cm} $ ② $ \\text{E}[X_{1}+X_{2}+\\cdots{}+X_{n}] = \\text{E}[X_{1}] + \\text{E}[X_{2}] + \\cdots{} + \\text{E}[X_{n}] $"
   ]
  },
  {
   "cell_type": "markdown",
   "metadata": {},
   "source": [
    "<b></b>"
   ]
  },
  {
   "cell_type": "markdown",
   "metadata": {},
   "source": [
    "> ## **이산 확률 변수의 분산(Variance of Discrete Random Variable)**"
   ]
  },
  {
   "cell_type": "markdown",
   "metadata": {},
   "source": [
    "#### **(1) 정의** : 기대값으로부터 얼마나 떨어져 있는지를 평균적으로 측정한 값\n",
    "#### $ \\Rightarrow{} \\text{var}[X] = \\text{E}[(X-E[X])^{2}] = \\text{E}[X^{2}] - (E[X])^{2} $"
   ]
  },
  {
   "cell_type": "markdown",
   "metadata": {},
   "source": [
    "##### **(`PLUS`) 표준편차** : 분산에서 제곱 연산에 따른 단위 왜곡이 일어나는 오류를 보정한 값\n",
    "##### $ \\hspace{0.15cm} \\Rightarrow{} \\text{std}(X) = \\sqrt{\\text{var}[X]} $"
   ]
  },
  {
   "cell_type": "markdown",
   "metadata": {},
   "source": [
    "#### **(2) 성질** :\n",
    "##### $ \\hspace{0.15cm} $ ① $ \\text{var}[aX+b] = a^{2} \\text{var}[X] $\n",
    "##### $ \\hspace{0.15cm} $ ② $ \\text{var}[X_{1}+X_{2}+\\cdots{}+X_{n}] = \\text{var}[X_{1}] + \\text{var}[X_{2}] + \\cdots{} + \\text{var}[X_{n}] \\;\\; \\text{ if } \\; X_{i} \\, \\text{ is independent}. $ "
   ]
  },
  {
   "cell_type": "markdown",
   "metadata": {},
   "source": [
    "<b></b>"
   ]
  },
  {
   "cell_type": "markdown",
   "metadata": {},
   "source": [
    "> ## **이산 확률 변수의 합성함수(Composite Function of Discrete Random Variable)**"
   ]
  },
  {
   "cell_type": "markdown",
   "metadata": {},
   "source": [
    "#### **(1) 정의** : 어떠한 이산 확률 변수를 다른 실수 공간으로 대응시킨 함수(이산 확률 변수)\n",
    "#### $ \\Rightarrow{} Z = g \\circ{} X = g(X) : \\mathbb{R} \\rightarrow{} \\mathbb{R} $\n",
    "<img src=\"../../img/03.2. Discrete Random Variables (5).png\" width=\"50%\" height=\"50%\"></img>"
   ]
  },
  {
   "cell_type": "markdown",
   "metadata": {},
   "source": [
    "#### **(2) 기댓값** (Theorem 3-2. 무의식적인 통계학자의 법칙) :\n",
    "#### $ \\Rightarrow{} E[Y] = E[g(X)] = \\sum_{x_{i}\\in{}{}R_{X}} g(x_{i})P_{X}(x_{i}) \\;\\; \\text{ where } \\, Y = g(X) $ "
   ]
  },
  {
   "cell_type": "markdown",
   "metadata": {},
   "source": [
    "#### **(3) 분산** (Theorem 3-2. 무의식적인 통계학자의 법칙) :\n",
    "#### $ \\Rightarrow{} \\text{var}[Y] = E[(Y-E[Y])^{2}] = E(Y^{2}) - (E[Y])^{2}  $\n",
    "#### $ \\hspace{1.55cm} = E[(g(X))^{2}] - (E[g(X)])^{2} $"
   ]
  }
 ],
 "metadata": {
  "kernelspec": {
   "display_name": "Python 3",
   "language": "python",
   "name": "python3"
  },
  "language_info": {
   "codemirror_mode": {
    "name": "ipython",
    "version": 3
   },
   "file_extension": ".py",
   "mimetype": "text/x-python",
   "name": "python",
   "nbconvert_exporter": "python",
   "pygments_lexer": "ipython3",
   "version": "3.8.18"
  },
  "orig_nbformat": 4
 },
 "nbformat": 4,
 "nbformat_minor": 2
}
