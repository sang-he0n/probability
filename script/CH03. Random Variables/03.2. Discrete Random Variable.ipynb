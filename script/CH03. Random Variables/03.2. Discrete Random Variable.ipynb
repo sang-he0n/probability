{
 "cells": [
  {
   "attachments": {},
   "cell_type": "markdown",
   "metadata": {},
   "source": [
    "# CH03.2. **Discrete Random Variables**"
   ]
  },
  {
   "cell_type": "markdown",
   "metadata": {},
   "source": [
    "> ## **이산확률변수(Discrete Random Variable)**"
   ]
  },
  {
   "cell_type": "markdown",
   "metadata": {},
   "source": [
    "#### **(1) 정의** : 치역이 가산 집합인 확률 변수\n",
    "#### $\\Rightarrow{} X : S \\rightarrow{} \\mathbb{R} \\;\\; \\text{ where } \\, R_{X} \\, \\text{ is countable} $"
   ]
  },
  {
   "cell_type": "markdown",
   "metadata": {},
   "source": [
    "##### **(`PLUS`)** 표본 공간은 가산집 혹은 불가산 집합인지 상관 없음 "
   ]
  },
  {
   "cell_type": "markdown",
   "metadata": {},
   "source": [
    "#### **(2) 사건의 표현** : \n",
    "#### 어떠한 가산 사건 $A = \\{ s_{1}, s_{2}, \\cdots{}, s_{5} \\} $을 확률변수 $X $로 표현하면\n",
    "<img src=\"../../img/03.2. Discrete Random Variables (1).png\" width=\"25%\" height=\"25%\"></img>\n",
    "#### $\\hspace{0.15cm} \\cdot{} \\, A = \\begin{cases} \\{s_{1}, s_{2} \\} &= \\{ X=x_{1} \\} \\\\ \\{s_{3} \\} &= \\{ X=x_{2} \\} \\\\ \\{s_{4}, s_{5} \\} &= \\{ X=x_{3} \\} \\end{cases} $\n",
    "#### $\\hspace{0.675cm} = \\{ X = x_{1} \\} \\cup{} \\{ X = x_{2} \\} \\cup{} \\{ X = x_{3} \\} $\n",
    "#### $\\hspace{0.15cm} \\therefore{} \\, A = \\{ x_{i} \\; | \\; x_{i} \\in{} \\{ x_{1}, x_{2}, x_{3} \\} \\} = R_{X} $"
   ]
  },
  {
   "cell_type": "markdown",
   "metadata": {},
   "source": [
    "##### **(`PLUS`)** $i \\neq{} k $일 때 $\\{ X = x_{i} \\} $와 $\\{ X = x_{k} \\} $는 서로소(disjoint) 관계임"
   ]
  },
  {
   "cell_type": "markdown",
   "metadata": {},
   "source": [
    "<b></b>"
   ]
  },
  {
   "cell_type": "markdown",
   "metadata": {},
   "source": [
    "> ## **확률질량함수(Probability Mass Function)**"
   ]
  },
  {
   "cell_type": "markdown",
   "metadata": {},
   "source": [
    "#### **(1) 정의** : 이산확률변수를 확률값과 대응시킨 함수\n",
    "#### $\\Rightarrow{} P_{X}(x) = P(X=x) \\;\\; \\text{ where } \\, x \\in{} R_{X} $"
   ]
  },
  {
   "cell_type": "markdown",
   "metadata": {},
   "source": [
    "##### **(`PLUS`)** 편의상 이산확률변수의 전체 정의역(domain; $\\mathbb{R} $)을 기준으로 확률질량함수를 정의하기도 함\n",
    "##### $\\hspace{0.15cm} \\Rightarrow{} P(X=x) = \\begin{cases} P(X=x), \\;\\; x \\in{} R_{X} \\\\ 0,\\;\\;\\;\\;\\;\\;\\;\\;\\;\\;\\;\\;\\;\\;\\;\\; x \\not\\in{} R_{X} \\end{cases}$"
   ]
  },
  {
   "cell_type": "markdown",
   "metadata": {},
   "source": [
    "#### **(2) 확률의 표현** : \n",
    "#### 어떠한 가산 사건 $A = \\{ s_{1}, s_{2}, \\cdots{}, s_{5} \\} $을 확률변수 $X $로 표현하면\n",
    "<img src=\"../../img/03.2. Discrete Random Variables (2).png\" width=\"40%\" height=\"40%\"></img>\n",
    "#### $\\hspace{0.15cm} $① 점(point) 확률의 표현\n",
    "#### $\\hspace{0.5cm} \\cdot{} \\, P(X=x_{1}) = P(\\{ X=x_{1} \\}) = P(\\{s_{1}, s_{2} \\}) $\n",
    "#### $\\hspace{0.5cm} \\cdot{} \\, P(X=x_{2}) = P(\\{ X=x_{2} \\}) = P(\\{s_{3} \\}) $\n",
    "#### $\\hspace{0.5cm} \\cdot{} \\, P(X=x_{3}) = P(\\{ X=x_{3} \\}) = P(\\{s_{4}, s_{5} \\}) $"
   ]
  },
  {
   "cell_type": "markdown",
   "metadata": {},
   "source": [
    "#### **(3) 성질(조건)** :\n",
    "##### $\\hspace{0.15cm} $① $0 \\leq{} P(X=x) \\leq{} 1 \\;\\; \\forall{}(\\text{for all}) \\; x $\n",
    "##### $\\hspace{0.15cm} $② $\\sum_{x\\in{}R_{X}} P(X=x) = 1 $\n",
    "##### $\\hspace{0.15cm} $③ 어떠한 부분집합 $A \\subset{} R_{X} $을 만족할 때, $P(X\\in{}A) = \\sum_{x_{i}\\in{}A}P(X=x_{i}) $\n",
    "##### $\\hspace{0.15cm} $④ 어떠한 부분집합 $A \\subset{} \\mathbb{R} $을 만족할 때, $P(X\\in{}A) = \\sum_{x_{i}\\in{}(A\\cap{}R_{X})}P(X=x_{i}) $"
   ]
  },
  {
   "cell_type": "markdown",
   "metadata": {},
   "source": [
    "#### **(4) 예시** : \n",
    "##### $\\hspace{0.15cm} $① 공평한 동전을 $2 $번 던졌을 때 나오는 표본 공간 $S $와 앞면이 나오는 개수를 확률 변수 $X $라고 정의한다면\n",
    "##### $\\hspace{0.45cm} \\cdot{} \\, S = \\{ \\text{HH}, \\text{HT}, \\text{TH}, \\text{TT} \\} $\n",
    "##### $\\hspace{0.45cm} \\cdot{} \\, X = \\{ 0, 1, 2 \\} $\n",
    "##### $\\hspace{0.45cm} \\therefore{} \\, P(X=x) = \\begin{cases} P(X=0) = P(\\{HH\\}) = {{1}\\over{4}}, \\;\\;\\;\\;\\;\\;\\;\\;\\;\\; x = 0 \\\\ P(X=1) = P(\\{HT,\\; TH\\}) = {{2}\\over{4}},\\;\\; x = 1 \\\\ P(X=2) = P(\\{TT\\}) = {{1}\\over{4}}, \\;\\;\\;\\;\\;\\;\\;\\;\\;\\;\\;\\; x=2 \\\\ 0, \\;\\;\\;\\;\\;\\;\\;\\;\\;\\;\\;\\;\\;\\;\\;\\;\\;\\;\\;\\;\\;\\;\\;\\;\\;\\;\\;\\;\\;\\;\\;\\;\\;\\;\\;\\;\\;\\;\\;\\;\\;\\;\\;\\;\\;\\;\\;\\;\\;\\;\\; x \\not\\in{} \\{ 0,\\; 1,\\; 2 \\} \\end{cases} $\n",
    "<img src=\"../../img/03.2. Discrete Random Variables (3).png\" width=\"40%\" height=\"40%\"></img>"
   ]
  },
  {
   "cell_type": "markdown",
   "metadata": {},
   "source": [
    "##### **(`PLUS`)** 이 때 앞면이 나올 횟수가 $0 $과 $1 $사이일 확률은?\n",
    "##### $\\hspace{0.15cm} \\therefore{} P(0 \\leq{} X \\leq{} 1 ) = P(X=1) + P(X=2) = {{1}\\over{4}} + {{2}\\over{4}} = {{3}\\over{4}}$"
   ]
  },
  {
   "cell_type": "markdown",
   "metadata": {},
   "source": [
    "##### $\\hspace{0.15cm} $② **[CONTENTS]**"
   ]
  },
  {
   "cell_type": "markdown",
   "metadata": {},
   "source": [
    "<b></b>"
   ]
  },
  {
   "cell_type": "markdown",
   "metadata": {},
   "source": [
    "> ## **누적분포함수(Cumulative Distribution Function)**"
   ]
  },
  {
   "cell_type": "markdown",
   "metadata": {},
   "source": [
    "#### **(1) 정의** : 확률변수의 값이 특정 값 **이하**일 확률을 나타내는 함수\n",
    "#### $\\Rightarrow{} F(X=x) = P(X\\leq{}x) = \\sum_{i \\leq{} x} P(X=i) $"
   ]
  },
  {
   "cell_type": "markdown",
   "metadata": {},
   "source": [
    "#### **(2) 성질(조건)** :\n",
    "##### $\\hspace{0.15cm} $① $\\lim_{x \\rightarrow{} \\infty{}} F(X=x) = 1 $\n",
    "##### $\\hspace{0.15cm} $② $\\lim_{x \\rightarrow{} -\\infty{}} F(X=x) = 0 $\n",
    "##### $\\hspace{0.15cm} $③ $\\; P(a\\leq{}X\\leq{}b) = \\sum_{a\\leq{}x\\leq{}b} P(X=x) = F(X=b) - F(X=a) $\n",
    "##### $\\hspace{0.15cm} $④ $\\; F(x < a) = F(X=a) - P(X=a) $"
   ]
  },
  {
   "cell_type": "markdown",
   "metadata": {},
   "source": [
    "#### **(3) 예시** : \n",
    "##### $\\hspace{0.15cm} $① 공평한 동전을 $2 $번 던졌을 때 나오는 표본 공간 $S $와 앞면이 나오는 개수를 확률 변수 $X $라고 정의한다면\n",
    "##### $\\hspace{0.45cm} \\cdot{} \\, P(X=x) = \\begin{cases} {{1}\\over{4}}, \\;\\; x = 0 \\\\ {{2}\\over{4}},\\;\\; x = 1 \\\\ {{1}\\over{4}}, \\;\\; x=2 \\\\ 0, \\;\\; x \\not\\in{} \\{ 0,\\; 1,\\; 2 \\} \\end{cases} $\n",
    "##### $\\hspace{0.45cm} \\therefore{} F(X=x) = \\begin{cases} 0, \\;\\; x < 0 \\\\ {{1}\\over{4}}, \\;\\; 0 \\leq{} x < 1 \\\\ {{3}\\over{4}}, \\;\\; 1 \\leq{} x < 2 \\\\ 1, \\;\\; x \\geq{} 2 \\end{cases} $\n",
    "<img src=\"../../img/03.2. Discrete Random Variables (4).png\" width=\"40%\" height=\"40%\"></img>\n",
    "##### $\\hspace{0.15cm} $② **[CONTENTS]**"
   ]
  },
  {
   "cell_type": "markdown",
   "metadata": {},
   "source": [
    "<b></b>"
   ]
  },
  {
   "cell_type": "markdown",
   "metadata": {},
   "source": [
    "> ## **이산확률변수의 기댓값(Expected Value of Discrete Random Variable)**"
   ]
  },
  {
   "cell_type": "markdown",
   "metadata": {},
   "source": [
    "#### **(1) 정의** : 실험이나 과정이 무한히 반복할 때 이산확률변수의 **예상되는 값**\n",
    "#### $\\Rightarrow{} E[X] = E(X) = \\mu{} = \\sum_{x_{i}\\in{}R_{X}} x_{i} \\times{} P(X=x_{i}) $"
   ]
  },
  {
   "cell_type": "markdown",
   "metadata": {},
   "source": [
    "#### **(2) 성질** : (기대값의 선형성)\n",
    "##### $\\hspace{0.15cm} $① $E(aX+b) = aE(X) + b $\n",
    "##### $\\hspace{0.15cm} $② $E(X_{1}+X_{2}+\\cdots{}+X_{n}) = E(X_{1}) + E(X_{2}) + \\cdots{} + E(X_{n}) $"
   ]
  },
  {
   "cell_type": "markdown",
   "metadata": {},
   "source": [
    "##### **(`WHY?`)** CH04.2. 참고"
   ]
  },
  {
   "cell_type": "markdown",
   "metadata": {},
   "source": [
    "<b></b>"
   ]
  },
  {
   "cell_type": "markdown",
   "metadata": {},
   "source": [
    "> ## **이산확률변수의 분산(Variance of Discrete Random Variable)**"
   ]
  },
  {
   "cell_type": "markdown",
   "metadata": {},
   "source": [
    "#### **(1) 정의** : 기대값으로부터 얼마나 떨어져 있는지를 측정한 값(지표)\n",
    "#### $\\Rightarrow{} \\text{var}(X) = E[(X-E(X))^{2}] $\n",
    "#### $\\hspace{1.625cm} = E[X^{2} - 2E(X)\\cdot{}X + E(X)^{2}] $\n",
    "#### $\\hspace{1.625cm} = E[X^{2}] - 2E[X\\cdot{}E(X)] + E[E(X)^{2}] $\n",
    "#### $\\hspace{1.625cm} = E[X^{2}] - 2E(X)E(X) + E(X)^{2} \\;\\; $($\\because{} E(X) \\, \\text{ is constant.} $)\n",
    "#### $\\hspace{1.625cm} = E[X^{2}] - 2E(X)^{2} + E(X)^{2} $\n",
    "#### $\\hspace{1.625cm} = E[X^{2}] - E(X)^{2} $"
   ]
  },
  {
   "cell_type": "markdown",
   "metadata": {},
   "source": [
    "#### **(`PLUS`) 표준편차** : 분산은 제곱에 따른 단위 왜곡이 일어나 이를 보정한($\\sqrt{} $를 취한) 값\n",
    "#### $\\Rightarrow{} \\text{std}(X) = \\sqrt{\\text{var}(X)} = \\sqrt{E[(X-E(X))^{2}]} $"
   ]
  },
  {
   "cell_type": "markdown",
   "metadata": {},
   "source": [
    "#### **(2) 성질** :\n",
    "##### $\\hspace{0.15cm} $① $\\text{var}(aX+b) = a^{2} \\text{var}(X) $\n",
    "##### $\\hspace{0.15cm} $② **독립적인** 이산확률변수 $X_{i} \\, (i=1,2,\\cdots{},n)$에 대하여, \n",
    "##### $\\hspace{0.6cm} \\text{var}(X_{1}+X_{2}+\\cdots{}+X_{n}) = \\text{var}(X_{1}) + \\text{var}(X_{2}) + \\cdots{} + \\text{var}(X_{n}) $"
   ]
  },
  {
   "cell_type": "markdown",
   "metadata": {},
   "source": [
    "##### **(`WHY?`)** CH04.4. 참고"
   ]
  },
  {
   "cell_type": "markdown",
   "metadata": {},
   "source": [
    "<b></b>"
   ]
  },
  {
   "cell_type": "markdown",
   "metadata": {},
   "source": [
    "> ## **이산확률변수의 합성함수(Composite Function of Discrete Random Variable)**"
   ]
  },
  {
   "cell_type": "markdown",
   "metadata": {},
   "source": [
    "#### **(1) 정의** : 이산확률변수를 다른 실수 공간으로 대응시킨 **이산확률변수**\n",
    "#### $\\Rightarrow{} Z = g \\circ{} X = g(X) : \\mathbb{R} \\rightarrow{} \\mathbb{R} $"
   ]
  },
  {
   "cell_type": "markdown",
   "metadata": {},
   "source": [
    "#### **(2) 확률변수의 표현** :\n",
    "<img src=\"../../img/03.2. Discrete Random Variables (5).png\" width=\"40%\" height=\"40%\"></img>\n",
    "#### $\\hspace{0.15cm} \\{ Y \\; | \\; Y=y_{1} \\} = \\{ x_{1}, x_{2} \\} = \\{s_{1}, s_{2}, s_{3} \\} $\n",
    "#### $\\hspace{0.15cm} \\{ Y \\; | \\; Y=y_{2} \\} = \\{ x_{3} \\} = \\{s_{4}, s_{5} \\} $"
   ]
  },
  {
   "cell_type": "markdown",
   "metadata": {},
   "source": [
    "#### **(3) 점 확률의 표현** :\n",
    "#### $P(Y=y_{k}) = P(g(X)=y_{k}) $\n",
    "#### $\\hspace{1.725cm} = \\sum_{x_{i}:g(X) = y_{k} } P(X=x_{i}) $"
   ]
  },
  {
   "cell_type": "markdown",
   "metadata": {},
   "source": [
    "#### **(4) 기댓값** : (Theorem 3-2. 무의식적 통계학자의 법칙;LOTUS)\n",
    "#### 이산확률변수 $Y $가 이산확률변수 $X $의 관계로 표현될 때, 즉 $Y = g(X) $일 때 \n",
    "#### $\\Rightarrow{} E(Y) = E(g(X)) = \\sum_{x_{i}\\in{}R_{X}} g(X_{i})P(X=x_{i}) $"
   ]
  },
  {
   "cell_type": "markdown",
   "metadata": {},
   "source": [
    "#### **(5) 분산** : (Theorem 3-2. 무의식적 통계학자의 법칙;LOTUS)\n",
    "#### 이산확률변수 $Y $가 이산확률변수 $X $의 관계로 표현될 때, 즉 $Y = g(X) $일 때 \n",
    "#### $\\Rightarrow{} \\text{var}(Y) = E[(Y-E(Y))^{2}] = E(Y^{2}) - (E(Y))^{2} $\n",
    "#### $\\hspace{1.6cm} = E((g(X))^{2}) - (E(g(X)))^{2} $"
   ]
  }
 ],
 "metadata": {
  "kernelspec": {
   "display_name": "Python 3",
   "language": "python",
   "name": "python3"
  },
  "language_info": {
   "codemirror_mode": {
    "name": "ipython",
    "version": 3
   },
   "file_extension": ".py",
   "mimetype": "text/x-python",
   "name": "python",
   "nbconvert_exporter": "python",
   "pygments_lexer": "ipython3",
   "version": "3.8.18"
  },
  "orig_nbformat": 4
 },
 "nbformat": 4,
 "nbformat_minor": 2
}
