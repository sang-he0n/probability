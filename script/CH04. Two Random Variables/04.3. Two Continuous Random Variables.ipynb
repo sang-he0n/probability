{
 "cells": [
  {
   "attachments": {},
   "cell_type": "markdown",
   "metadata": {},
   "source": [
    "# CH04.3. **Two Continous Random Variables**"
   ]
  },
  {
   "cell_type": "markdown",
   "metadata": {},
   "source": [
    "> ## **연속결합확률변수(Continuous Joint Random Variable; Discrete Joint RV)**"
   ]
  },
  {
   "cell_type": "markdown",
   "metadata": {},
   "source": [
    "#### **(1) 정의** : **[CONTENTS]**\n",
    "#### $ \\Rightarrow{} $ **[LATEX]**"
   ]
  },
  {
   "cell_type": "markdown",
   "metadata": {},
   "source": [
    "#### **(2) 사건의 표현** : \n",
    "#### **[CONTENTS]**\n",
    "<img src=\"../../img/05.1. Two Random Variables (2).png\" width=\"40%\" height=\"40%\"></img>\n",
    "#### $ \\hspace{0.45cm} $ **[LATEX]**"
   ]
  },
  {
   "cell_type": "markdown",
   "metadata": {},
   "source": [
    "<b></b>"
   ]
  },
  {
   "cell_type": "markdown",
   "metadata": {},
   "source": [
    "> ## **결합 확률밀도함수(Joint Probability Density Function; Joint PDF)**"
   ]
  },
  {
   "cell_type": "markdown",
   "metadata": {},
   "source": [
    "#### **(1) 정의** : 결합연속확률변수를 **확률의 밀도**와 대응시킨 함수\n",
    "#### $ \\Rightarrow{} f(X=x,\\; Y=y) = \\frac{\\partial{}^{2}}{\\partial{}x \\partial{}y} F(X=x,\\; Y=y) $ "
   ]
  },
  {
   "cell_type": "markdown",
   "metadata": {},
   "source": [
    "#### **(2) 확률의 표현** : \n",
    "<img src=\"../../img/05.3. Two Continuous Random Variables (2).png\" width=\"50%\" height=\"50%\"></img>\n",
    "#### **[CONTENTS]**"
   ]
  },
  {
   "cell_type": "markdown",
   "metadata": {},
   "source": [
    "##### **(`PLUS`) 확률의 기하학적 이해** : 부피(volume)\n",
    "<img src=\"../../img/05.3. Two Continuous Random Variables (3).png\" width=\"40%\" height=\"40%\"></img>"
   ]
  },
  {
   "cell_type": "markdown",
   "metadata": {},
   "source": [
    "#### **(3) 성질** :\n",
    "##### $ \\hspace{0.15cm} $ ① $ 0 \\leq{} P(X=x, Y=y) \\leq{} 1 \\;\\; \\forall{} \\; x,\\; y $\n",
    "##### $ \\hspace{0.15cm} $ ② $ \\int^{\\infty{}}_{-\\infty{}} \\int^{\\infty{}}_{-\\infty{}} f(X=x,\\; Y=y) \\text{dx}\\text{dy} = \\int{} \\int_{(X,\\;Y)(S)} f(X=x,\\; Y=y) \\text{dx}\\text{dy} = 1 $"
   ]
  },
  {
   "cell_type": "markdown",
   "metadata": {},
   "source": [
    "#### **(4) 주변 확률밀도함수(Marginal PDF)** : **하나의 확률변수에 대해** 다른 확률변수 관계없이 정의하는 함수\n",
    "##### $ \\hspace{0.15cm} $ ① 확률변수 $ X $ 의 확률밀도함수 : $ f(X=x) = \\int^{\\infty{}}_{-\\infty{}} f(X=x, Y=y) \\text{dy} = \\int_{y\\in{}Y(S)} f(X=x, Y=y) \\text{dy} $\n",
    "##### $ \\hspace{0.15cm} $ ② 확률변수 $ Y $ 의 확률밀도함수 : $ f(Y=y) = \\int^{\\infty{}}_{-\\infty{}} f(X=x, Y=y) \\text{dx} = \\int_{x\\in{}X(S)} f(X=x, Y=y) \\text{dx} $"
   ]
  },
  {
   "cell_type": "markdown",
   "metadata": {},
   "source": [
    "#### **(5) 예제** :\n",
    "##### 연속확률변수 $ X, Y $ 에 대하여 아래와 같이 결합 확률밀도함수가 정의될 때\n",
    "##### $ f(X=x,Y=y) = \\begin{cases} 4x^{2}y+2y^{5}, \\;\\; 0 \\leq{}x\\leq{}1, \\;\\; 0\\leq{}y\\leq{}1 \\\\ 0, \\hspace{1.65cm} \\text{otherwise.} \\end{cases} $\n",
    "##### $ \\hspace{0.15cm} $ ① 확률 $ P(0.5\\leq{}X\\leq{}0.7, 0.2\\leq{}Y\\leq{}0.9) $ 의 값은?\n",
    "##### $ \\hspace{0.45cm} \\therefore{} \\int^{0.2}_{0.9} \\int^{0.7}_{0.5} f(X=x,Y=y) \\text{dx} \\text{dy} = $ **[LATEX]**\n",
    "##### $ \\hspace{0.15cm} $ ② 주변 확률밀도함수 $ f(X=x) $ 의 정의는?\n",
    "##### $ \\hspace{0.45cm} \\therefore{} f(X=x) = $ **[LATEX]**\n",
    "##### $ \\hspace{2.35cm} = 2x^{2} + \\frac{1}{3}, \\, 0 \\leq{} x \\leq{} 1 $ \n",
    "##### $ \\hspace{0.15cm} $ ③ 주변 확률밀도함수 $ f(Y=y) $ 의 정의는?\n",
    "##### $ \\hspace{0.45cm} \\therefore{} f(Y=y) = $ **[LATEX]**\n",
    "##### $ \\hspace{2.3cm} = \\frac{4}{3}y + 2y^{5}, \\, 0 \\leq{} y \\leq{} 1 $ "
   ]
  },
  {
   "cell_type": "markdown",
   "metadata": {},
   "source": [
    "<b></b>"
   ]
  },
  {
   "cell_type": "markdown",
   "metadata": {},
   "source": [
    "> ## **결합 누적밀도함수(Joint Cumulative Density Function; Joint CDF)**"
   ]
  },
  {
   "cell_type": "markdown",
   "metadata": {},
   "source": [
    "#### **(1) 정의** : **[CONTENTS]**\n",
    "#### $ \\Rightarrow{} F(X=x,\\; Y=y) = P(X\\leq{}x,\\; Y\\leq{}y) = \\int^{y}_{-\\infty{}} \\int^{x}_{-\\infty{}} f(X=x,\\; Y=y) \\text{dx}\\text{dy} $ "
   ]
  },
  {
   "cell_type": "markdown",
   "metadata": {},
   "source": [
    "#### **(2) 성질** :\n",
    "##### $ \\hspace{0.15cm} $ ① $ F(X\\leq{}\\infty{},\\; Y\\leq{}\\infty{}) = 1 $\n",
    "##### $ \\hspace{0.15cm} $ ② $ F(X\\leq{}-\\infty{},\\; Y\\leq{}y) = 0 $\n",
    "##### $ \\hspace{0.15cm} $ ③ $ F(X\\leq{}x,\\; Y\\leq{}-\\infty{}) = 0 $\n",
    "##### $ \\hspace{0.15cm} $ ④ $ F(X\\leq{}-\\infty{},\\; Y\\leq{}-\\infty{}) = 0 $"
   ]
  },
  {
   "cell_type": "markdown",
   "metadata": {},
   "source": [
    "#### **(3) 주변 누적분포함수(Marginal CDF)** : **하나의 확률변수에 대해** 다른 확률변수 관계없이 정의하는 함수\n",
    "##### $ \\hspace{0.15cm} $ ① 확률변수 $ X $ 의 누적분포함수 : $ F(X=x) = P(X\\leq{}x, Y\\leq{}\\infty{}) = \\sum_{y_{k}\\in{}Y(S)} P(X\\leq{}x, Y=y_{k}) = P(X\\leq{}x) $\n",
    "##### $ \\hspace{0.15cm} $ ② 확률변수 $ Y $ 의 누적분포함수 : $ F(Y=y) = P(X\\leq{}\\infty{}, Y\\leq{}y) = \\sum_{x_{i}\\in{}X(S)} P(X=x_{i}, Y\\leq{}y) = P(Y\\leq{}y) $"
   ]
  },
  {
   "cell_type": "markdown",
   "metadata": {},
   "source": [
    "<b></b>"
   ]
  },
  {
   "cell_type": "markdown",
   "metadata": {},
   "source": [
    "> ## **조건부 확률밀도함수(Conditional Probability Density Function)**"
   ]
  },
  {
   "cell_type": "markdown",
   "metadata": {},
   "source": [
    "#### **(1) 정의** : 결합 확률밀도함수에서 **하나의 확률변수가 특정 값을 취했을 때** 다른 확률변수에 대한 함수\n",
    "#### $ \\Rightarrow{} f_{X|Y}(x|y_{k}) = f(X=x|Y=y_{k}) = \\frac{f(X=x,\\; Y=y_{k})}{f(Y=y_{k})} = \\frac{f(\\{X=x\\} \\cap{} \\{Y=y_{k}\\})}{f(Y=y_{k})} \\;\\; \\text{ for any } \\; x \\in{} X(S), \\;\\; y_{k} \\in{} Y(S) $"
   ]
  },
  {
   "cell_type": "markdown",
   "metadata": {},
   "source": [
    "##### **(`WHY?`)**\n",
    "##### $ \\hspace{0.15cm} P(a\\leq{}X\\leq{}b|Y=c) = \\lim_{\\epsilon{}\\rightarrow{}0} P(a\\leq{}X\\leq{}b|c-\\epsilon{}\\leq{}Y\\leq{}c+\\epsilon{}) $\n",
    "##### $ \\hspace{3.4cm} = \\lim_{\\epsilon{}\\rightarrow{}0} \\frac{P(a\\leq{}X\\leq{}b,\\; c-\\epsilon{}\\leq{}Y\\leq{}c+\\epsilon{})}{P(c-\\epsilon{}\\leq{}Y\\leq{}c+\\epsilon{})} $\n",
    "##### $ \\hspace{3.4cm} = \\lim_{\\epsilon{}\\rightarrow{}0} \\frac{\\int^{b}_{a}\\int^{c+\\epsilon{}}_{c-\\epsilon{}}f(X=x,\\; Y=y) \\text{dy}\\text{dx}}{\\int^{\\infty{}}_{-\\infty{}}\\int^{c+\\epsilon{}}_{c-\\epsilon{}}f(X=x,\\; Y=y) \\text{dy}\\text{dx}} $\n",
    "##### $ \\hspace{3.4cm} \\approx{} \\lim_{\\epsilon{}\\rightarrow{}0} \\frac{\\int^{b}_{a}\\int^{c+\\epsilon{}}_{c-\\epsilon{}}f(X=x,\\; Y=c) \\text{dy}\\text{dx}}{\\int^{\\infty{}}_{-\\infty{}}\\int^{c+\\epsilon{}}_{c-\\epsilon{}}f(X=x,\\; Y=c) \\text{dy}\\text{dx}} $\n",
    "##### $ \\hspace{3.4cm} = \\lim_{\\epsilon{}\\rightarrow{}0} \\frac{\\int^{b}_{a}2\\epsilon{}f(X=x,\\; Y=c) \\text{dx}}{\\int^{\\infty{}}_{-\\infty{}}2\\epsilon{}f(X=x,\\; Y=c) \\text{dx}} \\;\\; $ ($ \\because{} c \\, \\text{ is constant}. $)\n",
    "##### $ \\hspace{3.4cm} = \\frac{\\int^{b}_{a}f(X=x,\\; Y=c) \\text{dx}}{\\int^{\\infty{}}_{-\\infty{}}f(X=x,\\; Y=c) \\text{dx}} $\n",
    "##### $ \\hspace{3.4cm} = \\int^{b}_{a} \\frac{f(X=x,\\; Y=c)}{f(Y=c)} \\text{dx} $"
   ]
  },
  {
   "cell_type": "markdown",
   "metadata": {},
   "source": [
    "#### **(2) 예시** :\n",
    "##### 연속확률변수 $ X, Y $ 에 대하여 아래와 같이 결합 확률밀도함수가 정의될 때\n",
    "##### $ f(X=x,\\;Y=y) = \\begin{cases} \\frac{6}{5}(x+y^{2}), \\;\\; 0 \\leq{}x\\leq{}1, \\;\\; 0\\leq{}y\\leq{}1 \\\\ 0, \\;\\;\\;\\;\\;\\;\\;\\;\\;\\;\\;\\;\\;\\;\\; \\text{otherwise.} \\end{cases} $\n",
    "##### $ \\hspace{0.15cm} $ ① 조건부 확률밀도함수 $ f(Y=y|X=0.5) $ 는?\n",
    "##### $ \\hspace{0.45cm} \\cdot{} \\, f(X=x) = \\int^{1}_{0}f(X=x, Y=y)\\text{dy} = \\int^{1}_{0}\\frac{6}{5}(x+y^{2})\\text{dy} $\n",
    "##### $ \\hspace{2.175cm} = \\frac{6}{5}(\\int^{1}_{0}x\\text{dy} + \\int^{1}_{0}y^{2}\\text{dy}) = \\frac{6}{5}( x(1-0) + \\begin{bmatrix} \\frac{y^{3}}{3}\\end{bmatrix}^{1}_{0}) = \\frac{6}{5}(x+\\frac{1}{3}) $\n",
    "##### $ \\hspace{0.45cm} \\therefore{} f(X=0.5,\\; Y=y) = \\frac{\\frac{6}{5}(\\frac{1}{2}+y^{2})}{\\frac{6}{5}(\\frac{1}{2}+\\frac{1}{3})} = \\frac{\\frac{1}{2}+y^{2}}{\\frac{1}{2}+\\frac{1}{3}} = \\frac{3}{5} + \\frac{6}{5}y^{2} $\n",
    "##### $ \\hspace{0.15cm} $ ② 확률 $ P(Y\\leq{}0.5|X=0.5) $ 의 값은?\n",
    "##### $ \\hspace{0.45cm} \\cdot{} \\, P(Y\\leq{}0.5|X=0.5) = \\int^{0.5}_{0} (\\frac{3}{5} + \\frac{6}{5}y^{2})\\text{dy} $\n",
    "##### $ \\hspace{0.45cm} $ **[LATEX]**"
   ]
  },
  {
   "cell_type": "markdown",
   "metadata": {},
   "source": [
    "<b></b>"
   ]
  },
  {
   "cell_type": "markdown",
   "metadata": {},
   "source": [
    "> ## **조건부 기대값(Conditional Expectation)**"
   ]
  },
  {
   "cell_type": "markdown",
   "metadata": {},
   "source": [
    "#### **(1) 정의** : 하나의 연속확률변수가 특정 값을 취할 때 다른 연속확률변수의 기대값\n",
    "#### $ \\Rightarrow{} E(X=x|Y=y_{k}) = \\int_{x_{i}\\in{}X(S)} x_{i} f(X=x|Y=y_k) \\text{dx} $ "
   ]
  },
  {
   "cell_type": "markdown",
   "metadata": {},
   "source": [
    "<b></b>"
   ]
  },
  {
   "cell_type": "markdown",
   "metadata": {},
   "source": [
    "> ## **조건부 분산(Conditional Variance)**"
   ]
  },
  {
   "cell_type": "markdown",
   "metadata": {},
   "source": [
    "#### **(1) 정의** : 조건부 기대값으로부터 얼마나 떨어져 있는지를 측정한 값(지표)\n",
    "#### $ \\Rightarrow{} \\text{var}(X=x|Y=y_{k}) = E[(X-E(X))^{2}|Y=y_{k}] $ \n",
    "#### $ \\hspace{3.5cm} = E(X^{2}|Y=y_{k}) - E(X)^{2}  $"
   ]
  },
  {
   "cell_type": "markdown",
   "metadata": {},
   "source": [
    "<b></b>"
   ]
  },
  {
   "cell_type": "markdown",
   "metadata": {},
   "source": [
    "> ## **연속결합확률변수의 독립(Independnece of Joint Continuous RV)**"
   ]
  },
  {
   "cell_type": "markdown",
   "metadata": {},
   "source": [
    "#### **(1) 정의** : 한 이산확률변수가 일어날 확률이 다른 이산확률변수가 일어날 확률에 영향을 미치지 않는 관계\n",
    "#### $ \\Rightarrow{} f(X=x,\\; Y=y) = f(X=x)f(Y=y), \\;\\; \\forall{} \\; x \\in{} X(S), \\;\\; y \\in{} Y(S) $\n",
    "#### $ \\Leftrightarrow{} f(X=x|Y=y_{k}) = \\frac{f(X=x,\\; Y=y_{k})}{f(Y=y_{k})} = \\frac{f(X=x)f(Y=y_{k})}{f(Y=y_{k})} = f(X=x), \\;\\; \\forall{} \\; x \\in{} X(S), \\;\\; y \\in{} Y(S) $\n",
    "#### $ \\Leftrightarrow{} f(Y=y|X=x_{i}) = \\frac{f(X=x_{i},\\; Y=y)}{f(X=x_{i})} = \\frac{f(X=x_{i})f(Y=y)}{f(X=x_{i})} = f(Y=y), \\;\\; \\forall{} \\; x \\in{} X(S), \\;\\; y \\in{} Y(S) $"
   ]
  },
  {
   "cell_type": "markdown",
   "metadata": {},
   "source": [
    "##### **(`PLUS`)** 결합 누적분포함수에서도 동일하게 적용됨\n",
    "##### $ \\hspace{0.15cm} \\Rightarrow{} F(X=x,\\; Y=y) = F(X=x)F(Y=y), \\;\\; \\forall{} \\; x \\in{} X(S), \\;\\; y \\in{} Y(S) $"
   ]
  },
  {
   "cell_type": "markdown",
   "metadata": {},
   "source": [
    "<b></b>"
   ]
  },
  {
   "cell_type": "markdown",
   "metadata": {},
   "source": [
    "> ## **연속결합확률변수의 합성함수(Composite Functions of Continous Joint RV)**"
   ]
  },
  {
   "cell_type": "markdown",
   "metadata": {},
   "source": [
    "#### **(1) 정의** : 연속결합확률변수를 다른 실수 공간으로 대응시킨 **확률 변수**\n",
    "#### $ \\Rightarrow{} Z = g \\circ{} (X,Y) = g(X, Y) : S \\rightarrow{} \\mathbb{R} \\;\\; $ (※ $ g : \\mathbb{R}^2 \\rightarrow{} \\mathbb{R} $)\n",
    "#### **[GRAPH]**"
   ]
  },
  {
   "cell_type": "markdown",
   "metadata": {},
   "source": [
    "#### **(2) 합성함수의 확률** :\n",
    "#### $ \\Rightarrow{} P(Z=z_{m}) = f(g(X, Y)=z_{m}) = \\int_{(x_{i},\\;y_{k}) \\in{} A_{z_{m}} } f_{XY}(x_{i},\\; y_{k}) \\text{dx} \\text{dy} $\n",
    "#### $ \\hspace{0.15cm} \\text{where } \\, A_{z_{m}} = \\{ (x_{i},\\; y_{k}) \\; | \\; Z(X,\\; Y) = z_{m} \\;\\; \\& \\;\\; (x_{i},\\; y_{k}) \\in{} (X,\\;Y)(S) \\} $"
   ]
  },
  {
   "cell_type": "markdown",
   "metadata": {},
   "source": [
    "#### **(3) 합성함수의 기댓값** : \n",
    "#### $ \\Rightarrow{} E(Z) = \\int_{z_{m}\\in{}Z(X,\\;Y)} z_{m} \\int_{(x_{i},\\; y_{k})\\in{}A_{z_{k}}} P(X=x_{i},\\; Y=y_{k}) \\text{dx}\\text{dy} $\n",
    "#### $ \\hspace{1.3cm} = \\int_{z_{m}\\in{}Z(X,\\;Y)} \\int_{(x_{i},\\; y_{k})\\in{}A_{z_{k}}} z_{m} P(X=x_{i},\\; Y=y_{k}) \\text{dx}\\text{dy} $\n",
    "#### $ \\hspace{1.3cm} = \\int_{(x_{i},\\; y_{k})\\in{}(X,\\;Y)(S)} g(X=x_{i},\\; Y=y_{k})P(X=x_{i},\\; Y=y_{i}) \\text{dx}\\text{dy} $"
   ]
  },
  {
   "cell_type": "markdown",
   "metadata": {},
   "source": [
    "#### **(4) 합성함수의 분산** :\n",
    "#### $ \\Rightarrow{} \\text{var}(Z) = E(Z^{2}) - E(Z)^{2} = \\int_{(x_{i},\\;y_{k})\\in{}(X,\\;Y)(S)} g(x_{i},\\; y_{k})^{2} f(X=X_{i},\\; Y=y_{k}) \\text{dx}\\text{dy} - E(Z)^{2} $"
   ]
  }
 ],
 "metadata": {
  "kernelspec": {
   "display_name": "Python 3",
   "language": "python",
   "name": "python3"
  },
  "language_info": {
   "codemirror_mode": {
    "name": "ipython",
    "version": 3
   },
   "file_extension": ".py",
   "mimetype": "text/x-python",
   "name": "python",
   "nbconvert_exporter": "python",
   "pygments_lexer": "ipython3",
   "version": "3.8.12"
  },
  "orig_nbformat": 4
 },
 "nbformat": 4,
 "nbformat_minor": 2
}
