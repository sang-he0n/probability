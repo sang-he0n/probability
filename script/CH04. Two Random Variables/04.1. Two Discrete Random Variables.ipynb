{
 "cells": [
  {
   "attachments": {},
   "cell_type": "markdown",
   "metadata": {},
   "source": [
    "# CH04.1. **Two Discrete Random Variables**"
   ]
  },
  {
   "cell_type": "markdown",
   "metadata": {},
   "source": [
    "> ## **결합 이산 확률 변수(Joint Discrete Random Variable; Joint Discrete RV)**"
   ]
  },
  {
   "cell_type": "markdown",
   "metadata": {},
   "source": [
    "#### **(1) 정의** : 표본 공간의 결과를 $ 2 $개 이상의 확률 변수로 매핑한 함수\n",
    "#### $ \\Rightarrow{} (X,Y) : S \\rightarrow{} \\mathbb{R}^{n} \\;\\; \\text{ where } \\; (X,Y)(\\Omega{}) \\, \\text{ is countable set}. $\n",
    "<img src=\"../../img/05.2. Two Discrete Random Variables (1).png\" width=\"50%\" height=\"50%\"></img>"
   ]
  },
  {
   "cell_type": "markdown",
   "metadata": {},
   "source": [
    "<b></b>"
   ]
  },
  {
   "cell_type": "markdown",
   "metadata": {},
   "source": [
    "> ## **결합 확률 질량 함수(Joint Probability Mass Function; Joint PMF)**"
   ]
  },
  {
   "cell_type": "markdown",
   "metadata": {},
   "source": [
    "#### **(1) 정의** : $ 2 $개 이상의 이산 확률 변수가 **동시에 발생할 확률**을 매핑한 함수\n",
    "#### $ \\Rightarrow{} P_{XY}(x,y) = P(X=x, Y=y) $\n",
    "<img src=\"../../img/05.2. Two Discrete Random Variables (2).png\" width=\"60%\" height=\"60%\"></img>"
   ]
  },
  {
   "cell_type": "markdown",
   "metadata": {},
   "source": [
    "#### **(2) 주변 확률 질량 함수(Marginal PMF)** : 결합 확률 질량 함수로부터 **특정 확률 변수의 확률 분포만을 추출**한 함수\n",
    "##### $ \\hspace{0.15cm} $ ① 이산 확률 변수 $ X $의 확률 질량 함수 : \n",
    "##### $ \\hspace{0.45cm} \\Rightarrow{} P_{X}(x) = \\sum_{y_{k} \\in{} Y(\\Omega{})} P_{XY}(x, y) $\n",
    "##### $ \\hspace{0.15cm} $ ② 이산 확률 변수 $ Y $의 확률 질량 함수 : \n",
    "##### $ \\hspace{0.45cm} \\Rightarrow{} P_{Y}(y) = \\sum_{x_{i} \\in{} X(\\Omega{})} P_{XY}(x, y) $"
   ]
  },
  {
   "cell_type": "markdown",
   "metadata": {},
   "source": [
    "#### **(3) 성질** :\n",
    "##### $ \\hspace{0.15cm} $ ① $ 0 \\leq{} P_{XY}(x,y) \\leq{} 1 \\;\\; \\forall{} \\; x $\n",
    "##### $ \\hspace{0.15cm} $ ② $ \\sum_{(x_{i}, y_{k}) \\in{}{}(X,Y)(\\Omega{})} P_{XY}(x_{i}, y_{k}) = 1 $\n",
    "##### $ \\hspace{0.15cm} $ ③ $ P((X, Y)\\in{}{}A) = \\sum_{(x_{i}, y_{k})\\in{}{}(A\\cap{}(X,Y)(\\Omega{}))}P_{XY}(x_{i}, y_{k}) \\;\\; \\text{ where } A \\subset{} \\mathbb{R}^{2} $"
   ]
  },
  {
   "cell_type": "markdown",
   "metadata": {},
   "source": [
    "#### **(4) 예시** :\n",
    "##### 결합 확률 질량 함수 $ P(X, Y) $가 아래와 같이 정의될 때\n",
    "| $ P_{XY}(x, y) $ | $ y_{1} = 1 $ | $ y_{2} = 2 $| $ y_{3} = 5 $|\n",
    "|-|-|-|-|\n",
    "| $ x_{1} = 0 $ | $ 0.1 $ | $ 0 $ | $ 0.2 $|\n",
    "| $ x_{2} = 1 $ | $ 0.5 $ | $ 0.2 $ | $ 0 $|\n",
    "##### $ \\hspace{0.15cm} $ ① 확률 $ P(0\\leq{}X\\leq{}1, \\;\\; 1\\leq{}Y\\leq{}2) $의 값은?\n",
    "##### $ \\hspace{0.45cm} \\therefore{} P(0\\leq{}X\\leq{}1, \\;\\; 1\\leq{}Y\\leq{}2) = \\sum_{i=1}^{2}\\sum_{k=1}^{3} P_{XY}(x_{i}, y_{k}) = 0.8 $\n",
    "##### $ \\hspace{0.15cm} $ ② 주변 확률 질량 함수 $ P_{X}(x) $의 정의는?\n",
    "##### $ \\hspace{0.45cm} \\therefore{} P_{X}(x) = \\begin{cases} \\sum_{k=1}^{3} P_{XY}(x_{1}, y_{k}) = 0.3 \\\\ \\sum_{k=1}^{3} P_{XY}(x_{2}, y_{k}) = 0.7 \\end{cases} $\n",
    "##### $ \\hspace{0.15cm} $ ③ 주변 확률 질량 함수 $ P_{Y}(y) $의 정의는?\n",
    "##### $ \\hspace{0.45cm} \\therefore{} P_{Y}(y) = \\begin{cases} \\sum_{i=1}^{2} P_{XY}(x_{i}, y_{1}) = 0.6 \\\\ \\sum_{i=1}^{2} P_{XY}(x_{i}, y_{2}) = 0.2 \\\\ \\sum_{i=1}^{2} P_{XY}(x_{i}, y_{3}) = 0.2 \\end{cases} $"
   ]
  },
  {
   "cell_type": "markdown",
   "metadata": {},
   "source": [
    "<b></b>"
   ]
  },
  {
   "cell_type": "markdown",
   "metadata": {},
   "source": [
    "> ## **결합 누적 분포 함수(Joint Cumulative Distribution Function; Joint CDF)**"
   ]
  },
  {
   "cell_type": "markdown",
   "metadata": {},
   "source": [
    "#### **(1) 정의** : 결합 이산 확률 변수의 값이 특정 값 **이하**일 확률을 나타내는 함수\n",
    "#### $ \\Rightarrow{} F_{XY}(x, y) = P(X\\leq{}x, Y\\leq{}y) $"
   ]
  },
  {
   "cell_type": "markdown",
   "metadata": {},
   "source": [
    "#### **(2) 주변 누적 분포 함수(Marginal CDF)** : 결합 누적 분포 함수로부터 특정 확률 변수의 확률 분포만을 추출한 함수\n",
    "##### $ \\hspace{0.15cm} $ ① 확률 변수 $ X $의 누적 분포 함수 : \n",
    "##### $ \\hspace{0.45cm} \\Rightarrow{} F_{X}(x) = P(X\\leq{}x, Y\\leq{}\\infty{}) = \\sum_{y_{k}\\in{}{}Y(\\Omega{})} P(X\\leq{}x, Y=y_{k}) $\n",
    "##### $ \\hspace{0.15cm} $ ② 확률 변수 $ Y $의 누적 분포 함수 : \n",
    "##### $ \\hspace{0.45cm} \\Rightarrow{} F_{Y}(y) = P(X\\leq{}\\infty{}, Y\\leq{}y) = \\sum_{x_{i}\\in{}{}X(\\Omega{})} P(X=x_{i}, Y\\leq{}y) $"
   ]
  },
  {
   "cell_type": "markdown",
   "metadata": {},
   "source": [
    "#### **(3) 성질** :\n",
    "##### $ \\hspace{0.15cm} $ ① $ F_{XY}(\\infty{}, \\infty{}) = 1 $\n",
    "##### $ \\hspace{0.15cm} $ ② $ F_{XY}(-\\infty{}, y) = 0 $\n",
    "##### $ \\hspace{0.15cm} $ ③ $ F_{XY}(x, -\\infty{}) = 0 $\n",
    "##### $ \\hspace{0.15cm} $ ④ $ F_{XY}(-\\infty{}, -\\infty{}) = 0 $"
   ]
  },
  {
   "cell_type": "markdown",
   "metadata": {},
   "source": [
    "#### **(4) 예시** :\n",
    "##### 결합 확률 질량 함수 $ P(X, Y) $가 아래와 같이 정의될 때\n",
    "| $ P_{XY}(x, y) $ | $ y_{1} = 1 $ | $ y_{2} = 2 $| $ y_{3} = 5 $|\n",
    "|-|-|-|-|\n",
    "| $ x_{1} = 0 $ | $ 0.1 $ | $ 0 $ | $ 0.2 $|\n",
    "| $ x_{2} = 1 $ | $ 0.5 $ | $ 0.2 $ | $ 0 $|\n",
    "##### $ \\hspace{0.15cm} $ ① 주변 누적 분포 함수 $ F_{X}(x) $의 정의는?\n",
    "##### $ \\hspace{0.45cm} P_{X}(x) = \\begin{cases} 0.3 & \\text{if } \\; x=0 \\\\ 0.7 & \\text{if } \\; x=1 \\end{cases} $\n",
    "##### $ \\hspace{0.45cm} \\therefore{} F_{X}(x) = \\begin{cases} 0 & \\text{if } \\; x < 0 \\\\ 0.3 & \\text{if } \\; 0 \\leq{} x < 1 \\\\ 1 &  \\text{if } \\; x \\geq{} 1 \\end{cases} $\n",
    "##### $ \\hspace{0.15cm} $ ② 주변 누적 분포 함수 $ F_{Y}(y) $의 정의는?\n",
    "##### $ \\hspace{0.45cm} P_{Y}(y) = \\begin{cases} 0.6 & \\text{if } \\; y = 1 \\\\ 0.2 & \\text{if } \\; y = 2 \\\\ 0.2 & \\text{if } \\; y = 3 \\end{cases} $\n",
    "##### $ \\hspace{0.45cm} \\therefore{} F_{Y}(y) = $ **[LATEX]**"
   ]
  },
  {
   "cell_type": "markdown",
   "metadata": {},
   "source": [
    "<b></b>"
   ]
  },
  {
   "cell_type": "markdown",
   "metadata": {},
   "source": [
    "> ## **조건부 확률 질량 함수(Conditional PMF)**"
   ]
  },
  {
   "cell_type": "markdown",
   "metadata": {},
   "source": [
    "#### **(1) 정의** : 결합 확률 질량 함수에서 **한 확률 변수가 특정 값을 취했을 때** 다른 확률 변수에 대한 함수\n",
    "#### $ \\Rightarrow{} P_{X|Y}(x \\; | \\; y_{k}) = \\frac{P_{XY}(x, y_{k})}{P_{Y}(y_{k})} \\;\\; \\text{ for any } \\; x \\in{}{} X(\\Omega{}), \\;\\; y_{k} \\in{}{} Y(\\Omega{}) $"
   ]
  },
  {
   "cell_type": "markdown",
   "metadata": {},
   "source": [
    "#### **(2) 예시** :\n",
    "##### 결합 확률 질량 함수 $ P(X, Y) $가 아래와 같이 정의될 때\n",
    "| $ P_{XY}(x, y) $ | $ y_{1} = 1 $ | $ y_{2} = 2 $| $ y_{3} = 5 $|\n",
    "|-|-|-|-|\n",
    "| $ x_{1} = 0 $ | $ 0.1 $ | $ 0 $ | $ 0.2 $|\n",
    "| $ x_{2} = 1 $ | $ 0.5 $ | $ 0.2 $ | $ 0 $|\n",
    "##### $ \\hspace{0.15cm} $ ① 확률 변수 $ X = 0 $일 때 확률 변수 $ Y $의 조건부 확률 질량 함수는?\n",
    "##### $ \\hspace{0.45cm} P_{X}(x) = \\begin{cases} 0.3 & \\text{if } \\; x=0 \\\\ 0.7 & \\text{if } \\; x=1 \\end{cases} $\n",
    "##### $ \\hspace{0.45cm} \\therefore{} P_{Y|X}(y \\; | \\; 0) = \\begin{cases} \\frac{P_{XY}(0, 1)}{P_{X}(0)} = \\frac{0.1}{0.3} = \\frac{1}{3} \\\\ \\frac{P_{XY}(0, 2)}{P_{X}(0)} = \\frac{0}{0.3} = 0 \\\\ \\frac{P_{XY}(0, 5)}{P_{X}(0)} = \\frac{0.2}{0.3} = \\frac{2}{3} \\end{cases} $\n",
    "##### $ \\hspace{0.15cm} $ ② 확률 변수 $ X = 1 $일 때 확률 변수 $ Y $의 조건부 확률 질량 함수는?\n",
    "##### $ \\hspace{0.45cm} \\therefore{} P_{Y|X}(y \\; | \\; 1) = \\begin{cases} \\frac{P_{XY}(1, 1)}{P_{X}(1)} = \\frac{0.5}{0.7} = \\frac{5}{7} \\\\ \\frac{P_{XY}(1, 2)}{P_{X}(1)} = \\frac{2}{0.7} = \\frac{2}{7} \\\\ \\frac{P_{XY}(1, 5)}{P_{X}(1)} = \\frac{0}{0.7} = 0 \\end{cases} $"
   ]
  },
  {
   "cell_type": "markdown",
   "metadata": {},
   "source": [
    "<b></b>"
   ]
  },
  {
   "cell_type": "markdown",
   "metadata": {},
   "source": [
    "> ## (Theorem 4-1) **Law of Total Probability**"
   ]
  },
  {
   "cell_type": "markdown",
   "metadata": {},
   "source": [
    "#### 이산 확률 변수 $ X $와 분할된(partitioned) 이산 확률 변수 $ Y $의 결합합확률 변수의 전체확률법칙은 아래와 같음\n",
    "#### $ \\Rightarrow{} \\displaystyle{} P_{X}(x) = \\sum_{y_{k}\\in{}{}Y(\\Omega{})}P_{XY}(x, y) = \\sum_{y_{k}\\in{}{}Y(\\Omega{})}P_{Y}(y_{k})P_{X|Y}(x \\; | \\; y_{k}) $\n",
    "#### $ $ <img src=\"../../img/05.2. Two Discrete Random Variables (4).png\" width=\"30%\" height=\"30%\"></img>"
   ]
  },
  {
   "cell_type": "markdown",
   "metadata": {},
   "source": [
    "<b></b>"
   ]
  },
  {
   "cell_type": "markdown",
   "metadata": {},
   "source": [
    "> ## **조건부 기대값(Conditional Expectation)**"
   ]
  },
  {
   "cell_type": "markdown",
   "metadata": {},
   "source": [
    "#### **(1) 정의** : 하나의 이산 확률 변수가 특정 값을 취할 때 다른 이산 확률 변수의 기대값\n",
    "#### $ \\Rightarrow{} E[X=x \\; | \\; Y=y_{k}] = \\displaystyle{} \\sum_{x_{i}\\in{}{}X(\\Omega{})} x_{i} P_{XY}(x_{i} \\; | \\; y_{k}) $"
   ]
  },
  {
   "cell_type": "markdown",
   "metadata": {},
   "source": [
    "#### **(2) 예시** :\n",
    "##### $ \\hspace{0.15cm} $ ① 공평한 주사위를 $ 1 $회 던질 때 그 결과를 확률 변수 $ X $라고 할 때 주사위눈이 $ 3 $ 이하일 때 확률변수 $ X $의 기댓값을 구하면\n",
    "##### $ \\hspace{0.45cm} \\Omega{} = \\{ 1, 2, 3, 4, 5, 6 \\} $\n",
    "##### $ \\hspace{0.45cm} X(\\omega{}) = \\omega{} $\n",
    "##### $ \\hspace{0.45cm} Y(\\omega{}) = \\begin{cases} 1 & \\text{if } \\; X(\\omega{}) \\leq{} 3 \\\\ 0 & \\text{otherwise} \\end{cases} $\n",
    "##### $ \\hspace{0.45cm} P_{X|Y}(x \\; | \\; y) = \\frac{P_{XY}(x, y)}{P_{Y}(y)} = \\begin{cases} \\frac{P_{XY}(1, y)}{P_{Y}(y)} = \\frac{\\frac{1}{6}}{\\frac{1}{2}} = \\frac{1}{3} \\\\ \\frac{P_{XY}(2, y)}{P_{Y}(y)} = \\frac{\\frac{1}{6}}{\\frac{1}{2}} = \\frac{1}{3} \\\\ \\frac{P_{XY}(3, y)}{P_{Y}(y)} = \\frac{\\frac{1}{6}}{\\frac{1}{2}} = \\frac{1}{3} \\end{cases} $\n",
    "##### $ \\hspace{0.45cm} \\therefore{} E[X \\; | \\; Y] = \\sum{}^{3}_{x=1} xP_{X|Y}(x \\; | \\; y) = 1 \\times{} \\frac{1}{3} + 2 \\times{} \\frac{1}{3} + 3 \\times{} \\frac{1}{3} = 2 $\n",
    "##### $ \\hspace{0.15cm} $ ② 앞면이 나올 확률이 $ p $이며 동전을 던질 때 확률 변수 $ X $는 앞면이 나올 때까지 던진 횟수이고, 첫 시행 결과에 대한 조건부 확률을 구하면\n",
    "##### $ \\hspace{0.45cm} \\Omega{} = \\{ (\\text{H}), (\\text{T,H}), (\\text{T,T,H}), \\cdots{} \\} $\n",
    "##### $ \\hspace{0.45cm} X(\\omega{}) = \\text{length}(\\omega{}) \\sim{} \\text{Geom}(p) $\n",
    "##### $ \\hspace{0.45cm} Y(\\omega{}) = \\begin{cases} 1 & \\text{if } \\; \\omega{}_{1} = \\text{H} \\\\ 0 & \\text{if } \\; \\omega{}_{1} = \\text{T} \\end{cases} \\;\\; \\text{ where } \\; (\\omega{}_{1}, \\omega{}_{2}, \\cdots{}) \\in{} \\Omega{} $ \n",
    "##### $ \\hspace{0.45cm} P_{X|Y}(x \\; | \\; y) = \\begin{cases} \\end{cases} $ **[LATEX]**\n",
    "##### $ \\hspace{0.45cm} \\therefore{} E[X \\; | \\; Y ] = $ **[LATEX]**"
   ]
  },
  {
   "cell_type": "markdown",
   "metadata": {},
   "source": [
    "<b></b>"
   ]
  },
  {
   "cell_type": "markdown",
   "metadata": {},
   "source": [
    "> ## (Theorem 4-2) **전체 기댓값의 법칙(Law of Total Expectation)**"
   ]
  },
  {
   "cell_type": "markdown",
   "metadata": {},
   "source": [
    "#### 확률 변수 $ X $와 분할된 확률 변수 $ Y $의 결합 확률 변수 기댓값의 전체 확률 법칙은 아래와 같다.\n",
    "#### $ \\Rightarrow{} E[X] = \\sum_{x_{i}\\in{}{}X(S)} x_{i}P_{X}(x_{i}) $\n",
    "#### $ \\hspace{1.4cm} = \\sum_{x_{i}\\in{}{}X(S)}P_{X}(x_{i}) (\\sum_{y_{k}\\in{}{}Y(S)}P_{Y}(y_{k})P_{X|Y}(x_{i}|y_{k})) $\n",
    "#### $ \\hspace{1.4cm} = \\sum_{y_{k}\\in{}{}Y(S)} P_{Y}(y_{k}) (\\sum_{x_{i}\\in{}{}X(S)} P_{X}(X_{i})P_{X|Y}(x_{i}|y_{k})) $\n",
    "#### $ \\hspace{1.4cm} = \\sum_{y_{k}\\in{}{}Y(S)} P_{Y}(y_{k}) E[X=x_{i}|Y=y_{k}] $"
   ]
  },
  {
   "cell_type": "markdown",
   "metadata": {},
   "source": [
    "<b></b>"
   ]
  },
  {
   "cell_type": "markdown",
   "metadata": {},
   "source": [
    "> ## **조건부 분산(Conditional Variance)**"
   ]
  },
  {
   "cell_type": "markdown",
   "metadata": {},
   "source": [
    "#### **(1) 정의** : 조건부 기대값으로부터 얼마나 떨어져 있는지를 측정한 값\n",
    "#### $ \\Rightarrow{} \\text{var}[X \\; | \\; Y] = E[X^{2} \\; | \\; Y] - (E[X \\; | \\; Y])^{2}  $"
   ]
  },
  {
   "cell_type": "markdown",
   "metadata": {},
   "source": [
    "#### **(2) 예시** :\n",
    "##### $ \\hspace{0.15cm} $ ① **[CONTENTS]**\n",
    "##### $ \\hspace{0.15cm} $ ② **[CONTENTS]**"
   ]
  },
  {
   "cell_type": "markdown",
   "metadata": {},
   "source": [
    "<b></b>"
   ]
  },
  {
   "cell_type": "markdown",
   "metadata": {},
   "source": [
    "> ## **결합 이산 확률 변수의 독립(Independnece of Joint Discrete RV)**"
   ]
  },
  {
   "cell_type": "markdown",
   "metadata": {},
   "source": [
    "#### **(1) 정의** : 한 이산 확률 변수가 일어날 확률이 다른 이산 확률 변수가 일어날 확률에 영향을 미치지 않는 관계\n",
    "#### $ \\Rightarrow{} P_{XY}(x, y) = P_{X}(x)P_{Y}(y) $\n",
    "#### $\\Leftrightarrow{} P_{XY}(x \\; | \\; y) = \\frac{P_{XX}(x, y)}{P_{Y}(y)} = \\frac{P_{X}(x)P_{Y}(y)}{P_{Y}(y)} = P_{X}(x) $\n",
    "#### $\\Leftrightarrow{} P_{YX}(y \\; | \\; x) = \\frac{P_{YX}(y, x)}{P_{X}(x)} = \\frac{P_{Y}(y)P_{X}(x)}{P_{X}(x)} = P_{Y}(y) $"
   ]
  },
  {
   "cell_type": "markdown",
   "metadata": {},
   "source": [
    "##### **(`PLUS`)** 결합 누적 분포 함수에서도 동일하게 적용됨\n",
    "##### $ \\hspace{0.15cm} \\Rightarrow{} F_{XY}(x, y) = f_{X}(x)F_{Y}(y) $"
   ]
  },
  {
   "cell_type": "markdown",
   "metadata": {},
   "source": [
    "#### **(2) 예시** :\n",
    "##### 결합 확률 질량 함수 $P(X, Y) $가 아래의 표로 정의될 때\n",
    "| $P(X, Y) $| $Y = 1 $| $Y = 2 $| $Y = 5 $|\n",
    "|-|-|-|-|\n",
    "| $X = 0 $ | $0.1 $| $0 $| $0.2 $|\n",
    "| $X = 1 $ | $0.5 $| $0.2 $| $0 $|\n",
    "##### $ \\hspace{0.15cm} $ ① 확률 변수 $ X, Y $는 독립 관계인지 확인하면\n",
    "##### $ \\hspace{0.45cm} P_{Y}(y) = \\begin{cases} 0.6 & \\text{if } \\; y=1 \\\\ 0.2 & \\text{if } \\; y=2 \\\\ 0.2 & \\text{if } \\; y=5 \\end{cases} $\n",
    "##### $ \\hspace{0.45cm} P_{Y|X}(y \\; | \\; 0) = \\begin{cases} \\frac{1}{3} & \\text{if } \\; y=1 \\\\ 0 & \\text{if } \\; y=2 \\\\ \\frac{2}{3} & \\text{if } \\; y=5 \\end{cases} $\n",
    "##### $ \\hspace{0.45cm} P_{Y|X}(y \\; | \\; 1) = \\begin{cases} \\frac{5}{7} & \\text{if } \\; y=1 \\\\ \\frac{2}{7} & \\text{if } \\; y=2 \\\\ 0 & \\text{if } \\; y=5 \\end{cases} $\n",
    "##### $ \\hspace{0.45cm} P_{Y|X}(y \\; | \\; x) \\neq{} P_{Y}( \\; y) $\n",
    "##### $ \\hspace{0.45cm} \\therefore{} X, Y \\, \\text{ are not independent}. $"
   ]
  },
  {
   "cell_type": "markdown",
   "metadata": {},
   "source": [
    "<b></b>"
   ]
  },
  {
   "cell_type": "markdown",
   "metadata": {},
   "source": [
    "> ## **이산결합 확률 변수의 합성함수(Composite Functions of Discrete Joint RV)**"
   ]
  },
  {
   "cell_type": "markdown",
   "metadata": {},
   "source": [
    "#### **(1) 정의** : 결합 이산 확률 변수를 다른 실수 공간으로 대응시킨 **확률 변수**\n",
    "#### $ \\Rightarrow{} Z = g \\circ{} (X,Y) = g(X, Y) : \\Omega{} \\rightarrow{} \\mathbb{R} \\;\\; \\text{ where } \\; g : \\mathbb{R}^2 \\rightarrow{} \\mathbb{R} $\n",
    "<img src=\"../../img/05.2. Two Discrete Random Variables (10).png\" width=\"50%\" height=\"50%\"></img>"
   ]
  },
  {
   "cell_type": "markdown",
   "metadata": {},
   "source": [
    "#### **(2) 합성함수의 기댓값** : \n",
    "#### $ \\Rightarrow{} E[Z] = \\sum_{(x_{i}, y_{k})\\in{}{}(X,Y)(\\Omega{})} g(x_{i}, y_{k})P_{XY}(x_{i}, y_{i}) $"
   ]
  },
  {
   "cell_type": "markdown",
   "metadata": {},
   "source": [
    "#### **(3) 합성함수의 분산** :\n",
    "#### $ \\Rightarrow{} \\text{var}[Z] = E[Z^{2}] - E[Z]^{2} $ \n",
    "#### $ \\hspace{1.5cm} = \\sum_{(x_{i},y_{k})\\in{}{}(X,Y)(\\Omega{})} g(x_{i}, y_{k})^{2} P_{X}(X_{i}, Y=y_{k}) - E[Z]^{2} $"
   ]
  },
  {
   "cell_type": "markdown",
   "metadata": {},
   "source": [
    "<b></b>"
   ]
  },
  {
   "cell_type": "markdown",
   "metadata": {},
   "source": [
    "> ## **_**"
   ]
  },
  {
   "cell_type": "markdown",
   "metadata": {},
   "source": [
    "##### **(`PLUS`) 기대값의 선형성 증명** :\n",
    "##### $ \\hspace{0.15cm} E(g(X, Y)) = \\sum_{(x_{i}, y_{k})\\in{}{}(X,Y)(S)} g(x_{i}, y_{k}) P_{X}(x_{i}, Y=y_{k}) \\;\\; \\text{if } \\, g(X, Y) = X + Y $\n",
    "##### $ \\hspace{2.1cm} = \\sum_{(x_{i}, y_{k})\\in{}{}X(S) \\times{} Y(S)} g(x_{i}, y_{k}) P_{X}(x_{i}, Y=y_{k}) $\n",
    "##### $ \\hspace{2.1cm} = \\sum_{(x_{i}, y_{k})\\in{}{}X(S) \\times{} Y(S)} (x_{i}+y_{k}) P_{X}(x_{i}, Y=y_{k}) $\n",
    "##### $ \\hspace{2.1cm} = \\sum_{(x_{i}, y_{k})\\in{}{}X(S) \\times{} Y(S)} x_{i} P_{X}(x_{i}, Y=y_{k}) + \\sum_{(x_{i}, y_{k})\\in{}{}X(S) \\times{} Y(S)} y_{k} P_{X}(x_{i}, Y=y_{k}) $\n",
    "##### $ \\hspace{2.1cm} = \\sum_{x_{i}\\in{}{}X(S)}\\sum_{y_{k}\\in{}{}Y(S)} x_{i} P_{X}(x_{i}, Y=y_{k}) + \\sum_{y_{k}\\in{}{}Y(S)}\\sum_{x_{i}\\in{}{}X(S)} y_{k} P_{X}(x_{i}, Y=y_{k}) $\n",
    "##### $ \\hspace{2.1cm} = \\sum_{x_{i}\\in{}{}X(S)} x_{i} \\sum_{y_{k}\\in{}{}Y(S)} P_{X}(x_{i}, Y=y_{k}) + \\sum_{y_{k}\\in{}{}Y(S)} y_{k} \\sum_{x_{i}\\in{}{}X(S)} P_{X}(x_{i}, Y=y_{k}) $\n",
    "##### $ \\hspace{2.1cm} = E[X] + E[Y] $\n",
    "##### $ \\hspace{0.15cm} \\therefore{} E[X+Y] = E[X] + E[Y] $"
   ]
  },
  {
   "cell_type": "markdown",
   "metadata": {},
   "source": [
    "<b></b>"
   ]
  },
  {
   "cell_type": "markdown",
   "metadata": {},
   "source": [
    "> ## **_**"
   ]
  },
  {
   "cell_type": "markdown",
   "metadata": {},
   "source": [
    "##### **(`PLUS`) 두 이산 확률 변수가 독립 관계일 때 $E(XY)$** :\n",
    "##### $ \\hspace{0.15cm} E(XY) = \\sum_{(x_{i}, y_{k})\\in{}{}(X(S)\\times{}Y(S))} x_{i}y_{k}P_{X}(x_{i}, Y=y_{k}) \\;\\; $\n",
    "##### $ \\hspace{1.375cm} = \\sum_{X_{i}\\in{}{}X(S)} \\sum_{y_{k}\\in{}{}Y(S)} x_{i}y_{k}P_{X}(x_{i})P(Y=y_{k}) $\n",
    "##### $ \\hspace{1.375cm} = \\sum_{X_{i}\\in{}{}X(S)} x_{i} P(Y=y_{k}) \\sum_{y_{k}\\in{}{}Y(S)} y_{k} P_{X}(x_{i}) $\n",
    "##### $ \\hspace{1.375cm} = E[X]E(Y) $\n",
    "##### $ \\hspace{0.15cm} \\therefore{} E(XY) = E[X]E(Y) $"
   ]
  },
  {
   "cell_type": "markdown",
   "metadata": {},
   "source": [
    "<b></b>"
   ]
  },
  {
   "cell_type": "markdown",
   "metadata": {},
   "source": [
    "> ## (Theorem 4-3) **반복 기대값의 성질(Law of Iterated Expectation)**"
   ]
  },
  {
   "cell_type": "markdown",
   "metadata": {},
   "source": [
    "#### 확률 변수 $ X $의 기대값은 아래와 같이 확률 변수 $ Y $에 대한 기대값의 기대값과 동일하다.\n",
    "#### $ \\Rightarrow{} E[X] = E[E[X|Y]] $"
   ]
  },
  {
   "cell_type": "markdown",
   "metadata": {},
   "source": [
    "##### **(`WHY?`)**\n",
    "##### $ \\hspace{0.15cm} E[X|Y=y_{k}] = g(Y) \\;\\; \\text{ where } \\; g(Y) = g \\circ{} Y =  E[X|Y=y] : \\mathbb{R} \\rightarrow{} \\mathbb{R} $\n",
    "##### $ \\hspace{0.15cm} \\Rightarrow{} E[X|Y] \\, \\text{ is random variable}. $\n",
    "##### $ \\hspace{0.15cm} E[E[X|Y]] = \\sum_{y_{k}\\in{}{}Y(S)} E[X|Y=y_{k}] P(Y=y_{k}) $\n",
    "##### $ \\hspace{1.95cm} = E[X] \\;\\; $($ \\because{} $ Theorem 4-2. 전체 기댓값의 법칙)"
   ]
  },
  {
   "cell_type": "markdown",
   "metadata": {},
   "source": [
    "<b></b>"
   ]
  },
  {
   "cell_type": "markdown",
   "metadata": {},
   "source": [
    "> ## (Theorem 4-4) **전체 분산의 법칙(Law of Total Variance)**"
   ]
  },
  {
   "cell_type": "markdown",
   "metadata": {},
   "source": [
    "#### **[CONTENTS]**"
   ]
  }
 ],
 "metadata": {
  "kernelspec": {
   "display_name": "Python 3",
   "language": "python",
   "name": "python3"
  },
  "language_info": {
   "codemirror_mode": {
    "name": "ipython",
    "version": 3
   },
   "file_extension": ".py",
   "mimetype": "text/x-python",
   "name": "python",
   "nbconvert_exporter": "python",
   "pygments_lexer": "ipython3",
   "version": "3.8.12"
  },
  "orig_nbformat": 4
 },
 "nbformat": 4,
 "nbformat_minor": 2
}
