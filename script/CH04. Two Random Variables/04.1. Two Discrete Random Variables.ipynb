{
 "cells": [
  {
   "attachments": {},
   "cell_type": "markdown",
   "metadata": {},
   "source": [
    "# CH04.1. **Two Random Variables**"
   ]
  },
  {
   "cell_type": "markdown",
   "metadata": {},
   "source": [
    "> ## **결합 이산 확률 변수(Joint Discrete RV)**"
   ]
  },
  {
   "cell_type": "markdown",
   "metadata": {},
   "source": [
    "#### **(1) 정의** : 표본 공간의 결과를 $ 2 $개 **이상**의 이산 확률 변수로 매핑한 함수\n",
    "#### $ \\Rightarrow{} (X,Y) : S \\rightarrow{} \\mathbb{R}^{2} \\;\\; \\text{ where } \\; (X,Y)(\\Omega{}) \\, \\text{ is countable set}. $\n",
    "<img src=\"../../img/04.1. Two Discrete Random Variables (1).png\" width=\"50%\" height=\"50%\"></img>"
   ]
  },
  {
   "cell_type": "markdown",
   "metadata": {},
   "source": [
    "<b></b>"
   ]
  },
  {
   "cell_type": "markdown",
   "metadata": {},
   "source": [
    "> ## **결합 확률 질량 함수(Joint PMF)**"
   ]
  },
  {
   "cell_type": "markdown",
   "metadata": {},
   "source": [
    "#### **(1) 정의** : $ 2 $개 이상의 이산 확률 변수가 **동시에 발생**할 확률을 매핑한 함수\n",
    "#### $ \\Rightarrow{} P_{XY}(x,y) = P(X=x, Y=y) $\n",
    "<img src=\"../../img/04.1. Two Discrete Random Variables (2).png\" width=\"60%\" height=\"60%\"></img>"
   ]
  },
  {
   "cell_type": "markdown",
   "metadata": {},
   "source": [
    "#### **(2) 성질** :\n",
    "##### $ \\hspace{0.15cm} $ ① $ 0 \\leq{} P_{XY}(x,y) \\leq{} 1 \\;\\; \\forall{} \\; x,y $\n",
    "##### $ \\hspace{0.15cm} $ ② $ \\displaystyle{} \\sum_{(x_{i}, y_{k}) \\in{}(X,Y)(\\Omega{})} P_{XY}(x_{i}, y_{k}) = 1 $\n",
    "##### $ \\hspace{0.15cm} $ ③ $ P((X, Y)\\in{}A) = \\displaystyle{} \\sum_{(x_{i}, y_{k})\\in{}(A\\cap{}(X,Y)(\\Omega{}))}P_{XY}(x_{i}, y_{k}) \\;\\; \\text{ where } A \\subset{} \\mathbb{R}^{2} $"
   ]
  },
  {
   "cell_type": "markdown",
   "metadata": {},
   "source": [
    "<b></b>"
   ]
  },
  {
   "cell_type": "markdown",
   "metadata": {},
   "source": [
    "> ## **주변 확률 질량 함수(Marginal PMF)**"
   ]
  },
  {
   "cell_type": "markdown",
   "metadata": {},
   "source": [
    "#### **(1) 정의** : 결합 확률 질량 함수에서 **하나의 이산 확률 변수의 분포만을 추출**한 함수\n",
    "#### $ \\Rightarrow{} P_{X}(x) = \\displaystyle{} \\sum_{y_{k} \\in{} R_{Y}} P_{XY}(x, y) $"
   ]
  },
  {
   "cell_type": "markdown",
   "metadata": {},
   "source": [
    "#### **(2) 예시** :\n",
    "##### $ \\hspace{0.15cm} $ ① 결합 확률 질량 함수 $ P_{XY}(x, y) $가 아래와 같이 정의될 때\n",
    "##### $ \\hspace{0.45cm} \\begin{array}{|c|c|c|c|} \\hline{} P_{XY}(x,y) & y=1 & y=2 & y=5 \\\\ \\hline{} x=0 & 0.1 & 0 & 0.2 \\\\ \\hline{} x=1 & 0.5 & 0.2 & 0 \\\\ \\hline \\end{array} $\n",
    "##### $ \\hspace{0.3cm} \\cdot{} $ 확률 $ P(0\\leq{}X\\leq{}1, \\;\\; 1\\leq{}Y\\leq{}2) $의 값은?\n",
    "##### $ \\hspace{0.45cm} \\therefore{} P(0\\leq{}X\\leq{}1, \\;\\; 1\\leq{}Y\\leq{}2) = \\displaystyle{} \\sum_{i=1}^{2}\\sum_{k=1}^{3} P_{XY}(x_{i}, y_{k}) = 0.8 $\n",
    "##### $ \\hspace{0.3cm} \\cdot{} $ 주변 확률 질량 함수 $ P_{X}(x) $의 정의는?\n",
    "##### $ \\hspace{0.45cm} \\therefore{} P_{X}(x) = \\begin{cases} \\sum_{k=1}^{3} P_{XY}(0, y_{k}) = 0.3 \\\\ \\sum_{k=1}^{3} P_{XY}(1, y_{k}) = 0.7 \\end{cases} $\n",
    "##### $ \\hspace{0.3cm} \\cdot{} $ 주변 확률 질량 함수 $ P_{Y}(y) $의 정의는?\n",
    "##### $ \\hspace{0.45cm} \\therefore{} P_{Y}(y) = \\begin{cases} \\sum_{i=1}^{2} P_{XY}(x_{i}, 1) = 0.6 \\\\ \\sum_{i=1}^{2} P_{XY}(x_{i}, 2) = 0.2 \\\\ \\sum_{i=1}^{2} P_{XY}(x_{i}, 5) = 0.2 \\end{cases} $\n",
    "##### $ \\hspace{0.15cm} $ ② **[LATEX]**"
   ]
  },
  {
   "cell_type": "markdown",
   "metadata": {},
   "source": [
    "<b></b>"
   ]
  },
  {
   "cell_type": "markdown",
   "metadata": {},
   "source": [
    "> ## **결합 이산 확률 변수의 기댓값(Expected Value of Joint Discrete RV)**"
   ]
  },
  {
   "cell_type": "markdown",
   "metadata": {},
   "source": [
    "#### **(1) 정의** : 실험이나 과정이 무한히 반복할 때 결합 이산 확률 변수의 **예상되는 값**\n",
    "#### $ \\Rightarrow{} \\text{E}[(X,Y)] = (E[X], E[Y]) $"
   ]
  },
  {
   "cell_type": "markdown",
   "metadata": {},
   "source": [
    "<b></b>"
   ]
  },
  {
   "cell_type": "markdown",
   "metadata": {},
   "source": [
    "> ## **결합 이산 확률 변수의 분산(Variance of Joint Discrete RV)**"
   ]
  },
  {
   "cell_type": "markdown",
   "metadata": {},
   "source": [
    "#### **(1) 정의** : 기댓값으로 부터 벗어난 정도(오차)를 제곱한 값\n",
    "#### $ \\Rightarrow{} \\text{var}[(X, Y)] = \\begin{bmatrix} \\text{var}[X] & \\text{cov}(X,Y) \\\\ \\text{cov}(Y,X) & \\text{var}[Y]  \\end{bmatrix} $\n",
    "#### $ \\hspace{0.45cm} \\text{where } \\; \\text{cov}(X,Y) = E[XY] - E[X]E[Y] $"
   ]
  },
  {
   "cell_type": "markdown",
   "metadata": {},
   "source": [
    "<b></b>"
   ]
  },
  {
   "cell_type": "markdown",
   "metadata": {},
   "source": [
    "> ## **결합 누적 분포 함수(Joint CDF)**"
   ]
  },
  {
   "cell_type": "markdown",
   "metadata": {},
   "source": [
    "#### **(1) 정의** : 결합 이산 확률 변수의 값이 특정 값 이하일 확률을 나타내는 함수\n",
    "#### $ \\Rightarrow{} F_{XY}(x, y) = P(X\\leq{}x, Y\\leq{}y) $"
   ]
  },
  {
   "cell_type": "markdown",
   "metadata": {},
   "source": [
    "#### **(2) 성질** :\n",
    "##### $ \\hspace{0.15cm} $ ① $ F_{XY}(\\infty{}, \\infty{}) = 1 $\n",
    "##### $ \\hspace{0.15cm} $ ② $ F_{XY}(-\\infty{}, y) = 0 $\n",
    "##### $ \\hspace{0.15cm} $ ③ $ F_{XY}(x, -\\infty{}) = 0 $\n",
    "##### $ \\hspace{0.15cm} $ ④ $ F_{XY}(-\\infty{}, -\\infty{}) = 0 $"
   ]
  },
  {
   "cell_type": "markdown",
   "metadata": {},
   "source": [
    "<b></b>"
   ]
  },
  {
   "cell_type": "markdown",
   "metadata": {},
   "source": [
    "> ## **주변 확률 질량 함수(Marginal CDF)**"
   ]
  },
  {
   "cell_type": "markdown",
   "metadata": {},
   "source": [
    "#### **(1) 정의** : 결합 누적 분포 함수로부터 하나의 확률 변수의 확률 분포만을 추출한 함수\n",
    "#### $ \\Rightarrow{} F_{X}(x) = P(X\\leq{}x, Y\\leq{}\\infty{}) = \\sum_{y_{k}\\in{}R_{Y}} P(X\\leq{}x, Y=y_{k}) $"
   ]
  },
  {
   "cell_type": "markdown",
   "metadata": {},
   "source": [
    "#### **(2) 예시** :\n",
    "##### $ \\hspace{0.15cm} $ ① 결합 확률 질량 함수 $ P_{XY}(x, y) $가 아래와 같이 정의될 때\n",
    "##### $ \\hspace{0.45cm} \\begin{array}{|c|c|c|c|} \\hline{} P_{XY}(x,y) & y=1 & y=2 & y=5 \\\\ \\hline{} x=0 & 0.1 & 0 & 0.2 \\\\ \\hline{} x=1 & 0.5 & 0.2 & 0 \\\\ \\hline \\end{array} $\n",
    "##### $ \\hspace{0.3cm} \\cdot{} $ 주변 누적 분포 함수 $ F_{X}(x) $의 정의는?\n",
    "##### $ \\hspace{0.45cm} P_{X}(x) = \\begin{cases} 0.3 & \\text{if } \\; x=0 \\\\ 0.7 & \\text{if } \\; x=1 \\end{cases} $\n",
    "##### $ \\hspace{0.45cm} \\therefore{} F_{X}(x) = \\begin{cases} 0 & \\text{if } \\; x < 0 \\\\ 0.3 & \\text{if } \\; 0 \\leq{} x < 1 \\\\ 1 &  \\text{if } \\; x \\geq{} 1 \\end{cases} $\n",
    "##### $ \\hspace{0.3cm} \\cdot{} $ 주변 누적 분포 함수 $ F_{Y}(y) $의 정의는?\n",
    "##### $ \\hspace{0.45cm} P_{Y}(y) = \\begin{cases} 0.6 & \\text{if } \\; y = 1 \\\\ 0.2 & \\text{if } \\; y = 2 \\\\ 0.2 & \\text{if } \\; y = 5 \\end{cases} $\n",
    "##### $ \\hspace{0.45cm} \\therefore{} F_{Y}(y) = \\begin{cases} 0 & \\text{if } \\; y < 1 \\\\ 0.6 & \\text{if } \\; 1 \\leq y < 2 \\\\ 0.8 & \\text{if } \\; 2 \\leq y < 5 \\\\ 1 & \\text{if } \\; y \\geq 5 \\end{cases} $"
   ]
  },
  {
   "cell_type": "markdown",
   "metadata": {},
   "source": [
    "<b></b>"
   ]
  },
  {
   "cell_type": "markdown",
   "metadata": {},
   "source": [
    "> ## **이산 결합 확률 변수의 합성함수(Composite Functions of Discrete Joint RV)**"
   ]
  },
  {
   "cell_type": "markdown",
   "metadata": {},
   "source": [
    "#### **(1) 정의** : 결합 이산 확률 변수를 다른 실수 공간으로 대응시킨 **확률 변수**\n",
    "#### $ \\Rightarrow{} Z = g \\circ{} (X,Y) = g(X, Y) : \\Omega{} \\rightarrow{} \\mathbb{R} \\;\\; \\text{ where } \\; g : \\mathbb{R}^2 \\rightarrow{} \\mathbb{R}^{n} $\n",
    "<img src=\"../../img/04.1. Two Discrete Random Variables (10).png\" width=\"50%\" height=\"50%\"></img>"
   ]
  },
  {
   "cell_type": "markdown",
   "metadata": {},
   "source": [
    "#### **(2) 기댓값** : \n",
    "#### $ \\Rightarrow{} E[Z] = \\displaystyle{} \\sum_{(x_{i}, y_{k})\\in{}(X,Y)(\\Omega{})} g(x_{i}, y_{k})P_{XY}(x_{i}, y_{k}) \\;\\; \\text{ where } \\; Z = g(X,Y) $"
   ]
  },
  {
   "cell_type": "markdown",
   "metadata": {},
   "source": [
    "#### **(3) 분산** :\n",
    "#### $ \\Rightarrow{} \\text{var}[Z] = E[Z^{2}] - (E[Z])^{2} $ \n",
    "#### $ \\hspace{1.525cm} = \\displaystyle{} \\sum_{(x_{i},y_{k})\\in{}(X,Y)(\\Omega{})} g(x_{i}, y_{k})^{2} P_{XY}(x_{i}, y_{k}) - (E[Z])^{2} $"
   ]
  },
  {
   "cell_type": "markdown",
   "metadata": {},
   "source": [
    "<b></b>"
   ]
  },
  {
   "cell_type": "markdown",
   "metadata": {},
   "source": [
    "> ## (Theorem 4-1) **Linearity of Expectation**"
   ]
  },
  {
   "cell_type": "markdown",
   "metadata": {},
   "source": [
    "#### 기댓값은 선형성을 만족하는 함수이다.\n",
    "#### $ \\Rightarrow{} E[X+Y] = E[X] + E[Y] $"
   ]
  },
  {
   "cell_type": "markdown",
   "metadata": {},
   "source": [
    "##### **(`WHY?`)**\n",
    "##### $ \\hspace{0.15cm} E[g(X, Y)] = \\displaystyle{} \\sum_{(x_{i}, y_{k})\\in{}(X,Y)(\\Omega{})} g(x_{i}, y_{k}) P_{XY}(x_{i}, y_{k}) \\;\\; \\text{ if } \\; g(X, Y) = X + Y $\n",
    "##### $ \\hspace{1.925cm} = \\displaystyle{} \\sum_{(x_{i}, y_{k})\\in{}R_{X} \\times{} R_{Y}} (x_{i} + y_{i}) P_{XY}(x_{i}, y_{k}) $\n",
    "##### $ \\hspace{1.925cm} = \\displaystyle{} \\sum_{x_{i}\\in{}R_{X}}\\sum_{y_{k}\\in{}R_{Y}} x_{i} P_{XY}(x_{i}, y_{k}) + \\sum_{y_{k}\\in{}R_{Y}}\\sum_{x_{i}\\in{}R_{X}} y_{k} P_{XY}(x_{i}, y_{k}) $\n",
    "##### $ \\hspace{1.925cm} = \\displaystyle{} \\sum_{x_{i}\\in{}R_{X}} x_{i} \\sum_{y_{k}\\in{}R_{Y}} P_{XY}(x_{i}, y_{k}) + \\sum_{y_{k}\\in{}R_{Y}} y_{k} \\sum_{x_{i}\\in{}R_{X}} P_{XY}(x_{i}, y_{k}) $\n",
    "##### $ \\hspace{1.925cm} = \\displaystyle{} \\sum_{x_{i}\\in{}R_{X}} x_{i} P_{X}(x_{i}) + \\sum_{y_{k}\\in{}R_{Y}} y_{k} P_{Y}(y_{k}) $\n",
    "##### $ \\hspace{1.925cm} = E[X] + E[Y] = E[X+Y] $\n",
    "##### $ \\hspace{0.15cm} \\therefore{} E[X+Y] = E[X] + E[Y] $"
   ]
  }
 ],
 "metadata": {
  "kernelspec": {
   "display_name": "PYTCH",
   "language": "python",
   "name": "python3"
  },
  "language_info": {
   "codemirror_mode": {
    "name": "ipython",
    "version": 3
   },
   "file_extension": ".py",
   "mimetype": "text/x-python",
   "name": "python",
   "nbconvert_exporter": "python",
   "pygments_lexer": "ipython3",
   "version": "3.12.11"
  },
  "orig_nbformat": 4
 },
 "nbformat": 4,
 "nbformat_minor": 2
}
