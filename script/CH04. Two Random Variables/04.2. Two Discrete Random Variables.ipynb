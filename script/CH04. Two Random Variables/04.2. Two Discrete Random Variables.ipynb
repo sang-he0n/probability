{
 "cells": [
  {
   "attachments": {},
   "cell_type": "markdown",
   "metadata": {},
   "source": [
    "# CH04.2. **Two Discrete Random Variables**"
   ]
  },
  {
   "cell_type": "markdown",
   "metadata": {},
   "source": [
    "> ## **이산결합확률 변수(Discrete Joint Random Variable; Discrete Joint RV)**"
   ]
  },
  {
   "cell_type": "markdown",
   "metadata": {},
   "source": [
    "#### **(1) 정의** : **[CONTENTS]**\n",
    "#### $ \\Rightarrow{} $**[LATEX]**"
   ]
  },
  {
   "cell_type": "markdown",
   "metadata": {},
   "source": [
    "#### **(2) 사건의 표현** : \n",
    "#### **[CONTENTS]**\n",
    "<img src=\"../../img/05.1. Two Random Variables (1).png\" width=\"40%\" height=\"40%\"></img>\n",
    "#### $ \\hspace{0.45cm} $**[LATEX]**"
   ]
  },
  {
   "cell_type": "markdown",
   "metadata": {},
   "source": [
    "<b></b>"
   ]
  },
  {
   "cell_type": "markdown",
   "metadata": {},
   "source": [
    "> ## **결합확률 질량 함수(Joint Probability Mass Function; Joint PMF)**"
   ]
  },
  {
   "cell_type": "markdown",
   "metadata": {},
   "source": [
    "#### **(1) 정의** : $2 $개 이상의 이산 확률 변수가 **동시에 발생할 확률**을 매핑한 함수\n",
    "#### $ \\Rightarrow{} P_{XY}(x, y) = P(X=x, Y=y) = P(X\\cap{}Y) $"
   ]
  },
  {
   "cell_type": "markdown",
   "metadata": {},
   "source": [
    "#### **(2) 확률의 표현** : \n",
    "##### **[CONTENTS]**\n",
    "<img src=\"../../img/05.2. Two Discrete Random Variables (2).png\" width=\"50%\" height=\"50%\"></img>\n",
    "##### $ \\hspace{0.15cm} $ ① 점 확률의 표현\n",
    "##### $ \\hspace{0.45cm} $**[LATEX]**"
   ]
  },
  {
   "cell_type": "markdown",
   "metadata": {},
   "source": [
    "#### **(3) 성질(조건)** :\n",
    "##### $ \\hspace{0.15cm} $ ① $0 \\leq{} P(X=x, Y=y) \\leq{} 1 \\;\\; \\forall{} \\; x $\n",
    "##### $ \\hspace{0.15cm} $ ② $\\sum_{(x_{i}, y_{k}) \\in{}R_{XY}} P(X=x_{i}, Y=y_{k}) = 1 $\n",
    "##### $ \\hspace{0.15cm} $ ③ 어떠한 부분집합 $A \\subset{} \\mathbb{R}^{2} $을 만족할 때, $P((X, Y)\\in{}A) = \\sum_{(x_{i}, y_{k})\\in{}(A\\cap{}R_{XY})}P(X=x_{i}, Y=y_{k}) $\n",
    "$ \\hspace{0.45cm} $<img src=\"../../img/05.2. Two Discrete Random Variables (3).png\" width=\"20%\" height=\"20%\"></img>"
   ]
  },
  {
   "cell_type": "markdown",
   "metadata": {},
   "source": [
    "#### **(4) 주변확률 질량 함수(Marginal PMF)** : **하나의 확률 변수에 대해** 다른 이산 확률 변수 관계없이 정의하는 함수\n",
    "##### $ \\hspace{0.15cm} $ ① 이산 확률 변수 $X $의 확률 질량 함수 : $P_{X}(x) = \\sum_{y_{k} \\in R_{Y}} P(X=x, Y=y_{k}) $\n",
    "##### $ \\hspace{0.15cm} $ ② 이산 확률 변수 $Y $의 확률 질량 함수 : $P_{Y}(y) = \\sum_{x_{i} \\in R_{X}} P(X=x_{i}, Y=y) $"
   ]
  },
  {
   "cell_type": "markdown",
   "metadata": {},
   "source": [
    "##### **(`WHY?`)** (Theorem 4-1) **결합확률 변수의 전체 확률의 법칙(Law of Total Probability)**\n",
    "##### $ \\hspace{0.15cm} $이산 확률 변수 $X $와 분할된(partitioned) 이산 확률 변수 $Y $의 결합합확률 변수의 전체확률법칙은 아래와 같음\n",
    "##### $ \\hspace{0.15cm} \\Rightarrow{} P(X=x) = \\sum_{y_{k}\\in{}R_{Y}}P(X=x, Y=y) = \\sum_{y_{k}\\in{}R_{Y}}P(Y=y_{k})P(X=x|Y=y_{k}) $\n",
    "##### $ \\hspace{0.15cm} $<img src=\"../../img/05.2. Two Discrete Random Variables (4).png\" width=\"30%\" height=\"30%\"></img>"
   ]
  },
  {
   "cell_type": "markdown",
   "metadata": {},
   "source": [
    "#### **(5) 예시** :\n",
    "##### 결합확률 질량 함수 $P(X, Y) $가 아래의 표로 정의될 때\n",
    "| $P(X, Y) $| $Y = y_{1} = 1 $| $Y = y_{2} = 2 $| $Y =  y_{3} = 5 $|\n",
    "|-|-|-|-|\n",
    "| $X = x_{1} = 0 $ | $0.1 $| $0 $| $0.2 $|\n",
    "| $X = x_{2} = 1 $ | $0.5 $| $0.2 $| $0 $|\n",
    "##### $ \\hspace{0.15cm} $ ① 확률 $P(0\\leq{}X\\leq{}1, \\;\\; 1\\leq{}Y\\leq{}2) $의 값은?\n",
    "##### $ \\hspace{0.45cm} \\therefore{} P(0\\leq{}X\\leq{}1, \\;\\; 1\\leq{}Y\\leq{}2) = \\sum_{i=1}^{2}\\sum_{k=1}^{3} P(X=x_{i}, Y=y_{k}) = 0.8 $\n",
    "##### $ \\hspace{0.15cm} $ ② 주변 확률 질량 함수 $P(X=x) $의 정의는?\n",
    "##### $ \\hspace{0.45cm} \\therefore{} P_{X}(x) = \\begin{cases} \\sum_{k=1}^{3} P(X=0, Y=y_{k}) = 0.3, \\;\\; x=0 \\\\ \\sum_{k=1}^{3} P(X=1, Y=y_{k}) = 0.7, \\;\\; x=1 \\end{cases} $\n",
    "##### $ \\hspace{0.15cm} $ ③ 주변 확률 질량 함수 $P(Y=y) $의 정의는?\n",
    "##### $ \\hspace{0.45cm} \\therefore{} P(Y=y) = \\begin{cases} \\sum_{x=1}^{2} P(X=x_{i}, Y=1) = 0.5, \\;\\; y=1 \\\\ \\sum_{x=1}^{2} P(X=x_{i}, Y=2) = 0.2, \\;\\; y=2 \\\\ \\sum_{x=1}^{2} P(X=x_{i}, Y=5) = 0.2, \\;\\; y=5 \\end{cases} $"
   ]
  },
  {
   "cell_type": "markdown",
   "metadata": {},
   "source": [
    "<b></b>"
   ]
  },
  {
   "cell_type": "markdown",
   "metadata": {},
   "source": [
    "> ## **결합누적 분포 함수(Joint Cumulative Distribution Function; Joint CDF)**"
   ]
  },
  {
   "cell_type": "markdown",
   "metadata": {},
   "source": [
    "#### **(1) 정의** : 결합 이산 확률 변수의 값이 특정 값 **이하**일 확률을 나타내는 함수\n",
    "#### $ \\Rightarrow{} F_{XY}(x,\\; y) = F(X=x,\\; Y=y) = P(X\\leq{}x,\\; Y\\leq{}y) $"
   ]
  },
  {
   "cell_type": "markdown",
   "metadata": {},
   "source": [
    "#### **(2) 성질** :\n",
    "##### $ \\hspace{0.15cm} $ ① $F(X\\leq{}\\infty{},\\; Y\\leq{}\\infty{}) = 1 $\n",
    "##### $ \\hspace{0.15cm} $ ② $F(X\\leq{}-\\infty{},\\; Y\\leq{}y) = 0 $\n",
    "##### $ \\hspace{0.15cm} $ ③ $F(X\\leq{}x,\\; Y\\leq{}-\\infty{}) = 0 $\n",
    "##### $ \\hspace{0.15cm} $ ④ $F(X\\leq{}-\\infty{},\\; Y\\leq{}-\\infty{}) = 0 $"
   ]
  },
  {
   "cell_type": "markdown",
   "metadata": {},
   "source": [
    "#### **(`PLUS`)**\n",
    "##### $ \\hspace{0.15cm} \\underbrace{P(x_{1}<X\\leq{}x_{2},\\; y_{1}<Y\\leq{}y_{2})}_{\\text{RED}} = \\underbrace{F_{XY}(x_{2},\\; y_{2})}_{\\text{YELLOW}} - \\underbrace{F_{XY}(x_{1},\\; y_{2})}_{\\text{GREEN}} - \\underbrace{F_{XY}(x_{2},\\; y_{1})}_{\\text{GREEN}} + \\underbrace{F_{XY}(x_{1},\\; y_{1})}_{\\text{BLUE}} $\n",
    "<p align=\"center\">  \n",
    "    <img src=\"../../img/05.2. Two Discrete Random Variables (5).png\" align=\"center\" width=\"17.5%\">  \n",
    "    <img src=\"../../img/05.2. Two Discrete Random Variables (6).png\" align=\"center\" width=\"17.5%\">  \n",
    "    <img src=\"../../img/05.2. Two Discrete Random Variables (7).png\" align=\"center\" width=\"17.5%\">  \n",
    "    <img src=\"../../img/05.2. Two Discrete Random Variables (8).png\" align=\"center\" width=\"17.5%\">  \n",
    "    <img src=\"../../img/05.2. Two Discrete Random Variables (9).png\" align=\"center\" width=\"17.5%\">  \n",
    "</p>"
   ]
  },
  {
   "cell_type": "markdown",
   "metadata": {},
   "source": [
    "#### **(3) 주변 누적 분포 함수(Marginal CDF)** : **하나의 확률 변수에 대해** 다른 확률 변수 관계없이 정의하는 함수\n",
    "##### $ \\hspace{0.15cm} $ ① 확률 변수 $\\; X $의 누적 분포 함수 : $F(X=x) = P(X\\leq{}x,\\; Y\\leq{}\\infty{}) = \\sum_{y_{k}\\in{}Y(S)} P(X\\leq{}x,\\; Y=y_{k}) = P(X\\leq{}x) $\n",
    "##### $ \\hspace{0.15cm} $ ② 확률 변수 $\\; Y $의 누적 분포 함수 : $F(Y=y) = P(X\\leq{}\\infty{},\\; Y\\leq{}y) = \\sum_{x_{i}\\in{}X(S)} P(X=x_{i},\\; Y\\leq{}y) = P(Y\\leq{}y) $"
   ]
  },
  {
   "cell_type": "markdown",
   "metadata": {},
   "source": [
    "#### **(4) 예시** :\n",
    "##### 결합확률 질량 함수 $P(X,\\; Y) $가 아래의 표로 정의될 때\n",
    "| $P(X,\\; Y) $| $Y = 1 $| $Y = 2 $| $Y = 5 $|\n",
    "|-|-|-|-|\n",
    "| $X = 0 $ | $0.1 $| $0 $| $0.2 $|\n",
    "| $X = 1 $ | $0.5 $| $0.2 $| $0 $|\n",
    "##### $ \\hspace{0.15cm} $ ① 주변 누적 분포 함수 $F(X=x) $의 정의는?\n",
    "##### $ \\hspace{0.45cm} \\cdot{} \\, P(X=x) = \\begin{cases} 0.3, \\;\\; x=0 \\\\ 0.7, \\;\\; x=1 \\end{cases} $\n",
    "##### $ \\hspace{0.45cm} \\therefore{} F(X=x) = P(X\\leq{}x) = \\begin{cases} 0, \\;\\;\\;\\;\\; x < 0 \\\\ 0.3, \\;\\; 0 \\leq{} x < 1 \\\\ 1, \\;\\;\\;\\;\\; x \\geq{} 1 \\end{cases} $\n",
    "##### $ \\hspace{0.15cm} $ ② 주변 누적 분포 함수 $F(Y=y) $의 정의는?\n",
    "##### $ \\hspace{0.45cm} $**[LATEX]**"
   ]
  },
  {
   "cell_type": "markdown",
   "metadata": {},
   "source": [
    "<b></b>"
   ]
  },
  {
   "cell_type": "markdown",
   "metadata": {},
   "source": [
    "> ## **조건부 확률 질량 함수(Conditional PMF)**"
   ]
  },
  {
   "cell_type": "markdown",
   "metadata": {},
   "source": [
    "#### **(1) 정의** : 결합확률 질량 함수에서 **하나의 확률 변수가 특정 값을 취했을 때** 다른 확률 변수에 대한 함수\n",
    "#### $ \\Rightarrow{} P_{X|Y}(x|y_{k}) = P(X=x|Y=y_{k}) = \\frac{P(X=x,\\; Y=y_{k})}{P(Y=y_{k})} = \\frac{P(\\{X=x\\} \\cap{} \\{Y=y_{k}\\})}{P(Y=y_{k})} \\;\\; \\text{ for any } \\, x \\in{} X(S),\\; y_{k} \\in{} Y(S) $"
   ]
  },
  {
   "cell_type": "markdown",
   "metadata": {},
   "source": [
    "#### **(2) 예시** :\n",
    "##### 결합확률 질량 함수 $P(X, Y) $가 아래의 표로 정의될 때\n",
    "| $P(X,\\; Y) $| $Y = 1 $| $Y = 2 $| $Y = 5 $|\n",
    "|-|-|-|-|\n",
    "| $X = 0 $ | $0.1 $| $0 $| $0.2 $|\n",
    "| $X = 1 $ | $0.5 $| $0.2 $| $0 $|\n",
    "##### $ \\hspace{0.15cm} $ ① 확률 변수 $X = 0 $인 확률 변수 $Y $의 조건부 확률 질량 함수는?\n",
    "##### $ \\hspace{0.45cm} \\cdot{} \\, P(X=x) = \\begin{cases} 0.3, \\;\\; x=0 \\\\ 0.7, \\;\\; x=1 \\end{cases} $\n",
    "##### $ \\hspace{0.45cm} \\therefore{} P(Y=y|X=0) = \\begin{cases} \\frac{P(X=0,\\; Y=y)}{P(X=0)} = \\frac{0.1}{0.3} = \\frac{1}{3}, \\;\\; y=1 \\\\ \\frac{P(X=0,\\; Y=y)}{P(X=0)} = \\frac{0}{0.3} = 0, \\;\\; y=2 \\\\ \\frac{P(X=0,\\; Y=y)}{P(X=0)} = \\frac{0.2}{0.3} = \\frac{2}{3}, \\;\\; y=5 \\end{cases} $\n",
    "##### $ \\hspace{0.15cm} $ ② 확률 변수 $X = 1 $인 확률 변수 $Y $의 조건부 확률 질량 함수는?\n",
    "##### $ \\hspace{0.45cm} \\therefore{} P(Y=y|X=1) = \\begin{cases} \\frac{P(X=0,\\; Y=y)}{P(X=1)} = \\frac{0.5}{0.7} = \\frac{5}{7}, \\;\\; y=1 \\\\ \\frac{P(X=0,\\; Y=y)}{P(X=1)} = \\frac{2}{0.7} = \\frac{7}{2}, \\;\\; y=2 \\\\ \\frac{P(X=0,\\; Y=y)}{P(X=1)} = \\frac{0}{0.7} = 0, \\;\\; y=5 \\end{cases} $"
   ]
  },
  {
   "cell_type": "markdown",
   "metadata": {},
   "source": [
    "<b></b>"
   ]
  },
  {
   "cell_type": "markdown",
   "metadata": {},
   "source": [
    "> ## **조건부 기대값(Conditional Expectation)**"
   ]
  },
  {
   "cell_type": "markdown",
   "metadata": {},
   "source": [
    "#### **(1) 정의** : 하나의 이산 확률 변수가 특정 값을 취할 때 다른 이산 확률 변수의 기대값\n",
    "#### $ \\Rightarrow{} E(X=x|Y=y_{k}) = \\sum_{x_{i}\\in{}X(S)} x_{i} P(X=x|Y=y_k) $"
   ]
  },
  {
   "cell_type": "markdown",
   "metadata": {},
   "source": [
    "#### **(2) 예시** :\n",
    "##### $ \\hspace{0.15cm} $ ① 공평한 주사위를 $1 $회 던져 주사위눈이 $3 $이하인 사건을 $A $라고 정의할 때 $E(X|A) $는?\n",
    "##### $ \\hspace{0.45cm} \\cdot{} \\, X $: 주사위눈이 나온 결과\n",
    "##### $ \\hspace{0.45cm} \\cdot{} \\, P(X=x|A) = \\frac{P(X=x,\\; A)}{P(A)} = \\begin{cases} \\frac{P(X=1,\\; A)}{P(A)} = \\frac{\\frac{1}{6}}{\\frac{1}{2}} = \\frac{1}{3}, \\;\\; x=1 \\\\ \\frac{P(X=2,\\; A)}{P(A)} = \\frac{\\frac{1}{6}}{\\frac{1}{2}} = \\frac{1}{3}, \\;\\; x=2 \\\\ \\frac{P(X=3,\\; A)}{P(A)} = \\frac{\\frac{1}{6}}{\\frac{1}{2}} = \\frac{1}{3}, \\;\\; x=3 \\end{cases} $\n",
    "##### $ \\hspace{0.45cm} \\therefore{} E(X|A) = xP(X=x|A) = 1 \\times{} \\frac{1}{3} + 2 \\times{} \\frac{1}{3} + 3 \\times{} \\frac{1}{3} = 2 $\n",
    "##### $ \\hspace{0.15cm} $ ② 동전의 앞면이 나올 확률이 $p $이며 확률 변수 $X $는 앞면이 나올 때까지 던진 횟수이고, 첫 시행 결과에 대한 조건부 확률은?\n",
    "##### $ \\hspace{0.45cm} \\cdot{} \\, X $: 첫 앞면을 볼 때까지의 동전을 던진 횟수 $\\sim{} \\text{Geometric}(p) $\n",
    "##### $ \\hspace{0.45cm} \\cdot{} \\, A = \\{ H,\\; T \\}$: 첫 번째 시도에서 나온 사건\n",
    "##### $ \\hspace{0.45cm} \\therefore{} E(X) = E(X|A=\\{H\\}) \\cdot{} P(H) + E(X|A=\\{T\\}) \\cdot{} P(T) $\n",
    "##### $ \\hspace{1.75cm} = 1 \\cdot{} p + (1 + E(X))(1-p) \\;\\; $($\\because{} \\text{ each coin toss is independen.} $)\n",
    "##### $ \\hspace{1.75cm} = \\frac{1}{p} $"
   ]
  },
  {
   "cell_type": "markdown",
   "metadata": {},
   "source": [
    "<b></b>"
   ]
  },
  {
   "cell_type": "markdown",
   "metadata": {},
   "source": [
    "> ## (Theorem 4-2) **전체 기댓값의 법칙(Law of Total Expectation)**"
   ]
  },
  {
   "cell_type": "markdown",
   "metadata": {},
   "source": [
    "#### 확률 변수 $X $와 분할된(partitioned) 확률 변수 $Y $의 결합확률 변수 기댓값의 전체확률법칙은 아래와 같다.\n",
    "#### $ \\Rightarrow{} E(X) = \\sum_{x_{i}\\in{}X(S)} x_{i}P(X=x_{i}) $\n",
    "#### $ \\hspace{1.4cm} = \\sum_{x_{i}\\in{}X(S)}P(X=x_{i}) \\sum_{y_{k}\\in{}Y(S)}P(Y=y_{k})P(X=x_{i}|Y=y_{k}) \\cdots{} $\n",
    "#### $ \\hspace{1.4cm} = \\sum_{y_{k}\\in{}Y(S)} P(Y=y_{k}) \\sum_{x_{i}\\in{}X(S)} P(X=X_{i})P(X=x_{i}|Y=y_{k}) \\cdots{} $\n",
    "#### $ \\hspace{1.4cm} = \\sum_{y_{k}\\in{}Y(S)} P(Y=y_{k}) E(X=x_{i}|Y=y_{k}) $"
   ]
  },
  {
   "cell_type": "markdown",
   "metadata": {},
   "source": [
    "<b></b>"
   ]
  },
  {
   "cell_type": "markdown",
   "metadata": {},
   "source": [
    "> ## **조건부 분산(Conditional Variance)**"
   ]
  },
  {
   "cell_type": "markdown",
   "metadata": {},
   "source": [
    "#### **(1) 정의** : 조건부 기대값으로부터 얼마나 떨어져 있는지를 측정한 값(지표)\n",
    "#### $ \\Rightarrow{} \\text{var}(X=x|Y=y_{k}) = E[(X-E(X))^{2}|Y=y_{k}] $\n",
    "#### $ \\hspace{3.475cm} = $**[LATEX]**\n",
    "#### $ \\hspace{3.475cm} = E(X^{2}|Y=y_{k}) - (E(X|Y=y_{k}))^{2}  $"
   ]
  },
  {
   "cell_type": "markdown",
   "metadata": {},
   "source": [
    "<b></b>"
   ]
  },
  {
   "cell_type": "markdown",
   "metadata": {},
   "source": [
    "> ## **이산결합확률 변수의 독립(Independnece of Discrete Joint RV)**"
   ]
  },
  {
   "cell_type": "markdown",
   "metadata": {},
   "source": [
    "#### **(1) 정의** : 한 이산 확률 변수가 일어날 확률이 다른 이산 확률 변수가 일어날 확률에 영향을 미치지 않는 관계\n",
    "#### $ \\Rightarrow{} P(X=x,\\; Y=y) = P(X=x)P(Y=y), \\;\\; \\forall{} \\; x \\in{} X(S),\\; y \\in{} Y(S) $\n",
    "#### $\\Leftrightarrow{} P(X=x|Y=y) = \\frac{P(X=x,\\; Y=y)}{P(Y=y)} = \\frac{P(X=x)P(Y=y)}{P(Y=y)} = P(X=x), \\;\\; \\forall{} \\; x \\in{} X(S),\\; y \\in{} Y(S) $\n",
    "#### $\\Leftrightarrow{} P(Y=y|X=x) = \\frac{P(Y=y,\\; X=x)}{P(X=x)} = \\frac{P(Y=y)P(X=x)}{P(X=x)} = P(Y=y), \\;\\; \\forall{} \\; x \\in{} X(S),\\; y \\in{} Y(S) $"
   ]
  },
  {
   "cell_type": "markdown",
   "metadata": {},
   "source": [
    "##### **(`PLUS`)** 결합 누적 분포 함수에서도 동일하게 적용됨\n",
    "##### $ \\hspace{0.15cm} \\Rightarrow{} F(X=x,\\; Y=y) = F(X=x)F(Y=y), \\;\\; \\forall{} \\; x \\in{} X(S),\\; y \\in{} Y(S) $"
   ]
  },
  {
   "cell_type": "markdown",
   "metadata": {},
   "source": [
    "#### **(2) 해석** : \n",
    "#### 두 확률 변수가 독립 관계일 경우, 확률 변수 $Y $는 확률 변수 $X $에 대하여 어떠한 정보도 제공하지 않음\n",
    "#### $= $확률 변수 $X $의 분포에서 확률 변수 $Y $는 어떠한 영향을 미치지 않음 "
   ]
  },
  {
   "cell_type": "markdown",
   "metadata": {},
   "source": [
    "#### **(3) 예시** :\n",
    "##### 결합확률 질량 함수 $P(X, Y) $가 아래의 표로 정의될 때\n",
    "| $P(X, Y) $| $Y = 1 $| $Y = 2 $| $Y = 5 $|\n",
    "|-|-|-|-|\n",
    "| $X = 0 $ | $0.1 $| $0 $| $0.2 $|\n",
    "| $X = 1 $ | $0.5 $| $0.2 $| $0 $|\n",
    "##### $ \\hspace{0.15cm} $ ① 확률 변수 $X, Y $는 독립관계인가?\n",
    "##### $ \\hspace{0.45cm} \\rightarrow{} P(Y=y|X=x) = P(Y=y) ? \\;\\; \\forall{} \\; x \\in{} X(S), y \\in{} Y(S) $\n",
    "##### $ \\hspace{0.45cm} \\cdot{} \\, P(Y=y) = \\begin{cases} 0.6, \\;\\; y=1 \\\\ 0.2, \\;\\; y=2 \\\\ 0.2, \\;\\; y=5 \\end{cases} $\n",
    "##### $ \\hspace{0.45cm} \\cdot{} \\, P(Y=y|X=0) = \\begin{cases} \\frac{1}{3}, \\;\\; y=1 \\\\ 0, \\;\\; y=2 \\\\ \\frac{2}{3}, \\, y=5 \\end{cases} $\n",
    "##### $ \\hspace{0.45cm} \\cdot{} \\, P(Y=y|X=1) = \\begin{cases} \\frac{5}{7}, \\;\\; y=1 \\\\ \\frac{2}{7}, \\;\\; y=2 \\\\ 0, \\;\\; y=5 \\end{cases} $\n",
    "##### $ \\hspace{0.45cm} \\therefore{} P(Y=y|X=x) \\neq{} P(Y=y), \\;\\; X, Y \\, \\text{ are not independent}. $"
   ]
  },
  {
   "cell_type": "markdown",
   "metadata": {},
   "source": [
    "<b></b>"
   ]
  },
  {
   "cell_type": "markdown",
   "metadata": {},
   "source": [
    "> ## **이산결합확률 변수의 합성함수(Composite Functions of Discrete Joint RV)**"
   ]
  },
  {
   "cell_type": "markdown",
   "metadata": {},
   "source": [
    "#### **(1) 정의** : 이산결합확률 변수를 다른 실수 공간으로 대응시킨 **확률 변수**\n",
    "#### $ \\Rightarrow{} Z = g \\circ{} (X,Y) = g(X, Y) : S \\rightarrow{} \\mathbb{R} \\;\\; $(※ $g : \\mathbb{R}^2 \\rightarrow{} \\mathbb{R} $)\n",
    "<img src=\"../../img/05.2. Two Discrete Random Variables (10).png\" width=\"50%\" height=\"50%\"></img>"
   ]
  },
  {
   "cell_type": "markdown",
   "metadata": {},
   "source": [
    "#### **(2) 합성함수의 확률** :\n",
    "#### $ \\Rightarrow{} P(Z=z_{m}) = P(g(X, Y)=z_{m}) = \\sum_{(x_{i},\\;y_{k}) \\in{} A_{z_{m}} } P_{XY}(x_{i},\\; y_{k}) $\n",
    "#### $ \\hspace{0.15cm} \\text{where } \\; A_{z_{m}} = \\{ (x_{i},\\; y_{k}) \\; | \\; Z(X,\\; Y) = z_{m} \\;\\; \\& \\;\\; (x_{i},\\; y_{k}) \\in{} (X,\\;Y)(S) \\} $"
   ]
  },
  {
   "cell_type": "markdown",
   "metadata": {},
   "source": [
    "#### **(3) 합성함수의 기댓값** : \n",
    "#### $ \\Rightarrow{} E(Z) = \\sum_{z_{m}\\in{}Z(X,\\;Y)} z_{m} \\sum_{(x_{i},\\; y_{k})\\in{}A_{z_{k}}} P(X=x_{i},\\; Y=y_{k}) $\n",
    "#### $ \\hspace{1.35cm} = \\sum_{z_{m}\\in{}Z(X,\\;Y)} \\sum_{(x_{i},\\; y_{k})\\in{}A_{z_{k}}} z_{m} P(X=x_{i},\\; Y=y_{k}) $\n",
    "#### $ \\hspace{1.35cm} = \\sum_{(x_{i},\\; y_{k})\\in{}(X,\\;Y)(S)} g(X=x_{i},\\; Y=y_{k})P(X=x_{i},\\; Y=y_{i}) $"
   ]
  },
  {
   "cell_type": "markdown",
   "metadata": {},
   "source": [
    "##### **(`PLUS`) 기대값의 선형성 증명** :\n",
    "##### $ \\hspace{0.15cm} E(g(X,\\; Y)) = \\sum_{(x_{i},\\; y_{k})\\in{}(X,Y)(S)} g(x_{i},\\; y_{k}) P(X=x_{i},\\; Y=y_{k}) \\;\\; \\text{if } \\, g(X,\\; Y) = X + Y $\n",
    "##### $ \\hspace{2.1cm} = \\sum_{(x_{i},\\; y_{k})\\in{}X(S) \\times{} Y(S)} g(x_{i},\\; y_{k}) P(X=x_{i},\\; Y=y_{k}) $\n",
    "##### $ \\hspace{2.1cm} = \\sum_{(x_{i},\\; y_{k})\\in{}X(S) \\times{} Y(S)} (x_{i}+y_{k}) P(X=x_{i},\\; Y=y_{k}) $\n",
    "##### $ \\hspace{2.1cm} = \\sum_{(x_{i},\\; y_{k})\\in{}X(S) \\times{} Y(S)} x_{i} P(X=x_{i},\\; Y=y_{k}) + \\sum_{(x_{i},\\; y_{k})\\in{}X(S) \\times{} Y(S)} y_{k} P(X=x_{i},\\; Y=y_{k}) $\n",
    "##### $ \\hspace{2.1cm} = \\sum_{x_{i}\\in{}X(S)}\\sum_{y_{k}\\in{}Y(S)} x_{i} P(X=x_{i},\\; Y=y_{k}) + \\sum_{y_{k}\\in{}Y(S)}\\sum_{x_{i}\\in{}X(S)} y_{k} P(X=x_{i},\\; Y=y_{k}) $\n",
    "##### $ \\hspace{2.1cm} = \\sum_{x_{i}\\in{}X(S)} x_{i} \\sum_{y_{k}\\in{}Y(S)} P(X=x_{i},\\; Y=y_{k}) + \\sum_{y_{k}\\in{}Y(S)} y_{k} \\sum_{x_{i}\\in{}X(S)} P(X=x_{i},\\; Y=y_{k}) $\n",
    "##### $ \\hspace{2.1cm} = E(X) + E(Y) $\n",
    "##### $ \\hspace{0.15cm} \\therefore{} E(X+Y) = E(X) + E(Y) $"
   ]
  },
  {
   "cell_type": "markdown",
   "metadata": {},
   "source": [
    "##### **(`PLUS`) 두 이산 확률 변수가 독립 관계일 때 $E(XY)$** :\n",
    "##### $ \\hspace{0.15cm} E(XY) = \\sum_{(x_{i},\\; y_{k})\\in{}(X(S)\\times{}Y(S))} x_{i}y_{k}P(X=x_{i},\\; Y=y_{k}) \\;\\; $\n",
    "##### $ \\hspace{1.375cm} = \\sum_{X_{i}\\in{}X(S)} \\sum_{y_{k}\\in{}Y(S)} x_{i}y_{k}P(X=x_{i})P(Y=y_{k}) $\n",
    "##### $ \\hspace{1.375cm} = \\sum_{X_{i}\\in{}X(S)} x_{i} P(Y=y_{k}) \\sum_{y_{k}\\in{}Y(S)} y_{k} P(X=x_{i}) $\n",
    "##### $ \\hspace{1.375cm} = E(X)E(Y) $\n",
    "##### $ \\hspace{0.15cm} \\therefore{} E(XY) = E(X)E(Y) $"
   ]
  },
  {
   "cell_type": "markdown",
   "metadata": {},
   "source": [
    "#### **(4) 합성함수의 분산** :\n",
    "#### $ \\Rightarrow{} \\text{var}(Z) = E(Z^{2}) - E(Z)^{2} = \\sum_{(x_{i},\\;y_{k})\\in{}(X,\\;Y)(S)} g(x_{i},\\; y_{k})^{2} P(X=X_{i},\\; Y=y_{k}) - E(Z)^{2} $"
   ]
  },
  {
   "cell_type": "markdown",
   "metadata": {},
   "source": [
    "<b></b>"
   ]
  },
  {
   "cell_type": "markdown",
   "metadata": {},
   "source": [
    "> ## (Theorem 4-3) **반복 기대값의 성질(Law of Iterated Expectation)**"
   ]
  },
  {
   "cell_type": "markdown",
   "metadata": {},
   "source": [
    "#### 확률 변수 $X $의 기대값은 아래와 같이 확률 변수 $Y $에 대한 기대값의 기대값과 동일하다.\n",
    "#### $ \\Rightarrow{} E(X) = E[E(X|Y)] $"
   ]
  },
  {
   "cell_type": "markdown",
   "metadata": {},
   "source": [
    "##### **(`WHY?`)**\n",
    "##### $ \\hspace{0.15cm} E(X|Y=y_{k}) = g(Y) \\;\\; \\text{ where } \\; g(Y) = g \\circ{} Y =  E(X|Y=y) : \\mathbb{R} \\rightarrow{} \\mathbb{R} $\n",
    "##### $ \\hspace{0.15cm} \\rightarrow{} E(X|Y) \\, \\text{ is a random variable}. $\n",
    "##### $ \\hspace{0.15cm} E[E(X|Y)] = \\sum_{y_{k}\\in{}Y(S)} E(X|Y=y_{k}) P(Y=y_{k}) $\n",
    "##### $ \\hspace{1.95cm} = E(X) \\;\\; $($\\because{} $Theorem 4-2. 전체 기댓값의 법칙)"
   ]
  },
  {
   "cell_type": "markdown",
   "metadata": {},
   "source": [
    "<b></b>"
   ]
  },
  {
   "cell_type": "markdown",
   "metadata": {},
   "source": [
    "> ## (Theorem 4-4) **전체 분산의 법칙(Law of Total Variance)**"
   ]
  },
  {
   "cell_type": "markdown",
   "metadata": {},
   "source": [
    "#### **[CONTENTS]**\n",
    "#### $ \\Rightarrow{} \\text{var}(X) = E(\\text{var}(X|Y)] + \\text{var}(E(X|Y)) $"
   ]
  },
  {
   "cell_type": "markdown",
   "metadata": {},
   "source": [
    "##### **(`WHY?`)**\n",
    "##### $ \\hspace{0.15cm} $**[LATEX]**"
   ]
  }
 ],
 "metadata": {
  "kernelspec": {
   "display_name": "Python 3",
   "language": "python",
   "name": "python3"
  },
  "language_info": {
   "codemirror_mode": {
    "name": "ipython",
    "version": 3
   },
   "file_extension": ".py",
   "mimetype": "text/x-python",
   "name": "python",
   "nbconvert_exporter": "python",
   "pygments_lexer": "ipython3",
   "version": "3.8.12"
  },
  "orig_nbformat": 4
 },
 "nbformat": 4,
 "nbformat_minor": 2
}
