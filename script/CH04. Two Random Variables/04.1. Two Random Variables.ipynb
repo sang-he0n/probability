{
 "cells": [
  {
   "attachments": {},
   "cell_type": "markdown",
   "metadata": {},
   "source": [
    "# CH04.1. **Two Random Variables**"
   ]
  },
  {
   "cell_type": "markdown",
   "metadata": {},
   "source": [
    "> ## **결합확률변수(Joint Random Variable; Joint RV)**"
   ]
  },
  {
   "cell_type": "markdown",
   "metadata": {
    "vscode": {
     "languageId": "plaintext"
    }
   },
   "source": [
    "#### **(1) 정의** : 표본 공간의 결과를 $ 2 $ 개 이상의 확률변수로 매핑한 함수\n",
    "#### $ \\Rightarrow{} (X_{1}, X_{2}, \\cdots{}, X_{n}) : S \\rightarrow{} \\mathbb{R}^{n} $"
   ]
  },
  {
   "cell_type": "markdown",
   "metadata": {},
   "source": [
    "#### **(2) 종류와 형식** : \n",
    "##### $ \\hspace{0.15cm} $ ① 이산결합확률변수(Discrete Joint Random Variable) \n",
    "##### $ \\hspace{0.3cm} $ <img src=\"../../img/05.1. Two Random Variables (1).png\" width=\"40%\" height=\"40%\"></img>\n",
    "##### $ \\hspace{0.15cm} $ ② 연속결합확률변수(Continuous Joint Random Variable)\n",
    "##### $ \\hspace{0.3cm} $ <img src=\"../../img/05.1. Two Random Variables (2).png\" width=\"40%\" height=\"40%\"></img>"
   ]
  },
  {
   "cell_type": "markdown",
   "metadata": {},
   "source": [
    "##### **(`PLUS`)** 결합확률변수에 사용된 확률변수 $ \\; X,\\; Y $ 는 같은 표본공간을 **공유하지 않을수도** 있음"
   ]
  },
  {
   "cell_type": "markdown",
   "metadata": {},
   "source": [
    "##### **(`PLUS`) 결합확률변수의 치역(range)** : \n",
    "##### $ \\hspace{0.15cm} \\Rightarrow{} R_{XY} = (X,\\;Y)(S) = \\{ (x,\\; y) \\; | \\; P(X=x,\\; Y=y) > 0 \\} \\;\\; \\cdots{} \\, (\\text{strict}) $\n",
    "##### $ \\hspace{3.495cm} \\approx{}  \\{ (x,\\; y) \\; | \\; x \\in{} X(S),\\; y \\in{} Y(S) \\} = X(S) \\times{} Y(S) \\;\\; \\cdots{} \\, (\\text{comfortable}) $"
   ]
  },
  {
   "cell_type": "markdown",
   "metadata": {},
   "source": [
    "#### **(3) 예시** : \n",
    "##### $ \\hspace{0.15cm} $ ① **[CONTENTS]**\n",
    "##### $ \\hspace{0.15cm} $ ② **[CONTENTS]**\n",
    "##### $ \\hspace{0.15cm} $ ③ **[CONTENTS]**"
   ]
  }
 ],
 "metadata": {
  "kernelspec": {
   "display_name": "Python 3",
   "language": "python",
   "name": "python3"
  },
  "language_info": {
   "codemirror_mode": {
    "name": "ipython",
    "version": 3
   },
   "file_extension": ".py",
   "mimetype": "text/x-python",
   "name": "python",
   "nbconvert_exporter": "python",
   "pygments_lexer": "ipython3",
   "version": "3.8.12"
  },
  "orig_nbformat": 4
 },
 "nbformat": 4,
 "nbformat_minor": 2
}
