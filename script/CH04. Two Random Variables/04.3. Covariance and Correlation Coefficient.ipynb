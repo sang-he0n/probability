{
 "cells": [
  {
   "attachments": {},
   "cell_type": "markdown",
   "metadata": {},
   "source": [
    "# CH04.3. **Covariance and Correlation Coefficient**"
   ]
  },
  {
   "cell_type": "markdown",
   "metadata": {},
   "source": [
    "> ## **공분산(Covariance)**"
   ]
  },
  {
   "cell_type": "markdown",
   "metadata": {},
   "source": [
    "#### **(1) 정의** : 두 확률 변수의 선형 관계를 측정하는 지표\n",
    "#### $ \\Rightarrow{} \\text{cov}(X,Y) = E[(X-E[X](Y-E[Y]))] $\n",
    "#### $ \\hspace{2.2cm} = E[XY-XE[Y]-E[X]Y+E[X]E[Y]] $\n",
    "#### $ \\hspace{2.2cm} = E[XY] - E[X]E[Y] - E[X]E[Y] + E[X]E[Y] $\n",
    "#### $ \\hspace{2.2cm} = E[XY] - E[X]E[Y] $"
   ]
  },
  {
   "cell_type": "markdown",
   "metadata": {},
   "source": [
    "#### **(2) 확률 변수 별 계산** :\n",
    "##### $ \\hspace{0.15cm} $ ① 이산 확률 변수 : \n",
    "##### $ \\hspace{0.45cm} \\Rightarrow{} \\text{cov}(X,Y) = \\sum_{(x_{i},y_{k})\\in{}{}(X,Y)(\\Omega{})} (x_{i}-E[X])(y_{k}-E[Y])P_{XY}(x_{i},y_{k}) $\n",
    "##### $ \\hspace{0.15cm} $ ② 연속확률 변수 : \n",
    "##### $ \\hspace{0.45cm} \\Rightarrow{} \\text{cov}(X,Y) = \\int^{\\infty{}}_{-\\infty{}} \\int^{\\infty{}}_{-\\infty{}} (x_{i}-E[X])(y_{k}-E[Y])f_{XY}(x_{i},y_{k}) \\text{d}x \\text{d}y $"
   ]
  },
  {
   "cell_type": "markdown",
   "metadata": {},
   "source": [
    "#### **(3) 성질** :\n",
    "##### $ \\hspace{0.15cm} $ ① $ \\text{cov}(X,X) = \\text{var}[X] $\n",
    "##### $ \\hspace{0.15cm} $ ② $ \\text{cov}(X,Y) = \\text{cov}(Y,X) $\n",
    "##### $ \\hspace{0.15cm} $ ③ $ \\text{cov}(X, Y) = 0 \\;\\; \\text{ if } \\; X, Y \\, \\text{ is independent}. $ \n",
    "##### $ \\hspace{0.15cm} $ ④ $ \\text{cov}(aX+b,Y) = a \\cdot{} \\text{cov}(X,Y) $\n",
    "##### $ \\hspace{0.15cm} $ ⑤ $ \\text{cov}(X+Y,Z) = \\text{cov}(X,Z) + \\text{cov}(Y,Z) $"
   ]
  },
  {
   "cell_type": "markdown",
   "metadata": {},
   "source": [
    "##### **(`PLUS`)** \n",
    "##### $ \\hspace{0.15cm} \\text{var}[aX+bY] = \\text{cov}(aX+bY, aX+bY) $\n",
    "##### $ \\hspace{2.35cm} = \\text{cov}(aX, aX+bY) + \\text{cov}(bY, aX+bY) $\n",
    "##### $ \\hspace{2.35cm} = \\text{cov}(aX, aX) + \\text{cov}(aX, bY) + \\text{cov}(bY, aX) + \\text{cov}(bY, bY)$\n",
    "##### $ \\hspace{2.35cm} = a^{2} \\text{var}[X] + ab \\cdot{} \\text{cov}(X, Y) + ab \\cdot{} \\text{cov}(X, Y) + b^{2}\\text{var}(Y)^{2} $\n",
    "##### $ \\hspace{2.35cm} = a^{2} \\text{var}[X] + 2ab \\cdot{} \\text{cov}(X, Y) + b^{2}\\text{var}(Y)^{2} $"
   ]
  },
  {
   "cell_type": "markdown",
   "metadata": {},
   "source": [
    "#### **(4) 해석** :\n",
    "##### $ \\hspace{0.15cm} $ ① $ \\text{cov}(X, Y) > 0 : $ **평균적으로** $ X $가 커질수록 $ Y $도 커짐\n",
    "##### $ \\hspace{0.45cm} $ <img src=\"../../img/04.3. Covariance and Correlation Coefficient (1).png\" width=\"35%\" height=\"35%\"></img>\n",
    "##### $ \\hspace{0.15cm} $ ② $ \\text{cov}(X, Y) = 0 : $ 상관관계 없음(uncorrelated)\n",
    "##### $ \\hspace{0.45cm} $ <img src=\"../../img/04.3. Covariance and Correlation Coefficient (2).png\" width=\"35%\" height=\"35%\"></img>\n",
    "##### $ \\hspace{0.15cm} $ ③ $ \\text{cov}(X, Y) < 0 : $ **평균적으로** $ X $가 커질수록 $ Y $는 작아짐\n",
    "##### $ \\hspace{0.45cm} $ <img src=\"../../img/04.3. Covariance and Correlation Coefficient (3).png\" width=\"35%\" height=\"35%\"></img>"
   ]
  },
  {
   "cell_type": "markdown",
   "metadata": {},
   "source": [
    "#### **(6) 예시** :\n",
    "##### $ \\hspace{0.15cm} $ ① 두 확률 변수 $ X, Y $에 대하여 $ Z=1+X+XY^{2}, \\;\\; W = 1 + X $일 때, $ \\, \\text{cov}(Z,W) $를 정의하면\n",
    "##### $ \\hspace{0.45cm} \\therefore{} \\text{cov}(Z,W) = \\text{cov}(1+X+XY^{2},1+X) $ \n",
    "##### $ \\hspace{2.4875cm} = \\text{cov}(X+XY^{2},X) = \\text{cov}(X, X) + \\text{cov}(XY^{2}, X) $\n",
    "##### $ \\hspace{2.4875cm} = \\text{var}[X] + E[X^{2}Y^{2}] - E[XY^{2}]E[X] $\n",
    "##### $ \\hspace{0.15cm} $ ② 결합 확률 질량 함수 $ P(X, Y) $가 아래의 표로 정의될 때 $ \\text{cov}(X, Y) $를 정의하면\n",
    "| $ P_{XY}(x, y) $| $ y_{1} = 0 $ | $ y_{2} = 100 $| $ Y_{3} = 200 $|\n",
    "|-|-|-|-|\n",
    "| $ x_{1} = 100 $ | $ 0.2 $ | $ 0.1 $ | $ 0.2 $ |\n",
    "| $ x_{2} = 250 $ | $ 0.05 $ | $ 0.15 $ | $ 0.3 $ |\n",
    "##### $ \\hspace{0.45cm} E[X] = \\sum{}^{2}_{i=1} \\sum{}^{3}_{k=1} x_{i} P_{XY}(x_{i}, y_{k}) = 100(0.2+0.1+0.2) + 250(0.05+0.15+0.3) = 175 $ \n",
    "##### $ \\hspace{0.45cm} E[Y] = \\sum{}^{2}_{i=1} \\sum{}^{3}_{k=1} y_{k} P_{XY}(x_{i}, y_{k}) = 0(0.2+0.05) + 100(0.1+0.15) + 200(0.2+0.3) = 125 $ \n",
    "##### $ \\hspace{0.45cm} E[XY] = \\sum{}^{2}_{i=1} \\sum{}^{3}_{k=1} x_{i} y_{k} P_{XY}(x_{i}, y_{k}) = 100 \\cdot{} 0 \\cdot{} 0.2 + 100 \\cdot{} 100 \\cdot{} 0.1 + \\cdots{} = 23,750 $\n",
    "##### $ \\hspace{0.45cm} \\therefore{} \\text{cov}(X,Y) = E[XY] - E[X]E[Y] = 23750 - 175 \\cdot{} 125 = 1875 $\n",
    "##### $ \\hspace{0.15cm} $ ③ 결합 확률 질량 함수 $ P(Z, W) $가 아래의 표로 정의될 때 $ \\text{cov}(Z, W) $를 정의하면\n",
    "| $ P_{ZW}(z, w) $| $ w_{1} = 0 $| $ w_{2} = 1000 $| $ w_{3} = 2000 $|\n",
    "|-|-|-|-|\n",
    "| $ z_{1} = 1000 $ | $ 0.2 $| $ 0.1 $ | $ 0.2 $ |\n",
    "| $ z_{2} = 2500 $ | $ 0.05 $| $ 0.15 $ | $ 0.3 $ |\n",
    "##### $ \\hspace{0.45cm} E[X] = \\sum{}^{2}_{i=1} \\sum{}^{3}_{k=1} x_{i} P_{XY}(x_{i}, y_{k}) = 1750 $ \n",
    "##### $ \\hspace{0.45cm} E[Y] = \\sum{}^{2}_{i=1} \\sum{}^{3}_{k=1} y_{k} P_{XY}(x_{i}, y_{k}) = 1250 $ \n",
    "##### $ \\hspace{0.45cm} E[XY] = \\sum{}^{2}_{i=1} \\sum{}^{3}_{k=1} x_{i} y_{k} P_{XY}(x_{i}, y_{k}) = 2375000 $\n",
    "##### $ \\hspace{0.45cm} \\therefore{} \\text{cov}(X,Y) = E[XY] - E[X]E[Y] = 2375000 - 1750 \\cdot{} 1250 = 187500 $"
   ]
  },
  {
   "cell_type": "markdown",
   "metadata": {},
   "source": [
    "#### **(`PLUS`) 공분산의 단위 문제** : 공분산은 단위에 의존적임(not scaled free)"
   ]
  },
  {
   "cell_type": "markdown",
   "metadata": {},
   "source": [
    "<b></b>"
   ]
  },
  {
   "cell_type": "markdown",
   "metadata": {},
   "source": [
    "> ## **상관계수(Corrleation Coefficient)**"
   ]
  },
  {
   "cell_type": "markdown",
   "metadata": {},
   "source": [
    "#### **(1) 정의** : 공분산을 개별 확률 변수의 표준 편차로 나눈(표준화한) 지표\n",
    "#### $ \\Rightarrow{} \\rho(X, Y) = \\frac{\\text{cov}(X,Y)}{\\text{std}(X)\\text{std}(Y)}  $"
   ]
  },
  {
   "cell_type": "markdown",
   "metadata": {},
   "source": [
    "#### **(2) 범위** : $-1 \\leq{} \\rho{}(X,Y) \\leq{} 1 $"
   ]
  },
  {
   "cell_type": "markdown",
   "metadata": {},
   "source": [
    "#### **(3) 성질** :\n",
    "##### $ \\hspace{0.15cm} $ ① $ \\rho(aX+b, Y) = \\rho(X, Y) $"
   ]
  },
  {
   "cell_type": "markdown",
   "metadata": {},
   "source": [
    "#### **(4) 해석** :\n",
    "##### $ \\hspace{0.15cm} $ ① $ \\rho(X, Y) > 0 : $ 양의 상관관계(positively correlated)\n",
    "##### $ \\hspace{0.15cm} $ ② $ \\rho(X, Y) = 0 : $ 상관관계 없음(uncorrelated)\n",
    "##### $ \\hspace{0.15cm} $ ③ $ \\rho(X, Y) < 0 : $ 음의 상관관계(negatively correlated)"
   ]
  },
  {
   "cell_type": "markdown",
   "metadata": {},
   "source": [
    "##### **(`PLUS`)** 상관관계는 두 확률 변수간 선형 관계(강도와 방향)를 설명하는 것이지, **원인과 결과를 설명하는 것이 아님**"
   ]
  }
 ],
 "metadata": {
  "kernelspec": {
   "display_name": "Python 3",
   "language": "python",
   "name": "python3"
  },
  "language_info": {
   "codemirror_mode": {
    "name": "ipython",
    "version": 3
   },
   "file_extension": ".py",
   "mimetype": "text/x-python",
   "name": "python",
   "nbconvert_exporter": "python",
   "pygments_lexer": "ipython3",
   "version": "3.8.12"
  },
  "orig_nbformat": 4
 },
 "nbformat": 4,
 "nbformat_minor": 2
}
