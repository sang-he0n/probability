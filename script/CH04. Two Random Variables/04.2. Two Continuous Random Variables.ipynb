{
 "cells": [
  {
   "attachments": {},
   "cell_type": "markdown",
   "metadata": {},
   "source": [
    "# CH04.2. **Two Continous Random Variables**"
   ]
  },
  {
   "cell_type": "markdown",
   "metadata": {},
   "source": [
    "> ## **결합 연속 확률 변수(Joint Continuous  Random Variable; Discrete Joint RV)**"
   ]
  },
  {
   "cell_type": "markdown",
   "metadata": {},
   "source": [
    "#### **(1) 정의** : 표본 공간의 결과를 $ 2 $개 이상의 연속 확률 변수로 매핑한 함수\n",
    "#### $ \\Rightarrow{} (X,Y) : S \\rightarrow{} \\mathbb{R}^{2} \\;\\; \\text{ where } \\; (X,Y)(\\Omega{}) \\, \\text{ is uncountable set}. $\n",
    "<img src=\"../../img/04.2. Two Continuous Random Variables (1).png\" width=\"50%\" height=\"50%\"></img>"
   ]
  },
  {
   "cell_type": "markdown",
   "metadata": {},
   "source": [
    "<b></b>"
   ]
  },
  {
   "cell_type": "markdown",
   "metadata": {},
   "source": [
    "> ## **결합 확률 밀도 함수(Joint Probability Density Function; Joint PDF)**"
   ]
  },
  {
   "cell_type": "markdown",
   "metadata": {},
   "source": [
    "#### **(1) 정의** : 결합 연속 확률 변수를 특정 구간의 확률(확률 밀도)과 대응시킨 함수\n",
    "#### $ \\Rightarrow{} f_{XY}(x, y) = \\frac{\\partial{}^{2}}{\\partial{}x \\partial{}y} F_{XY}(x, y) $\n",
    "<img src=\"../../img/04.2. Two Continuous Random Variables (2).png\" width=\"60%\" height=\"60%\"></img>"
   ]
  },
  {
   "cell_type": "markdown",
   "metadata": {},
   "source": [
    "##### **(`PLUS`) 확률의 기하학적 이해** : 부피(volume)\n",
    "##### $ \\hspace{0.15cm} $ <img src=\"../../img/04.2. Two Continuous Random Variables (3).png\" width=\"40%\" height=\"40%\"></img>"
   ]
  },
  {
   "cell_type": "markdown",
   "metadata": {},
   "source": [
    "#### **(2) 주변 확률 밀도 함수(Marginal PDF)** : 결합 확률 밀도 함수에서 **하나의 연속 확률 변수의 분포만을 추출**한 함수\n",
    "##### $ \\hspace{0.15cm} $ ① 확률 변수 $X $의 확률 밀도 함수 : \n",
    "##### $ \\hspace{0.45cm} \\Rightarrow{} f_{X}(x) = \\int^{\\infty{}}_{-\\infty{}} f_{XY}(x, y) \\text{d}y = \\int_{y\\in{}{}Y(\\omega{})} f_{XY}(x, y) \\text{d}y $\n",
    "##### $ \\hspace{0.15cm} $ ② 확률 변수 $Y $의 확률 밀도 함수 : \n",
    "##### $ \\hspace{0.45cm} f_{Y}(y) = \\int^{\\infty{}}_{-\\infty{}} f_{XY}(x, y) \\text{d}x = \\int_{x\\in{}{}X(\\omega{})} f_{XY}(x, y) \\text{d}x $"
   ]
  },
  {
   "cell_type": "markdown",
   "metadata": {},
   "source": [
    "#### **(3) 성질** :\n",
    "##### $ \\hspace{0.15cm} $ ① $ 0 \\leq{} f_{XY}(x, y) \\;\\; \\forall{} \\; x, y $\n",
    "##### $ \\hspace{0.15cm} $ ② $ \\int^{\\infty{}}_{-\\infty{}} \\int^{\\infty{}}_{-\\infty{}} f_{XY}(x, y) \\text{d}x\\text{d}y = \\int_{(X,Y)(\\Omega{})} f_{XY}(x, y) \\text{d}x\\text{d}y = 1 $"
   ]
  },
  {
   "cell_type": "markdown",
   "metadata": {},
   "source": [
    "#### **(5) 예시** :\n",
    "##### 연속 확률 변수 $ X, Y $에 대하여 아래와 같이 결합 확률 밀도 함수가 정의될 때\n",
    "##### $ f_{XY}(x, y) = \\begin{cases} 4x^{2}y+2y^{5} & \\text{if } \\; 0 \\leq{}x\\leq{}1, \\;\\; 0\\leq{}y\\leq{}1 \\\\ 0 & \\text{otherwise} \\end{cases} $\n",
    "##### $ \\hspace{0.15cm} $ ① 확률 $ P(0.5\\leq{}X\\leq{}0.7, 0.2\\leq{}Y\\leq{}0.9) $의 값은?\n",
    "##### $ \\hspace{0.45cm} \\therefore{} \\int^{0.2}_{0.9} \\int^{0.7}_{0.5} f_{XY}(x, y) \\text{d}x \\text{d}y = $ **[LATEX]**\n",
    "##### $ \\hspace{0.15cm} $ ② 주변 확률 밀도 함수 $ f_{X}(x) $의 정의는?\n",
    "##### $ \\hspace{0.45cm} \\therefore{} f_{X}(x) = \\int^{1}_{0} f_{XY}(x,y) \\text{d}y $ \n",
    "##### $ \\hspace{1.8cm} = \\begin{bmatrix} 4x^{2} \\cdot{} \\frac{1}{2} y^{2} + 2 \\cdot{} \\frac{1}{6} y^{6} \\end{bmatrix}^{1}_{0} $\n",
    "##### $ \\hspace{1.8cm} = \\begin{cases} 2x^{2} + \\frac{1}{3} & \\text{if } \\; 0 \\leq{} x \\leq{} 1 \\\\ 0 & \\text{otherwise} \\end{cases} $\n",
    "##### $ \\hspace{0.15cm} $ ③ 주변 확률 밀도 함수 $ f_{Y}(y) $의 정의는?\n",
    "##### $ \\hspace{0.45cm} \\therefore{} f_{Y}(y) = \\int^{1}_{0} f_{XY}(x,y) \\text{d}x $\n",
    "##### $ \\hspace{1.75cm} = \\begin{bmatrix} 4y \\cdot{} \\frac{1}{3}x^{3} + 2y^{5} \\cdot{} x  \\end{bmatrix}^{1}_{0} $\n",
    "##### $ \\hspace{1.75cm} = \\begin{cases} \\frac{4}{3}y + 2y^{5} & \\text{if } \\; 0 \\leq{} y \\leq{} 1 \\\\ 0 & \\text{otherwise} \\end{cases} $"
   ]
  },
  {
   "cell_type": "markdown",
   "metadata": {},
   "source": [
    "<b></b>"
   ]
  },
  {
   "cell_type": "markdown",
   "metadata": {},
   "source": [
    "<b></b>"
   ]
  },
  {
   "cell_type": "markdown",
   "metadata": {},
   "source": [
    "> ## **결합 연속 확률 변수의 기댓값(Expected Value of Joint Continuous RV)**"
   ]
  },
  {
   "cell_type": "markdown",
   "metadata": {},
   "source": [
    "#### **(1) 정의** : 실험이나 과정이 무한히 반복할 때 결합 연속 확률 변수의 **예상되는 값**\n",
    "#### $ \\Rightarrow{} \\text{E}[(X,Y)] = (E[X], E[Y]) $"
   ]
  },
  {
   "cell_type": "markdown",
   "metadata": {},
   "source": [
    "<b></b>"
   ]
  },
  {
   "cell_type": "markdown",
   "metadata": {},
   "source": [
    "> ## **결합 연속 확률 변수의 분산(Variance of Joint Continuous RV)**"
   ]
  },
  {
   "cell_type": "markdown",
   "metadata": {},
   "source": [
    "#### **(1) 정의** : 기댓값으로 부터 벗어난 정도(오차)를 제곱한 값\n",
    "#### $ \\Rightarrow{} \\text{var}[(X, Y)] = \\begin{bmatrix} \\text{var}[X] & \\text{cov}(X,Y) \\\\ \\text{cov}(Y,X) & \\text{var}[Y]  \\end{bmatrix} $\n",
    "#### $ \\hspace{0.45cm} \\text{where } \\; \\text{cov}(X,Y) = E[XY] - E[X]E[Y] $"
   ]
  },
  {
   "cell_type": "markdown",
   "metadata": {},
   "source": [
    "<b></b>"
   ]
  },
  {
   "cell_type": "markdown",
   "metadata": {},
   "source": [
    "> ## **조건부 확률 밀도 함수(Conditional PDF)**"
   ]
  },
  {
   "cell_type": "markdown",
   "metadata": {},
   "source": [
    "#### **(1) 정의** : 결합 확률 밀도 함수에서 **하나의 확률 변수가 특정 값을 가졌을 때** 다른 확률 변수에 대한 확률 분포\n",
    "#### $ \\Rightarrow{} f_{X|Y}(x \\; | \\; y_{k}) = \\frac{f_{XY}(x, y_{k})}{f_{Y}(y_{k})} \\;\\; \\text{ for any } \\; x \\in{}{} X(\\omega{}), \\;\\; y_{k} \\in{}{} Y(\\omega{}) $"
   ]
  },
  {
   "cell_type": "markdown",
   "metadata": {},
   "source": [
    "#### **(2) 예시** :\n",
    "##### 연속 확률 변수 $ X, Y $에 대하여 아래와 같이 결합 확률 밀도 함수가 정의될 때\n",
    "##### $f_{XY}(x, y) = \\begin{cases} \\frac{6}{5}(x+y^{2}) & \\text{if } \\; 0 \\leq{}x\\leq{}1, \\;\\; 0\\leq{}y\\leq{}1 \\\\ 0 & \\text{otherwise.} \\end{cases} $\n",
    "##### $ \\hspace{0.15cm} $ ① 조건부 확률 밀도 함수 $ f_{Y|X}(y \\; | \\; 0.5) $는?\n",
    "##### $ \\hspace{0.45cm} f_{X}(x) = \\int^{1}_{0}f_{XY}(x, y)\\text{d}y $\n",
    "##### $ \\hspace{1.45cm} = \\begin{bmatrix} \\frac{6}{5}(x \\cdot{} y +\\frac{1}{3}y^{3}) \\end{bmatrix}^{1}_{0} $\n",
    "##### $ \\hspace{1.45cm} = \\frac{6}{5}(x+\\frac{1}{3}) $\n",
    "##### $ \\hspace{0.45cm} \\therefore{} f_{Y|X}(y \\; | 0.5) = \\frac{f_{XY}(0.5, y)}{f_{X}(0.5)} = \\frac{\\frac{6}{5}(\\frac{1}{2}+y^{2})}{\\frac{6}{5}(\\frac{1}{2}+\\frac{1}{3})} = \\frac{\\frac{1}{2}+y^{2}}{\\frac{1}{2}+\\frac{1}{3}} = \\frac{3}{5} + \\frac{6}{5}y^{2} $\n",
    "##### $ \\hspace{0.15cm} $ ② 확률 $ P(Y\\leq{}0.5 \\; | \\; X=0.5) $의 값은?\n",
    "##### $ \\hspace{0.45cm} P(Y\\leq{}0.5 \\; | \\; X=0.5) = \\int^{0.5}_{0} (\\frac{3}{5} + \\frac{6}{5}y^{2})\\text{d}y $\n",
    "##### $ \\hspace{0.45cm} $**[LATEX]**"
   ]
  },
  {
   "cell_type": "markdown",
   "metadata": {},
   "source": [
    "<b></b>"
   ]
  },
  {
   "cell_type": "markdown",
   "metadata": {},
   "source": [
    "> ## **조건부 기대값(Conditional Expectation)**"
   ]
  },
  {
   "cell_type": "markdown",
   "metadata": {},
   "source": [
    "#### **(1) 정의** : 하나의 이산 확률 변수가 특정 값을 가질 때 다른 이산 확률 변수의 기대값\n",
    "#### $ \\Rightarrow{} E[X \\; | \\; Y = y_{k} ] = \\int_{x_{i}\\in{}{}X(\\omega{})} x_{i} f_{X|Y}(x \\; | \\; y_{k}) \\text{d}x $"
   ]
  },
  {
   "cell_type": "markdown",
   "metadata": {},
   "source": [
    "<b></b>"
   ]
  },
  {
   "cell_type": "markdown",
   "metadata": {},
   "source": [
    "> ## **조건부 분산(Conditional Variance)**"
   ]
  },
  {
   "cell_type": "markdown",
   "metadata": {},
   "source": [
    "#### **(1) 정의** : 조건부 기댓값으로 부터 벗어난 정도(오차)를 제곱한 값\n",
    "#### $ \\Rightarrow{} \\text{var}[X \\; | \\; Y = y_{k}] = E[X^{2} \\; | \\; Y = y_{k}] - (E[X \\; | \\; Y = y_{k}])^{2}  $"
   ]
  },
  {
   "cell_type": "markdown",
   "metadata": {},
   "source": [
    "<b></b>"
   ]
  },
  {
   "cell_type": "markdown",
   "metadata": {},
   "source": [
    "> ## **결합 연속 확률 변수의 독립(Independnece of Joint Continuous RV)**"
   ]
  },
  {
   "cell_type": "markdown",
   "metadata": {},
   "source": [
    "#### **(1) 정의** : 한 이산 확률 변수가 일어날 확률이 다른 이산 확률 변수가 일어날 확률에 영향을 미치지 않는 관계\n",
    "#### $ \\Rightarrow{} f_{XY}(x, y) = f_{X}(x)f_{Y}(y) $\n",
    "#### $\\Leftrightarrow{} f_{XY}(x \\; | \\; y) = \\frac{f_{XX}(x, y)}{f_{Y}(y)} = \\frac{f_{X}(x)f_{Y}(y)}{f_{Y}(y)} = f_{X}(x) $\n",
    "#### $\\Leftrightarrow{} f_{YX}(y \\; | \\; x) = \\frac{f_{YX}(y, x)}{f_{X}(x)} = \\frac{f_{Y}(y)f_{X}(x)}{f_{X}(x)} = f_{Y}(y) $"
   ]
  },
  {
   "cell_type": "markdown",
   "metadata": {},
   "source": [
    "<b></b>"
   ]
  },
  {
   "cell_type": "markdown",
   "metadata": {},
   "source": [
    "> ## **연속 결합 확률 변수의 합성함수(Composite Functions of Continous Joint RV)**"
   ]
  },
  {
   "cell_type": "markdown",
   "metadata": {},
   "source": [
    "#### **(1) 정의** : 연속 결합 확률 변수를 다른 실수 공간으로 대응시킨 **확률 변수**\n",
    "#### $ \\Rightarrow{} Z = g \\circ{} (X,Y) = g(X, Y) : S \\rightarrow{} \\mathbb{R} \\;\\; \\text{ where } \\; g : \\mathbb{R}^2 \\rightarrow{} \\mathbb{R}^{n} $\n",
    "<img src=\"../../img/04.2. Two Continuous Random Variables (4).png\" width=\"60%\" height=\"60%\"></img>"
   ]
  },
  {
   "cell_type": "markdown",
   "metadata": {},
   "source": [
    "#### **(3) 합성함수의 기댓값** : \n",
    "#### $ \\Rightarrow{} E[Z] = \\int_{(x_{i}, y_{k})\\in{}{}(X,Y)(\\Omega{})} g(x_{i}, y_{k})f_{XY}(x_{i}, y_{k}) \\text{d}x \\text{d}y \\;\\; \\text{ where } \\; Z = g(X,Y) $"
   ]
  },
  {
   "cell_type": "markdown",
   "metadata": {},
   "source": [
    "#### **(4) 합성함수의 분산** :\n",
    "#### $ \\Rightarrow{} \\text{var}[Z] = E[Z^{2}] - E[Z]^{2} $\n",
    "#### $ \\hspace{1.525cm} = \\int_{(x_{i},y_{k})\\in{}{}(X,Y)(\\Omega{})} g(x_{i}, y_{k})^{2} f_{XY}(x_{i}, y_{k}) \\text{d}x\\text{d}y - E[Z]^{2} $"
   ]
  }
 ],
 "metadata": {
  "kernelspec": {
   "display_name": "Python 3",
   "language": "python",
   "name": "python3"
  },
  "language_info": {
   "codemirror_mode": {
    "name": "ipython",
    "version": 3
   },
   "file_extension": ".py",
   "mimetype": "text/x-python",
   "name": "python",
   "nbconvert_exporter": "python",
   "pygments_lexer": "ipython3",
   "version": "3.8.12"
  },
  "orig_nbformat": 4
 },
 "nbformat": 4,
 "nbformat_minor": 2
}
