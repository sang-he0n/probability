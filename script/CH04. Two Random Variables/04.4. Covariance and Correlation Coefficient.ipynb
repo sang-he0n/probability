{
 "cells": [
  {
   "attachments": {},
   "cell_type": "markdown",
   "metadata": {},
   "source": [
    "# CH04.4. **Covariance and Correlation Coefficient**"
   ]
  },
  {
   "cell_type": "markdown",
   "metadata": {},
   "source": [
    "> ## **공분산(Covariance)**"
   ]
  },
  {
   "cell_type": "markdown",
   "metadata": {},
   "source": [
    "#### **(1) 정의** : 두 확률 변수의 선형 관계를 측정하는 지표\n",
    "#### $\\Rightarrow{} \\text{cov}(X,\\;Y) = E[(X-E(X)(Y-E(Y)))] $\n",
    "#### $\\hspace{2.2cm} = E[XY-XE(Y)-E(X)Y+E(X)E(Y)] $\n",
    "#### $\\hspace{2.2cm} = E(XY) - E(X)E(Y) - E(X)E(Y) + E(X)E(Y) $\n",
    "#### $\\hspace{2.2cm} = E(XY) - E(X)E(Y) $"
   ]
  },
  {
   "cell_type": "markdown",
   "metadata": {},
   "source": [
    "#### **(2) 확률변수 별 계산** :\n",
    "##### $\\hspace{0.15cm} $① 이산확률변수 : $\\text{cov}(X,\\;Y) = \\sum_{(x_{i},\\;y_{k})\\in{}(X,\\;Y)(S)} (x_{i}-E(X))(y_{k}-E(Y))P(X=x_{i},\\;Y=y_{k}) $\n",
    "##### $\\hspace{0.15cm} $② 연속확률변수 : $\\text{cov}(X,\\;Y) = \\int^{\\infty{}}_{-\\infty{}} \\int^{\\infty{}}_{-\\infty{}} (x_{i}-E(X))(y_{k}-E(Y))f(X=x_{i},\\;Y=y_{k}) \\text{dx} \\text{dy} $"
   ]
  },
  {
   "cell_type": "markdown",
   "metadata": {},
   "source": [
    "#### **(3) 성질** :\n",
    "##### $\\hspace{0.15cm} $① $\\text{cov}(X,X) = \\text{var}(X) $\n",
    "##### $\\hspace{0.15cm} $② 두 확률변수 $X, Y $가 독립 관계라면, $\\text{cov}(X, Y) = 0 \\,$($\\because{} E(XY) = E(X)E(Y) $)\n",
    "##### $\\hspace{0.15cm} $③ $\\text{cov}(X,Y) = \\text{cov}(Y,X) $\n",
    "##### $\\hspace{0.15cm} $④ $\\text{cov}(aX,Y) = a \\cdot{} \\text{cov}(X,Y) \\, \\text{ where } \\, a \\, \\text{ is a scalar} $\n",
    "##### $\\hspace{0.15cm} $⑤ $\\text{cov}(X+a,Y) = \\text{cov}(X,Y) $\n",
    "##### $\\hspace{0.15cm} $⑥ $\\text{cov}(X+Y,Z) = \\text{cov}(X,Z) + \\text{cov}(Y,Z) $"
   ]
  },
  {
   "cell_type": "markdown",
   "metadata": {},
   "source": [
    "##### **(`PLUS`)**\n",
    "##### $\\hspace{0.15cm} \\text{var}(aX+bY) = \\text{cov}(aX+bY,\\; aX+bY) $\n",
    "##### $\\hspace{2.35cm} = \\text{cov}(aX,\\; aX+bY) + \\text{cov}(bY,\\; aX+bY) $\n",
    "##### $\\hspace{2.35cm} = \\text{cov}(aX,\\; aX) + \\text{cov}(aX,\\; bY) + \\text{cov}(bY,\\; aX) + \\text{cov}(bY,\\; bY)$\n",
    "##### $\\hspace{2.35cm} = a^{2} \\text{var}(X) + ab \\cdot{} \\text{cov}(X,\\; Y) + ab \\cdot{} \\text{cov}(X,\\; Y) + b^{2}\\text{cov}(Y)^{2} $\n",
    "##### $\\hspace{2.35cm} = a^{2} \\text{var}(X) + 2ab \\cdot{} \\text{cov}(X,\\; Y) + b^{2}\\text{cov}(Y)^{2} $"
   ]
  },
  {
   "cell_type": "markdown",
   "metadata": {},
   "source": [
    "#### **(4) 해석** :\n",
    "##### $\\hspace{0.15cm} $① $\\text{cov}(X,\\; Y) > 0 \\; $: **평균적으로** $\\; X $가 커질수록 $\\; Y $도 커짐\n",
    "##### $\\hspace{0.15cm} $<img src=\"../../img/05.4. Covariance and Correlation Coefficient (1).png\" width=\"25%\" height=\"25%\"></img>\n",
    "##### $\\hspace{0.15cm} $② $\\text{cov}(X,\\; Y) = 0 \\; $: 상관관계 없음(uncorrelated)\n",
    "##### $\\hspace{0.15cm} $<img src=\"../../img/05.4. Covariance and Correlation Coefficient (2).png\" width=\"25%\" height=\"25%\"></img>\n",
    "##### $\\hspace{0.15cm} $③ $\\text{cov}(X,\\; Y) < 0 \\; $: **평균적으로** $\\; X $가 커질수록 $\\; Y $는 작아짐\n",
    "##### $\\hspace{0.15cm} $<img src=\"../../img/05.4. Covariance and Correlation Coefficient (3).png\" width=\"25%\" height=\"25%\"></img>"
   ]
  },
  {
   "cell_type": "markdown",
   "metadata": {},
   "source": [
    "##### **(`PLUS`) 독립사건과 공분산의 관계** : 두 확률변수가 독립관계라면, $\\text{cov}(X,Y) = 0 \\;\\; $(**역은 성립하지 않음**)"
   ]
  },
  {
   "cell_type": "markdown",
   "metadata": {},
   "source": [
    "#### **(5) 공분산의 단위 문제(not scaled free)** : **[CONTENTS]**"
   ]
  },
  {
   "cell_type": "markdown",
   "metadata": {},
   "source": [
    "#### **(6) 예시** :\n",
    "##### $\\hspace{0.15cm} $① 확률변수 $X \\sim{} N(0,\\;1),\\; Y \\sim{} N(0,\\;1),\\; Z=1+X+XY^{2},\\; W = 1 + X $일 때 $\\text{cov}(Z,\\;W) $는?\n",
    "##### $\\hspace{0.45cm} \\therefore{} \\text{cov}(Z,\\;W) = \\text{cov}(1+X+XY^{2},\\;1+X) = \\text{cov}(X+XY^{2},\\;X) = $**[LATEX]**\n",
    "##### $\\hspace{0.15cm} $② 결합확률질량함수 $\\; P(X,\\; Y) $가 아래의 표로 정의될 때 $\\; \\text{cov}(X,\\; Y) $는?\n",
    "| $P(X,\\; Y) $| $Y = 0 $| $Y = 100 $| $Y = 200 $|\n",
    "|-|-|-|-|\n",
    "| $X = 100 $ | $0.2 $| $0.1 $| $0.2 $|\n",
    "| $X = 250 $ | $0.05 $| $0.15 $| $0.3 $|\n",
    "##### $\\hspace{0.45cm} $**[LATEX]**\n",
    "##### $\\hspace{0.15cm} $③ 결합확률질량함수 $\\; P(Z,\\; W) $가 아래의 표로 정의될 때 $\\; \\text{cov}(Z,\\; W) $는?\n",
    "| $P(Z,\\; W) $| $W = 0 $| $W = 1000 $| $W Y = 2000 $|\n",
    "|-|-|-|-|\n",
    "| $Z = 1000 $ | $0.2 $| $0.1 $| $0.2 $|\n",
    "| $Z = 2500 $ | $0.05 $| $0.15 $| $0.3 $|\n",
    "##### $\\hspace{0.45cm} $**[LATEX]**"
   ]
  },
  {
   "cell_type": "markdown",
   "metadata": {},
   "source": [
    "<b></b>"
   ]
  },
  {
   "cell_type": "markdown",
   "metadata": {},
   "source": [
    "> ## **상관계수(Corrleation Coefficient)**"
   ]
  },
  {
   "cell_type": "markdown",
   "metadata": {},
   "source": [
    "#### **(1) 정의** : 공분산을 표준화한 지표\n",
    "#### $\\Rightarrow{} \\rho_{XY} = \\rho(X,\\; Y) = \\frac{\\text{cov}(X,\\;Y)}{\\text{std}(X)\\text{std}(Y)}  $"
   ]
  },
  {
   "cell_type": "markdown",
   "metadata": {},
   "source": [
    "##### **(`PLUS`) 표준화(Standardization)의 정의** : \n",
    "##### $\\hspace{0.15cm} $어떠한 확률 변수 $X $의 평균을 $0 $으로, 표준편차를 $1 $로 조정하는 단위(scale) 조정방법\n",
    "##### $\\hspace{0.15cm} \\Rightarrow{} Z = \\frac{(X-E(x))}{\\text{std}(X)} $"
   ]
  },
  {
   "cell_type": "markdown",
   "metadata": {},
   "source": [
    "#### **(2) 범위** : $-1 \\leq{} \\rho{}(X,\\;Y) \\leq{} 1 $"
   ]
  },
  {
   "cell_type": "markdown",
   "metadata": {},
   "source": [
    "##### **(`WHY?`)**\n",
    "##### $\\hspace{0.15cm} $① $0 \\leq{} \\text{var}(\\frac{X}{\\text{std}(X)}+\\frac{Y}{\\text{std}(Y)}) \\;\\; $($\\because{} 0 \\leq{} \\text{var}(\\text{RV})$) \n",
    "##### $\\hspace{0.825cm} = \\text{var}(\\frac{X}{\\text{std}(X)}) + \\text{var}(\\frac{Y}{\\text{std}(Y)}) + 2 \\text{cov}(\\frac{X}{\\text{std}(X)},\\;\\frac{Y}{\\text{std}(Y)}) $\n",
    "##### $\\hspace{0.825cm} = \\frac{\\text{var}(X)}{\\text{std}(X)^{2}} + \\frac{\\text{var}(Y)}{\\text{std}(Y)^{2}} + 2 \\frac{\\text{cov}(X,\\;Y)}{\\text{std}(X)\\text{std}(Y)} $\n",
    "##### $\\hspace{0.825cm} = 1 + 1 + 2 \\rho(X,\\;Y) $\n",
    "##### $\\hspace{0.3cm} -1 \\leq{} \\rho(X,\\;Y) $\n",
    "##### $\\hspace{0.15cm} $② $0 \\leq{} \\text{var}(\\frac{X}{\\text{std}(X)}-\\frac{Y}{\\text{std}(Y)}) $\n",
    "##### $\\hspace{0.825cm} = \\text{var}(\\frac{X}{\\text{std}(X)}) + \\text{var}(\\frac{Y}{\\text{std}(Y)}) - 2 \\text{cov}(\\frac{X}{\\text{std}(X)},\\;\\frac{Y}{\\text{std}(Y)}) $\n",
    "##### $\\hspace{0.825cm} = 1 + 1 - 2 \\rho(X,\\; Y) $\n",
    "##### $\\hspace{0.575cm} 1 \\geq{} \\rho(X,\\;Y) $\n",
    "##### $\\hspace{0.15cm} \\therefore{} -1 \\leq{} \\rho{}(X,\\;Y) \\leq{} 1 $"
   ]
  },
  {
   "cell_type": "markdown",
   "metadata": {},
   "source": [
    "#### **(3) 성질** :\n",
    "##### $\\hspace{0.15cm} $① $\\text{if } \\, \\rho(X,\\; Y) = 1, \\;\\; \\text{ then } \\; y = aX + b \\;\\; \\text{ where } \\, a > 0 $\n",
    "##### $\\hspace{0.15cm} $② $\\text{if } \\, \\rho(X,\\; Y) = -1, \\;\\; \\text{ then } \\; y = aX + b \\;\\; \\text{ where } \\, a < 0 $\n",
    "##### $\\hspace{0.15cm} $③ $\\rho(aX+b,\\; cY+d) = \\rho(X,\\; Y) $"
   ]
  },
  {
   "cell_type": "markdown",
   "metadata": {},
   "source": [
    "#### **(4) 해석** :\n",
    "##### $\\hspace{0.15cm} $① $\\rho(X,\\; Y) > 0 \\; \\rightarrow{} $양의 상관관계(positively correlated)\n",
    "##### $\\hspace{0.15cm} $② $\\rho(X,\\; Y) = 0 \\; \\rightarrow{} $상관관계 없음(uncorrelated)\n",
    "##### $\\hspace{0.15cm} $③ $\\rho(X,\\; Y) < 0 \\; \\rightarrow{} $음의 상관관계(negatively correlated)"
   ]
  },
  {
   "cell_type": "markdown",
   "metadata": {},
   "source": [
    "##### **(`PLUS`)** 상관관계는 두 확률변수간 선형 관계(강도와 방향)를 설명하는 것이지, **인과관계를 설명하는 것이 아님**"
   ]
  }
 ],
 "metadata": {
  "kernelspec": {
   "display_name": "Python 3",
   "language": "python",
   "name": "python3"
  },
  "language_info": {
   "codemirror_mode": {
    "name": "ipython",
    "version": 3
   },
   "file_extension": ".py",
   "mimetype": "text/x-python",
   "name": "python",
   "nbconvert_exporter": "python",
   "pygments_lexer": "ipython3",
   "version": "3.8.12"
  },
  "orig_nbformat": 4
 },
 "nbformat": 4,
 "nbformat_minor": 2
}
