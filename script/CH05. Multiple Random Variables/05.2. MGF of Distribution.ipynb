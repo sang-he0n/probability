{
 "cells": [
  {
   "attachments": {},
   "cell_type": "markdown",
   "metadata": {},
   "source": [
    "# CH05.2. **MGF of Distributions**"
   ]
  },
  {
   "cell_type": "markdown",
   "metadata": {},
   "source": [
    "> ## **이산분포의 적률생성함수(MGF of Discrete Distribution)**"
   ]
  },
  {
   "cell_type": "markdown",
   "metadata": {},
   "source": [
    "#### **(1) 베르누이 분포** :\n",
    "##### $ \\hspace{0.15cm} $ ① 적률생성함수 :\n",
    "##### $ \\hspace{0.45cm} X \\sim{} \\text{Bernoulli}(p), \\;\\; P_{X}(x) = \\begin{cases} p, \\;\\;\\;\\;\\;\\;\\;\\; x=1 \\\\ 1-p , \\;\\; x=0 \\\\ 0 , \\;\\;\\;\\;\\;\\;\\;\\; \\text{otherwise.} \\end{cases} $\n",
    "##### $ \\hspace{0.45cm} \\Rightarrow{} \\, M_{X}(s) = \\sum_{x_{i}\\in{}{}X(S)} e^{sx}P_{X}(x_{i}) = e^{s0}(1-p) + e^{s1}p = (1-p) + pe^{s}, \\;\\; $all $s \\in{}{} \\mathbb{R} $\n",
    "##### $ \\hspace{0.15cm} $ ② 기댓값 : $E[X] = M'_{X}(0) = p \\cdot{} 1 = p $\n",
    "##### $ \\hspace{0.15cm} $ ③ 분산 : $M''_{X}(0) = p \\cdot{} 1 = p = E[X^{2}] \\, \\rightarrow{} \\, \\text{var}[X] = E[X^{2}] - (E[X])^{2} = p - p^{2} = (1-p)p $"
   ]
  },
  {
   "cell_type": "markdown",
   "metadata": {},
   "source": [
    "#### **(2) 이항 분포** :\n",
    "##### $ \\hspace{0.15cm} $ ① 적률생성함수 :\n",
    "##### $ \\hspace{0.45cm} X_{i} \\sim{} \\text{Bernoulli}(p) \\;\\; $($i = 1, 2, \\cdots{}, n $) $\\; \\rightarrow{} $**(independent)** $X_{1} + X_{2} + \\cdots{} + X_{n} = X \\sim{} \\text{Binomial}(n, p) $\n",
    "##### $ \\hspace{0.45cm} \\Rightarrow{} M_{X}(s) = ((1-p)+pe^{s})^{n} $\n",
    "##### $ \\hspace{0.15cm} $ ② 기댓값 : $E[X] = M'_{X}(0) = $**[LATEX]**\n",
    "##### $ \\hspace{0.15cm} $ ③ 분산 : $M''_{X}(0) = $**[LATEX]** $ \\Rightarrow{} \\, \\text{var}[X] = E[X^{2}] - (E[X])^{2} = $**[LATEX]**"
   ]
  },
  {
   "cell_type": "markdown",
   "metadata": {},
   "source": [
    "#### **(3) 기하 분포** :\n",
    "##### $ \\hspace{0.15cm} $ ① 적률생성함수 :\n",
    "##### **[LATEX]**\n",
    "##### $ \\hspace{0.15cm} $ ② 기댓값 : $E[X] = M'_{X}(0) = $**[LATEX]**\n",
    "##### $ \\hspace{0.15cm} $ ③ 분산 : $M''_{X}(0) = $**[LATEX]** $ \\Rightarrow{} \\, \\text{var}[X] = E[X^{2}] - (E[X])^{2} = $**[LATEX]**"
   ]
  },
  {
   "cell_type": "markdown",
   "metadata": {},
   "source": [
    "#### **(4) 파스칼 분포** :\n",
    "##### $ \\hspace{0.15cm} $ ① 적률생성함수 :\n",
    "##### **[LATEX]**\n",
    "##### $ \\hspace{0.15cm} $ ② 기댓값 : $E[X] = M'_{X}(0) = $**[LATEX]**\n",
    "##### $ \\hspace{0.15cm} $ ③ 분산 : $M''_{X}(0) = $**[LATEX]** $ \\Rightarrow{} \\, \\text{var}[X] = E[X^{2}] - (E[X])^{2} = $**[LATEX]**"
   ]
  },
  {
   "cell_type": "markdown",
   "metadata": {},
   "source": [
    "#### **(5) 초기하 분포** :\n",
    "##### $ \\hspace{0.15cm} $ ① 적률생성함수 :\n",
    "##### **[LATEX]**\n",
    "##### $ \\hspace{0.15cm} $ ② 기댓값 : $E[X] = M'_{X}(0) = $**[LATEX]**\n",
    "##### $ \\hspace{0.15cm} $ ③ 분산 : $M''_{X}(0) = $**[LATEX]** $ \\Rightarrow{} \\, \\text{var}[X] = E[X^{2}] - (E[X])^{2} = $**[LATEX]**"
   ]
  },
  {
   "cell_type": "markdown",
   "metadata": {},
   "source": [
    "#### **(6) 포아송 분포** :\n",
    "##### $ \\hspace{0.15cm} $ ① 적률생성함수 :\n",
    "##### $ \\hspace{0.45cm} X \\sim{} \\text{Poisson}(\\lambda{}), \\;\\; P_{X}(x) = \\begin{cases} {{e^{-\\lambda{}}\\lambda{}^{x}}\\over{x!}}, \\;\\; x \\in{}{} \\{ 0, 1, \\cdots{} \\} \\\\ 0, \\;\\;\\;\\;\\;\\;\\;\\; \\text{otherwise.} \\end{cases} $\n",
    "##### $ \\hspace{0.45cm} \\Rightarrow{} M_{X}(s) = e^{\\lambda{}(e^{s}-1)}, \\;\\; $for all $s \\in{}{} \\mathbb{R} $\n",
    "##### $ \\hspace{0.15cm} $ ② 기댓값 : $E[X] = M'_{X}(0) = $**[LATEX]**\n",
    "##### $ \\hspace{0.15cm} $ ③ 분산 : $M''_{X}(0) = $**[LATEX]** $ \\Rightarrow{} \\, \\text{var}[X] = E[X^{2}] - (E[X])^{2} = $**[LATEX]**"
   ]
  },
  {
   "cell_type": "markdown",
   "metadata": {},
   "source": [
    "<b></b>"
   ]
  },
  {
   "cell_type": "markdown",
   "metadata": {},
   "source": [
    "> ## **연속분포의 적률생성함수(MGF of Continuous Distribution)**"
   ]
  },
  {
   "cell_type": "markdown",
   "metadata": {},
   "source": [
    "#### **(1) 연속균등분포** :\n",
    "##### $ \\hspace{0.15cm} $ ① 적률생성함수 :\n",
    "##### $ \\hspace{0.45cm} X \\sim{} \\text{Uniform}(a, b), \\;\\; f_{X}(x) = \\begin{cases} \\frac{1}{b-a}, \\;\\; a\\leq{}x\\leq{}b \\\\ 0, \\;\\;\\;\\;\\;\\; \\text{otherwise.} \\end{cases} $\n",
    "##### $ \\hspace{0.45cm} \\Rightarrow{} M_{X}(s) = \\int^{\\infty{}}_{-\\infty{}} e^{sx}f_{X}(x) \\text{d}x = \\int^{b}_{a} e^{sx}\\frac{1}{b-a} \\text{d}x = \\begin{bmatrix} \\frac{e^{sx}}{s(b-a)} \\end{bmatrix}^{b}_{a} = \\frac{e^{sb}-e^{sa}}{s(b-a)} $\n",
    "##### $ \\hspace{2.0125cm} = \\begin{cases} \\frac{e^{sb}-e^{sa}}{s(b-a)}, \\;\\;\\;\\;\\;\\;\\;\\;\\;\\; s\\neq{}0 \\\\ E(e^{0x}) = 1, \\;\\; s = 0 \\end{cases} $\n",
    "##### $ \\hspace{0.15cm} $ ② 기댓값 : $E[X] = M'_{X}(0) = \\lim_{s\\rightarrow{}0} \\frac{e^{sb}(sb-1)-e^{sa}(sa-1)}{s^{2}(b-a)}, \\;\\; $($ \\because{} \\frac{f'(x)}{g'(x)} = \\frac{f(x)'g(x)-f(x)g'(x)}{g(x)^{2}}$)\n",
    "##### $ \\hspace{4.075cm} = \\frac{a+b}{2} $\n",
    "##### $ \\hspace{0.15cm} $※ 단 원래는 미분 정의($\\lim_{s\\rightarrow{}0} \\frac{M_X{0+s}-M_X{0}}{s} $)로 전개해야함\n",
    "##### $ \\hspace{0.15cm} $ ③ 분산 : $M''_{X}(0) = $**[LATEX]** $ \\Rightarrow{} \\, \\text{var}[X] = E[X^{2}] - (E[X])^{2} = $**[LATEX]**"
   ]
  },
  {
   "cell_type": "markdown",
   "metadata": {},
   "source": [
    "#### **(2) 지수 분포** :\n",
    "##### $ \\hspace{0.15cm} $ ① 적률생성함수 :\n",
    "##### $ \\hspace{0.45cm} X \\sim{} \\text{Exponential}(\\lambda{}), \\;\\; f(x) = \\begin{cases} \\lambda{}e^{-\\lambda{}x}, \\;\\; x \\geq{} 0 \\\\ 0, \\;\\;\\;\\;\\;\\;\\;\\;\\; \\text{otherwise.} \\end{cases} $\n",
    "##### $ \\hspace{0.45cm} \\Rightarrow{} M_{X}(s) = \\int^{\\infty{}}_{-\\infty{}} e^{sx}f_{X}(x) \\text{d}x = \\int^{\\infty{}}_{0} e^{sx} \\lambda{} e^{-\\lambda{}x} \\text{d}x = \\int^{\\infty{}}_{0} \\lambda{} e^{-(\\lambda{}-s)x} \\text{d}x $\n",
    "##### $ \\hspace{2.05cm} = \\begin{bmatrix} - \\frac{\\lambda{}}{(\\lambda{}-s)} e^{-(\\lambda{}-s)x} \\end{bmatrix}^{\\infty{}}_{0}, \\;\\; $for $s < \\lambda{} $\n",
    "##### $ \\hspace{2.05cm} = - \\frac{\\lambda{}}{(\\lambda{}-s)}(0 - 1) = \\frac{\\lambda{}}{\\lambda{}-s}, \\;\\; $for $s < \\lambda{} $\n",
    "##### $ \\hspace{2.05cm} = \\begin{cases} \\frac{\\lambda{}}{\\lambda{}-s}, \\;\\;\\;\\;\\;\\;\\;\\;\\;\\;\\;\\;\\;\\;\\;  s < \\lambda{} \\\\ \\text{undefined}, \\;\\;\\;\\;\\; s \\geq{} \\lambda{} \\end{cases} $\n",
    "##### $ \\hspace{0.15cm} $ ② 기댓값 : $E[X] = M'_{X}(0) = $**[LATEX]**\n",
    "##### $ \\hspace{0.15cm} $ ③ 분산 : $M''_{X}(0) = $**[LATEX]** $ \\Rightarrow{} \\, \\text{var}[X] = E[X^{2}] - (E[X])^{2} = $**[LATEX]**"
   ]
  },
  {
   "cell_type": "markdown",
   "metadata": {},
   "source": [
    "#### **(3) 감마 분포** :\n",
    "##### $ \\hspace{0.15cm} $ ① 적률생성함수 :\n",
    "##### **[LATEX]**\n",
    "##### $ \\hspace{0.15cm} $ ② 기댓값 : $E[X] = M'_{X}(0) = $**[LATEX]**\n",
    "##### $ \\hspace{0.15cm} $ ③ 분산 : $M''_{X}(0) = $**[LATEX]** $ \\Rightarrow{} \\, \\text{var}[X] = E[X^{2}] - (E[X])^{2} = $**[LATEX]**"
   ]
  },
  {
   "cell_type": "markdown",
   "metadata": {},
   "source": [
    "#### **(4) 표준 정규분포** :\n",
    "##### $ \\hspace{0.15cm} $ ① 적률생성함수 :\n",
    "##### $ \\hspace{0.45cm} Z \\sim{} N(0, 1), \\;\\; f(Z=z) = \\frac{1}{\\sqrt{2\\pi{}}}e^{-\\frac{z^{2}}{2}}, \\;\\; -\\infty{} \\leq{} z \\leq{} \\infty{} $\n",
    "##### $ \\hspace{0.45cm} \\Rightarrow{} M_{Z}(s) = \\int^{\\infty{}}_{-\\infty{}} e^{sz}f_{Z}(x) \\text{d}x = \\int^{\\infty{}}_{-\\infty{}} e^{sz}\\frac{1}{\\sqrt{2\\pi{}}}e^{-\\frac{z^{2}}{2}} \\text{d}x $\n",
    "##### $ \\hspace{2cm} = \\int^{\\infty{}}_{-\\infty{}} \\frac{1}{2\\pi{}} e^{sz-\\frac{z^{2}}{2}} \\text{d}x = \\int^{\\infty{}}_{-\\infty{}} \\frac{1}{2\\pi{}} e^{sz-\\frac{z^{2}}{2}-\\frac{1}{2}s^{2}+\\frac{1}{2}s^{2}} \\text{d}x $\n",
    "##### $ \\hspace{2cm} = \\int^{\\infty{}}_{-\\infty{}} \\frac{1}{2\\pi{}} e^{-\\frac{(z-s)^{2}}{2}+\\frac{1}{2}s^{2}} \\text{d}x = e^{\\frac{1}{2}s^{2}} \\underbrace{\\int^{\\infty{}}_{-\\infty{}} \\frac{1}{2\\pi{}} e^{-\\frac{(z-s)^{2}}{2}} \\text{d}x}_{\\text{㉠}} $\n",
    "##### $ \\hspace{2cm} = e^{\\frac{1}{2}s^{2}} \\cdot{} 1 \\;\\; $($ \\because{} ㉠ \\, : \\, Z \\sim{} N(s, 1) $)\n",
    "##### $ \\hspace{2cm} = e^{\\frac{1}{2}s^{2}}, \\;\\; $for all $s \\in{}{} \\mathbb{R} $\n",
    "##### $ \\hspace{0.15cm} $ ② 기댓값 : $E[X] = M'_{X}(0) = $**[LATEX]**\n",
    "##### $ \\hspace{0.15cm} $ ③ 분산 : $M''_{X}(0) = $**[LATEX]** $ \\Rightarrow{} \\, \\text{var}[X] = E[X^{2}] - (E[X])^{2} = $**[LATEX]**"
   ]
  },
  {
   "cell_type": "markdown",
   "metadata": {},
   "source": [
    "#### **(5) 정규분포** :\n",
    "##### $ \\hspace{0.15cm} $ ① 적률생성함수 :\n",
    "##### $ \\hspace{0.45cm} \\sigma{} Z + \\mu{} = X \\sim{} N(\\mu{}, \\sigma{}) $\n",
    "##### $ \\hspace{0.45cm} \\Rightarrow{} M_{X}(s) = E(e^{sX}) = E(e^{s(\\mu{}Z+\\sigma{})}) = E(e^{\\mu{}s}e^{\\sigma{}sZ}) = e^{\\mu{}s} E(e^{\\sigma{}sZ}) $\n",
    "##### $ \\hspace{2.025cm} = e^{\\mu{}s} M_{Z}(\\sigma{}s) = e^{\\mu{}s} e^{\\sigma^{2}\\frac{1}{2}s^{2}} = e^{\\mu{}s+\\sigma{}^{2}\\frac{1}{2}s^{2}} \\;\\; $for all $s \\in{}{} \\mathbb{R} $\n",
    "##### $ \\hspace{0.15cm} $ ② 기댓값 : $E[X] = M'_{X}(0) = $**[LATEX]**\n",
    "##### $ \\hspace{0.15cm} $ ③ 분산 : $M''_{X}(0) = $**[LATEX]** $ \\Rightarrow{} \\, \\text{var}[X] = E[X^{2}] - (E[X])^{2} = $**[LATEX]**"
   ]
  },
  {
   "cell_type": "markdown",
   "metadata": {},
   "source": [
    "##### **(`PLUS`) 정규분포의 생성 (Theorem 5-4)** : \n",
    "##### $ \\hspace{0.15cm} n $개의 확률 변수 $X_{1} \\sim{} \\text{N}(\\mu{}_{X_{1}}, \\sigma{}_{X_{1}}) $, 확률 변수 $X_{2} \\sim{} \\text{N}(\\mu{}_{X_{2}}, \\sigma{}_{X_{2}}) $, $\\cdots{} $가 **독립 관계**일 때 \n",
    "##### $ \\hspace{0.15cm} X_{1} + X_{2} + \\cdots{} \\sim{} \\text{N}(\\mu{}_{X}+\\mu{}_{X_{2}}+\\cdots{}, \\sigma{}_{X_{1}}+\\sigma{}_{X_{2}}+\\cdots{}) $\n",
    "##### $ \\hspace{0.15cm} \\Rightarrow{} \\sum^{n}_{i=1} X_{i} \\sim{} \\text{N}(\\sum^{n}_{i=1} \\mu{}_{X_{i}}, \\sum^{n}_{i=1} \\sigma{}_{X_{i}}) $"
   ]
  },
  {
   "cell_type": "markdown",
   "metadata": {},
   "source": [
    "##### **(`PLUS`) 선형결합의 독립 관계일 경우** :\n",
    "##### $ \\hspace{0.15cm} \\Rightarrow{} X_{i} \\sim{} \\text{N}(\\mu{}_{X_{i}}, \\sigma{}_{X_{i}}) \\rightarrow{} X = c_{1} X_{1} + c_{2} X_{2} + \\cdots{} + c_{n} X_{n} $"
   ]
  }
 ],
 "metadata": {
  "kernelspec": {
   "display_name": "Python 3",
   "language": "python",
   "name": "python3"
  },
  "language_info": {
   "codemirror_mode": {
    "name": "ipython",
    "version": 3
   },
   "file_extension": ".py",
   "mimetype": "text/x-python",
   "name": "python",
   "nbconvert_exporter": "python",
   "pygments_lexer": "ipython3",
   "version": "3.8.12"
  },
  "orig_nbformat": 4
 },
 "nbformat": 4,
 "nbformat_minor": 2
}
