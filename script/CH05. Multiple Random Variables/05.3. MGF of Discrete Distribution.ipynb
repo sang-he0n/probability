{
 "cells": [
  {
   "attachments": {},
   "cell_type": "markdown",
   "metadata": {},
   "source": [
    "# CH05.3. **MGF of Discrete Distributions**"
   ]
  },
  {
   "cell_type": "markdown",
   "metadata": {},
   "source": [
    "> ## **베르누이 분포의 적률 생성 함수(MGF of Bernoulli Distribution)**"
   ]
  },
  {
   "cell_type": "markdown",
   "metadata": {},
   "source": [
    "#### **(1) 정의** : \n",
    "#### $ \\Rightarrow{} M_{X}(s) = (1-p) + p e^{s} \\;\\; \\forall{} \\;\\; \\text{ where } \\; X \\sim{} \\text{Bern}(p) $\n",
    "<img src=\"../../img/05.3. MGF of Discrete Distributions (1).png\" width=\"40%\" height=\"40%\"></img>"
   ]
  },
  {
   "cell_type": "markdown",
   "metadata": {},
   "source": [
    "#### **(2) 기댓값** : \n",
    "#### $ \\Rightarrow{} E[X] = M^{'}_{X}(0) = p $"
   ]
  },
  {
   "cell_type": "markdown",
   "metadata": {},
   "source": [
    "#### **(3) 분산** : \n",
    "#### $ \\Rightarrow{} \\text{var}[X] = M^{''}_{X}(0) - (M^{'}_{X}(0))^{2} = (1-p)p $"
   ]
  },
  {
   "cell_type": "markdown",
   "metadata": {},
   "source": [
    "<b></b>"
   ]
  },
  {
   "cell_type": "markdown",
   "metadata": {},
   "source": [
    "> ## **이항 분포의 적률 생성 함수(MGF of Binomial Distribution)**"
   ]
  },
  {
   "cell_type": "markdown",
   "metadata": {},
   "source": [
    "#### **(1) 정의** : \n",
    "#### $ \\Rightarrow{} M_{X}(s) = ((1-p) + p e^{s})^{n} \\;\\; \\text{ where } \\; X \\sim{} \\text{Bin}(n, p) $\n",
    "<img src=\"../../img/05.3. MGF of Discrete Distributions (2).png\" width=\"40%\" height=\"40%\"></img>"
   ]
  },
  {
   "cell_type": "markdown",
   "metadata": {},
   "source": [
    "#### **(2) 기댓값** : \n",
    "#### $ \\Rightarrow{} E[X] = M^{'}_{X}(0) = $ **[LATEX]**"
   ]
  },
  {
   "cell_type": "markdown",
   "metadata": {},
   "source": [
    "#### **(3) 분산** : \n",
    "#### $ \\Rightarrow{} \\text{var}[X] = M^{''}_{X}(0) - (M^{'}_{X}(0))^{2} = $ **[LATEX]**"
   ]
  },
  {
   "cell_type": "markdown",
   "metadata": {},
   "source": [
    "<b></b>"
   ]
  },
  {
   "cell_type": "markdown",
   "metadata": {},
   "source": [
    "> ## **기하 분포의 적률 생성 함수(MGF of Geometric Distribution)**"
   ]
  },
  {
   "cell_type": "markdown",
   "metadata": {},
   "source": [
    "#### **(1) 정의** : \n",
    "#### $ \\Rightarrow{} M_{X}(s) = \\begin{cases} \\frac{pe^{s}}{1-(1-p)e^{s}} & \\text{if } \\; s < - \\log{}(1-p) \\\\ \\text{undefined}. & \\text{if } \\; s \\geq{} - \\log{}(1-p) \\end{cases} \\;\\; \\text{ where } \\; X \\sim{} \\text{Geom}(p) $\n",
    "<img src=\"../../img/05.3. MGF of Discrete Distributions (3).png\" width=\"40%\" height=\"40%\"></img>"
   ]
  },
  {
   "cell_type": "markdown",
   "metadata": {},
   "source": [
    "#### **(2) 기댓값** : \n",
    "#### $ \\Rightarrow{} E[X] = M^{'}_{X}(0) = $ **[LATEX]**"
   ]
  },
  {
   "cell_type": "markdown",
   "metadata": {},
   "source": [
    "#### **(3) 분산** : \n",
    "#### $ \\Rightarrow{} \\text{var}[X] = M^{''}_{X}(0) - (M^{'}_{X}(0))^{2} = $ **[LATEX]**"
   ]
  },
  {
   "cell_type": "markdown",
   "metadata": {},
   "source": [
    "<b></b>"
   ]
  },
  {
   "cell_type": "markdown",
   "metadata": {},
   "source": [
    "> ## **음이항 분포의 적률 생성 함수(MGF of Negative Binomial Distribution)**"
   ]
  },
  {
   "cell_type": "markdown",
   "metadata": {},
   "source": [
    "#### **(1) 정의** : \n",
    "#### $ \\Rightarrow{} M_{X}(s) = \\begin{cases} (\\frac{pe^{s}}{1-(1-p)e^{s}})^{n} & \\text{if } \\; s < - \\log{}(1-p) \\\\ \\text{undefined}. & \\text{if } \\; s \\geq{} - \\log{}(1-p) \\end{cases} \\;\\; \\text{ where } \\; X \\sim{} \\text{NegBin}(n, p) $\n",
    "<img src=\"../../img/05.3. MGF of Discrete Distributions (4).png\" width=\"40%\" height=\"40%\"></img>"
   ]
  },
  {
   "cell_type": "markdown",
   "metadata": {},
   "source": [
    "#### **(2) 기댓값** : \n",
    "#### $ \\Rightarrow{} E[X] = M^{'}_{X}(0) = $ **[LATEX]**"
   ]
  },
  {
   "cell_type": "markdown",
   "metadata": {},
   "source": [
    "#### **(3) 분산** : \n",
    "#### $ \\Rightarrow{} \\text{var}[X] = M^{''}_{X}(0) - (M^{'}_{X}(0))^{2} = $ **[LATEX]**"
   ]
  },
  {
   "cell_type": "markdown",
   "metadata": {},
   "source": [
    "<b></b>"
   ]
  },
  {
   "cell_type": "markdown",
   "metadata": {},
   "source": [
    "> ## **초기하 분포의 적률 생성 함수(MGF of Hypergeometric Distribution)**"
   ]
  },
  {
   "cell_type": "markdown",
   "metadata": {},
   "source": [
    "##### **(⚠️)** 닫힌 형으로 정의되지 않아 생략"
   ]
  },
  {
   "cell_type": "markdown",
   "metadata": {},
   "source": [
    "<b></b>"
   ]
  },
  {
   "cell_type": "markdown",
   "metadata": {},
   "source": [
    "> ## **포아송 분포의 적률 생성 함수(MGF of Poisson Distribution)**"
   ]
  },
  {
   "cell_type": "markdown",
   "metadata": {},
   "source": [
    "#### **(1) 정의** : \n",
    "#### $ \\Rightarrow{} M_{X}(s) = e^{\\lambda{}(e^{s}-1)} \\;\\; \\text{ where } \\; X \\sim{} \\text{pois}(\\lambda{}) $\n",
    "<img src=\"../../img/05.3. MGF of Discrete Distributions (5).png\" width=\"40%\" height=\"40%\"></img>"
   ]
  },
  {
   "cell_type": "markdown",
   "metadata": {},
   "source": [
    "#### **(2) 기댓값** : \n",
    "#### $ \\Rightarrow{} E[X] = M^{'}_{X}(0) = $ **[LATEX]**"
   ]
  },
  {
   "cell_type": "markdown",
   "metadata": {},
   "source": [
    "#### **(3) 분산** : \n",
    "#### $ \\Rightarrow{} \\text{var}[X] = M^{''}_{X}(0) - (M^{'}_{X}(0))^{2} = $ **[LATEX]**"
   ]
  }
 ],
 "metadata": {
  "kernelspec": {
   "display_name": "Python 3",
   "language": "python",
   "name": "python3"
  },
  "language_info": {
   "codemirror_mode": {
    "name": "ipython",
    "version": 3
   },
   "file_extension": ".py",
   "mimetype": "text/x-python",
   "name": "python",
   "nbconvert_exporter": "python",
   "pygments_lexer": "ipython3",
   "version": "3.11.12"
  },
  "orig_nbformat": 4
 },
 "nbformat": 4,
 "nbformat_minor": 2
}
