{
 "cells": [
  {
   "attachments": {},
   "cell_type": "markdown",
   "metadata": {},
   "source": [
    "# CH05.2. **MGF of Distributions**"
   ]
  },
  {
   "cell_type": "markdown",
   "metadata": {},
   "source": [
    "> ## **이산분포의 적률생성함수(MGF of Discrete Distribution)**"
   ]
  },
  {
   "cell_type": "markdown",
   "metadata": {},
   "source": [
    "#### **(1) 베르누이 분포** :\n",
    "##### $ \\hspace{0.15cm} $ ① 적률생성함수 :\n",
    "##### $ \\hspace{0.45cm} X \\sim{} \\text{Bernoulli}(p), \\;\\; P_{X}(x) = \\begin{cases} p, \\;\\;\\;\\;\\;\\;\\;\\; x=1 \\\\ 1-p , \\;\\; x=0 \\\\ 0 , \\;\\;\\;\\;\\;\\;\\;\\; \\text{otherwise.} \\end{cases} $\n",
    "##### $ \\hspace{0.45cm} \\Rightarrow{} \\, M_{X}(s) = \\sum_{x_{i}\\in{}{}X(S)} e^{sx}P_{X}(x_{i}) = e^{s0}(1-p) + e^{s1}p = (1-p) + pe^{s}, \\;\\; $all $s \\in{}{} \\mathbb{R} $\n",
    "##### $ \\hspace{0.15cm} $ ② 기댓값 : $E[X] = M'_{X}(0) = p \\cdot{} 1 = p $\n",
    "##### $ \\hspace{0.15cm} $ ③ 분산 : $M''_{X}(0) = p \\cdot{} 1 = p = E[X^{2}] \\, \\rightarrow{} \\, \\text{var}[X] = E[X^{2}] - (E[X])^{2} = p - p^{2} = (1-p)p $"
   ]
  },
  {
   "cell_type": "markdown",
   "metadata": {},
   "source": [
    "#### **(2) 이항 분포** :\n",
    "##### $ \\hspace{0.15cm} $ ① 적률생성함수 :\n",
    "##### $ \\hspace{0.45cm} X_{i} \\sim{} \\text{Bernoulli}(p) \\;\\; $($i = 1, 2, \\cdots{}, n $) $\\; \\rightarrow{} $**(independent)** $X_{1} + X_{2} + \\cdots{} + X_{n} = X \\sim{} \\text{Binomial}(n, p) $\n",
    "##### $ \\hspace{0.45cm} \\Rightarrow{} M_{X}(s) = ((1-p)+pe^{s})^{n} $\n",
    "##### $ \\hspace{0.15cm} $ ② 기댓값 : $E[X] = M'_{X}(0) = $**[LATEX]**\n",
    "##### $ \\hspace{0.15cm} $ ③ 분산 : $M''_{X}(0) = $**[LATEX]** $ \\Rightarrow{} \\, \\text{var}[X] = E[X^{2}] - (E[X])^{2} = $**[LATEX]**"
   ]
  },
  {
   "cell_type": "markdown",
   "metadata": {},
   "source": [
    "#### **(3) 기하 분포** :\n",
    "##### $ \\hspace{0.15cm} $ ① 적률생성함수 :\n",
    "##### **[LATEX]**\n",
    "##### $ \\hspace{0.15cm} $ ② 기댓값 : $E[X] = M'_{X}(0) = $**[LATEX]**\n",
    "##### $ \\hspace{0.15cm} $ ③ 분산 : $M''_{X}(0) = $**[LATEX]** $ \\Rightarrow{} \\, \\text{var}[X] = E[X^{2}] - (E[X])^{2} = $**[LATEX]**"
   ]
  },
  {
   "cell_type": "markdown",
   "metadata": {},
   "source": [
    "#### **(4) 파스칼 분포** :\n",
    "##### $ \\hspace{0.15cm} $ ① 적률생성함수 :\n",
    "##### **[LATEX]**\n",
    "##### $ \\hspace{0.15cm} $ ② 기댓값 : $E[X] = M'_{X}(0) = $**[LATEX]**\n",
    "##### $ \\hspace{0.15cm} $ ③ 분산 : $M''_{X}(0) = $**[LATEX]** $ \\Rightarrow{} \\, \\text{var}[X] = E[X^{2}] - (E[X])^{2} = $**[LATEX]**"
   ]
  },
  {
   "cell_type": "markdown",
   "metadata": {},
   "source": [
    "#### **(5) 초기하 분포** :\n",
    "##### $ \\hspace{0.15cm} $ ① 적률생성함수 :\n",
    "##### **[LATEX]**\n",
    "##### $ \\hspace{0.15cm} $ ② 기댓값 : $E[X] = M'_{X}(0) = $**[LATEX]**\n",
    "##### $ \\hspace{0.15cm} $ ③ 분산 : $M''_{X}(0) = $**[LATEX]** $ \\Rightarrow{} \\, \\text{var}[X] = E[X^{2}] - (E[X])^{2} = $**[LATEX]**"
   ]
  },
  {
   "cell_type": "markdown",
   "metadata": {},
   "source": [
    "#### **(6) 포아송 분포** :\n",
    "##### $ \\hspace{0.15cm} $ ① 적률생성함수 :\n",
    "##### $ \\hspace{0.45cm} X \\sim{} \\text{Poisson}(\\lambda{}), \\;\\; P_{X}(x) = \\begin{cases} {{e^{-\\lambda{}}\\lambda{}^{x}}\\over{x!}}, \\;\\; x \\in{}{} \\{ 0, 1, \\cdots{} \\} \\\\ 0, \\;\\;\\;\\;\\;\\;\\;\\; \\text{otherwise.} \\end{cases} $\n",
    "##### $ \\hspace{0.45cm} \\Rightarrow{} M_{X}(s) = e^{\\lambda{}(e^{s}-1)}, \\;\\; $for all $s \\in{}{} \\mathbb{R} $\n",
    "##### $ \\hspace{0.15cm} $ ② 기댓값 : $E[X] = M'_{X}(0) = $**[LATEX]**\n",
    "##### $ \\hspace{0.15cm} $ ③ 분산 : $M''_{X}(0) = $**[LATEX]** $ \\Rightarrow{} \\, \\text{var}[X] = E[X^{2}] - (E[X])^{2} = $**[LATEX]**"
   ]
  }
 ],
 "metadata": {
  "kernelspec": {
   "display_name": "Python 3",
   "language": "python",
   "name": "python3"
  },
  "language_info": {
   "codemirror_mode": {
    "name": "ipython",
    "version": 3
   },
   "file_extension": ".py",
   "mimetype": "text/x-python",
   "name": "python",
   "nbconvert_exporter": "python",
   "pygments_lexer": "ipython3",
   "version": "3.8.12"
  },
  "orig_nbformat": 4
 },
 "nbformat": 4,
 "nbformat_minor": 2
}
