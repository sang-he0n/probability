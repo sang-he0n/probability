{
 "cells": [
  {
   "attachments": {},
   "cell_type": "markdown",
   "metadata": {},
   "source": [
    "# CH05.1. **More than Two Random Variables**"
   ]
  },
  {
   "cell_type": "markdown",
   "metadata": {},
   "source": [
    "> ## **결합분포의 확장(Extension of Joint RV)**"
   ]
  },
  {
   "cell_type": "markdown",
   "metadata": {
    "vscode": {
     "languageId": "plaintext"
    }
   },
   "source": [
    "#### **(1) $ n $개 확률 변수에 대한 결합분포의 정의** :\n",
    "##### $ \\hspace{0.15cm} $ ① 이산 결합 확률 변수\n",
    "##### $ \\hspace{0.45cm} \\Rightarrow{} P_{X_{1}X_{2}\\cdots{}X_{n}}(x_{1},x_{2},\\cdots{},x_{n}) = P(X_{1}=x_{1},X_{2}=x_{2},\\cdots{}, X_{n}=x_{n}) $\n",
    "##### $ \\hspace{0.15cm} $ ② 결합 누적 분포 함수\n",
    "##### $ \\hspace{0.45cm} \\Rightarrow{} F_{X_{1}X_{2}\\cdots{}X_{n}}(x_{1},x_{2},\\cdots{},x_{n}) = F(X_{1}=x_{1},X_{2}=x_{2},\\cdots{}, X_{n}=x_{n}) $\n",
    "##### $ \\hspace{4.95cm} = P(X_{1}\\leq{}x_{1},X_{2}\\leq{}x_{2},\\cdots{},X_{n}\\leq{}x_{n}) $\n",
    "##### $ \\hspace{0.15cm} $ ③ 연속 결합 확률 변수\n",
    "##### $ \\hspace{0.45cm} \\Rightarrow{} f_{X_{1}X_{2}\\cdots{}X_{n}}(x_{1},x_{2},\\cdots{},x_{n}) = f(X_{1}=x_{1}, X_{2}=x_{2}, \\cdots{}, X_{n}=x_{n}) $\n",
    "##### $ \\hspace{4.875cm} = \\frac{\\partial{}^{n}}{\\partial{}x_{1} \\partial{}x_{2} \\cdots{} \\partial{}x_{n}} F(X_{1}=x_{1}, X_{2}=x_{2},\\cdots{}, X_{n}=x_{n}) $"
   ]
  },
  {
   "cell_type": "markdown",
   "metadata": {},
   "source": [
    "#### **(2) $ n $개 확률 변수에 대한 주변 결합분포의 정의** :\n",
    "##### $ \\hspace{0.15cm} $ ① 주변 이산결합 확률 변수\n",
    "##### $ \\hspace{0.45cm} \\Rightarrow{} P_{X_{1}}(x_{1}) = P(X_{1}=x_{1}) = \\sum_{x_{2}\\in{}{}R_{2}}\\sum_{x_{3}\\in{}{}R_{3}}\\cdots{}\\sum_{x_{n}\\in{}{}R_{n}} P(X_{1}=x_{1}, X_{2}=X_{2}, \\cdots{}, X_{n}=x_{n}) $\n",
    "##### $ \\hspace{0.15cm} $ ② 주변 결합누적 분포 함수\n",
    "##### $ \\hspace{0.45cm} \\Rightarrow{} F_{X_{1}}(x_{1}) = P(X\\leq{}x_{1}) = \\sum_{x_{2}\\leq{}\\infty{}}\\sum_{x_{3}\\leq{}\\infty{}}\\cdots{}\\sum_{x_{n}\\leq{}\\infty{}} P(X_{1}\\leq{}x_{1},X_{2}\\leq{}x_{2},\\cdots{},X_{n}\\leq{}x_{n}) $\n",
    "##### $ \\hspace{0.15cm} $ ③ 주변 연속결합 확률 변수\n",
    "##### $ \\hspace{0.45cm} \\Rightarrow{} f_{X_{1}}(x_{1}) = f(X_{1}=x_{1}) = \\int^{\\infty{}}_{-\\infty{}}\\int^{\\infty{}}_{-\\infty{}}\\cdots{}\\int^{\\infty{}}_{-\\infty{}} f(X_{1}=x_{1}, X_{2}=x_{2}, \\cdots{}, X_{n}=x_{n}) \\text{d}x_{2}\\text{d}x_{3} \\cdots{} \\text{d}x_{n} $"
   ]
  },
  {
   "cell_type": "markdown",
   "metadata": {},
   "source": [
    "<b></b>"
   ]
  },
  {
   "cell_type": "markdown",
   "metadata": {},
   "source": [
    "> ## **_**"
   ]
  },
  {
   "cell_type": "markdown",
   "metadata": {},
   "source": [
    "##### **(`PLUS`) $n $개 확률 변수에 대한 독립 관계의 정의** :\n",
    "##### $ \\hspace{0.15cm} $ ① 이산결합 확률 변수\n",
    "##### $ \\hspace{0.45cm} \\Rightarrow{} P(X_{1}=x_{1},X_{2}=x_{2},\\cdots{},X_{n}=x_{n}) = P(X_{1}=x_{1})P(X_{2}=x_{2})\\cdots{}P(X_{n}=x_{n}) $\n",
    "##### $ \\hspace{0.15cm} $ ② 결합누적 분포 함수\n",
    "##### $ \\hspace{0.45cm} \\Rightarrow{} F(X_{1}=x_{1},X_{2}=x_{2},\\cdots{},X_{n}=x_{n}) = F(X_{1}=x_{1})F(X_{2}=x_{2})\\cdots{}F(X_{n}=x_{n}) $\n",
    "##### $ \\hspace{0.15cm} $ ③ 연속결합 확률 변수\n",
    "##### $ \\hspace{0.45cm} \\Rightarrow{} f(X_{1}=x_{1}, X_{2}=x_{2}, \\cdots{}, X_{n}=x_{n}) = f(X_{1}=x_{1})f(X_{2}=x_{2})\\cdots{}f(X_{n}=x_{n}) $"
   ]
  },
  {
   "cell_type": "markdown",
   "metadata": {},
   "source": [
    "##### **(`PLUS`)** 위 독립 관계가 만족하면 쌍 독립(pairwise independent) 관계도 만족함"
   ]
  },
  {
   "cell_type": "markdown",
   "metadata": {},
   "source": [
    "##### **(`PLUS`)** 확률 변수 $X_{1}, X_{2}, \\cdots{}, X_{n} $가 독립 관계라면 아래 식을 만족함 (**역은 성립하지 않음**)\n",
    "##### $ \\hspace{0.15cm} \\Rightarrow{} E(X_{1}X_{2}\\cdots{}X_{n}) = E(X_{1})E(X_{2})\\cdots{}E(X_{n}) $"
   ]
  },
  {
   "cell_type": "markdown",
   "metadata": {},
   "source": [
    "<b></b>"
   ]
  },
  {
   "cell_type": "markdown",
   "metadata": {},
   "source": [
    "> ## **독립항등분포(Independent and Identical Distribution ; I.I.D)**"
   ]
  },
  {
   "cell_type": "markdown",
   "metadata": {},
   "source": [
    "#### **(1) 정의** : 확률 변수 $X_{1}, X_{2}, \\cdots{}, X_{n} $가 독립 관계이고, 모두 같은 주변 결합 분포(marginal Distribution)를 갖는 관계\n",
    "#### $ \\Rightarrow{} F(X_{1}=x_{1}) = F(X_{2}=x_{2}) = \\cdots{} = F(X_{n}=x_{n}) $\n",
    "#### $\\Leftrightarrow{} P(X_{1}=x_{1}) = P(X_{2}=x_{2}) = \\cdots{} = P(X_{n}=x_{n}), \\;\\; \\text{ if } \\, X_{i} \\, \\text{ is discrete RV}. $\n",
    "#### $\\Leftrightarrow{} f(X_{1}=x_{1}) = f(X_{2}=x_{2}) = \\cdots{} = f(X_{n}=x_{n}), \\;\\; \\text{ if } \\, X_{i} \\, \\text{ is continuous RV}. $"
   ]
  },
  {
   "cell_type": "markdown",
   "metadata": {},
   "source": [
    "##### **(`PLUS`)** 개별 확률 변수는 독립 관계이므로 $\\; E(X_{1}X_{2}\\cdots{}X_{n}) = E(X_{1})^{n} $"
   ]
  },
  {
   "cell_type": "markdown",
   "metadata": {},
   "source": [
    "<b></b>"
   ]
  },
  {
   "cell_type": "markdown",
   "metadata": {},
   "source": [
    "> ## **확률 변수들의 합(Sum of Random Variables)**"
   ]
  },
  {
   "cell_type": "markdown",
   "metadata": {},
   "source": [
    "#### **(1) 정의** : **[CONTENTS]**\n",
    "#### $ \\Rightarrow{} Y = X_{1} + X_{2} + \\cdots{} + X_{n} $"
   ]
  },
  {
   "cell_type": "markdown",
   "metadata": {},
   "source": [
    "#### **(2) 기대값** : **[CONTENTS]**\n",
    "#### $ \\Rightarrow{} E[Y] = E[X_{1}+X_{2}+\\cdots{}+X_{n}] = E[X_{1}] + E[X_{2}] + \\cdots{} + E[X_{n}] \\;\\; $($ \\because{} $기대값의 선형성)\n",
    "#### $ \\hspace{1.4cm} = E[\\sum^{n}_{i=1}X_{i}] = \\sum^{n}_{i=1}E[X_{i}] $"
   ]
  },
  {
   "cell_type": "markdown",
   "metadata": {},
   "source": [
    "#### **(3) 분산** : **[CONTENTS]**\n",
    "#### $ \\Rightarrow{} \\text{var}(Y) = \\text{var}(X_{1}) + \\text{var}(X_{2} + \\cdots{} + X_{n}) + 2\\text{cov}(X_{1}, X_{2}+\\cdots{}+x_{n}) $\n",
    "#### $ \\hspace{1.6cm} = \\text{var}(X_{1}) + \\text{var}(X_{2}) + \\text{var}(X_{3} + \\cdots{} + X_{n}) + 2\\text{cov}(X_{1}, X_{2}+\\cdots{}+x_{n}) + 2\\text{cov}(X_{2}, X_{3}+\\cdots{}+X_{n}) $\n",
    "#### $ \\hspace{1.8cm} \\cdots{} $\n",
    "#### $ \\hspace{1.6cm} = \\text{var}(X_{1}) + \\cdots{} + \\text{var}(X_{n}) + 2\\text{cov}(X_{1}, X_{2}+\\cdots{}+x_{n}) + \\cdots{} + 2\\text{cov}(X_{n-1}, X_{n}) $\n",
    "#### $ \\hspace{1.6cm} = \\sum^{n}_{i=1}\\text{var}(X_{i}) + 2 \\sum_{i<k}\\text{cov}(X_{i}, X_{k}) $\n",
    "#### $ \\hspace{1.6cm} = \\sum^{n}_{i=1}\\text{var}(X_{i}) + 2 C^{n}_{2} \\text{cov}(X_{i}, X_{k}) $"
   ]
  },
  {
   "cell_type": "markdown",
   "metadata": {},
   "source": [
    "##### **(`PLUS`) 독립 관계일 경우** : $\\text{var}(Y) = \\sum^{n}_{i=1}\\text{var}(X_{i}) $"
   ]
  },
  {
   "cell_type": "markdown",
   "metadata": {},
   "source": [
    "<b></b>"
   ]
  },
  {
   "cell_type": "markdown",
   "metadata": {},
   "source": [
    "> ## **확률 변수들의 곱(Product of Random Variables)**"
   ]
  }
 ],
 "metadata": {
  "kernelspec": {
   "display_name": "Python 3",
   "language": "python",
   "name": "python3"
  },
  "language_info": {
   "codemirror_mode": {
    "name": "ipython",
    "version": 3
   },
   "file_extension": ".py",
   "mimetype": "text/x-python",
   "name": "python",
   "nbconvert_exporter": "python",
   "pygments_lexer": "ipython3",
   "version": "3.8.12"
  },
  "orig_nbformat": 4
 },
 "nbformat": 4,
 "nbformat_minor": 2
}
