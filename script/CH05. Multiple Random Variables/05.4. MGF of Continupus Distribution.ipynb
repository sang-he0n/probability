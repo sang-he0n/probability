{
 "cells": [
  {
   "attachments": {},
   "cell_type": "markdown",
   "metadata": {},
   "source": [
    "# CH05.4. **MGF of Continuous Distributions**"
   ]
  },
  {
   "cell_type": "markdown",
   "metadata": {},
   "source": [
    "> ## **연속균등 분포의 적률 생성 함수(MGF of Uniform Distribution)**"
   ]
  },
  {
   "cell_type": "markdown",
   "metadata": {},
   "source": [
    "#### **(1) 정의** : \n",
    "#### $ \\Rightarrow{} M_{X}(s) = \\begin{cases} \\frac{e^{sb}-e^{sa}}{s(b-a)} & \\text{if } \\; s \\neq{} 0 \\\\ 1 & \\text{if } \\; s = 0 \\end{cases} \\;\\; \\text{ where } \\; X \\sim{} \\text{U}(a, b) $\n",
    "<img src=\"../../img/05.4. MGF of Continuous Distribution (1).png\" width=\"40%\" height=\"40%\"></img>"
   ]
  },
  {
   "cell_type": "markdown",
   "metadata": {},
   "source": [
    "#### **(2) 기댓값** : \n",
    "#### $ \\Rightarrow{} E[X] = M^{'}_{X}(0) = \\lim_{s\\rightarrow{}0} \\frac{e^{sb}(sb-1)-e^{sa}(sa-1)}{s^{2}(b-a)} \\;\\; $ ($ \\because{} \\frac{f'(x)}{g'(x)} = \\frac{f(x)'g(x)-f(x)g'(x)}{g(x)^{2}}$)\n",
    "##### $ \\hspace{3.1275cm} = \\frac{a+b}{2} $"
   ]
  },
  {
   "cell_type": "markdown",
   "metadata": {},
   "source": [
    "#### **(3) 분산** : \n",
    "#### $ \\Rightarrow{} \\text{var}[X] = M^{''}_{X}(0) - (M^{'}_{X}(0))^{2} = $"
   ]
  },
  {
   "cell_type": "markdown",
   "metadata": {},
   "source": [
    "<b></b>"
   ]
  },
  {
   "cell_type": "markdown",
   "metadata": {},
   "source": [
    "> ## **지수 분포의 적률 생성 함수(MGF of Exponential Distribution)**"
   ]
  },
  {
   "cell_type": "markdown",
   "metadata": {},
   "source": [
    "#### **(1) 정의** : \n",
    "#### $ \\Rightarrow{} M_{X}(s) = \\begin{cases} \\frac{\\lambda{}}{\\lambda{}-s} & \\text{if } \\; s < \\lambda{} \\\\ \\text{undefined}. & \\text{if } \\; s \\geq{} \\lambda{} \\end{cases} \\;\\; \\text{ where } \\; X \\sim{} \\text{Exp}(\\lambda{}) $\n",
    "<img src=\"../../img/05.4. MGF of Continuous Distribution (2).png\" width=\"40%\" height=\"40%\"></img>"
   ]
  },
  {
   "cell_type": "markdown",
   "metadata": {},
   "source": [
    "#### **(2) 기댓값** : \n",
    "#### $ \\Rightarrow{} E[X] = M^{'}_{X}(0) = $"
   ]
  },
  {
   "cell_type": "markdown",
   "metadata": {},
   "source": [
    "#### **(3) 분산** : \n",
    "#### $ \\Rightarrow{} \\text{var}[X] = M^{''}_{X}(0) - (M^{'}_{X}(0))^{2} = $"
   ]
  },
  {
   "cell_type": "markdown",
   "metadata": {},
   "source": [
    "<b></b>"
   ]
  },
  {
   "cell_type": "markdown",
   "metadata": {},
   "source": [
    "> ## **감마 분포의 적률 생성 함수(MGF of Gamma Distribution)**"
   ]
  },
  {
   "cell_type": "markdown",
   "metadata": {},
   "source": [
    "#### **(1) 정의** : \n",
    "#### $ \\Rightarrow{} M_{X}(s) = \\begin{cases} (\\frac{\\beta{}}{1 - \\beta{}s})^{\\alpha{}} & \\text{if } \\; s < \\frac{1}{\\beta{}} \\\\ \\text{undefined}. & \\text{if } \\; s \\geq{} \\frac{1}{\\beta{}}\\end{cases} \\;\\; \\text{ where } \\; X \\sim{} \\text{Gamma}(\\alpha{}, \\beta{}) $\n",
    "<img src=\"../../img/05.4. MGF of Continuous Distribution (3).png\" width=\"40%\" height=\"40%\"></img>"
   ]
  },
  {
   "cell_type": "markdown",
   "metadata": {},
   "source": [
    "#### **(2) 기댓값** : \n",
    "#### $ \\Rightarrow{} E[X] = M^{'}_{X}(0) = $"
   ]
  },
  {
   "cell_type": "markdown",
   "metadata": {},
   "source": [
    "#### **(3) 분산** : \n",
    "#### $ \\Rightarrow{} \\text{var}[X] = M^{''}_{X}(0) - (M^{'}_{X}(0))^{2} = $"
   ]
  },
  {
   "cell_type": "markdown",
   "metadata": {},
   "source": [
    "<b></b>"
   ]
  },
  {
   "cell_type": "markdown",
   "metadata": {},
   "source": [
    "> ## **표준 정규 분포의 적률 생성 함수(MGF of Standard Normal Distribution)**"
   ]
  },
  {
   "cell_type": "markdown",
   "metadata": {},
   "source": [
    "#### **(1) 정의** : \n",
    "#### $ \\Rightarrow{} M_{X}(s) = e^{\\frac{s^{2}}{2}} \\;\\; \\text{ where } \\; X \\sim{} \\text{N}(0, 1) $\n",
    "<img src=\"../../img/05.4. MGF of Continuous Distribution (4).png\" width=\"40%\" height=\"40%\"></img>"
   ]
  },
  {
   "cell_type": "markdown",
   "metadata": {},
   "source": [
    "#### **(2) 기댓값** : \n",
    "#### $ \\Rightarrow{} E[X] = M^{'}_{X}(0) = $"
   ]
  },
  {
   "cell_type": "markdown",
   "metadata": {},
   "source": [
    "#### **(3) 분산** : \n",
    "#### $ \\Rightarrow{} \\text{var}[X] = M^{''}_{X}(0) - (M^{'}_{X}(0))^{2} = $"
   ]
  },
  {
   "cell_type": "markdown",
   "metadata": {},
   "source": [
    "<b></b>"
   ]
  },
  {
   "cell_type": "markdown",
   "metadata": {},
   "source": [
    "> ## **정규 분포의 적률 생성 함수(MGF of Normal Distribution)**"
   ]
  },
  {
   "cell_type": "markdown",
   "metadata": {},
   "source": [
    "#### **(1) 정의** : \n",
    "#### $ \\Rightarrow{} M_{X}(s) = e^{\\mu{}s+\\sigma{}^{2}\\frac{s^{2}}{2}} \\;\\; \\text{ where } \\; X \\sim{} \\text{U}(\\mu{}, \\sigma{}^{2}) $\n",
    "<img src=\"../../img/05.4. MGF of Continuous Distribution (5).png\" width=\"40%\" height=\"40%\"></img>"
   ]
  },
  {
   "cell_type": "markdown",
   "metadata": {},
   "source": [
    "#### **(3) 분산** : \n",
    "#### $ \\Rightarrow{} \\text{var}[X] = M^{''}_{X}(0) - (M^{'}_{X}(0))^{2} = $"
   ]
  },
  {
   "cell_type": "markdown",
   "metadata": {},
   "source": [
    "#### **(2) 기댓값** : \n",
    "#### $ \\Rightarrow{} E[X] = M^{'}_{X}(0) = $"
   ]
  },
  {
   "cell_type": "markdown",
   "metadata": {},
   "source": [
    "<b></b>"
   ]
  },
  {
   "cell_type": "markdown",
   "metadata": {},
   "source": [
    "> ## (Theorem 5-5) **_**"
   ]
  },
  {
   "cell_type": "markdown",
   "metadata": {},
   "source": [
    "##### **(`PLUS`) 정규분포의 생성 (Theorem 5-4)** : \n",
    "##### $ \\hspace{0.15cm} n $개의 확률 변수 $ X_{1} \\sim{} \\text{N}(\\mu{}_{X_{1}}, \\sigma{}_{X_{1}}) $, 확률 변수 $X_{2} \\sim{} \\text{N}(\\mu{}_{X_{2}}, \\sigma{}_{X_{2}}) $, $ \\cdots{} $가 **독립 관계**일 때 \n",
    "##### $ \\hspace{0.15cm} X_{1} + X_{2} + \\cdots{} \\sim{} \\text{N}(\\mu{}_{X}+\\mu{}_{X_{2}}+\\cdots{}, \\sigma{}_{X_{1}}+\\sigma{}_{X_{2}}+\\cdots{}) $\n",
    "##### $ \\hspace{0.15cm} \\Rightarrow{} \\sum^{n}_{i=1} X_{i} \\sim{} \\text{N}(\\sum^{n}_{i=1} \\mu{}_{X_{i}}, \\sum^{n}_{i=1} \\sigma{}_{X_{i}}) $"
   ]
  },
  {
   "cell_type": "markdown",
   "metadata": {},
   "source": [
    "##### **(`PLUS`) 선형결합의 독립 관계일 경우** :\n",
    "##### $ \\hspace{0.15cm} \\Rightarrow{} X_{i} \\sim{} \\text{N}(\\mu{}_{X_{i}}, \\sigma{}_{X_{i}}) \\rightarrow{} X = c_{1} X_{1} + c_{2} X_{2} + \\cdots{} + c_{n} X_{n} $"
   ]
  }
 ],
 "metadata": {
  "kernelspec": {
   "display_name": "Python 3",
   "language": "python",
   "name": "python3"
  },
  "language_info": {
   "codemirror_mode": {
    "name": "ipython",
    "version": 3
   },
   "file_extension": ".py",
   "mimetype": "text/x-python",
   "name": "python",
   "nbconvert_exporter": "python",
   "pygments_lexer": "ipython3",
   "version": "3.11.12"
  },
  "orig_nbformat": 4
 },
 "nbformat": 4,
 "nbformat_minor": 2
}
