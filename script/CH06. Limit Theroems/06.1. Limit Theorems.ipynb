{
 "cells": [
  {
   "attachments": {},
   "cell_type": "markdown",
   "metadata": {},
   "source": [
    "# CH06.1. **Limit Theorem**"
   ]
  },
  {
   "cell_type": "markdown",
   "metadata": {},
   "source": [
    "> ## **표본 평균(Sample mean; Sample Average)**"
   ]
  },
  {
   "cell_type": "markdown",
   "metadata": {},
   "source": [
    "#### **(1) 정의** : 독립항등분포(i.i.d)인 확률변수 $ X_{1}, X_{2}, \\cdots{}, X_{n} $ 을 산술 평균한 **확률변수**\n",
    "#### $ \\Rightarrow{} \\bar{X}_{n} = \\frac{X_{1}+X_{2}+\\cdots{}+X_{n}}{n} = \\frac{1}{n} \\sum^{n}_{i=1}X_{i} \\;\\; \\text{ where } \\, i = 1, 2, \\cdots{}, n, \\;\\; X_{i} \\sim{} \\text{i.i.d} $ "
   ]
  },
  {
   "cell_type": "markdown",
   "metadata": {},
   "source": [
    "##### **(`PLUS`)** 표본에 대한 개념은 CH08.1. 에서 정의함"
   ]
  },
  {
   "cell_type": "markdown",
   "metadata": {},
   "source": [
    "#### **(2) 기대값** : **[CONTENTS]**\n",
    "#### $ \\Rightarrow{} E(\\bar{X}_{n}) = E(\\frac{X_{1}+X_{2}+\\cdots{}+X_{n}}{n}) = \\frac{E(X_{1})+E(X_{2})+\\cdots{}+E(X_{n})}{n} = \\mu{} \\;\\; \\text{ if } \\, E(X_{i}) = \\mu{}, \\; \\text{var}(X_{i}) = \\sigma{} $ "
   ]
  },
  {
   "cell_type": "markdown",
   "metadata": {},
   "source": [
    "#### **(3) 분산** : **[CONTENTS]**\n",
    "#### $ \\Rightarrow{} \\text{var}(\\bar{X}_{n}) = \\text{var}(\\frac{X_{1}+X_{2}+\\cdots{}+X_{n}}{n}) = \\frac{1}{n^{2}} \\text{var}(X_{1}+X_{2}+\\cdots{}+X_{n}) $\n",
    "#### $ \\hspace{1.75cm} = \\frac{1}{n^{2}} \\cdot{} (\\text{var}(X_{1})+\\text{var}(X_{2})+\\cdots{}+\\text{var}(X_{n})) \\;\\; $ ($ \\because{} $ independent) \n",
    "#### $ \\hspace{1.75cm} = \\frac{1}{n^{2}} \\cdot{} n \\cdot{} \\text{var}(X_{i}) = \\frac{1}{n} \\cdot{} \\sigma{} $"
   ]
  },
  {
   "cell_type": "markdown",
   "metadata": {},
   "source": [
    "<b></b>"
   ]
  },
  {
   "cell_type": "markdown",
   "metadata": {},
   "source": [
    "> ## **약한 큰 수의 법칙(Weak Law of Large Number; WLLN)**"
   ]
  },
  {
   "cell_type": "markdown",
   "metadata": {},
   "source": [
    "#### **(1) 정의** : 표본크기($ n $)가 증가할수록 확률변수 $ \\bar{X_{n}} $ 는 $ \\mu{} = E(X_{i}) $ 에 수렴할 확률이 증가하는 성질\n",
    "#### $ \\Rightarrow{} \\lim_{n\\rightarrow{}\\infty{}}P(|\\frac{1}{n}\\sum^{n}_{i=1}X_{i}-\\mu{}|\\geq{}\\epsilon{}) = \\lim_{n\\rightarrow{}\\infty{}}P(|\\bar{X}_{n}-\\mu{}|\\geq{}\\epsilon{}) = 0 \\;\\; \\text{ for any } \\, \\epsilon{} > 0 \\, \\text{ and } \\, \\mu{} < \\infty{} $ \n",
    "#### $ \\Leftrightarrow{} \\lim_{n\\rightarrow{}\\infty{}}P(\\bar{X}_{n}\\geq{}\\mu{}-\\epsilon{} \\;\\; \\text{or} \\;\\; \\bar{X}_{n}\\leq{}\\mu{}-\\epsilon{}) = 0 $\n",
    "#### **[GRAPH]**"
   ]
  },
  {
   "cell_type": "markdown",
   "metadata": {},
   "source": [
    "##### **(`WHY?`)** \n",
    "##### $ \\hspace{0.15cm} \\text{if \\, } \\text{var}(X_{i}) < \\infty{} \\;\\; $ ($ X_{i} $ 의 분산이 유한할 때, 특정 값일 때)\n",
    "##### $ \\hspace{0.15cm} P(|\\frac{1}{n}\\sum^{n}_{i=1}X_{i}-\\mu{}|\\geq{}\\epsilon{}) \\leq{} \\frac{\\text{var}(X_{i})}{\\epsilon{}^{2}} \\;\\; $ ($ \\because{} $ chevyshev's inequality)\n",
    "##### $ \\hspace{0.15cm} \\lim{}_{n\\rightarrow{}\\infty{}} P(|\\frac{1}{n}\\sum^{n}_{i=1}X_{i}-\\mu{}|\\geq{}\\epsilon{}) \\leq{} \\lim{}_{n\\rightarrow{}\\infty{}} \\frac{\\text{var}(X_{i})}{\\epsilon{}^{2}} $\n",
    "##### $ \\hspace{0.15cm} \\therefore{} \\, \\lim{}_{n\\rightarrow{}\\infty{}} P(|\\frac{1}{n}\\sum^{n}_{i=1}X_{i}-\\mu{}|\\geq{}\\epsilon{}) = 0 $"
   ]
  },
  {
   "cell_type": "markdown",
   "metadata": {},
   "source": [
    "##### **(`PLUS`) 확률 수렴의 표기법** :\n",
    "##### $ \\hspace{0.15cm} \\Rightarrow{} \\bar{X}_{n} \\xrightarrow{\\text{p}} \\mu{} $"
   ]
  },
  {
   "cell_type": "markdown",
   "metadata": {},
   "source": [
    "<b></b>"
   ]
  },
  {
   "cell_type": "markdown",
   "metadata": {},
   "source": [
    "> ## **중심극한정리(Central Limit Theorem; CLT)**"
   ]
  },
  {
   "cell_type": "markdown",
   "metadata": {},
   "source": [
    "#### **(1) 정의** : \n",
    "#### 독립항등분포($ \\text{i.i.d} $)이며 유한한 기대값 및 분산을 갖는 확률변수 $ \\bar{X}_{n} $ 는 표본크기($  n $)가 증가할수록 그 분포가 표준 정규분포에 수렴함\n",
    "#### $ \\Rightarrow{} \\lim_{n\\rightarrow{}\\infty{}}P(Z_{n}\\leq{}x) = \\varPhi(x) \\;\\; \\text{ where } \\, Z_{n} = \\frac{\\bar{X}_{n} - \\mu{}}{\\text{std}(X_{i})/\\sqrt{n}} = \\frac{\\sum{}^{n}_{i=1}X_{i} - n\\mu{}}{\\sqrt{n}\\cdot{}\\text{std}(X_{i})} $\n",
    "#### $ \\hspace{4.35cm} \\text{and } \\, X_{i} \\sim{} \\text{i.i.d}, \\;\\; E(X_{i}) = \\mu{} < \\infty{}, \\;\\; \\text{var}(X_{i}) = \\sigma{}^{2} < \\infty{} $\n",
    "#### **[GRAPH]** "
   ]
  },
  {
   "cell_type": "markdown",
   "metadata": {},
   "source": [
    "##### **(`WHY?`)**\n",
    "##### $ \\hspace{0.15cm} Z_{n} =\\frac{\\sum{}^{n}_{i=1}X_{i} - n\\mu{}}{\\sqrt{n}\\cdot{}\\text{std}(X_{i})} = \\frac{X_{1}+X_{2}+\\cdots{}+X_{n} - n\\mu{}}{\\sqrt{n}\\cdot{}\\text{std}(X_{i})} = \\frac{Y_{1}+Y_{2}+\\cdots{}+Y_{n}}{\\sqrt{n}} \\;\\; \\text{ where } \\, Y = \\frac{X_{i}-\\mu{}}{\\text{std}(X_{i})} $\n",
    "##### $ \\hspace{0.15cm} M_{Z_{n}}(s) = E(e^{sZ_{n}}) = E(e^{s\\cdot{}\\frac{Y_{1}+Y_{2}+\\cdots{}+Y_{n}}{\\sqrt{n}}}) = E(e^{s\\cdot{}\\frac{Y_{1}}{\\sqrt{n}}}e^{s\\cdot{}\\frac{Y_{2}}{\\sqrt{n}}}\\cdots{}e^{s\\cdot{}\\frac{Y_{n}}{\\sqrt{n}}}) $\n",
    "##### $ \\hspace{1.35cm} = E(e^{s\\cdot{}\\frac{Y_{1}}{\\sqrt{n}}})E(e^{s\\cdot{}\\frac{Y_{2}}{\\sqrt{n}}})\\cdots{}E(e^{s\\cdot{}\\frac{Y_{n}}{\\sqrt{n}}}) = M_{Y_{1}}(\\frac{s}{\\sqrt{n}})M_{Y_{2}}(\\frac{s}{\\sqrt{n}})\\cdots{}M_{Y_{n}}(\\frac{s}{\\sqrt{n}}) $ \n",
    "##### $ \\hspace{1.35cm} = [M_{Y_{i}}(\\frac{s}{\\sqrt{n}})]^{n} \\;\\; $ ($ \\because{} Y \\sim{} \\text{i.i.d} $)\n",
    "##### $ \\hspace{0.15cm} \\lim_{n\\rightarrow{}\\infty{}} M_{Z_{n}}(s) = \\lim_{n\\rightarrow{}\\infty{}} [M_{Y_{i}}(\\frac{s}{\\sqrt{n}})]^{n} $ \n",
    "##### $ \\hspace{0.15cm} \\lim_{n\\rightarrow{}\\infty{}} \\log{}_{e}(M_{Z_{n}}(s)) = \\lim_{n\\rightarrow{}\\infty{}} \\log{}_{e}([M_{Y_{i}}(\\frac{s}{\\sqrt{n}})]^{n}) = \\lim_{n\\rightarrow{}\\infty{}} n \\cdot{} \\log{}_{e}(M_{Y_{i}}(\\frac{s}{\\sqrt{n}})) $ \n",
    "##### $ \\hspace{2.95cm} = \\lim_{n\\rightarrow{}\\infty{}} \\frac{\\log{}_{e}(M_{Y_{i}}(\\frac{s}{\\sqrt{n}}))}{\\frac{1}{n}} = \\lim_{t\\rightarrow{}0} \\frac{\\log{}_{e}(M_{Y_{i}}(ts))}{t^{2}} \\;\\; \\text{ where } \\, t = \\frac{1}{\\sqrt{n}} $\n",
    "##### $ \\hspace{2.95cm} = \\lim_{t\\rightarrow{}0} \\frac{\\frac{M'_{Y_{i}}(ts) \\cdot{} s}{M_{Y_{i}}(ts)}}{2t} = \\lim_{t\\rightarrow{}0} \\frac{ s \\cdot{} M'_{Y_{i}}(ts)}{2t \\cdot{} M_{Y_{i}}(ts)} \\;\\; $ ($ \\because{} $ L'hopital's rule)\n",
    "##### $ \\hspace{2.95cm} = \\lim_{t\\rightarrow{}0} \\frac{ s \\cdot{} s \\cdot{} M''_{Y_{i}}(ts)}{2 \\cdot{} M_{Y_{i}}(ts) + 2t \\cdot{} s \\cdot{} M'_{Y_{i}}(ts)} \\;\\; $ ($ \\because{} $ L'hopital's rule)\n",
    "##### $ \\hspace{2.95cm} = \\frac{s^{2}}{2} \\;\\; $ ($ \\because{} M'_{Y_{i}}(0) = E(Y_{i}) = 0, \\;\\; M''_{Y_{i}}(0) = E(Y_{i}^{2}) = \\text{var}(Y_{i}) - E(Y_{i}) = 1 $) \n",
    "##### $ \\hspace{0.15cm} \\lim_{n\\rightarrow{}\\infty{}} M_{Z_{n}}(s) = \\lim_{n\\rightarrow{}\\infty{}} e^{\\log{}_{e}(M_{Z_{n}}(s))} = e^{\\frac{s^{2}}{2}} $\n",
    "##### $ \\hspace{0.15cm} \\therefore{} \\lim_{n\\rightarrow{}\\infty{}} e^{\\log{}_{e} = (M_{Z_{n}}(s))} = M_{Z}(s) \\;\\; \\text{ where } \\, Z \\sim{} N(0, 1) $"
   ]
  },
  {
   "cell_type": "markdown",
   "metadata": {},
   "source": [
    "##### **(`PLUS`)** 모든 분포에 대하여 중심극한정리가 수렴하려면 특성함수(characteristic function)로 증명해야하나 생략"
   ]
  },
  {
   "cell_type": "markdown",
   "metadata": {},
   "source": [
    "##### **(`PLUS`)** 일반적으로 $ n > 30 $에서부터 중심극한정리가 적용됨"
   ]
  },
  {
   "cell_type": "markdown",
   "metadata": {},
   "source": [
    "#### **(3) 예시** :\n",
    "##### $ \\hspace{0.15cm} $ ① **[CONTENTS]**\n",
    "##### $ \\hspace{0.15cm} $ ② **[CONTENTS]**"
   ]
  },
  {
   "cell_type": "markdown",
   "metadata": {},
   "source": [
    "##### **(`PLUS`) 분포 수렴의 표기법** :\n",
    "##### $ \\hspace{0.15cm} \\Rightarrow{} Z_{n} \\xrightarrow{\\text{d}} Z $"
   ]
  }
 ],
 "metadata": {
  "kernelspec": {
   "display_name": "Python 3",
   "language": "python",
   "name": "python3"
  },
  "language_info": {
   "codemirror_mode": {
    "name": "ipython",
    "version": 3
   },
   "file_extension": ".py",
   "mimetype": "text/x-python",
   "name": "python",
   "nbconvert_exporter": "python",
   "pygments_lexer": "ipython3",
   "version": "3.8.12"
  },
  "orig_nbformat": 4
 },
 "nbformat": 4,
 "nbformat_minor": 2
}
