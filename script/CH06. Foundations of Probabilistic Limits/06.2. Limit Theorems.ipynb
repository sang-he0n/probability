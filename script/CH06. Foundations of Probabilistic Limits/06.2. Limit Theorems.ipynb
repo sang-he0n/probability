{
 "cells": [
  {
   "attachments": {},
   "cell_type": "markdown",
   "metadata": {},
   "source": [
    "# CH06.2. **Limit Theorems**"
   ]
  },
  {
   "cell_type": "markdown",
   "metadata": {},
   "source": [
    "> ## **표본 평균(Sample mean)**"
   ]
  },
  {
   "cell_type": "markdown",
   "metadata": {},
   "source": [
    "#### **(1) 정의** : 독립 항등 분포인 확률 변수 $ X_{1}, X_{2}, \\cdots{}, X_{n} $을 산술 평균한 확률 변수\n",
    "#### $ \\Rightarrow{} \\bar{X}_{n} = \\frac{X_{1}+X_{2}+\\cdots{}+X_{n}}{n} = \\frac{1}{n} \\sum^{n}_{i=1}X_{i} \\;\\; \\text{ where } \\; X_{i} \\sim{} \\text{i.i.d} $"
   ]
  },
  {
   "cell_type": "markdown",
   "metadata": {},
   "source": [
    "#### **(2) 기대값** : \n",
    "#### $ \\Rightarrow{} E[\\bar{X}_{n}] =  E[X_{i}] $"
   ]
  },
  {
   "cell_type": "markdown",
   "metadata": {},
   "source": [
    "##### **(`WHY?`)**\n",
    "##### $ \\hspace{0.15cm} E[\\bar{X}_{n}] = E[\\frac{X_{1}+X_{2}+\\cdots{}+X_{n}}{n}] = \\frac{E[X_{1}]+E[X_{2}]+\\cdots{}+E[X_{n}]}{n} = E[X_{i}] $"
   ]
  },
  {
   "cell_type": "markdown",
   "metadata": {},
   "source": [
    "#### **(3) 분산** :\n",
    "#### $ \\Rightarrow{} \\text{var}[\\bar{X}_{n}] = \\frac{1}{n} \\cdot{} \\text{var}[X_{i}] = \\frac{1}{n} \\sigma{}^{2} $"
   ]
  },
  {
   "cell_type": "markdown",
   "metadata": {},
   "source": [
    "##### **(`WHY?`)**\n",
    "##### $ \\hspace{0.15cm} \\text{var}[\\bar{X}_{n}] = \\text{var}[\\frac{X_{1}+X_{2}+\\cdots{}+X_{n}}{n}] = \\frac{1}{n^{2}} \\text{var}[X_{1}+X_{2}+\\cdots{}+X_{n}] $\n",
    "##### $ \\hspace{1.4cm} = \\frac{1}{n^{2}} (\\text{var}[X_{1}]+\\text{var}[X_{2}]+\\cdots{}+\\text{var}[X_{n}]) $\n",
    "##### $ \\hspace{1.4cm} = \\frac{1}{n^{2}} \\cdot{} n \\cdot{} \\text{var}[X_{i}] = \\frac{1}{n} \\cdot{} \\text{var}[X_{i}] $"
   ]
  },
  {
   "cell_type": "markdown",
   "metadata": {},
   "source": [
    "<b></b>"
   ]
  },
  {
   "cell_type": "markdown",
   "metadata": {},
   "source": [
    "> ## (Theorem 6-n) **Weak Law of Large Number**"
   ]
  },
  {
   "cell_type": "markdown",
   "metadata": {},
   "source": [
    "#### 독립 항등 분포인 확률 변수의 수($ n $)가 증가할 수록 그 표본 평균은 개별 확률 변수의 기댓값에 수렴한다.\n",
    "#### $ \\Rightarrow{} \\displaystyle{} \\lim_{n\\rightarrow{}\\infty{}}P(| \\frac{1}{n}\\sum^{n}_{i=1}X_{i} - \\mu{} |\\geq{}\\epsilon{}) = 0 \\;\\; \\text{ where } \\; \\epsilon{} > 0 \\; \\text{ and } \\; \\mu{} = E[X_{i}] < \\infty{} $\n",
    "<img src=\"../../img/06.2. Limit Theorems (1).png\" width=\"40%\" height=\"40%\"></img>"
   ]
  },
  {
   "cell_type": "markdown",
   "metadata": {},
   "source": [
    "##### **(`WHY?`)** \n",
    "##### $ \\hspace{0.15cm} \\text{if \\, } \\text{var}[X_{i}] < \\infty{} $\n",
    "##### $ \\hspace{0.3cm} P(|\\frac{1}{n}\\sum^{n}_{i=1}X_{i}-\\mu{}|\\geq{}\\epsilon{}) \\leq{} \\frac{\\text{var}[X_{i}]}{\\epsilon{}^{2}} \\;\\; $ ($ \\because{} $ chevyshev's inequality)\n",
    "##### $ \\hspace{0.3cm} \\displaystyle{} \\lim_{n\\rightarrow{}\\infty{}} P(|\\frac{1}{n}\\sum^{n}_{i=1}X_{i}-\\mu{}|\\geq{}\\epsilon{}) \\leq{} \\lim_{n\\rightarrow{}\\infty{}} \\frac{\\text{var}[X_{i}]}{\\epsilon{}^{2}} $\n",
    "##### $ \\hspace{0.15cm} \\therefore{} \\lim_{n\\rightarrow{}\\infty{}} P(|\\frac{1}{n}\\sum^{n}_{i=1}X_{i}-\\mu{}|\\geq{}\\epsilon{}) = 0 $"
   ]
  },
  {
   "cell_type": "markdown",
   "metadata": {},
   "source": [
    "##### **(`PLUS`) 확률 수렴의 표기법** :\n",
    "##### $ \\hspace{0.15cm} \\Rightarrow{} \\bar{X}_{n} \\xrightarrow{\\text{p}} \\mu{} $"
   ]
  },
  {
   "cell_type": "markdown",
   "metadata": {},
   "source": [
    "<b></b>"
   ]
  },
  {
   "cell_type": "markdown",
   "metadata": {},
   "source": [
    "> ## (Theorem 6-n) **Central Limit Theorem**"
   ]
  },
  {
   "cell_type": "markdown",
   "metadata": {},
   "source": [
    "#### 독립 항등 분포인 확률 변수의 수($ n $)가 증가할 수록 그 표본 평균의 분포는 표준 정규 분포에 수렴한다.\n",
    "#### $ \\Rightarrow{} \\lim_{n\\rightarrow{}\\infty{}}P(Z_{n}\\leq{}x) = \\varPhi(x) $ \n",
    "#### $ \\hspace{0.45cm} \\text{where } \\; Z_{n} = \\frac{\\bar{X}_{n} - \\mu{}}{\\text{std}(X_{i})/\\sqrt{n}} $\n",
    "#### $ \\hspace{0.45cm} \\text{and } \\; X_{i} \\sim{} \\text{i.i.d}, \\;\\; E[X_{i}] = \\mu{} < \\infty{}, \\;\\; \\text{var}[X_{i}] = \\sigma{}^{2} < \\infty{} $"
   ]
  },
  {
   "cell_type": "markdown",
   "metadata": {},
   "source": [
    "##### **(`WHY?`)**\n",
    "##### $ \\hspace{0.15cm} Z_{n} =\\frac{\\sum{}^{n}_{i=1}X_{i} - n\\mu{}}{\\sqrt{n}\\cdot{}\\text{std}(X_{i})} = \\frac{X_{1}+X_{2}+\\cdots{}+X_{n} - n\\mu{}}{\\sqrt{n}\\cdot{}\\text{std}(X_{i})} = \\frac{Y_{1}+Y_{2}+\\cdots{}+Y_{n}}{\\sqrt{n}} \\;\\; \\text{ where } \\; Y = \\frac{X_{i}-\\mu{}}{\\text{std}(X_{i})} $\n",
    "##### $ \\hspace{0.15cm} M_{Z_{n}}(s) = E[e^{sZ_{n}}] = E[e^{s\\cdot{}\\frac{Y_{1}+Y_{2}+\\cdots{}+Y_{n}}{\\sqrt{n}}}] = E[e^{s\\cdot{}\\frac{Y_{1}}{\\sqrt{n}}}e^{s\\cdot{}\\frac{Y_{2}}{\\sqrt{n}}}\\cdots{}e^{s\\cdot{}\\frac{Y_{n}}{\\sqrt{n}}}] $\n",
    "##### $ \\hspace{1.35cm} = E[e^{s\\cdot{}\\frac{Y_{1}}{\\sqrt{n}}}]E[e^{s\\cdot{}\\frac{Y_{2}}{\\sqrt{n}}}]\\cdots{}E[e^{s\\cdot{}\\frac{Y_{n}}{\\sqrt{n}}}] = M_{Y_{1}}(\\frac{s}{\\sqrt{n}})M_{Y_{2}}(\\frac{s}{\\sqrt{n}})\\cdots{}M_{Y_{n}}(\\frac{s}{\\sqrt{n}}) $\n",
    "##### $ \\hspace{1.35cm} = [M_{Y_{i}}(\\frac{s}{\\sqrt{n}})]^{n} \\;\\; $($ \\because{} Y \\sim{} \\text{i.i.d.} $)\n",
    "##### $ \\hspace{0.15cm} \\displaystyle{} \\lim_{n\\rightarrow{}\\infty{}} M_{Z_{n}}(s) = \\lim_{n\\rightarrow{}\\infty{}} [M_{Y_{i}}(\\frac{s}{\\sqrt{n}})]^{n} $\n",
    "##### $ \\hspace{0.15cm} \\displaystyle{} \\lim_{n\\rightarrow{}\\infty{}} \\log{}(M_{Z_{n}}(s)) = \\lim_{n\\rightarrow{}\\infty{}} \\log{}([M_{Y_{i}}(\\frac{s}{\\sqrt{n}})]^{n}) = \\lim_{n\\rightarrow{}\\infty{}} n \\cdot{} \\log{}(M_{Y_{i}}(\\frac{s}{\\sqrt{n}})) $\n",
    "##### $ \\hspace{2.875cm} = \\displaystyle{} \\lim_{n\\rightarrow{}\\infty{}} \\frac{\\log{}(M_{Y_{i}}(\\frac{s}{\\sqrt{n}}))}{\\frac{1}{n}} = \\lim_{t\\rightarrow{}0} \\frac{\\log{}(M_{Y_{i}}(ts))}{t^{2}} \\;\\; \\text{ where } \\; t = \\frac{1}{\\sqrt{n}} $\n",
    "##### $ \\hspace{2.875cm} = \\displaystyle{} \\lim_{t\\rightarrow{}0} \\frac{\\frac{M'_{Y_{i}}(ts) \\cdot{} s}{M_{Y_{i}}(ts)}}{2t} $ \n",
    "##### $ \\hspace{2.875cm} = \\displaystyle{} \\lim_{t\\rightarrow{}0} \\frac{ s \\cdot{} M'_{Y_{i}}(ts)}{2t \\cdot{} M_{Y_{i}}(ts)} \\;\\; $($ \\because{} $ 로피탈 정리)\n",
    "##### $ \\hspace{2.875cm} = \\displaystyle{} \\lim_{t\\rightarrow{}0} \\frac{ s \\cdot{} s \\cdot{} M''_{Y_{i}}(ts)}{2 \\cdot{} M_{Y_{i}}(ts) + 2t \\cdot{} s \\cdot{} M'_{Y_{i}}(ts)} \\;\\; $($ \\because{} $ 로피탈 정리)\n",
    "##### $ \\hspace{2.875cm} = \\frac{ s \\cdot{} s \\cdot{} M''_{Y_{i}}(0)}{2 \\cdot{} M_{Y_{i}}(0) + 2 \\cdot{} 0 \\cdot{} s \\cdot{} M'_{Y_{i}}(0)} = \\frac{ s \\cdot{} s \\cdot{} M''_{Y_{i}}(0)}{2 \\cdot{} M_{Y_{i}}(0)} $\n",
    "##### $ \\hspace{2.875cm} = \\frac{s^{2}}{2} \\;\\; $($ \\because{} M_{Y_{i}}(0) = 1, \\;\\; M''_{Y_{i}}(0) = E[Y_{i}^{2}] = \\text{var}[Y_{i}] - E[Y_{i}] = 1 $ \n",
    "##### $ \\hspace{0.15cm} \\displaystyle{} \\lim_{n\\rightarrow{}\\infty{}} M_{Z_{n}}(s) = \\lim_{n\\rightarrow{}\\infty{}} e^{\\log{}(M_{Z_{n}}(s))} = e^{\\frac{s^{2}}{2}} = M_{Z}(s) \\;\\; \\text{ where } \\; Z \\sim{} N(0, 1) $\n",
    "##### $ \\hspace{0.15cm} \\therefore{} \\displaystyle{} \\bar{X}_{n} \\stackrel{\\text{d}}{=} Z $"
   ]
  },
  {
   "cell_type": "markdown",
   "metadata": {},
   "source": [
    "##### **(⚠️)** 모든 분포에 대하여 중심극한정리가 수렴하려면 특성 함수(characteristic function)로 증명해야하나 생략"
   ]
  },
  {
   "cell_type": "markdown",
   "metadata": {},
   "source": [
    "##### **(`PLUS`)** 일반적으로 $n > 30 $에서부터 중심극한정리가 적용됨"
   ]
  },
  {
   "cell_type": "markdown",
   "metadata": {},
   "source": [
    "##### **(`PLUS`) 분포 수렴의 표기법** :\n",
    "##### $ \\hspace{0.15cm} \\Rightarrow{} Z_{n} \\xrightarrow{\\text{d}} Z $"
   ]
  }
 ],
 "metadata": {
  "kernelspec": {
   "display_name": "Python 3",
   "language": "python",
   "name": "python3"
  },
  "language_info": {
   "codemirror_mode": {
    "name": "ipython",
    "version": 3
   },
   "file_extension": ".py",
   "mimetype": "text/x-python",
   "name": "python",
   "nbconvert_exporter": "python",
   "pygments_lexer": "ipython3",
   "version": "3.8.12"
  },
  "orig_nbformat": 4
 },
 "nbformat": 4,
 "nbformat_minor": 2
}
