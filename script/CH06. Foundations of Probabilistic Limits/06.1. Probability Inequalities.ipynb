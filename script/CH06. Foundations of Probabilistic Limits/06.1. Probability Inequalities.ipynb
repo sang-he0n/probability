{
 "cells": [
  {
   "attachments": {},
   "cell_type": "markdown",
   "metadata": {},
   "source": [
    "# CH06.1. **Probability Inequalities**"
   ]
  },
  {
   "cell_type": "markdown",
   "metadata": {},
   "source": [
    "> ## **확률 부등식(Probability Inequalities)**"
   ]
  },
  {
   "cell_type": "markdown",
   "metadata": {},
   "source": [
    "#### **(1) 정의** : 확률 변수의 분포 정보가 제한적일 때, 특정 사건이 일어날 확률의 상한 또는 하한을 정의하는 방법\n",
    "#### $ \\Rightarrow{} P(X\\in{}A) \\leq{} a \\; \\text{ or } \\; P(X\\in{}A) \\geq{} a \\;\\; \\text{ where } \\; A \\in{} \\Omega{}, \\;\\; a \\in{} \\mathbb{R} $"
   ]
  },
  {
   "cell_type": "markdown",
   "metadata": {},
   "source": [
    "<b></b>"
   ]
  },
  {
   "cell_type": "markdown",
   "metadata": {},
   "source": [
    "> ## **불 부등식(Boole's Inequality)**"
   ]
  },
  {
   "cell_type": "markdown",
   "metadata": {},
   "source": [
    "#### **(1) 정의** : 여러 사건 중 하나 이상이 일어날 가능성에 대해 각 사건의 확률을 더한 값으로 그 상한을 제시한 부등식\n",
    "#### $ \\Rightarrow{} P(\\cup^{n}_{i=1}A_{i}) \\leq{} \\sum^{n}_{i=1} P(A_{i}) $"
   ]
  },
  {
   "cell_type": "markdown",
   "metadata": {},
   "source": [
    "##### **(`PLUS`) 본페로니 부등식(Bonferroni's inequality)** :\n",
    "##### $ \\hspace{0.15cm} \\Rightarrow{} P(\\cup^{n}_{i=1}A_{i}) \\leq{} \\sum{}^{n}_{i=1}P(A_{i}) $\n",
    "##### $ \\hspace{0.15cm} \\Rightarrow{} P(\\cup^{n}_{i=1}A_{i}) \\geq{} \\sum{}^{n}_{i=1}P(A_{i}) - \\sum_{(i,k):i<k} P(A_{i}\\cap{}A_{k}) $\n",
    "##### $ \\hspace{0.15cm} \\Rightarrow{} P(\\cup^{n}_{i=1}A_{i}) \\leq{} \\sum{}^{n}_{i=1}P(A_{i}) - \\sum_{(i,k):i<k} P(A_{i}\\cap{}A_{k}) + \\sum_{(i,k,m):i<k<m}P(A_{i}\\cap{}A_{k}\\cap{}A_{m}) $\n",
    "##### $ \\hspace{1.15cm} \\vdots{} $"
   ]
  },
  {
   "cell_type": "markdown",
   "metadata": {},
   "source": [
    "##### **(`WHY?`)** Theorem 1-5\n",
    "##### $ \\hspace{0.15cm} P(\\cup^{n}_{i=1}A_{i}) = \\overbrace{\\sum{}^{n}_{i=1}P(A_{i})}^{\\text{over count}} - \\overbrace{\\sum_{(i,k):i<k} P(A_{i}\\cap{}A_{k})}^{\\text{under count}} + \\overbrace{\\sum_{(i,k,m):i<k<m}P(A_{i}\\cap{}A_{k}\\cap{}A_{m})}^{\\text{over count}} + \\cdots{} + \\overbrace{(-1)^{n+1}P(\\cap^{n}_{i=1} A_{i})}^{\\text{correction}} $"
   ]
  },
  {
   "cell_type": "markdown",
   "metadata": {},
   "source": [
    "#### **(2) 해석** : 어떠한 사건 $A_{1}, A_{2}, \\cdots{}, A_{n} $이 존재할 때 각 사건의 합집합이 발생할 확률은 각 사건의 확률의 합보다 크지 않음"
   ]
  },
  {
   "cell_type": "markdown",
   "metadata": {},
   "source": [
    "#### **(3) 예시** :\n",
    "##### $ \\hspace{0.15cm} $ ① **[CONTENTS]**\n",
    "##### $ \\hspace{0.15cm} $ ② **[CONTENTS]**"
   ]
  },
  {
   "cell_type": "markdown",
   "metadata": {},
   "source": [
    "<b></b>"
   ]
  },
  {
   "cell_type": "markdown",
   "metadata": {},
   "source": [
    "> ## **마르코브 부등식(Markov Inequalities)**"
   ]
  },
  {
   "cell_type": "markdown",
   "metadata": {},
   "source": [
    "#### **(1) 정의** : 확률 변수가 어떤 양의 값 이상이 될 가능성에 대해 **기대값**을 이용해 그 상한을 제시한 부등식\n",
    "#### $ \\Rightarrow{} P(X\\geq{}a) \\leq{} \\frac{E[X]}{a} \\;\\; \\text{ where } \\; X \\geq{} 0, \\;\\; \\, a > 0 $"
   ]
  },
  {
   "cell_type": "markdown",
   "metadata": {},
   "source": [
    "##### **(`WHY?`)**\n",
    "##### $ \\hspace{0.15cm} E[X] = \\int^{\\infty{}}_{0} x f_{X}(x) \\text{d}x \\;\\; \\text{ where } \\; X \\, \\text{ is continuous RV} $\n",
    "##### $ \\hspace{1.05cm} = \\int^{\\infty{}}_{a} x f_{X}(x) \\text{d}x + \\int^{a}_{0} x f_{X}(x) \\text{d}x $\n",
    "##### $ \\hspace{1.05cm} \\geq{} \\int^{\\infty{}}_{a} x f_{X}(x) \\text{d}x $\n",
    "##### $ \\hspace{1.05cm} \\geq{} \\int^{\\infty{}}_{a} a f_{X}(x) \\text{d}x = a P(X\\geq{}a) \\;\\; $ ($ \\because{} x \\geq{} a$)\n",
    "##### $ \\hspace{0.15cm} \\therefore{} P(X\\geq{}a) \\leq{} \\frac{E[X]}{a} $"
   ]
  },
  {
   "cell_type": "markdown",
   "metadata": {},
   "source": [
    "#### **(2) 해석** : 확률 변수 $ X $가 어떠한 양수 $ a $ 이상이 될 확률은 기대값 $ E[X] $을 $ a $로 나눈 값보다 크지 않음\n",
    "#### $ = $ 만약 확률 변수의 기대값이 작다면, 확률 변수의 값이 클 확률은 낮음\n",
    "#### $ \\approx{} $확률 변수의 값이 기대값보다 현저히 큰 값($a $)이 되는 경우는 그렇게 자주 발생하지 않음"
   ]
  },
  {
   "cell_type": "markdown",
   "metadata": {},
   "source": [
    "#### **(3) 예시** :\n",
    "##### $ \\hspace{0.15cm} $ ① 어떠한 직장에서 상위 $ 10 \\% $ 근로자의 월급이 평균 근로자보다 $ 12 $배보다 높은지 확인하면\n",
    "##### $ \\hspace{0.45cm} P(X\\geq{}12 E[X]) \\leq{} \\frac{E[X]}{12E[X]} = \\frac{1}{12} \\approx{} 8 \\% < 10 \\% $\n",
    "##### $ \\hspace{0.45cm} \\therefore{} $ 상위 $ 10\\% $ 근로자는 평균 근로자보다 $ 12 $배 이상 벌지 못함\n",
    "##### $ \\hspace{0.15cm} $ ② **[CONTENTS]**"
   ]
  },
  {
   "cell_type": "markdown",
   "metadata": {},
   "source": [
    "<b></b>"
   ]
  },
  {
   "cell_type": "markdown",
   "metadata": {},
   "source": [
    "> ## **체비쇼프 부등식(Chebskyshev Inequalities)**"
   ]
  },
  {
   "cell_type": "markdown",
   "metadata": {},
   "source": [
    "#### **(1) 정의** : 확률 변수가 기대값에서 일정 거리 이상 벗어날 가능성에 대해 **기대값과 분산**을 이용해 그 상한을 제시한 부등식\n",
    "#### $ \\Rightarrow{} P(|X-E[X]| \\geq{} a) \\leq{} \\frac{\\text{var}[X]}{a^{2}} \\;\\; \\text{ where } \\; a > 0 $"
   ]
  },
  {
   "cell_type": "markdown",
   "metadata": {},
   "source": [
    "##### **(`WHY?`)**\n",
    "##### $ \\hspace{0.15cm} Y = (X - E[X])^{2} \\;\\; \\text{ where } \\; X \\, \\text{ is non-negative RV}. $\n",
    "##### $ \\hspace{0.15cm} P(Y\\geq{}a^{2}) \\leq{} \\frac{E[Y]}{a^{2}} $\n",
    "##### $ \\hspace{0.15cm} P((X-E[X])^{2}\\geq{}a^{2}) \\leq{} \\frac{E[(X-E[X])^{2}]}{a^{2}} = \\frac{\\text{var}[X]}{a^{2}} $\n",
    "##### $ \\hspace{0.15cm} \\therefore{} P(|X-E[X]| \\geq{} a) \\leq{} \\frac{\\text{var}[X]}{a^{2}} $"
   ]
  },
  {
   "cell_type": "markdown",
   "metadata": {},
   "source": [
    "#### **(2) 해석** : 어떠한 확률 변수의 기대값이 $ a $ 이상 떨어질 확률은 그 확률 변수의 분산을 $ a^{2} $로 나눈 값보다 작음"
   ]
  },
  {
   "cell_type": "markdown",
   "metadata": {},
   "source": [
    "##### **(`PLUS`) 확률 변수와 기대값 간의 거리 관계** : 확률 변수는 기대값으로부터 **표준편차**의 배수($r $)로 떨어져 나갈 확률은 극히 작음\n",
    "##### $ \\hspace{0.15cm} P(|X-E[X]|\\geq{} r \\cdot{} \\sigma{}) \\leq{} \\frac{\\text{var}[X]}{(r\\cdot{}\\sigma{})^{2}} = \\frac{1}{r^{2}} \\;\\; \\text{ where } \\; \\text{var}[X] = \\sigma{}^{2}, \\;\\; a = r \\cdot{} \\sigma{}, \\;\\; r > 0 $\n",
    "##### $ \\hspace{0.15cm} 1 - P(|X-E[X]|\\geq{} r \\cdot{} \\sigma{}) = P(|X-E[X]| < r \\cdot{} \\sigma{}) \\geq{} 1 - \\frac{1}{r^{2}} $\n",
    "##### $ \\hspace{0.15cm} \\text{if } \\, r = 1, \\; \\hspace{0.15cm} P(|X-E[X]| < \\sigma{}) \\geq{} 0 \\;\\; (\\text{not useful}) $\n",
    "##### $ \\hspace{0.15cm} \\text{if } \\, r = 2, \\; \\hspace{0.15cm} P(|X-E[X]| < 2 \\cdot{} \\sigma{}) \\geq{} 0.75 : X $가 $ E[X] $부터 $ \\, 2 \\cdot{} \\sigma{} $ 안에 있을 확률이 $75 \\% $\n",
    "##### $ \\hspace{0.15cm} \\text{if } \\, r = 3, \\; \\hspace{0.15cm} P(|X-E[X]| < 3 \\cdot{} \\sigma{}) \\geq{} 0.89 : X $가 $ E[X] $부터 $ \\, 3 \\cdot{} \\sigma{} $ 안에 있을 확률이 $89 \\% $\n",
    "##### $ \\hspace{0.15cm} \\text{if } \\, r = 4, \\; \\hspace{0.15cm} P(|X-E[X]| < 4 \\cdot{} \\sigma{}) \\geq{} 0.93 : X $가 $ E[X] $부터 $ \\, 4 \\cdot{} \\sigma{} $ 안에 있을 확률이 $93 \\% $\n",
    "##### $ \\hspace{0.2cm} \\vdots{} $"
   ]
  },
  {
   "cell_type": "markdown",
   "metadata": {},
   "source": [
    "#### **(3) 예시** :\n",
    "##### $ \\hspace{0.15cm} $ ① **[CONTENTS]**\n",
    "##### $ \\hspace{0.15cm} $ ② **[CONTENTS]**"
   ]
  },
  {
   "cell_type": "markdown",
   "metadata": {},
   "source": [
    "<b></b>"
   ]
  },
  {
   "cell_type": "markdown",
   "metadata": {},
   "source": [
    "> ## **체르노프 경계(Chernoff Bounds)**"
   ]
  },
  {
   "cell_type": "markdown",
   "metadata": {},
   "source": [
    "#### **(1) 정의** : 확률 변수가 어떤 값을 초과하거나 미만일 가능성에 대해, **적률 생성 함수**를 이용해 그 확률의 부등식을 제시하는 부등식\n",
    "##### $ \\hspace{0.15cm} $ ① **[CONTENTS]**\n",
    "##### $ \\hspace{0.45cm} \\Rightarrow{} P(X\\geq{}a) \\geq{} e^{-sa}M_{X}(s) \\;\\;\\;\\; \\forall{} \\; s > 0 $\n",
    "##### $ \\hspace{0.15cm} $ ② **[CONTENTS]**\n",
    "##### $ \\hspace{0.45cm} \\Rightarrow{} P(X\\leq{}a) \\leq{} e^{-sa}M_{X}(s) $"
   ]
  },
  {
   "cell_type": "markdown",
   "metadata": {},
   "source": [
    "##### **(`WHY?`)** \n",
    "##### $ \\hspace{0.15cm} P(X\\geq{}a) = P(e^{sX}\\geq{}e^{sa}) \\;\\; \\forall{} \\, s > 0 $\n",
    "##### $ \\hspace{0.15cm} P(X\\leq{}a) = P(e^{sX}\\geq{}e^{sa}) \\;\\; \\forall{} \\, s < 0 \\;\\; $ ($ \\because{} sX \\geq{} sa $)\n",
    "##### $ \\hspace{0.15cm} \\therefore{} P(e^{sX}\\geq{}e^{sa}) \\leq{} \\frac{E[e^{sX}]}{e^{sa}} = e^{-sa} M_{X}(s) $"
   ]
  },
  {
   "cell_type": "markdown",
   "metadata": {},
   "source": [
    "#### **(2) 해석** : **[CONTETNS]**\n",
    "#### $ = $ 확률 변수의 합이나 가중평균이 확륣변수의 기대값에서 크게 벗어날 확률의 상한 혹은 하한"
   ]
  },
  {
   "cell_type": "markdown",
   "metadata": {},
   "source": [
    "#### **(3) 예시** :\n",
    "##### $ \\hspace{0.15cm} $ ① **[CONTENTS]**\n",
    "##### $ \\hspace{0.15cm} $ ② **[CONTENTS]**"
   ]
  },
  {
   "cell_type": "markdown",
   "metadata": {},
   "source": [
    "<b></b>"
   ]
  },
  {
   "cell_type": "markdown",
   "metadata": {},
   "source": [
    "> ## (Theorem 6-1) **확률 부등식 간의 관계(Realation of Probability Bounds)**"
   ]
  },
  {
   "cell_type": "markdown",
   "metadata": {},
   "source": [
    "#### 마르코브 부등식은 그 범위가 가장 포괄적이며 체비쇼브 부등식, 체르노프 부등식 순으로 가장 엄격(좁은 경계범위)하다.\n",
    "#### $ \\Rightarrow{} \\text{markov} \\leq{} \\text{Chebskyshev} \\leq{} \\text{Chernoff} $\n",
    "#### $ \\hspace{0.45cm} \\text{Loose} \\xrightarrow{\\hspace{2.8cm}} \\text{Strict} $"
   ]
  },
  {
   "cell_type": "markdown",
   "metadata": {},
   "source": [
    "<b></b>"
   ]
  },
  {
   "cell_type": "markdown",
   "metadata": {},
   "source": [
    "> ## **코시-슈바르츠 부등식(Cauchy-schwarz Inequalities)**"
   ]
  },
  {
   "cell_type": "markdown",
   "metadata": {},
   "source": [
    "#### **(1) 정의** : 두 확률 변수의 곱의 기대값(내적)의 절댓값에 대해, **제곱의 기대값**을 이용해 그 상한을 제시하는 부등식\n",
    "#### $ \\Rightarrow{} |E[XY]| \\leq{} \\sqrt{E[X^{2}]E[Y^{2}]} $"
   ]
  },
  {
   "cell_type": "markdown",
   "metadata": {},
   "source": [
    "##### **(`WHY?`)**\n",
    "##### $ \\hspace{0.15cm} $ **[LATEX]**"
   ]
  },
  {
   "cell_type": "markdown",
   "metadata": {},
   "source": [
    "#### **(2) 해석** : **[CONTETNS]**"
   ]
  },
  {
   "cell_type": "markdown",
   "metadata": {},
   "source": [
    "#### **(3) 예시** :\n",
    "##### $ \\hspace{0.15cm} $ ① **[CONTENTS]**\n",
    "##### $ \\hspace{0.15cm} $ ② **[CONTENTS]**"
   ]
  },
  {
   "cell_type": "markdown",
   "metadata": {},
   "source": [
    "<b></b>"
   ]
  },
  {
   "cell_type": "markdown",
   "metadata": {},
   "source": [
    "> ## **옌센 부등식(Jensen's Inequality)**"
   ]
  },
  {
   "cell_type": "markdown",
   "metadata": {},
   "source": [
    "#### **(1) 정의** : 확률 변수에 어떠한 함수를 적용한 형태(합성함수)에 대해, **기대값의 함수값과 함수 적용 후의 기대값 사이**의 부등식\n",
    "##### $ \\hspace{0.15cm} $ ① 함수 $ g $가 볼록(convex) 함수인 경우\n",
    "##### $ \\hspace{0.45cm} \\Rightarrow{} g(E[X]) \\leq{} E[g(X)] \\;\\; \\text{ s.t. } \\; g(\\lambda{} x_{1} + (1-\\lambda{}) x_{2}) \\leq{} \\lambda{} g( x_{1}) + (1-\\lambda{}) g( x_{2}) \\;\\; \\text{ where } \\; x_{i} \\in{} \\mathbb{R}, \\;\\; 0 \\leq{} \\lambda{} \\leq{} 1 $\n",
    "##### $ \\hspace{0.15cm} $ ② 함수 $ g $가 오목(concave) 함수인 경우\n",
    "##### $ \\hspace{0.45cm} \\Rightarrow{} g(E[X]) \\geq{} E[g(X)] \\;\\; \\text{ s.t. } \\; g(\\lambda{} x_{1} + (1-\\lambda{}) x_{2}) \\geq{} \\lambda{} g( x_{1}) + (1-\\lambda{}) g( x_{2}) $"
   ]
  },
  {
   "cell_type": "markdown",
   "metadata": {},
   "source": [
    "##### **(`WHY?`)**\n",
    "##### $ \\hspace{0.15cm} $ **[LATEX]**"
   ]
  },
  {
   "cell_type": "markdown",
   "metadata": {},
   "source": [
    "#### **(2) 해석** : **[CONTETNS]**"
   ]
  },
  {
   "cell_type": "markdown",
   "metadata": {},
   "source": [
    "#### **(3) 예시** :\n",
    "##### $ \\hspace{0.15cm} $ ① **[CONTENTS]**\n",
    "##### $ \\hspace{0.15cm} $ ② **[CONTENTS]**"
   ]
  }
 ],
 "metadata": {
  "kernelspec": {
   "display_name": "Python 3",
   "language": "python",
   "name": "python3"
  },
  "language_info": {
   "codemirror_mode": {
    "name": "ipython",
    "version": 3
   },
   "file_extension": ".py",
   "mimetype": "text/x-python",
   "name": "python",
   "nbconvert_exporter": "python",
   "pygments_lexer": "ipython3",
   "version": "3.8.12"
  },
  "orig_nbformat": 4
 },
 "nbformat": 4,
 "nbformat_minor": 2
}
